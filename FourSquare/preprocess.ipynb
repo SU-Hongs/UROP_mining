{
 "cells": [
  {
   "cell_type": "code",
   "execution_count": 202,
   "metadata": {},
   "outputs": [
    {
     "data": {
      "text/html": [
       "<div>\n",
       "<style scoped>\n",
       "    .dataframe tbody tr th:only-of-type {\n",
       "        vertical-align: middle;\n",
       "    }\n",
       "\n",
       "    .dataframe tbody tr th {\n",
       "        vertical-align: top;\n",
       "    }\n",
       "\n",
       "    .dataframe thead th {\n",
       "        text-align: right;\n",
       "    }\n",
       "</style>\n",
       "<table border=\"1\" class=\"dataframe\">\n",
       "  <thead>\n",
       "    <tr style=\"text-align: right;\">\n",
       "      <th></th>\n",
       "      <th>uid</th>\n",
       "      <th>vid</th>\n",
       "      <th>vcid</th>\n",
       "      <th>vc_name</th>\n",
       "      <th>lat</th>\n",
       "      <th>long</th>\n",
       "      <th>timezone_offset</th>\n",
       "      <th>utc_time</th>\n",
       "    </tr>\n",
       "  </thead>\n",
       "  <tbody>\n",
       "    <tr>\n",
       "      <th>0</th>\n",
       "      <td>470</td>\n",
       "      <td>49bbd6c0f964a520f4531fe3</td>\n",
       "      <td>4bf58dd8d48988d127951735</td>\n",
       "      <td>Arts &amp; Crafts Store</td>\n",
       "      <td>40.719810</td>\n",
       "      <td>-74.002581</td>\n",
       "      <td>-240</td>\n",
       "      <td>Tue Apr 03 18:00:09 +0000 2012</td>\n",
       "    </tr>\n",
       "    <tr>\n",
       "      <th>1</th>\n",
       "      <td>979</td>\n",
       "      <td>4a43c0aef964a520c6a61fe3</td>\n",
       "      <td>4bf58dd8d48988d1df941735</td>\n",
       "      <td>Bridge</td>\n",
       "      <td>40.606800</td>\n",
       "      <td>-74.044170</td>\n",
       "      <td>-240</td>\n",
       "      <td>Tue Apr 03 18:00:25 +0000 2012</td>\n",
       "    </tr>\n",
       "    <tr>\n",
       "      <th>2</th>\n",
       "      <td>69</td>\n",
       "      <td>4c5cc7b485a1e21e00d35711</td>\n",
       "      <td>4bf58dd8d48988d103941735</td>\n",
       "      <td>Home (private)</td>\n",
       "      <td>40.716162</td>\n",
       "      <td>-73.883070</td>\n",
       "      <td>-240</td>\n",
       "      <td>Tue Apr 03 18:02:24 +0000 2012</td>\n",
       "    </tr>\n",
       "    <tr>\n",
       "      <th>3</th>\n",
       "      <td>395</td>\n",
       "      <td>4bc7086715a7ef3bef9878da</td>\n",
       "      <td>4bf58dd8d48988d104941735</td>\n",
       "      <td>Medical Center</td>\n",
       "      <td>40.745164</td>\n",
       "      <td>-73.982519</td>\n",
       "      <td>-240</td>\n",
       "      <td>Tue Apr 03 18:02:41 +0000 2012</td>\n",
       "    </tr>\n",
       "    <tr>\n",
       "      <th>4</th>\n",
       "      <td>87</td>\n",
       "      <td>4cf2c5321d18a143951b5cec</td>\n",
       "      <td>4bf58dd8d48988d1cb941735</td>\n",
       "      <td>Food Truck</td>\n",
       "      <td>40.740104</td>\n",
       "      <td>-73.989658</td>\n",
       "      <td>-240</td>\n",
       "      <td>Tue Apr 03 18:03:00 +0000 2012</td>\n",
       "    </tr>\n",
       "  </tbody>\n",
       "</table>\n",
       "</div>"
      ],
      "text/plain": [
       "   uid                       vid                      vcid  \\\n",
       "0  470  49bbd6c0f964a520f4531fe3  4bf58dd8d48988d127951735   \n",
       "1  979  4a43c0aef964a520c6a61fe3  4bf58dd8d48988d1df941735   \n",
       "2   69  4c5cc7b485a1e21e00d35711  4bf58dd8d48988d103941735   \n",
       "3  395  4bc7086715a7ef3bef9878da  4bf58dd8d48988d104941735   \n",
       "4   87  4cf2c5321d18a143951b5cec  4bf58dd8d48988d1cb941735   \n",
       "\n",
       "               vc_name        lat       long  timezone_offset  \\\n",
       "0  Arts & Crafts Store  40.719810 -74.002581             -240   \n",
       "1               Bridge  40.606800 -74.044170             -240   \n",
       "2       Home (private)  40.716162 -73.883070             -240   \n",
       "3       Medical Center  40.745164 -73.982519             -240   \n",
       "4           Food Truck  40.740104 -73.989658             -240   \n",
       "\n",
       "                         utc_time  \n",
       "0  Tue Apr 03 18:00:09 +0000 2012  \n",
       "1  Tue Apr 03 18:00:25 +0000 2012  \n",
       "2  Tue Apr 03 18:02:24 +0000 2012  \n",
       "3  Tue Apr 03 18:02:41 +0000 2012  \n",
       "4  Tue Apr 03 18:03:00 +0000 2012  "
      ]
     },
     "execution_count": 202,
     "metadata": {},
     "output_type": "execute_result"
    }
   ],
   "source": [
    "import pandas as pd\n",
    "\n",
    "path = 'dataset_tsmc2014/dataset_TSMC2014_NYC.txt'\n",
    "data = pd.read_csv(path,sep='\\t',header=None,\n",
    "    names=['uid','vid','vcid','vc_name','lat','long','timezone_offset','utc_time'])\n",
    "# user_id, venue_id, venue_category_id, venue_category_name, latitude, longitude, timezone_offset_in_minutes, UTC_time\n",
    "data.head()\n"
   ]
  },
  {
   "cell_type": "code",
   "execution_count": 203,
   "metadata": {},
   "outputs": [
    {
     "name": "stdout",
     "output_type": "stream",
     "text": [
      "total records: 227428\n",
      "total vcs: 400\n"
     ]
    }
   ],
   "source": [
    "vcids=data.vcid.to_numpy()\n",
    "print('total records:',len(vcids))\n",
    "print('total vcs:',len(set(vcids)))"
   ]
  },
  {
   "cell_type": "code",
   "execution_count": 204,
   "metadata": {},
   "outputs": [
    {
     "name": "stdout",
     "output_type": "stream",
     "text": [
      "random vc: Building\n"
     ]
    }
   ],
   "source": [
    "from random import randint\n",
    "print('random vc:',data.vc_name[randint(0,len(data)-1)])"
   ]
  },
  {
   "cell_type": "code",
   "execution_count": 205,
   "metadata": {},
   "outputs": [
    {
     "name": "stdout",
     "output_type": "stream",
     "text": [
      "total vc_names: 251\n",
      "{'Molecular Gastronomy Restaurant', 'College Academic Building', 'College Stadium', 'Spanish Restaurant', 'BBQ Joint', 'Racetrack', 'Storage Facility', 'Sorority House', 'Bike Rental / Bike Share', 'Ferry', 'Comedy Club', 'Swiss Restaurant', 'Recycling Facility', 'Deli / Bodega', 'Salad Place', 'Post Office', 'Art Museum', 'Event Space', 'Sushi Restaurant', 'Middle Eastern Restaurant', 'Restaurant', 'Public Art', 'Laundry Service', 'Snack Place', 'Office', 'Funeral Home', 'Brazilian Restaurant', 'Science Museum', 'Portuguese Restaurant', 'Music School', 'City', 'Playground', 'Filipino Restaurant', 'Cuban Restaurant', 'Arts & Entertainment', 'Steakhouse', 'Movie Theater', 'Road', 'Outdoors & Recreation', 'Nail Salon', 'Spiritual Center', 'Vietnamese Restaurant', 'Motorcycle Shop', 'Gaming Cafe', 'Japanese Restaurant', 'Casino', 'Photography Lab', 'Breakfast Spot', 'Flea Market', 'Board Shop', 'Smoke Shop', 'Thai Restaurant', 'Cajun / Creole Restaurant', 'Fraternity House', 'Turkish Restaurant', 'Animal Shelter', 'Bus Station', 'Ice Cream Shop', 'Ethiopian Restaurant', 'Hotel', 'University', 'Scandinavian Restaurant', 'Jewelry Store', 'Bar', 'Tapas Restaurant', 'Bowling Alley', 'Travel Lounge', 'Pet Store', 'Light Rail', 'Community College', 'Pool Hall', 'Ski Area', 'Harbor / Marina', 'Mexican Restaurant', 'Medical School', 'Bridge', 'French Restaurant', 'Castle', 'Medical Center', 'Greek Restaurant', 'Convention Center', 'Burrito Place', 'Mobile Phone Shop', 'Church', 'Caribbean Restaurant', 'Other Nightlife', 'Tea Room', 'Rest Area', 'Newsstand', 'Candy Store', 'Peruvian Restaurant', 'Australian Restaurant', 'Video Store', 'Market', 'Bagel Shop', 'Train Station', 'Shop & Service', 'Sandwich Place', 'General Entertainment', 'Hardware Store', 'Mediterranean Restaurant', 'Campground', 'Video Game Store', 'Seafood Restaurant', 'Car Dealership', 'Nightlife Spot', 'Dim Sum Restaurant', 'Ramen /  Noodle House', 'Fair', 'College Theater', 'Garden', 'Salon / Barbershop', 'Hobby Shop', 'Trade School', 'Italian Restaurant', 'Performing Arts Venue', 'Factory', 'Gym / Fitness Center', 'Home (private)', 'Housing Development', 'Synagogue', 'Furniture / Home Store', 'Paper / Office Supplies Store', 'Distillery', 'Tanning Salon', 'African Restaurant', 'High School', 'College & University', 'Cemetery', 'Malaysian Restaurant', 'Theater', 'cafe', 'General Travel', 'Chinese Restaurant', 'Rental Car Location', 'Argentinian Restaurant', 'Clothing Store', 'Parking', 'Drugstore / Pharmacy', 'Library', 'Embassy / Consulate', 'Food Truck', 'Vegetarian / Vegan Restaurant', 'Latin American Restaurant', 'South American Restaurant', 'Cupcake Shop', 'Food & Drink Shop', 'Historic Site', 'Burger Joint', 'Elementary School', 'Southern / Soul Food Restaurant', 'Neighborhood', 'Travel & Transport', 'Fish & Chips Shop', 'Afghan Restaurant', 'Dumpling Restaurant', 'Toy / Game Store', 'Financial or Legal Service', 'Asian Restaurant', 'Music Venue', 'Building', 'Fast Food Restaurant', 'Plaza', 'Sculpture Garden', 'Korean Restaurant', 'Car Wash', 'Moving Target', 'Law School', 'Bank', 'Gas Station / Garage', 'Athletic & Sport', 'Antique Shop', 'Arts & Crafts Store', 'Bakery', 'Taxi', 'Professional & Other Places', 'Department Store', 'Zoo', 'Gluten-free Restaurant', 'Park', 'American Restaurant', 'Shrine', 'Sporting Goods Shop', 'Miscellaneous Shop', 'Taco Place', 'Hot Dog Joint', 'Internet Cafe', 'Airport', 'Automotive Shop', 'Stadium', 'Subway', 'Military Base', 'Bridal Shop', 'Middle School', 'Wings Joint', 'Gastropub', 'History Museum', 'Donut Shop', 'Arcade', 'Music Store', 'Mosque', 'Dessert Shop', 'Convenience Store', 'Design Studio', 'Mall', 'Eastern European Restaurant', 'Electronics Store', 'Student Center', 'Pet Service', 'Indian Restaurant', 'Residential Building (Apartment / Condo)', 'Museum', 'Soup Place', 'Spa / Massage', 'Cosmetics Shop', 'Fried Chicken Joint', 'Pizza Place', 'Art Gallery', 'Pool', 'Thrift / Vintage Store', 'Bike Shop', 'River', 'Food', 'Other Great Outdoors', 'Gift Shop', 'Coffee Shop', 'Record Shop', 'Beer Garden', 'Nursery School', 'Bookstore', 'Government Building', 'Garden Center', 'Brewery', 'Planetarium', 'Camera Store', 'Scenic Lookout', 'General College & University', 'Temple', 'Tattoo Parlor', 'Falafel Restaurant', 'Beach', 'German Restaurant', 'Diner', 'Aquarium', 'Mac & Cheese Joint', 'Moroccan Restaurant', 'Flower Shop', 'Concert Hall', 'Winery', 'School', 'Arepa Restaurant'}\n"
     ]
    }
   ],
   "source": [
    "vc_names=set(data.vc_name)\n",
    "print('total vc_names:',len(vc_names))\n",
    "print(vc_names)"
   ]
  },
  {
   "cell_type": "code",
   "execution_count": 206,
   "metadata": {},
   "outputs": [
    {
     "name": "stdout",
     "output_type": "stream",
     "text": [
      "total big_vc_names: 70\n",
      "{'Cemetery', 'Medical-Related Place', 'Animal-Related Place', 'Transportation', 'Design Studio', 'Beauty, Cosmetology & Hairdressing', 'Storage Facility', 'Embassy / Consulate', 'Electronics Store', 'Library', 'Castle', 'Bridge', 'Recycling Facility', 'Post Office', 'Clothing', 'Convention Center', 'Vehicle-Related Place', 'Place for Socializing', 'River', 'Store, Market & Fair', 'Mobile Phone Shop', 'Residence', 'Gift Shop', 'Restaurant', 'Record Shop', 'Laundry Service', 'Rest Area', 'Neighborhood', 'Bookstore', 'Newsstand', 'Government Building', 'Office', 'Place for Sports', 'Brewery', 'Video Store', 'Funeral Home', 'Garden Center', 'Planetarium', 'Distillery', 'Camera Store', 'Toy / Game Store', 'Financial or Legal Service', 'Shop & Service', 'City', 'Food & Snack', 'Building', 'Hardware Store', 'Campground', 'Moving Target', 'Road', 'Video Game Store', 'Bank', 'Travel', 'Professional & Other Places', 'Photography Lab', 'Leisure & Entertainment', 'History, Museum & Arts', 'Garden', 'Hobby Shop', 'Miscellaneous Shop', 'Smoke Shop', 'Factory', 'Flower Shop', 'Winery', 'Military Base', 'Furniture / Home Store', 'Paper / Office Supplies Store', 'School', 'Religion & Spirituality', 'Hotel'}\n"
     ]
    }
   ],
   "source": [
    "def big_vc_name(name:str):\n",
    "    if 'Restaurant' in name or name in ['BBQ Joint','Fish & Chips Shop','Fried Chicken Joint','Salad Place',\n",
    "    'Steakhouse','Breakfast Spot','Burrito Place','Sandwich Place','Ramen /  Noodle House','Burger Joint',\n",
    "    'Taco Place', 'Hot Dog Joint','Wings Joint','Soup Place','Pizza Place','cafe','Diner','Mac & Cheese Joint']: \n",
    "        return 'Restaurant'\n",
    "    elif name in ['Deli / Bodega','Snack Place','Ice Cream Shop','Candy Store',\n",
    "    'Bagel Shop','Food Truck','Cupcake Shop','Bakery','Donut Shop',\n",
    "    'Dessert Shop','Food','Food & Drink Shop']:\n",
    "        return 'Food & Snack'\n",
    "    elif 'School' in name or name in ['College Academic Building','University',\n",
    "    'Community College','College & University','General College & University','Student Center']:\n",
    "        return 'School'\n",
    "    elif name in ['College Stadium','Playground','Bowling Alley','Pool Hall','Ski Area',\n",
    "    'Gym / Fitness Center','Stadium','Pool','Athletic & Sport','Sporting Goods Shop']:\n",
    "        return 'Place for Sports'\n",
    "    elif name in ['Ferry','Bus Station','Light Rail','Train Station','Taxi','Airport','Subway']:\n",
    "        return 'Transportation'\n",
    "    elif 'Museum' in name or name in ['Public Art','Arts & Entertainment',\n",
    "    'Historic Site','Arts & Crafts Store','Art Gallery','Sculpture Garden',\n",
    "    'Music Venue','Antique Shop','Music Store']:\n",
    "        return 'History, Museum & Arts'\n",
    "    elif name in ['Nail Salon','Salon / Barbershop','Tanning Salon','Cosmetics Shop','Spa / Massage',\n",
    "    'Tattoo Parlor','Thrift / Vintage Store']:\n",
    "        return 'Beauty, Cosmetology & Hairdressing'\n",
    "    elif name in ['Motorcycle Shop','Board Shop','Bike Rental / Bike Share',\n",
    "    'Rental Car Location','Automotive Shop','Gas Station / Garage','Bike Shop',\n",
    "    'Car Dealership','Car Wash','Parking']:\n",
    "        return 'Vehicle-Related Place'\n",
    "    elif name in ['Movie Theater','Racetrack','Comedy Club','Casino','Bar',\n",
    "    'Harbor / Marina','Tea Room','Other Nightlife','General Entertainment',\n",
    "    'Nightlife Spot','College Theater','Performing Arts Venue','Theater',\n",
    "    'Internet Cafe','Coffee Shop','Aquarium','Outdoors & Recreation','Gaming Cafe',\n",
    "    'Zoo','Park','Gastropub','Arcade','Beer Garden','Beach','Concert Hall','Plaza',\n",
    "    'Other Great Outdoors','Scenic Lookout']:\n",
    "        return 'Leisure & Entertainment'\n",
    "    elif name in ['Spiritual Center','Church','Synagogue','Shrine','Mosque','Temple']:\n",
    "        return 'Religion & Spirituality'\n",
    "    elif name in ['Sorority House','Event Space','Fraternity House']:\n",
    "        return 'Place for Socializing'\n",
    "    elif name in ['Flea Market','Market','Fair','Department Store','Convenience Store','Mall']:\n",
    "        return 'Store, Market & Fair'\n",
    "    elif name in ['General Travel','Travel & Transport','Travel Lounge']:\n",
    "        return 'Travel'\n",
    "    elif name in ['Jewelry Store','Clothing Store','Bridal Shop']:\n",
    "        return 'Clothing'\n",
    "    elif name in ['Drugstore / Pharmacy','Medical Center']:\n",
    "        return 'Medical-Related Place'\n",
    "    elif name in ['Pet Service','Pet Store','Animal Shelter']:\n",
    "        return 'Animal-Related Place'\n",
    "    elif name in ['Residential Building (Apartment / Condo)','Housing Development','Home (private)']:\n",
    "        return 'Residence'\n",
    "    else: return name\n",
    "data['big_vc_name']=[big_vc_name(name) for name in data.vc_name]\n",
    "big_vc_names=set(data.big_vc_name)\n",
    "print('total big_vc_names:',len(big_vc_names))\n",
    "print(big_vc_names)"
   ]
  }
 ],
 "metadata": {
  "kernelspec": {
   "display_name": "Python 3.9.12 ('base')",
   "language": "python",
   "name": "python3"
  },
  "language_info": {
   "codemirror_mode": {
    "name": "ipython",
    "version": 3
   },
   "file_extension": ".py",
   "mimetype": "text/x-python",
   "name": "python",
   "nbconvert_exporter": "python",
   "pygments_lexer": "ipython3",
   "version": "3.9.12"
  },
  "orig_nbformat": 4,
  "vscode": {
   "interpreter": {
    "hash": "ad2bdc8ecc057115af97d19610ffacc2b4e99fae6737bb82f5d7fb13d2f2c186"
   }
  }
 },
 "nbformat": 4,
 "nbformat_minor": 2
}
