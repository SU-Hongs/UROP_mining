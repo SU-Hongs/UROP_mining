{
 "cells": [
  {
   "cell_type": "code",
   "execution_count": 329,
   "metadata": {},
   "outputs": [
    {
     "name": "stderr",
     "output_type": "stream",
     "text": [
      "\n",
      "Attaching package: ‘AICcmodavg’\n",
      "\n",
      "\n",
      "The following object is masked from ‘package:randomForest’:\n",
      "\n",
      "    importance\n",
      "\n",
      "\n",
      "The following object is masked from ‘package:VGAM’:\n",
      "\n",
      "    AICc\n",
      "\n",
      "\n"
     ]
    }
   ],
   "source": [
    "library(regclass)\n",
    "library(ppcor)\n",
    "library(tseries)\n",
    "library(stringr)\n",
    "library(lmtest)\n",
    "library(dynlm)\n",
    "library(AICcmodavg)"
   ]
  },
  {
   "cell_type": "code",
   "execution_count": 175,
   "metadata": {},
   "outputs": [],
   "source": [
    "# return the R squared value of guo ~ guo_history + yin_history\n",
    "self_autoregression <- function(x,y,lags){\n",
    "    n <- length(x)\n",
    "    x_hist <- x[1:(n-lags)]\n",
    "    y_hist <- y[1:(n-lags)]\n",
    "    Y <- y[(lags+1):n]\n",
    "    m <- lm(Y~x_hist+y_hist+0)\n",
    "    return (summary(m)$r.squared)\n",
    "}\n",
    "\n",
    "# select best time lags\n",
    "select_time_lags <- function(z){\n",
    "    pacf <- pacf(z,20,plot=FALSE)\n",
    "    n <- pacf$n.used\n",
    "    thres <- 1.96/sqrt(n)\n",
    "    for (i in c(2:20)){\n",
    "        if (abs(pacf$acf[i])<thres){\n",
    "            if(abs(pacf$acf[i+1])<thres)\n",
    "            {return (i-1)}\n",
    "        }\n",
    "    }\n",
    "    return (1)\n",
    "}\n",
    "\n",
    "# a helper function to remove an element with certain value from a list\n",
    "remove <- function(arr,value){\n",
    "    for(i in c(1:length(arr))){\n",
    "        if(arr[i]==value){\n",
    "            r_arr <- arr[-i]\n",
    "            return (r_arr)\n",
    "        }\n",
    "    }\n",
    "    print(\"remove failure\")\n",
    "    cat(arr,\" \",value,\"\\n\")\n",
    "    return (arr)\n",
    "}\n",
    "\n",
    "filter_cause <- function(X,y, thres = 0.1){\n",
    "    n <- dim(X)[2]\n",
    "    lags <- c()\n",
    "    R_squared = c()\n",
    "    for (i in c(1:n)){\n",
    "        lag = select_time_lags(X[,i])\n",
    "        r_sq <- self_autoregression(X[,i],y,lag)\n",
    "        R_squared = append(R_squared,c(r_sq))\n",
    "    }\n",
    "\n",
    "    cause_indices <- c()\n",
    "    remain <- c(1:n)\n",
    "    while(length(remain)>0){\n",
    "        \n",
    "        j <- which.max(R_squared)\n",
    "        cause_indices <- append(cause_indices,c(j))\n",
    "        remain <- remove(remain,j)\n",
    "        R_squared[j] <- 0\n",
    "        \n",
    "        # pruning\n",
    "        to_remove <- c()\n",
    "        for(i in remain){\n",
    "            df <- data.frame(x=X[,j],y=y,z=X[,i])\n",
    "            pcor <- pcor(df)$estimate[2,3]\n",
    "            \n",
    "            if(abs(pcor)<=thres){\n",
    "                #cat(i,\" \",pcor,\"\\n\")\n",
    "                to_remove <- append(to_remove,c(i))\n",
    "                R_squared[i] <- 0\n",
    "            }\n",
    "        }\n",
    "        for(rm in to_remove){\n",
    "            remain <- remove(remain,rm)\n",
    "        }\n",
    "    }\n",
    "    return (cause_indices)\n",
    "}\n",
    "\n",
    "equal_list <- function(a,b){\n",
    "    if (length(a)==0){\n",
    "        if (length(b)==0){return (TRUE)}\n",
    "        else {return (FALSE)}\n",
    "    }\n",
    "    if(length(b)==0){return(FALSE)}\n",
    "    if(length(a)!=length(b)){return(FALSE)}\n",
    "    a <- a[order(a)]\n",
    "    b <- b[order(b)]\n",
    "    n <- length(a)\n",
    "    for (i in 1:n){\n",
    "        if (a[i]!=b[i]){return (FALSE)}\n",
    "    }\n",
    "    return (TRUE)\n",
    "}\n",
    "\n",
    "process_df <- function(data){\n",
    "    A <- data$X..A...\n",
    "    B <- data$X..B...\n",
    "    C <- data$X..C...\n",
    "#     D <- data$X..D...\n",
    "#     E <- data$X..E...\n",
    "#     F <- data$X..F...\n",
    "    AB <- data$X..A....B..\n",
    "    ABC <- data$X..A....B....C..\n",
    "#     DE <- data$X..D....E..\n",
    "#     DEF <- data$X..D....E....F..\n",
    "    A <- diff(A)\n",
    "    B <- diff(B)\n",
    "    C <- diff(C)\n",
    "#     D <- diff(D)\n",
    "#     E <- diff(E)\n",
    "#     F <- diff(F)\n",
    "    AB <- diff(AB)\n",
    "    ABC <- diff(ABC)\n",
    "#     DE <- diff(DE)\n",
    "#     DEF <- diff(DEF)\n",
    "    df <- data.frame(A,B,C,AB,ABC)\n",
    "#     df <- data.frame(A,B,C,D,E,F,AB,ABC,DE,DEF)\n",
    "    return(df)\n",
    "}\n",
    "\n",
    "reasonable_cause <- function(causes,type){\n",
    "    if (length(causes)==0){return(FALSE)}\n",
    "    \n",
    "    if(type == \"AB\"){\n",
    "        if(all(causes %in% c(1,2))){return(TRUE)}\n",
    "    }\n",
    "    \n",
    "    if(type==\"ABC\"){\n",
    "        if(all(causes %in% c(1,2,3,4))){return(TRUE)}\n",
    "    }\n",
    "    return(FALSE)\n",
    "}"
   ]
  },
  {
   "cell_type": "code",
   "execution_count": 420,
   "metadata": {},
   "outputs": [
    {
     "name": "stdout",
     "output_type": "stream",
     "text": [
      "1 -th iterationbefore filter 3 5[1] \" \"\n",
      "after filter 3 5[1] \" \"\n",
      "[1] 3 5\n",
      "before filter 1 3 4after filter 4[1] \" \"\n",
      "[1] 4\n",
      "2 -th iterationbefore filter 1 2 5[1] \" \"\n",
      "after filter 5[1] \" \"\n",
      "[1] 5\n",
      "before filter 4after filter 4[1] \" \"\n",
      "[1] 4\n",
      "3 -th iterationbefore filter 3 5[1] \" \"\n",
      "after filter 3 5[1] \" \"\n",
      "[1] 3 5\n",
      "before filter 1 3 4after filter 4[1] \" \"\n",
      "[1] 4\n",
      "4 -th iterationbefore filter 1 2 5[1] \" \"\n",
      "after filter 1 5[1] \" \"\n",
      "[1] 1 5\n",
      "before filter 1 3 4after filter 1 4[1] \" \"\n",
      "[1] 1 4\n",
      "5 -th iterationbefore filter 2 5[1] \" \"\n",
      "after filter 5[1] \" \"\n",
      "[1] 5\n",
      "before filter 4after filter 4[1] \" \"\n",
      "[1] 4\n",
      "6 -th iterationbefore filter 1 2 3 5[1] \" \"\n",
      "after filter 2[1] \" \"\n",
      "[1] 2\n",
      "before filter 2 3 4after filter 3[1] \" \"\n",
      "[1] 3\n",
      "7 -th iterationbefore filter 1 2 3 5[1] \" \"\n",
      "after filter 3 5[1] \" \"\n",
      "[1] 3 5\n",
      "before filter 1 3 4after filter 3 4[1] \" \"\n",
      "[1] 3 4\n",
      "8 -th iterationbefore filter 1 2 5[1] \" \"\n",
      "after filter 5[1] \" \"\n",
      "[1] 5\n",
      "before filter 3 4after filter 3 4[1] \" \"\n",
      "[1] 3 4\n",
      "9 -th iterationbefore filter 3[1] \" \"\n",
      "after filter 3[1] \" \"\n",
      "[1] 3\n",
      "before filter 3 4after filter 4[1] \" \"\n",
      "[1] 4\n",
      "10 -th iterationbefore filter 2 3 5[1] \" \"\n",
      "after filter 5[1] \" \"\n",
      "[1] 5\n",
      "before filter 4after filter 4[1] \" \"\n",
      "[1] 4\n",
      "11 -th iterationbefore filter 1 2 5[1] \" \"\n",
      "after filter 1 5[1] \" \"\n",
      "[1] 1 5\n",
      "before filter 1 2 4after filter 1 4[1] \" \"\n",
      "[1] 1 4\n",
      "12 -th iterationbefore filter 1 5[1] \" \"\n",
      "after filter 5[1] \" \"\n",
      "[1] 5\n",
      "before filter 3after filter 3[1] \" \"\n",
      "[1] 3\n",
      "13 -th iterationbefore filter 1 3[1] \" \"\n",
      "after filter 3[1] \" \"\n",
      "[1] 3\n",
      "before filter 3 4after filter 3[1] \" \"\n",
      "[1] 3\n",
      "14 -th iterationbefore filter 1 2 3[1] \" \"\n",
      "after filter 3[1] \" \"\n",
      "[1] 3\n",
      "before filter 4after filter 4[1] \" \"\n",
      "[1] 4\n",
      "15 -th iterationbefore filter 1 3 5[1] \" \"\n",
      "after filter 1[1] \" \"\n",
      "[1] 1\n",
      "before filter 1 2 4after filter 4[1] \" \"\n",
      "[1] 4\n",
      "16 -th iterationbefore filter 1 2 5[1] \" \"\n",
      "after filter 2 5[1] \" \"\n",
      "[1] 2 5\n",
      "before filter 1 4after filter 4[1] \" \"\n",
      "[1] 4\n",
      "17 -th iterationbefore filter 1 2 3 5[1] \" \"\n",
      "after filter 2 5[1] \" \"\n",
      "[1] 2 5\n",
      "before filter 2 4after filter 2 4[1] \" \"\n",
      "[1] 2 4\n",
      "18 -th iterationbefore filter 1 3[1] \" \"\n",
      "after filter 1[1] \" \"\n",
      "[1] 1\n",
      "before filter 1 2 4after filter 1 4[1] \" \"\n",
      "[1] 1 4\n",
      "19 -th iterationbefore filter 3[1] \" \"\n",
      "after filter 3[1] \" \"\n",
      "[1] 3\n",
      "before filter 3after filter 3[1] \" \"\n",
      "[1] 3\n",
      "20 -th iterationbefore filter 1 2 5[1] \" \"\n",
      "after filter 1 5[1] \" \"\n",
      "[1] 1 5\n",
      "before filter 1 4after filter 1 4[1] \" \"\n",
      "[1] 1 4\n",
      "21 -th iterationbefore filter 1 2[1] \" \"\n",
      "after filter 1[1] \" \"\n",
      "[1] 1\n",
      "before filter 4after filter 4[1] \" \"\n",
      "[1] 4\n",
      "22 -th iterationbefore filter 1[1] \" \"\n",
      "after filter 1[1] \" \"\n",
      "[1] 1\n",
      "before filter 1 2 4after filter 1 4[1] \" \"\n",
      "[1] 1 4\n",
      "23 -th iterationbefore filter 1 5[1] \" \"\n",
      "after filter 1 5[1] \" \"\n",
      "[1] 1 5\n",
      "before filter 3 4after filter 3 4[1] \" \"\n",
      "[1] 3 4\n",
      "24 -th iterationbefore filter 1 2 5[1] \" \"\n",
      "after filter 5[1] \" \"\n",
      "[1] 5\n",
      "before filter 3 4after filter 3 4[1] \" \"\n",
      "[1] 3 4\n",
      "25 -th iterationbefore filter 2 5[1] \" \"\n",
      "after filter 2 5[1] \" \"\n",
      "[1] 2 5\n",
      "before filter 2 3 4after filter 4[1] \" \"\n",
      "[1] 4\n",
      "26 -th iterationbefore filter 2 3[1] \" \"\n",
      "after filter 2[1] \" \"\n",
      "[1] 2\n",
      "before filter 1 2 3after filter 3[1] \" \"\n",
      "[1] 3\n",
      "27 -th iterationbefore filter 1 2 5[1] \" \"\n",
      "after filter 5[1] \" \"\n",
      "[1] 5\n",
      "before filter 1 4after filter 1 4[1] \" \"\n",
      "[1] 1 4\n",
      "28 -th iterationbefore filter 1 3 5[1] \" \"\n",
      "after filter 3 5[1] \" \"\n",
      "[1] 3 5\n",
      "before filter 4after filter 4[1] \" \"\n",
      "[1] 4\n",
      "29 -th iterationNULL\n",
      "before filter 2 4after filter 4[1] \" \"\n",
      "[1] 4\n",
      "30 -th iterationbefore filter 1 2 5[1] \" \"\n",
      "after filter 1 5[1] \" \"\n",
      "[1] 1 5\n",
      "before filter 1 2 3 4after filter 1 4[1] \" \"\n",
      "[1] 1 4\n",
      "31 -th iterationbefore filter 3 5[1] \" \"\n",
      "after filter 3 5[1] \" \"\n",
      "[1] 3 5\n",
      "before filter 3 4after filter 4[1] \" \"\n",
      "[1] 4\n",
      "32 -th iterationbefore filter 2[1] \" \"\n",
      "after filter 2[1] \" \"\n",
      "[1] 2\n",
      "before filter 1 4after filter 1 4[1] \" \"\n",
      "[1] 1 4\n",
      "33 -th iterationbefore filter 2 3 5[1] \" \"\n",
      "after filter 2[1] \" \"\n",
      "[1] 2\n",
      "before filter 1 3 4after filter 3[1] \" \"\n",
      "[1] 3\n",
      "34 -th iterationbefore filter 2 5[1] \" \"\n",
      "after filter 5[1] \" \"\n",
      "[1] 5\n",
      "before filter 4after filter 4[1] \" \"\n",
      "[1] 4\n",
      "35 -th iterationbefore filter 1 3 5[1] \" \"\n",
      "after filter 3[1] \" \"\n",
      "[1] 3\n",
      "before filter 2 3 4after filter 3[1] \" \"\n",
      "[1] 3\n",
      "36 -th iterationbefore filter 1 2 3 5[1] \" \"\n",
      "after filter 2 5[1] \" \"\n",
      "[1] 2 5\n",
      "before filter 2 4after filter 2 4[1] \" \"\n",
      "[1] 2 4\n",
      "37 -th iterationbefore filter 1 5[1] \" \"\n",
      "after filter 1[1] \" \"\n",
      "[1] 1\n",
      "before filter 1 2 3 4after filter 3[1] \" \"\n",
      "[1] 3\n",
      "38 -th iterationbefore filter 1 2 3 5[1] \" \"\n",
      "after filter 3 5[1] \" \"\n",
      "[1] 3 5\n",
      "before filter 1 2 3 4after filter 4[1] \" \"\n",
      "[1] 4\n",
      "39 -th iterationbefore filter 1 5[1] \" \"\n",
      "after filter 1 5[1] \" \"\n",
      "[1] 1 5\n",
      "before filter 4after filter 4[1] \" \"\n",
      "[1] 4\n",
      "40 -th iterationbefore filter 1 3 5[1] \" \"\n",
      "after filter 3 5[1] \" \"\n",
      "[1] 3 5\n",
      "before filter 1 3after filter 3[1] \" \"\n",
      "[1] 3\n",
      "41 -th iterationbefore filter 5[1] \" \"\n",
      "after filter 5[1] \" \"\n",
      "[1] 5\n",
      "before filter 3 4after filter 3 4[1] \" \"\n",
      "[1] 3 4\n",
      "42 -th iterationbefore filter 1 2 3[1] \" \"\n",
      "after filter 1[1] \" \"\n",
      "[1] 1\n",
      "before filter 1 2 3 4after filter 4[1] \" \"\n",
      "[1] 4\n",
      "43 -th iterationbefore filter 1 2 5[1] \" \"\n",
      "after filter 5[1] \" \"\n",
      "[1] 5\n",
      "before filter 2 3 4after filter 4[1] \" \"\n",
      "[1] 4\n",
      "44 -th iterationbefore filter 1 3 5[1] \" \"\n",
      "after filter 3 5[1] \" \"\n",
      "[1] 3 5\n",
      "before filter 4after filter 4[1] \" \"\n",
      "[1] 4\n",
      "45 -th iterationbefore filter 1 2 3[1] \" \"\n",
      "after filter 3[1] \" \"\n",
      "[1] 3\n",
      "before filter 1 2 4after filter 4[1] \" \"\n",
      "[1] 4\n",
      "46 -th iterationbefore filter 1 2 5[1] \" \"\n",
      "after filter 2 5[1] \" \"\n",
      "[1] 2 5\n",
      "before filter 1 2after filter 2[1] \" \"\n",
      "[1] 2\n",
      "47 -th iterationbefore filter 3 5[1] \" \"\n",
      "after filter 5[1] \" \"\n",
      "[1] 5\n",
      "before filter 1 3 4after filter 3 4[1] \" \"\n",
      "[1] 3 4\n",
      "48 -th iterationbefore filter 2 3 5[1] \" \"\n",
      "after filter 2 5[1] \" \"\n",
      "[1] 2 5\n",
      "before filter 2 4after filter 4[1] \" \"\n",
      "[1] 4\n",
      "49 -th iterationbefore filter 2 5[1] \" \"\n",
      "after filter 5[1] \" \"\n",
      "[1] 5\n",
      "before filter 1 2 4after filter 4[1] \" \"\n",
      "[1] 4\n",
      "50 -th iterationNULL\n",
      "before filter 1 4after filter 1 4[1] \" \"\n",
      "[1] 1 4\n",
      "51 -th iterationbefore filter 2 3 5[1] \" \"\n",
      "after filter 5[1] \" \"\n",
      "[1] 5\n",
      "before filter 3 4after filter 4[1] \" \"\n",
      "[1] 4\n",
      "52 -th iterationbefore filter 1 2 3 5[1] \" \"\n",
      "after filter 5[1] \" \"\n",
      "[1] 5\n",
      "before filter 1 2 4after filter 1 4[1] \" \"\n",
      "[1] 1 4\n",
      "53 -th iterationbefore filter 2 5[1] \" \"\n",
      "after filter 5[1] \" \"\n",
      "[1] 5\n",
      "before filter 4after filter 4[1] \" \"\n",
      "[1] 4\n",
      "54 -th iterationbefore filter 2 3 5[1] \" \"\n",
      "after filter 2 5[1] \" \"\n",
      "[1] 2 5\n",
      "before filter 1 3after filter 1[1] \" \"\n",
      "[1] 1\n",
      "55 -th iterationbefore filter 2 3 5[1] \" \"\n",
      "after filter 2 5[1] \" \"\n",
      "[1] 2 5\n",
      "before filter 2 3 4after filter 2 4[1] \" \"\n",
      "[1] 2 4\n",
      "56 -th iterationbefore filter 1 5[1] \" \"\n",
      "after filter 5[1] \" \"\n",
      "[1] 5\n",
      "before filter 4after filter 4[1] \" \"\n",
      "[1] 4\n",
      "57 -th iterationbefore filter 1 3 5[1] \" \"\n",
      "after filter 3 5[1] \" \"\n",
      "[1] 3 5\n",
      "before filter 1 3 4after filter 4[1] \" \"\n",
      "[1] 4\n",
      "58 -th iterationbefore filter 2 3[1] \" \"\n",
      "after filter 3[1] \" \"\n",
      "[1] 3\n",
      "before filter 4after filter 4[1] \" \"\n",
      "[1] 4\n",
      "59 -th iterationbefore filter 2 5[1] \" \"\n",
      "after filter 5[1] \" \"\n",
      "[1] 5\n",
      "before filter 1 4after filter 4[1] \" \"\n",
      "[1] 4\n",
      "60 -th iterationbefore filter 1 2 3 5[1] \" \"\n",
      "after filter 2 5[1] \" \"\n",
      "[1] 2 5\n",
      "before filter 1 4after filter 4[1] \" \"\n",
      "[1] 4\n",
      "61 -th iterationbefore filter 1 2[1] \" \"\n",
      "after filter 2[1] \" \"\n",
      "[1] 2\n",
      "before filter 2 3 4after filter 2 4[1] \" \"\n",
      "[1] 2 4\n",
      "62 -th iterationbefore filter 1 5[1] \" \"\n",
      "after filter 1 5[1] \" \"\n",
      "[1] 1 5\n",
      "NULL\n",
      "63 -th iterationbefore filter 3 5[1] \" \"\n",
      "after filter 5[1] \" \"\n",
      "[1] 5\n",
      "before filter 2 3 4after filter 2 4[1] \" \"\n",
      "[1] 2 4\n",
      "64 -th iterationbefore filter 1 2 3[1] \" \"\n",
      "after filter 2[1] \" \"\n",
      "[1] 2\n",
      "before filter 4after filter 4[1] \" \"\n",
      "[1] 4\n",
      "65 -th iterationNULL\n",
      "before filter 1 3after filter 3[1] \" \"\n",
      "[1] 3\n",
      "66 -th iterationbefore filter 5[1] \" \"\n",
      "after filter 5[1] \" \"\n",
      "[1] 5\n",
      "before filter 2 3 4after filter 4[1] \" \"\n",
      "[1] 4\n",
      "67 -th iterationbefore filter 1 3[1] \" \"\n",
      "after filter 1[1] \" \"\n",
      "[1] 1\n",
      "before filter 1 4after filter 1 4[1] \" \"\n",
      "[1] 1 4\n",
      "68 -th iterationbefore filter 1 5[1] \" \"\n",
      "after filter 5[1] \" \"\n",
      "[1] 5\n",
      "before filter 4after filter 4[1] \" \"\n",
      "[1] 4\n",
      "69 -th iterationbefore filter 3 5[1] \" \"\n",
      "after filter 5[1] \" \"\n",
      "[1] 5\n",
      "before filter 2 4after filter 4[1] \" \"\n",
      "[1] 4\n",
      "70 -th iterationbefore filter 1 3[1] \" \"\n",
      "after filter 1[1] \" \"\n",
      "[1] 1\n",
      "before filter 1 4after filter 1 4[1] \" \"\n",
      "[1] 1 4\n",
      "71 -th iterationbefore filter 2 5[1] \" \"\n",
      "after filter 2 5[1] \" \"\n",
      "[1] 2 5\n",
      "before filter 3 4after filter 3 4[1] \" \"\n",
      "[1] 3 4\n",
      "72 -th iterationbefore filter 1 2 3[1] \" \"\n",
      "after filter 2[1] \" \"\n",
      "[1] 2\n",
      "before filter 1 2 4after filter 4[1] \" \"\n",
      "[1] 4\n",
      "73 -th iterationbefore filter 1 3 5[1] \" \"\n",
      "after filter 3 5[1] \" \"\n",
      "[1] 3 5\n",
      "before filter 1 4after filter 1 4[1] \" \"\n",
      "[1] 1 4\n",
      "74 -th iterationbefore filter 1 2 5[1] \" \"\n",
      "after filter 1 5[1] \" \"\n",
      "[1] 1 5\n",
      "before filter 1 2 4after filter 1 4[1] \" \"\n",
      "[1] 1 4\n",
      "75 -th iterationbefore filter 1 2[1] \" \"\n",
      "after filter 2[1] \" \"\n",
      "[1] 2\n",
      "before filter 4after filter 4[1] \" \"\n",
      "[1] 4\n",
      "76 -th iterationbefore filter 1[1] \" \"\n",
      "after filter 1[1] \" \"\n",
      "[1] 1\n",
      "before filter 2 3 4after filter 4[1] \" \"\n",
      "[1] 4\n",
      "77 -th iterationbefore filter 3 5[1] \" \"\n",
      "after filter 3 5[1] \" \"\n",
      "[1] 3 5\n",
      "before filter 1 3 4after filter 3 4[1] \" \"\n",
      "[1] 3 4\n",
      "78 -th iterationbefore filter 1 2 3 5[1] \" \"\n",
      "after filter 2 5[1] \" \"\n",
      "[1] 2 5\n",
      "before filter 1 3 4after filter 1 4[1] \" \"\n",
      "[1] 1 4\n",
      "79 -th iterationbefore filter 1 2 3 5[1] \" \"\n",
      "after filter 5 2[1] \" \"\n",
      "[1] 5 2\n",
      "before filter 1 3 4after filter 3 4[1] \" \"\n",
      "[1] 3 4\n",
      "80 -th iterationbefore filter 1 2 5[1] \" \"\n",
      "after filter 1 5[1] \" \"\n",
      "[1] 1 5\n",
      "before filter 2 4after filter 2 4[1] \" \"\n",
      "[1] 2 4\n",
      "81 -th iterationbefore filter 2 3 5[1] \" \"\n",
      "after filter 3 5[1] \" \"\n",
      "[1] 3 5\n",
      "before filter 2 3 4after filter 3 4[1] \" \"\n",
      "[1] 3 4\n",
      "82 -th iterationbefore filter 1 2 3 5[1] \" \"\n",
      "after filter 5[1] \" \"\n",
      "[1] 5\n",
      "before filter 2 4after filter 4[1] \" \"\n",
      "[1] 4\n",
      "83 -th iterationbefore filter 2[1] \" \"\n",
      "after filter 2[1] \" \"\n",
      "[1] 2\n",
      "before filter 2 4after filter 2 4[1] \" \"\n",
      "[1] 2 4\n",
      "84 -th iterationbefore filter 1 2 3[1] \" \"\n",
      "after filter 2[1] \" \"\n",
      "[1] 2\n",
      "before filter 2 4after filter 2 4[1] \" \"\n",
      "[1] 2 4\n",
      "85 -th iterationbefore filter 1 5[1] \" \"\n",
      "after filter 1 5[1] \" \"\n",
      "[1] 1 5\n",
      "before filter 1 2 3after filter 3[1] \" \"\n",
      "[1] 3\n",
      "86 -th iterationbefore filter 3[1] \" \"\n",
      "after filter 3[1] \" \"\n",
      "[1] 3\n",
      "before filter 1 4after filter 4[1] \" \"\n",
      "[1] 4\n",
      "87 -th iterationbefore filter 1 2 3 5[1] \" \"\n",
      "after filter 3 5[1] \" \"\n",
      "[1] 3 5\n",
      "before filter 1 2 3 4after filter 1 4[1] \" \"\n",
      "[1] 1 4\n",
      "88 -th iterationbefore filter 1 2 3 5[1] \" \"\n",
      "after filter 3[1] \" \"\n",
      "[1] 3\n",
      "before filter 4after filter 4[1] \" \"\n",
      "[1] 4\n",
      "89 -th iterationbefore filter 1 2 3 5[1] \" \"\n",
      "after filter 3 5[1] \" \"\n",
      "[1] 3 5\n",
      "before filter 1 2 3 4after filter 1 4[1] \" \"\n",
      "[1] 1 4\n",
      "90 -th iterationbefore filter 2 5[1] \" \"\n",
      "after filter 5[1] \" \"\n",
      "[1] 5\n",
      "before filter 3 4after filter 4[1] \" \"\n",
      "[1] 4\n",
      "91 -th iterationbefore filter 1 2 5[1] \" \"\n",
      "after filter 1 5[1] \" \"\n",
      "[1] 1 5\n",
      "before filter 1after filter 1[1] \" \"\n",
      "[1] 1\n",
      "92 -th iterationbefore filter 1 2 3 5[1] \" \"\n",
      "after filter 1 5[1] \" \"\n",
      "[1] 1 5\n",
      "before filter 4after filter 4[1] \" \"\n",
      "[1] 4\n",
      "93 -th iterationbefore filter 1 2 5[1] \" \"\n",
      "after filter 1 5[1] \" \"\n",
      "[1] 1 5\n",
      "before filter 1 4after filter 4[1] \" \"\n",
      "[1] 4\n",
      "94 -th iterationbefore filter 1 2 3 5[1] \" \"\n",
      "after filter 1 5[1] \" \"\n",
      "[1] 1 5\n",
      "before filter 1 2 4after filter 1 4[1] \" \"\n",
      "[1] 1 4\n",
      "95 -th iterationbefore filter 2 5[1] \" \"\n",
      "after filter 2 5[1] \" \"\n",
      "[1] 2 5\n",
      "before filter 2 4after filter 4[1] \" \"\n",
      "[1] 4\n",
      "96 -th iterationbefore filter 1 2 3 5[1] \" \"\n",
      "after filter 3 5[1] \" \"\n",
      "[1] 3 5\n",
      "before filter 2 4after filter 4[1] \" \"\n",
      "[1] 4\n",
      "97 -th iterationbefore filter 1 5[1] \" \"\n",
      "after filter 1 5[1] \" \"\n",
      "[1] 1 5\n",
      "before filter 1 2 4after filter 1 4[1] \" \"\n",
      "[1] 1 4\n",
      "98 -th iterationbefore filter 5[1] \" \"\n",
      "after filter 5[1] \" \"\n",
      "[1] 5\n",
      "before filter 4after filter 4[1] \" \"\n",
      "[1] 4\n",
      "99 -th iterationbefore filter 2 3[1] \" \"\n",
      "after filter 2[1] \" \"\n",
      "[1] 2\n",
      "before filter 1 2 3 4after filter 4[1] \" \"\n",
      "[1] 4\n",
      "100 -th iterationbefore filter 2 3 5[1] \" \"\n",
      "after filter 3 5[1] \" \"\n",
      "[1] 3 5\n",
      "before filter 2 4after filter 2 4[1] \" \"\n",
      "[1] 2 4\n"
     ]
    }
   ],
   "source": [
    "correct <- 0\n",
    "AB_causes = c(2)\n",
    "ABC_causes = c(7)\n",
    "DE_causes = c(5)\n",
    "DEF_causes = c(9)\n",
    "for (i in 1:100){\n",
    "    cat(i,\"-th iteration\")\n",
    "    num <- str_pad(i,3,pad=\"0\")\n",
    "    path <- paste(\"/Users/suhong/Desktop/UROP_Data/UROP/Synthetic/data/simu_data\",num,\".csv\",sep=\"\")\n",
    "    data <- read.csv(path)\n",
    "    \n",
    "    # df <- process_df(data)\n",
    "    \n",
    "  df <- double_process_df(data)\n",
    "    \n",
    "    #testing causes of AB\n",
    "    causes1 = c()\n",
    "    for (index in 1:5){\n",
    "        if (index==4) {next}\n",
    "        X <- df[,index]\n",
    "        Y <- df$AB\n",
    "#         lag <- select_time_lags(X)\n",
    "#         p <- grangertest(X,Y,order=lag)[2,4]\n",
    "        if (self_granger(X,Y)){causes1 = append(causes1,index)}}\n",
    "    if(length(causes1)!=0){\n",
    "        cat(\"before filter\",causes1,sep=\" \")\n",
    "        print(\" \")\n",
    "        if(length(causes1)>1){\n",
    "            X=df[,causes1]\n",
    "            causes1 <-causes1[filter_cause(X,Y,thres=0.3)]\n",
    "        }\n",
    "        cat(\"after filter\", causes1,sep=\" \")\n",
    "        print(\" \")\n",
    "    }\n",
    "    print(causes1) \n",
    "    if (reasonable_cause(causes1,\"AB\")) {correct <- correct+1}\n",
    "    \n",
    "    # testing causes of ABC\n",
    "    causes2 = c()\n",
    "    for (index in 1:5){\n",
    "        if (index==5) {next}\n",
    "        X <- df[,index]\n",
    "        Y <- df$ABC\n",
    "#         lag <- select_time_lags(X)\n",
    "#         p <- grangertest(X,Y,order=lag)[2,4]\n",
    "        if (self_granger(X,Y)){causes2 = append(causes2,index)\n",
    "}\n",
    "    }\n",
    "    if(length(causes2)!=0){\n",
    "        cat(\"before filter\",causes2,sep=\" \")\n",
    "        if(length(causes2)>1){\n",
    "            X=df[,causes2]\n",
    "            causes2 <-causes2[filter_cause(X,Y,thres=0.3)]\n",
    "        }\n",
    "        cat(\"after filter\", causes2,sep=\" \")\n",
    "        print(\" \")\n",
    "    }\n",
    "    print(causes2) \n",
    "    if (reasonable_cause(causes2,type=\"ABC\")) {correct <- correct+1}\n",
    "} "
   ]
  },
  {
   "cell_type": "code",
   "execution_count": 8,
   "metadata": {},
   "outputs": [
    {
     "data": {
      "text/html": [
       "<table class=\"dataframe\">\n",
       "<caption>A data.frame: 6 × 10</caption>\n",
       "<thead>\n",
       "\t<tr><th></th><th scope=col>A</th><th scope=col>B</th><th scope=col>C</th><th scope=col>D</th><th scope=col>E</th><th scope=col>F</th><th scope=col>AB</th><th scope=col>ABC</th><th scope=col>DE</th><th scope=col>DEF</th></tr>\n",
       "\t<tr><th></th><th scope=col>&lt;int&gt;</th><th scope=col>&lt;int&gt;</th><th scope=col>&lt;int&gt;</th><th scope=col>&lt;int&gt;</th><th scope=col>&lt;int&gt;</th><th scope=col>&lt;int&gt;</th><th scope=col>&lt;int&gt;</th><th scope=col>&lt;int&gt;</th><th scope=col>&lt;int&gt;</th><th scope=col>&lt;int&gt;</th></tr>\n",
       "</thead>\n",
       "<tbody>\n",
       "\t<tr><th scope=row>1</th><td>-1</td><td>-1</td><td> 0</td><td> 0</td><td> 2</td><td>0</td><td> 4</td><td> 1</td><td> 8</td><td> 6</td></tr>\n",
       "\t<tr><th scope=row>2</th><td> 0</td><td> 3</td><td> 0</td><td> 0</td><td> 2</td><td>0</td><td>10</td><td> 6</td><td> 4</td><td> 0</td></tr>\n",
       "\t<tr><th scope=row>3</th><td>-2</td><td>-1</td><td>-3</td><td> 1</td><td> 1</td><td>2</td><td> 4</td><td>15</td><td>-2</td><td>-2</td></tr>\n",
       "\t<tr><th scope=row>4</th><td> 0</td><td>-1</td><td> 4</td><td> 1</td><td> 2</td><td>0</td><td>-4</td><td> 0</td><td> 6</td><td>-1</td></tr>\n",
       "\t<tr><th scope=row>5</th><td> 0</td><td> 2</td><td>-1</td><td> 1</td><td>-1</td><td>1</td><td> 0</td><td>-7</td><td>-2</td><td> 5</td></tr>\n",
       "\t<tr><th scope=row>6</th><td> 1</td><td>-4</td><td>-1</td><td>-2</td><td>-2</td><td>0</td><td> 0</td><td>-3</td><td>-7</td><td>-6</td></tr>\n",
       "</tbody>\n",
       "</table>\n"
      ],
      "text/latex": [
       "A data.frame: 6 × 10\n",
       "\\begin{tabular}{r|llllllllll}\n",
       "  & A & B & C & D & E & F & AB & ABC & DE & DEF\\\\\n",
       "  & <int> & <int> & <int> & <int> & <int> & <int> & <int> & <int> & <int> & <int>\\\\\n",
       "\\hline\n",
       "\t1 & -1 & -1 &  0 &  0 &  2 & 0 &  4 &  1 &  8 &  6\\\\\n",
       "\t2 &  0 &  3 &  0 &  0 &  2 & 0 & 10 &  6 &  4 &  0\\\\\n",
       "\t3 & -2 & -1 & -3 &  1 &  1 & 2 &  4 & 15 & -2 & -2\\\\\n",
       "\t4 &  0 & -1 &  4 &  1 &  2 & 0 & -4 &  0 &  6 & -1\\\\\n",
       "\t5 &  0 &  2 & -1 &  1 & -1 & 1 &  0 & -7 & -2 &  5\\\\\n",
       "\t6 &  1 & -4 & -1 & -2 & -2 & 0 &  0 & -3 & -7 & -6\\\\\n",
       "\\end{tabular}\n"
      ],
      "text/markdown": [
       "\n",
       "A data.frame: 6 × 10\n",
       "\n",
       "| <!--/--> | A &lt;int&gt; | B &lt;int&gt; | C &lt;int&gt; | D &lt;int&gt; | E &lt;int&gt; | F &lt;int&gt; | AB &lt;int&gt; | ABC &lt;int&gt; | DE &lt;int&gt; | DEF &lt;int&gt; |\n",
       "|---|---|---|---|---|---|---|---|---|---|---|\n",
       "| 1 | -1 | -1 |  0 |  0 |  2 | 0 |  4 |  1 |  8 |  6 |\n",
       "| 2 |  0 |  3 |  0 |  0 |  2 | 0 | 10 |  6 |  4 |  0 |\n",
       "| 3 | -2 | -1 | -3 |  1 |  1 | 2 |  4 | 15 | -2 | -2 |\n",
       "| 4 |  0 | -1 |  4 |  1 |  2 | 0 | -4 |  0 |  6 | -1 |\n",
       "| 5 |  0 |  2 | -1 |  1 | -1 | 1 |  0 | -7 | -2 |  5 |\n",
       "| 6 |  1 | -4 | -1 | -2 | -2 | 0 |  0 | -3 | -7 | -6 |\n",
       "\n"
      ],
      "text/plain": [
       "  A  B  C  D  E  F AB ABC DE DEF\n",
       "1 -1 -1  0  0  2 0  4  1   8  6 \n",
       "2  0  3  0  0  2 0 10  6   4  0 \n",
       "3 -2 -1 -3  1  1 2  4 15  -2 -2 \n",
       "4  0 -1  4  1  2 0 -4  0   6 -1 \n",
       "5  0  2 -1  1 -1 1  0 -7  -2  5 \n",
       "6  1 -4 -1 -2 -2 0  0 -3  -7 -6 "
      ]
     },
     "metadata": {},
     "output_type": "display_data"
    }
   ],
   "source": [
    "head(df)"
   ]
  },
  {
   "cell_type": "code",
   "execution_count": 421,
   "metadata": {},
   "outputs": [
    {
     "data": {
      "text/html": [
       "119"
      ],
      "text/latex": [
       "119"
      ],
      "text/markdown": [
       "119"
      ],
      "text/plain": [
       "[1] 119"
      ]
     },
     "metadata": {},
     "output_type": "display_data"
    }
   ],
   "source": [
    "correct"
   ]
  },
  {
   "cell_type": "code",
   "execution_count": 9,
   "metadata": {},
   "outputs": [],
   "source": [
    "# num <- str_pad(i,3,pad=\"0\")\n",
    "correct <- 0\n",
    "AB_causes = c(2)\n",
    "ABC_causes = c(7)\n",
    "DE_causes = c(5)\n",
    "DEF_causes = c(9)\n",
    "num=\"001\"\n",
    "    path <- paste(\"/Users/suhong/Desktop/UROP_Data/UROP/Synthetic/data/simu_data\",num,\".csv\",sep=\"\")\n",
    "    data <- read.csv(path)\n",
    "    \n",
    "    df <- process_df(data)\n",
    "    \n",
    "    #testing causes of AB\n",
    "    causes = c()\n",
    "    for (index in 1:10){\n",
    "        if (index==7) {next}\n",
    "        X <- df[,index]\n",
    "        Y <- df$AB\n",
    "        lag <- select_time_lags(X,thres=0.05)\n",
    "        p <- grangertest(X,Y,order=lag)[2,4]\n",
    "        if (p<0.15){causes = append(causes,index)}}\n",
    "    if(length(causes)!=0){\n",
    "        cat(\"before filter\",causes,sep=\" \")\n",
    "        if(length(causes)>1){\n",
    "            X=df[,causes]\n",
    "            causes <-causes[filter_cause(X,Y,thres=0.2)]\n",
    "        }\n",
    "        cat(\"after filter\", causes,sep=\" \")\n",
    "    }\n",
    "        \n",
    "    if (equal_list(AB_causes,causes)) {correct <- correct+1}\n",
    "    \n",
    "    # testing causes of ABC\n",
    "    causes = c()\n",
    "    for (index in 1:10){\n",
    "        if (index==8) {next}\n",
    "        X <- df[,index]\n",
    "        Y <- df$ABC\n",
    "        lag <- select_time_lags(X,thres=0.05)\n",
    "        p <- grangertest(X,Y,order=lag)[2,4]\n",
    "        if (p<0.15){causes = append(causes,index)\n",
    "}\n",
    "    }\n",
    "    if(length(causes)!=0){\n",
    "        cat(\"before filter\",causes,sep=\" \")\n",
    "        if(length(causes)>1){\n",
    "            X=df[,causes]\n",
    "            causes <-causes[filter_cause(X,Y,thres=0.2)]\n",
    "        }\n",
    "        cat(\"after filter\", causes,sep=\" \")\n",
    "    }\n",
    "    if (equal_list(ABC_causes,causes)) {correct <- correct+1}\n",
    "    \n",
    "    # testing causes of DE\n",
    "    causes = c()\n",
    "    for (index in 1:10){\n",
    "        if (index==9) {next}\n",
    "        X <- df[,index]\n",
    "        Y <- df$DE\n",
    "        lag <- select_time_lags(X,thres=0.05)\n",
    "        p <- grangertest(X,Y,order=lag)[2,4]\n",
    "        if (p<0.15){causes = append(causes,index)}\n",
    "    }\n",
    "    if(length(causes)!=0){\n",
    "        cat(\"before filter\",causes,sep=\" \")\n",
    "        if(length(causes)>1){\n",
    "            X=df[,causes]\n",
    "            causes <-causes[filter_cause(X,Y,thres=0.2)]\n",
    "        }\n",
    "        cat(\"after filter\", causes,sep=\" \")\n",
    "    }\n",
    "    if (equal_list(DE_causes,causes)) {correct <- correct+1}\n",
    "    \n",
    "    # testing causes of DEF\n",
    "    causes = c()\n",
    "    for (index in 1:10){\n",
    "        if (index==10) {next}\n",
    "        X <- df[,index]\n",
    "        Y <- df$DEF\n",
    "        lag <- select_time_lags(X,thres=0.05)\n",
    "        p <- grangertest(X,Y,order=lag)[2,4]\n",
    "        if (p<0.15){causes = append(causes,index)}\n",
    "    }\n",
    "    if(length(causes)!=0){\n",
    "       cat(\"before filter\",causes,sep=\" \")\n",
    "        if(length(causes)>1){\n",
    "            X=df[,causes]\n",
    "            causes <-causes[filter_cause(X,Y,thres=0.2)]\n",
    "        }\n",
    "        cat(\"after filter\", causes,sep=\" \")\n",
    "    }\n",
    "    if (equal_list(DEF_causes,causes)) {correct <- correct+1}"
   ]
  },
  {
   "cell_type": "code",
   "execution_count": 6,
   "metadata": {},
   "outputs": [
    {
     "data": {
      "text/html": [
       "0"
      ],
      "text/latex": [
       "0"
      ],
      "text/markdown": [
       "0"
      ],
      "text/plain": [
       "[1] 0"
      ]
     },
     "metadata": {},
     "output_type": "display_data"
    }
   ],
   "source": [
    "correct"
   ]
  },
  {
   "cell_type": "code",
   "execution_count": 178,
   "metadata": {},
   "outputs": [
    {
     "data": {
      "text/html": [
       "<table class=\"dataframe\">\n",
       "<caption>A data.frame: 6 × 5</caption>\n",
       "<thead>\n",
       "\t<tr><th></th><th scope=col>A</th><th scope=col>B</th><th scope=col>C</th><th scope=col>AB</th><th scope=col>ABC</th></tr>\n",
       "\t<tr><th></th><th scope=col>&lt;int&gt;</th><th scope=col>&lt;int&gt;</th><th scope=col>&lt;int&gt;</th><th scope=col>&lt;int&gt;</th><th scope=col>&lt;int&gt;</th></tr>\n",
       "</thead>\n",
       "<tbody>\n",
       "\t<tr><th scope=row>1</th><td> 0</td><td> 3</td><td> 3</td><td>  4</td><td> 12</td></tr>\n",
       "\t<tr><th scope=row>2</th><td>-1</td><td>-2</td><td>-1</td><td>-27</td><td>-13</td></tr>\n",
       "\t<tr><th scope=row>3</th><td>-2</td><td> 1</td><td> 3</td><td> 16</td><td>-15</td></tr>\n",
       "\t<tr><th scope=row>4</th><td> 7</td><td> 0</td><td>-4</td><td>  0</td><td>  3</td></tr>\n",
       "\t<tr><th scope=row>5</th><td>-1</td><td> 1</td><td> 2</td><td> -2</td><td>  1</td></tr>\n",
       "\t<tr><th scope=row>6</th><td> 0</td><td> 1</td><td>-2</td><td>  6</td><td>  6</td></tr>\n",
       "</tbody>\n",
       "</table>\n"
      ],
      "text/latex": [
       "A data.frame: 6 × 5\n",
       "\\begin{tabular}{r|lllll}\n",
       "  & A & B & C & AB & ABC\\\\\n",
       "  & <int> & <int> & <int> & <int> & <int>\\\\\n",
       "\\hline\n",
       "\t1 &  0 &  3 &  3 &   4 &  12\\\\\n",
       "\t2 & -1 & -2 & -1 & -27 & -13\\\\\n",
       "\t3 & -2 &  1 &  3 &  16 & -15\\\\\n",
       "\t4 &  7 &  0 & -4 &   0 &   3\\\\\n",
       "\t5 & -1 &  1 &  2 &  -2 &   1\\\\\n",
       "\t6 &  0 &  1 & -2 &   6 &   6\\\\\n",
       "\\end{tabular}\n"
      ],
      "text/markdown": [
       "\n",
       "A data.frame: 6 × 5\n",
       "\n",
       "| <!--/--> | A &lt;int&gt; | B &lt;int&gt; | C &lt;int&gt; | AB &lt;int&gt; | ABC &lt;int&gt; |\n",
       "|---|---|---|---|---|---|\n",
       "| 1 |  0 |  3 |  3 |   4 |  12 |\n",
       "| 2 | -1 | -2 | -1 | -27 | -13 |\n",
       "| 3 | -2 |  1 |  3 |  16 | -15 |\n",
       "| 4 |  7 |  0 | -4 |   0 |   3 |\n",
       "| 5 | -1 |  1 |  2 |  -2 |   1 |\n",
       "| 6 |  0 |  1 | -2 |   6 |   6 |\n",
       "\n"
      ],
      "text/plain": [
       "  A  B  C  AB  ABC\n",
       "1  0  3  3   4  12\n",
       "2 -1 -2 -1 -27 -13\n",
       "3 -2  1  3  16 -15\n",
       "4  7  0 -4   0   3\n",
       "5 -1  1  2  -2   1\n",
       "6  0  1 -2   6   6"
      ]
     },
     "metadata": {},
     "output_type": "display_data"
    }
   ],
   "source": [
    "num=\"001\"\n",
    "    path <- paste(\"/Users/suhong/Desktop/UROP_Data/UROP/Synthetic/data/simu_data\",num,\".csv\",sep=\"\")\n",
    "    data <- read.csv(path)\n",
    "df <- process_df(data)\n",
    "ddf <- double_process_df(data)\n",
    "head(ddf)"
   ]
  },
  {
   "cell_type": "code",
   "execution_count": 39,
   "metadata": {},
   "outputs": [
    {
     "name": "stderr",
     "output_type": "stream",
     "text": [
      "Warning message in adf.test(ddf$B):\n",
      "“p-value smaller than printed p-value”\n"
     ]
    },
    {
     "data": {
      "text/plain": [
       "\n",
       "\tAugmented Dickey-Fuller Test\n",
       "\n",
       "data:  ddf$B\n",
       "Dickey-Fuller = -11.069, Lag order = 5, p-value = 0.01\n",
       "alternative hypothesis: stationary\n"
      ]
     },
     "metadata": {},
     "output_type": "display_data"
    }
   ],
   "source": [
    "adf.test(ddf$B)"
   ]
  },
  {
   "cell_type": "code",
   "execution_count": 212,
   "metadata": {},
   "outputs": [
    {
     "name": "stdout",
     "output_type": "stream",
     "text": [
      "[1] 7\n"
     ]
    },
    {
     "data": {
      "text/html": [
       "<table class=\"dataframe\">\n",
       "<caption>A anova: 2 × 4</caption>\n",
       "<thead>\n",
       "\t<tr><th></th><th scope=col>Res.Df</th><th scope=col>Df</th><th scope=col>F</th><th scope=col>Pr(&gt;F)</th></tr>\n",
       "\t<tr><th></th><th scope=col>&lt;dbl&gt;</th><th scope=col>&lt;dbl&gt;</th><th scope=col>&lt;dbl&gt;</th><th scope=col>&lt;dbl&gt;</th></tr>\n",
       "</thead>\n",
       "<tbody>\n",
       "\t<tr><th scope=row>1</th><td>176</td><td>NA</td><td>     NA</td><td>       NA</td></tr>\n",
       "\t<tr><th scope=row>2</th><td>183</td><td>-7</td><td>1.48553</td><td>0.1750924</td></tr>\n",
       "</tbody>\n",
       "</table>\n"
      ],
      "text/latex": [
       "A anova: 2 × 4\n",
       "\\begin{tabular}{r|llll}\n",
       "  & Res.Df & Df & F & Pr(>F)\\\\\n",
       "  & <dbl> & <dbl> & <dbl> & <dbl>\\\\\n",
       "\\hline\n",
       "\t1 & 176 & NA &      NA &        NA\\\\\n",
       "\t2 & 183 & -7 & 1.48553 & 0.1750924\\\\\n",
       "\\end{tabular}\n"
      ],
      "text/markdown": [
       "\n",
       "A anova: 2 × 4\n",
       "\n",
       "| <!--/--> | Res.Df &lt;dbl&gt; | Df &lt;dbl&gt; | F &lt;dbl&gt; | Pr(&gt;F) &lt;dbl&gt; |\n",
       "|---|---|---|---|---|\n",
       "| 1 | 176 | NA |      NA |        NA |\n",
       "| 2 | 183 | -7 | 1.48553 | 0.1750924 |\n",
       "\n"
      ],
      "text/plain": [
       "  Res.Df Df F       Pr(>F)   \n",
       "1 176    NA      NA        NA\n",
       "2 183    -7 1.48553 0.1750924"
      ]
     },
     "metadata": {},
     "output_type": "display_data"
    }
   ],
   "source": [
    "# grangertest(X,y,order = lag)\n",
    "X <- ddf$AB\n",
    "Y <- ddf$ABC\n",
    "lag <- select_time_lags(X)\n",
    "print(lag)\n",
    "grangertest(X,Y,order=7)"
   ]
  },
  {
   "cell_type": "code",
   "execution_count": 213,
   "metadata": {},
   "outputs": [
    {
     "data": {
      "text/plain": [
       "\n",
       "Partial autocorrelations of series ‘X’, by lag\n",
       "\n",
       "     1      2      3      4      5      6      7      8      9     10     11 \n",
       "-0.463 -0.312 -0.275 -0.264 -0.141 -0.208 -0.205 -0.032 -0.116 -0.075 -0.005 \n",
       "    12     13     14     15     16     17     18     19     20     21     22 \n",
       "-0.031 -0.093  0.083  0.007 -0.057 -0.035 -0.029 -0.126 -0.006 -0.002  0.029 "
      ]
     },
     "metadata": {},
     "output_type": "display_data"
    },
    {
     "data": {
      "image/png": "[encoded data removed]",
      "text/plain": [
       "Plot with title “Series  X”"
      ]
     },
     "metadata": {
      "image/png": {
       "height": 420,
       "width": 420
      }
     },
     "output_type": "display_data"
    }
   ],
   "source": [
    "pacf = pacf(X)\n",
    "pacf"
   ]
  },
  {
   "cell_type": "code",
   "execution_count": 27,
   "metadata": {},
   "outputs": [],
   "source": [
    "double_process_df <- function(data){\n",
    "    A <- data$X..A...\n",
    "    B <- data$X..B...\n",
    "    C <- data$X..C...\n",
    "#     D <- data$X..D...\n",
    "#     E <- data$X..E...\n",
    "#     F <- data$X..F...\n",
    "    AB <- data$X..A....B..\n",
    "    ABC <- data$X..A....B....C..\n",
    "#     DE <- data$X..D....E..\n",
    "#     DEF <- data$X..D....E....F..\n",
    "    A <- diff(A)\n",
    "    B <- diff(B)\n",
    "    C <- diff(C)\n",
    "    A <- diff(A)\n",
    "    B <- diff(B)\n",
    "    C <- diff(C)\n",
    "#     D <- diff(D)\n",
    "#     E <- diff(E)\n",
    "#     F <- diff(F)\n",
    "    AB <- diff(AB)\n",
    "    ABC <- diff(ABC)\n",
    "    AB <- diff(AB)\n",
    "    ABC <- diff(ABC)\n",
    "#     DE <- diff(DE)\n",
    "#     DEF <- diff(DEF)\n",
    "    df <- data.frame(A,B,C,AB,ABC)\n",
    "#     df <- data.frame(A,B,C,D,E,F,AB,ABC,DE,DEF)\n",
    "    return(df)\n",
    "}"
   ]
  },
  {
   "cell_type": "code",
   "execution_count": 174,
   "metadata": {},
   "outputs": [
    {
     "data": {
      "text/html": [
       "198"
      ],
      "text/latex": [
       "198"
      ],
      "text/markdown": [
       "198"
      ],
      "text/plain": [
       "[1] 198"
      ]
     },
     "metadata": {},
     "output_type": "display_data"
    },
    {
     "data": {
      "image/png": "[encoded data removed]",
      "text/plain": [
       "Plot with title “Series  df$B”"
      ]
     },
     "metadata": {
      "image/png": {
       "height": 420,
       "width": 420
      }
     },
     "output_type": "display_data"
    }
   ],
   "source": [
    "\n",
    "pacf <- pacf(df$B)\n",
    "pacf$n.used"
   ]
  },
  {
   "cell_type": "code",
   "execution_count": 357,
   "metadata": {},
   "outputs": [],
   "source": [
    "correct <- 0\n",
    "AB_causes = c(2)\n",
    "ABC_causes = c(7)\n",
    "DE_causes = c(5)\n",
    "DEF_causes = c(9)\n",
    "num=\"001\"\n",
    "    path <- paste(\"/Users/suhong/Desktop/UROP_Data/UROP/Synthetic/data/simu_data\",num,\".csv\",sep=\"\")\n",
    "    data <- read.csv(path)\n",
    "    \n",
    "    df <- process_df(data)"
   ]
  },
  {
   "cell_type": "code",
   "execution_count": 358,
   "metadata": {},
   "outputs": [
    {
     "data": {
      "text/html": [
       "<table class=\"dataframe\">\n",
       "<caption>A data.frame: 6 × 10</caption>\n",
       "<thead>\n",
       "\t<tr><th></th><th scope=col>A</th><th scope=col>B</th><th scope=col>C</th><th scope=col>D</th><th scope=col>E</th><th scope=col>F</th><th scope=col>AB</th><th scope=col>ABC</th><th scope=col>DE</th><th scope=col>DEF</th></tr>\n",
       "\t<tr><th></th><th scope=col>&lt;int&gt;</th><th scope=col>&lt;int&gt;</th><th scope=col>&lt;int&gt;</th><th scope=col>&lt;int&gt;</th><th scope=col>&lt;int&gt;</th><th scope=col>&lt;int&gt;</th><th scope=col>&lt;int&gt;</th><th scope=col>&lt;int&gt;</th><th scope=col>&lt;int&gt;</th><th scope=col>&lt;int&gt;</th></tr>\n",
       "</thead>\n",
       "<tbody>\n",
       "\t<tr><th scope=row>1</th><td>-1</td><td> 0</td><td> 0</td><td> 1</td><td>-2</td><td> 0</td><td> 1</td><td>-4</td><td>-1</td><td>8</td></tr>\n",
       "\t<tr><th scope=row>2</th><td> 1</td><td>-1</td><td> 0</td><td>-1</td><td> 1</td><td>-2</td><td> 6</td><td> 3</td><td> 5</td><td>0</td></tr>\n",
       "\t<tr><th scope=row>3</th><td> 1</td><td>-1</td><td>-2</td><td>-2</td><td>-1</td><td> 2</td><td> 1</td><td> 3</td><td> 0</td><td>6</td></tr>\n",
       "\t<tr><th scope=row>4</th><td> 0</td><td> 1</td><td> 1</td><td> 0</td><td> 0</td><td> 1</td><td> 4</td><td> 9</td><td>-2</td><td>2</td></tr>\n",
       "\t<tr><th scope=row>5</th><td> 1</td><td> 0</td><td> 0</td><td>-2</td><td> 1</td><td> 1</td><td>-4</td><td> 9</td><td> 1</td><td>0</td></tr>\n",
       "\t<tr><th scope=row>6</th><td> 2</td><td> 1</td><td> 1</td><td>-2</td><td>-2</td><td> 0</td><td> 4</td><td> 5</td><td> 1</td><td>4</td></tr>\n",
       "</tbody>\n",
       "</table>\n"
      ],
      "text/latex": [
       "A data.frame: 6 × 10\n",
       "\\begin{tabular}{r|llllllllll}\n",
       "  & A & B & C & D & E & F & AB & ABC & DE & DEF\\\\\n",
       "  & <int> & <int> & <int> & <int> & <int> & <int> & <int> & <int> & <int> & <int>\\\\\n",
       "\\hline\n",
       "\t1 & -1 &  0 &  0 &  1 & -2 &  0 &  1 & -4 & -1 & 8\\\\\n",
       "\t2 &  1 & -1 &  0 & -1 &  1 & -2 &  6 &  3 &  5 & 0\\\\\n",
       "\t3 &  1 & -1 & -2 & -2 & -1 &  2 &  1 &  3 &  0 & 6\\\\\n",
       "\t4 &  0 &  1 &  1 &  0 &  0 &  1 &  4 &  9 & -2 & 2\\\\\n",
       "\t5 &  1 &  0 &  0 & -2 &  1 &  1 & -4 &  9 &  1 & 0\\\\\n",
       "\t6 &  2 &  1 &  1 & -2 & -2 &  0 &  4 &  5 &  1 & 4\\\\\n",
       "\\end{tabular}\n"
      ],
      "text/markdown": [
       "\n",
       "A data.frame: 6 × 10\n",
       "\n",
       "| <!--/--> | A &lt;int&gt; | B &lt;int&gt; | C &lt;int&gt; | D &lt;int&gt; | E &lt;int&gt; | F &lt;int&gt; | AB &lt;int&gt; | ABC &lt;int&gt; | DE &lt;int&gt; | DEF &lt;int&gt; |\n",
       "|---|---|---|---|---|---|---|---|---|---|---|\n",
       "| 1 | -1 |  0 |  0 |  1 | -2 |  0 |  1 | -4 | -1 | 8 |\n",
       "| 2 |  1 | -1 |  0 | -1 |  1 | -2 |  6 |  3 |  5 | 0 |\n",
       "| 3 |  1 | -1 | -2 | -2 | -1 |  2 |  1 |  3 |  0 | 6 |\n",
       "| 4 |  0 |  1 |  1 |  0 |  0 |  1 |  4 |  9 | -2 | 2 |\n",
       "| 5 |  1 |  0 |  0 | -2 |  1 |  1 | -4 |  9 |  1 | 0 |\n",
       "| 6 |  2 |  1 |  1 | -2 | -2 |  0 |  4 |  5 |  1 | 4 |\n",
       "\n"
      ],
      "text/plain": [
       "  A  B  C  D  E  F  AB ABC DE DEF\n",
       "1 -1  0  0  1 -2  0  1 -4  -1 8  \n",
       "2  1 -1  0 -1  1 -2  6  3   5 0  \n",
       "3  1 -1 -2 -2 -1  2  1  3   0 6  \n",
       "4  0  1  1  0  0  1  4  9  -2 2  \n",
       "5  1  0  0 -2  1  1 -4  9   1 0  \n",
       "6  2  1  1 -2 -2  0  4  5   1 4  "
      ]
     },
     "metadata": {},
     "output_type": "display_data"
    }
   ],
   "source": [
    "head(df)"
   ]
  },
  {
   "cell_type": "code",
   "execution_count": 31,
   "metadata": {},
   "outputs": [],
   "source": [
    "dff$gg <- diff(gg)"
   ]
  },
  {
   "cell_type": "code",
   "execution_count": 32,
   "metadata": {},
   "outputs": [
    {
     "data": {
      "text/html": [
       "<table class=\"dataframe\">\n",
       "<caption>A data.frame: 4 × 2</caption>\n",
       "<thead>\n",
       "\t<tr><th scope=col>haha</th><th scope=col>gg</th></tr>\n",
       "\t<tr><th scope=col>&lt;dbl&gt;</th><th scope=col>&lt;dbl&gt;</th></tr>\n",
       "</thead>\n",
       "<tbody>\n",
       "\t<tr><td>1</td><td>1</td></tr>\n",
       "\t<tr><td>1</td><td>1</td></tr>\n",
       "\t<tr><td>1</td><td>1</td></tr>\n",
       "\t<tr><td>1</td><td>1</td></tr>\n",
       "</tbody>\n",
       "</table>\n"
      ],
      "text/latex": [
       "A data.frame: 4 × 2\n",
       "\\begin{tabular}{ll}\n",
       " haha & gg\\\\\n",
       " <dbl> & <dbl>\\\\\n",
       "\\hline\n",
       "\t 1 & 1\\\\\n",
       "\t 1 & 1\\\\\n",
       "\t 1 & 1\\\\\n",
       "\t 1 & 1\\\\\n",
       "\\end{tabular}\n"
      ],
      "text/markdown": [
       "\n",
       "A data.frame: 4 × 2\n",
       "\n",
       "| haha &lt;dbl&gt; | gg &lt;dbl&gt; |\n",
       "|---|---|\n",
       "| 1 | 1 |\n",
       "| 1 | 1 |\n",
       "| 1 | 1 |\n",
       "| 1 | 1 |\n",
       "\n"
      ],
      "text/plain": [
       "  haha gg\n",
       "1 1    1 \n",
       "2 1    1 \n",
       "3 1    1 \n",
       "4 1    1 "
      ]
     },
     "metadata": {},
     "output_type": "display_data"
    }
   ],
   "source": [
    "dff"
   ]
  },
  {
   "cell_type": "code",
   "execution_count": 224,
   "metadata": {},
   "outputs": [],
   "source": [
    "data <- read.csv(\"/Users/suhong/Desktop/UROP_Data/UROP/Synthetic/data/simu_data001.csv\")\n",
    "#data <- read.csv(\"/Users/suhong/Downloads/simu_datawq.csv\")"
   ]
  },
  {
   "cell_type": "code",
   "execution_count": 60,
   "metadata": {},
   "outputs": [],
   "source": [
    "process_df <- function(data){\n",
    "    A <- data$X..A...\n",
    "    B <- data$X..B...\n",
    "    C <- data$X..C...\n",
    "    D <- data$X..D...\n",
    "    E <- data$X..E...\n",
    "    F <- data$X..F...\n",
    "    AB <- data$X..A....B..\n",
    "    ABC <- data$X..A....B....C..\n",
    "    DE <- data$X..D....E..\n",
    "    DEF <- data$X..D....E....F..\n",
    "    A <- diff(A)\n",
    "    B <- diff(B)\n",
    "    C <- diff(C)\n",
    "    D <- diff(D)\n",
    "    E <- diff(E)\n",
    "    F <- diff(F)\n",
    "    AB <- diff(AB)\n",
    "    ABC <- diff(ABC)\n",
    "    DE <- diff(DE)\n",
    "    DEF <- diff(DEF)\n",
    "    df <- data.frame(A,B,C,D,E,F,AB,ABC,DE,DEF)\n",
    "    return(df)\n",
    "}"
   ]
  },
  {
   "cell_type": "code",
   "execution_count": 225,
   "metadata": {},
   "outputs": [],
   "source": [
    "df <- process_df(data)"
   ]
  },
  {
   "cell_type": "code",
   "execution_count": 245,
   "metadata": {},
   "outputs": [
    {
     "name": "stdout",
     "output_type": "stream",
     "text": [
      "[1] 1\n"
     ]
    },
    {
     "data": {
      "text/html": [
       "<table class=\"dataframe\">\n",
       "<caption>A anova: 2 × 4</caption>\n",
       "<thead>\n",
       "\t<tr><th></th><th scope=col>Res.Df</th><th scope=col>Df</th><th scope=col>F</th><th scope=col>Pr(&gt;F)</th></tr>\n",
       "\t<tr><th></th><th scope=col>&lt;dbl&gt;</th><th scope=col>&lt;dbl&gt;</th><th scope=col>&lt;dbl&gt;</th><th scope=col>&lt;dbl&gt;</th></tr>\n",
       "</thead>\n",
       "<tbody>\n",
       "\t<tr><th scope=row>1</th><td>192</td><td>NA</td><td>      NA</td><td>       NA</td></tr>\n",
       "\t<tr><th scope=row>2</th><td>194</td><td>-2</td><td>1.465842</td><td>0.2334555</td></tr>\n",
       "</tbody>\n",
       "</table>\n"
      ],
      "text/latex": [
       "A anova: 2 × 4\n",
       "\\begin{tabular}{r|llll}\n",
       "  & Res.Df & Df & F & Pr(>F)\\\\\n",
       "  & <dbl> & <dbl> & <dbl> & <dbl>\\\\\n",
       "\\hline\n",
       "\t1 & 192 & NA &       NA &        NA\\\\\n",
       "\t2 & 194 & -2 & 1.465842 & 0.2334555\\\\\n",
       "\\end{tabular}\n"
      ],
      "text/markdown": [
       "\n",
       "A anova: 2 × 4\n",
       "\n",
       "| <!--/--> | Res.Df &lt;dbl&gt; | Df &lt;dbl&gt; | F &lt;dbl&gt; | Pr(&gt;F) &lt;dbl&gt; |\n",
       "|---|---|---|---|---|\n",
       "| 1 | 192 | NA |       NA |        NA |\n",
       "| 2 | 194 | -2 | 1.465842 | 0.2334555 |\n",
       "\n"
      ],
      "text/plain": [
       "  Res.Df Df F        Pr(>F)   \n",
       "1 192    NA       NA        NA\n",
       "2 194    -2 1.465842 0.2334555"
      ]
     },
     "metadata": {},
     "output_type": "display_data"
    }
   ],
   "source": [
    "# grangertest(X,y,order = lag)\n",
    "X <- df$B\n",
    "Y <- df$A\n",
    "lag <- select_time_lags(X)\n",
    "print(lag)\n",
    "grangertest(X,Y,order=2)"
   ]
  },
  {
   "cell_type": "code",
   "execution_count": 275,
   "metadata": {},
   "outputs": [
    {
     "data": {
      "text/html": [
       "3"
      ],
      "text/latex": [
       "3"
      ],
      "text/markdown": [
       "3"
      ],
      "text/plain": [
       "[1] 3"
      ]
     },
     "metadata": {},
     "output_type": "display_data"
    },
    {
     "data": {
      "image/png": "[encoded data removed]",
      "text/plain": [
       "Plot with title “Series  z”"
      ]
     },
     "metadata": {
      "image/png": {
       "height": 420,
       "width": 420
      }
     },
     "output_type": "display_data"
    }
   ],
   "source": [
    "select_time_lags(X,thres=0.05)"
   ]
  },
  {
   "cell_type": "code",
   "execution_count": 159,
   "metadata": {},
   "outputs": [
    {
     "data": {
      "text/plain": [
       "\n",
       "Partial autocorrelations of series ‘df$B’, by lag\n",
       "\n",
       "     1      2      3      4      5      6      7      8      9     10     11 \n",
       "-0.492 -0.420 -0.280 -0.144 -0.129 -0.145 -0.032 -0.036 -0.120 -0.100 -0.154 \n",
       "    12     13     14     15     16     17     18     19     20     21     22 \n",
       "-0.100 -0.008 -0.071 -0.033 -0.016 -0.099 -0.066 -0.117 -0.015 -0.056 -0.013 "
      ]
     },
     "metadata": {},
     "output_type": "display_data"
    },
    {
     "data": {
      "image/png": "[encoded data removed]",
      "text/plain": [
       "Plot with title “Series  df$B”"
      ]
     },
     "metadata": {
      "image/png": {
       "height": 420,
       "width": 420
      }
     },
     "output_type": "display_data"
    }
   ],
   "source": [
    "pacf <- pacf(df$B)\n",
    "pacf"
   ]
  },
  {
   "cell_type": "code",
   "execution_count": 116,
   "metadata": {},
   "outputs": [
    {
     "data": {
      "text/html": [
       "0.139291134685665"
      ],
      "text/latex": [
       "0.139291134685665"
      ],
      "text/markdown": [
       "0.139291134685665"
      ],
      "text/plain": [
       "[1] 0.1392911"
      ]
     },
     "metadata": {},
     "output_type": "display_data"
    }
   ],
   "source": [
    "1.96/sqrt(198)"
   ]
  },
  {
   "cell_type": "code",
   "execution_count": 106,
   "metadata": {},
   "outputs": [
    {
     "name": "stdout",
     "output_type": "stream",
     "text": [
      "List of 6\n",
      " $ acf   : num [1:22, 1, 1] -0.509 -0.227 -0.24 -0.146 -0.148 ...\n",
      " $ type  : chr \"partial\"\n",
      " $ n.used: int 198\n",
      " $ lag   : num [1:22, 1, 1] 1 2 3 4 5 6 7 8 9 10 ...\n",
      " $ series: chr \"X\"\n",
      " $ snames: NULL\n",
      " - attr(*, \"class\")= chr \"acf\"\n"
     ]
    }
   ],
   "source": [
    "str(pacf)"
   ]
  },
  {
   "cell_type": "code",
   "execution_count": 329,
   "metadata": {},
   "outputs": [
    {
     "data": {
      "text/html": [
       "0.0337815375558225"
      ],
      "text/latex": [
       "0.0337815375558225"
      ],
      "text/markdown": [
       "0.0337815375558225"
      ],
      "text/plain": [
       "[1] 0.03378154"
      ]
     },
     "metadata": {},
     "output_type": "display_data"
    }
   ],
   "source": [
    "grangertest(X,Y,order=lag)[2,4]"
   ]
  },
  {
   "cell_type": "code",
   "execution_count": 148,
   "metadata": {},
   "outputs": [
    {
     "name": "stdout",
     "output_type": "stream",
     "text": [
      "NULL\n"
     ]
    }
   ],
   "source": [
    "correct <- 0\n",
    "AB_causes = c(2)\n",
    "ABC_causes = c(4)\n",
    "num=\"002\"\n",
    "    path <- paste(\"/Users/suhong/Desktop/UROP_Data/UROP/Synthetic/data/simu_data\",num,\".csv\",sep=\"\")\n",
    "    data <- read.csv(path)\n",
    "    \n",
    "    df <- double_process_df(data)\n",
    "    \n",
    "    #testing causes of AB\n",
    "    causes = c()\n",
    "    for (index in 1:5){\n",
    "        if (index==4) {next}\n",
    "        X <- df[,index]\n",
    "        Y <- df$AB\n",
    "        lag <- select_time_lags(X)\n",
    "        p <- grangertest(X,Y,order=lag)[2,4]\n",
    "        if (p<0.15){causes = append(causes,index)}}\n",
    "    if(length(causes)!=0){\n",
    "        cat(\"before filter\",causes,sep=\" \")\n",
    "        print(\" \")\n",
    "        if(length(causes)>1){\n",
    "            X=df[,causes]\n",
    "            causes <-causes[filter_cause(X,Y,thres=0.3)]\n",
    "        }\n",
    "        cat(\"after filter\", causes,sep=\" \")\n",
    "        print(\" \")\n",
    "    }\n",
    "    print(causes) \n",
    "    if (reasonable_cause(causes,\"AB\")) {correct <- correct+1}\n",
    "    \n",
    "    # testing causes of ABC\n",
    "    causes = c()\n",
    "    for (index in 1:5){\n",
    "        if (index==5) {next}\n",
    "        X <- df[,index]\n",
    "        Y <- df$ABC\n",
    "        lag <- select_time_lags(X)\n",
    "        p <- grangertest(X,Y,order=lag)[2,4]\n",
    "        if (p<0.15){causes = append(causes,index)\n",
    "}\n",
    "    }\n",
    "    if(length(causes)!=0){\n",
    "        cat(\"before filter\",causes,sep=\" \")\n",
    "        if(length(causes)>1){\n",
    "            X=df[,causes]\n",
    "            causes <-causes[filter_cause(X,Y,thres=0.3)]\n",
    "        }\n",
    "        cat(\"after filter\", causes,sep=\" \")\n",
    "        print(\" \")\n",
    "    }\n",
    "    if (reasonable_cause(causes,type=\"ABC\")) {correct <- correct+1}\n",
    "    "
   ]
  },
  {
   "cell_type": "code",
   "execution_count": 149,
   "metadata": {},
   "outputs": [
    {
     "data": {
      "text/html": [
       "0"
      ],
      "text/latex": [
       "0"
      ],
      "text/markdown": [
       "0"
      ],
      "text/plain": [
       "[1] 0"
      ]
     },
     "metadata": {},
     "output_type": "display_data"
    }
   ],
   "source": [
    "correct"
   ]
  },
  {
   "cell_type": "code",
   "execution_count": 14,
   "metadata": {},
   "outputs": [
    {
     "name": "stdout",
     "output_type": "stream",
     "text": [
      "[1] 5\n"
     ]
    },
    {
     "data": {
      "text/html": [
       "<style>\n",
       ".list-inline {list-style: none; margin:0; padding: 0}\n",
       ".list-inline>li {display: inline-block}\n",
       ".list-inline>li:not(:last-child)::after {content: \"\\00b7\"; padding: 0 .5ex}\n",
       "</style>\n",
       "<ol class=list-inline><li>1</li><li>3</li><li>2</li></ol>\n"
      ],
      "text/latex": [
       "\\begin{enumerate*}\n",
       "\\item 1\n",
       "\\item 3\n",
       "\\item 2\n",
       "\\end{enumerate*}\n"
      ],
      "text/markdown": [
       "1. 1\n",
       "2. 3\n",
       "3. 2\n",
       "\n",
       "\n"
      ],
      "text/plain": [
       "[1] 1 3 2"
      ]
     },
     "metadata": {},
     "output_type": "display_data"
    }
   ],
   "source": [
    "# grangertest(X,y,order = lag)\n",
    "X <- data.frame(df$A,df$B,df$ABC)\n",
    "Y <- df$AB\n",
    "lag <- select_time_lags(X,thres=0.02)\n",
    "print(lag)\n",
    "filter_cause(X,Y)"
   ]
  },
  {
   "cell_type": "code",
   "execution_count": 153,
   "metadata": {},
   "outputs": [
    {
     "name": "stdout",
     "output_type": "stream",
     "text": [
      "NULL\n"
     ]
    }
   ],
   "source": [
    "#testing causes of AB\n",
    "    causes = c()\n",
    "    for (index in 1:5){\n",
    "        if (index==4) {next}\n",
    "        X <- df[,index]\n",
    "        Y <- df$AB\n",
    "        lag <- select_time_lags(X)\n",
    "        p <- grangertest(X,Y,order=lag)[2,4]\n",
    "        if (p<0.15){causes = append(causes,index)}}\n",
    "print(c())\n",
    "#     if(length(causes)!=0){\n",
    "#         cat(\"before filter\",causes,sep=\" \")\n",
    "#         print(\" \")\n",
    "#         if(length(causes)>1){\n",
    "#             X=df[,causes]\n",
    "#             causes <-causes[filter_cause(X,Y,thres=0.3)]\n",
    "#         }\n",
    "#         cat(\"after filter\", causes,sep=\" \")\n",
    "#         print(\" \")\n",
    "#     }\n",
    "#     print(causes) \n",
    "#     if (reasonable_cause(causes,\"AB\")) {correct <- correct+1}\n",
    "    "
   ]
  },
  {
   "cell_type": "code",
   "execution_count": 121,
   "metadata": {
    "scrolled": false
   },
   "outputs": [
    {
     "data": {
      "text/plain": [
       "\n",
       "Partial autocorrelations of series ‘df$A’, by lag\n",
       "\n",
       "     1      2      3      4      5      6      7      8      9     10     11 \n",
       "-0.509 -0.227 -0.240 -0.146 -0.148 -0.095 -0.061 -0.192 -0.036 -0.136 -0.012 \n",
       "    12     13     14     15     16     17     18     19     20     21     22 \n",
       " 0.038 -0.066 -0.144 -0.017 -0.070  0.020 -0.035 -0.071 -0.105 -0.099 -0.109 "
      ]
     },
     "metadata": {},
     "output_type": "display_data"
    },
    {
     "data": {
      "image/png": "[encoded data removed]",
      "text/plain": [
       "Plot with title “Series  df$A”"
      ]
     },
     "metadata": {
      "image/png": {
       "height": 420,
       "width": 420
      }
     },
     "output_type": "display_data"
    }
   ],
   "source": [
    "pacf <- pacf(df$A)\n",
    "pacf"
   ]
  },
  {
   "cell_type": "code",
   "execution_count": 80,
   "metadata": {},
   "outputs": [
    {
     "name": "stdout",
     "output_type": "stream",
     "text": [
      "[1] 1\n"
     ]
    },
    {
     "ename": "ERROR",
     "evalue": "Error in waldtest.lm(fm, 2, ...): there are aliased coefficients in the model\n",
     "output_type": "error",
     "traceback": [
      "Error in waldtest.lm(fm, 2, ...): there are aliased coefficients in the model\nTraceback:\n",
      "1. grangertest(X, Y, order = lag)",
      "2. grangertest.default(X, Y, order = lag)",
      "3. waldtest(fm, 2, ...)",
      "4. waldtest.lm(fm, 2, ...)",
      "5. stop(\"there are aliased coefficients in the model\")"
     ]
    }
   ],
   "source": [
    "# testing causes of ABC\n",
    "    causes = c()\n",
    "    for (index in 1:5){\n",
    "        print(index)\n",
    "        if (index==5) {next}\n",
    "        X <- df[,index]\n",
    "        Y <- df$ABC\n",
    "        lag <- select_time_lags(X,thres=0.1)\n",
    "        p <- grangertest(X,Y,order=lag)[2,4]\n",
    "        if (p<0.15){causes = append(causes,index)\n",
    "}\n",
    "    }\n",
    "print(causes)\n",
    "    if(length(causes)!=0){\n",
    "        cat(\"before filter\",causes,sep=\" \")\n",
    "        if(length(causes)>1){\n",
    "            X=df[,causes]\n",
    "            causes <-causes[filter_cause(X,Y,thres=0.3)]\n",
    "        }\n",
    "        cat(\"after filter\", causes,sep=\" \")\n",
    "        print(\" \")\n",
    "    }\n",
    "    if (reasonable_cause(causes,type=\"ABC\")) {correct <- correct+1}\n",
    "    "
   ]
  },
  {
   "cell_type": "code",
   "execution_count": 47,
   "metadata": {},
   "outputs": [],
   "source": [
    "reasonable_cause <- function(causes,type){\n",
    "    if (length(causes)==0){return(FALSE)}\n",
    "    \n",
    "    if(type == \"AB\"){\n",
    "        if(all(causes %in% c(1,2))){return(TRUE)}\n",
    "    }\n",
    "    \n",
    "    if(type==\"ABC\"){\n",
    "        if(all(causes %in% c(1,2,3,4))){return(TRUE)}\n",
    "    }\n",
    "    return(FALSE)\n",
    "}"
   ]
  },
  {
   "cell_type": "code",
   "execution_count": 71,
   "metadata": {},
   "outputs": [
    {
     "ename": "ERROR",
     "evalue": "Error in waldtest.lm(fm, 2, ...): there are aliased coefficients in the model\n",
     "output_type": "error",
     "traceback": [
      "Error in waldtest.lm(fm, 2, ...): there are aliased coefficients in the model\nTraceback:\n",
      "1. grangertest(df$AB, df$ABC, order = lag)",
      "2. grangertest.default(df$AB, df$ABC, order = lag)",
      "3. waldtest(fm, 2, ...)",
      "4. waldtest.lm(fm, 2, ...)",
      "5. stop(\"there are aliased coefficients in the model\")"
     ]
    }
   ],
   "source": [
    "p <- grangertest(df$AB,df$ABC,order=lag)[2,4]"
   ]
  },
  {
   "cell_type": "code",
   "execution_count": 73,
   "metadata": {},
   "outputs": [
    {
     "data": {
      "text/html": [
       "0.417771799826187"
      ],
      "text/latex": [
       "0.417771799826187"
      ],
      "text/markdown": [
       "0.417771799826187"
      ],
      "text/plain": [
       "[1] 0.4177718"
      ]
     },
     "metadata": {},
     "output_type": "display_data"
    }
   ],
   "source": [
    "cor(df$AB,df$ABC)"
   ]
  },
  {
   "cell_type": "code",
   "execution_count": 85,
   "metadata": {},
   "outputs": [
    {
     "data": {
      "text/html": [
       "6"
      ],
      "text/latex": [
       "6"
      ],
      "text/markdown": [
       "6"
      ],
      "text/plain": [
       "[1] 6"
      ]
     },
     "metadata": {},
     "output_type": "display_data"
    }
   ],
   "source": [
    "select_time_lags(df$A)"
   ]
  },
  {
   "cell_type": "code",
   "execution_count": 88,
   "metadata": {},
   "outputs": [
    {
     "name": "stdout",
     "output_type": "stream",
     "text": [
      "[1] -1\n"
     ]
    }
   ],
   "source": [
    "X <- df[,1]\n",
    "        Y <- df$ABC\n",
    "        lag <- select_time_lags(X,thres=0.1)\n",
    "print(lag)\n",
    "        p <- grangertest(X,Y,order=6)[2,4]\n",
    "        if (p<0.15){causes = append(causes,index)\n",
    "}"
   ]
  },
  {
   "cell_type": "code",
   "execution_count": 225,
   "metadata": {},
   "outputs": [
    {
     "ename": "ERROR",
     "evalue": "Error in h(simpleError(msg, call)): error in evaluating the argument 'object' in selecting a method for function 'summary': the condition has length > 1\n",
     "output_type": "error",
     "traceback": [
      "Error in h(simpleError(msg, call)): error in evaluating the argument 'object' in selecting a method for function 'summary': the condition has length > 1\nTraceback:\n",
      "1. summary(lm(Y ~ lag(X, k = 1:4)))",
      "2. lm(Y ~ lag(X, k = 1:4))",
      "3. eval(mf, parent.frame())",
      "4. eval(mf, parent.frame())",
      "5. stats::model.frame(formula = Y ~ lag(X, k = 1:4), drop.unused.levels = TRUE)",
      "6. model.frame.default(formula = Y ~ lag(X, k = 1:4), drop.unused.levels = TRUE)",
      "7. eval(predvars, data, env)",
      "8. eval(predvars, data, env)",
      "9. lag(X, k = 1:4)",
      "10. lag.default(X, k = 1:4)",
      "11. .handleSimpleError(function (cond) \n  . .Internal(C_tryCatchHelper(addr, 1L, cond)), \"the condition has length > 1\", \n  .     base::quote(if (k != round(k)) {\n  .         k <- round(k)\n  .         warning(\"'k' is not an integer\")\n  .     }))",
      "12. h(simpleError(msg, call))"
     ]
    }
   ],
   "source": [
    "summary(lm(Y ~ lag(X, k=1:4)))"
   ]
  },
  {
   "cell_type": "code",
   "execution_count": 227,
   "metadata": {},
   "outputs": [],
   "source": [
    "Stock.Close <- c(102.12,102.62,100.12,103.00,103.87,103.12,105.12)\n",
    "Close.Dates <- as.Date(c(10660,10661,10662,10665,10666,10667,10668),origin=\"1970-01-01\")\n",
    "Stock.Close <- zoo(Stock.Close,Close.Dates)"
   ]
  },
  {
   "cell_type": "code",
   "execution_count": 231,
   "metadata": {},
   "outputs": [
    {
     "ename": "ERROR",
     "evalue": "Error in parse(text = x, srcfile = src): <text>:1:16: unexpected input\n1: lag(Stock.Close，\n                   ^\n",
     "output_type": "error",
     "traceback": [
      "Error in parse(text = x, srcfile = src): <text>:1:16: unexpected input\n1: lag(Stock.Close，\n                   ^\nTraceback:\n"
     ]
    }
   ],
   "source": [
    "lag(Stock.Close，k=1:3)"
   ]
  },
  {
   "cell_type": "code",
   "execution_count": 259,
   "metadata": {},
   "outputs": [
    {
     "data": {
      "text/html": [
       "<table class=\"dataframe\">\n",
       "<caption>A matrix: 6 × 2 of type int</caption>\n",
       "<thead>\n",
       "\t<tr><th scope=col>chicken</th><th scope=col>egg</th></tr>\n",
       "</thead>\n",
       "<tbody>\n",
       "\t<tr><td>468491</td><td>3581</td></tr>\n",
       "\t<tr><td>449743</td><td>3532</td></tr>\n",
       "\t<tr><td>436815</td><td>3327</td></tr>\n",
       "\t<tr><td>444523</td><td>3255</td></tr>\n",
       "\t<tr><td>433937</td><td>3156</td></tr>\n",
       "\t<tr><td>389958</td><td>3081</td></tr>\n",
       "</tbody>\n",
       "</table>\n"
      ],
      "text/latex": [
       "A matrix: 6 × 2 of type int\n",
       "\\begin{tabular}{ll}\n",
       " chicken & egg\\\\\n",
       "\\hline\n",
       "\t 468491 & 3581\\\\\n",
       "\t 449743 & 3532\\\\\n",
       "\t 436815 & 3327\\\\\n",
       "\t 444523 & 3255\\\\\n",
       "\t 433937 & 3156\\\\\n",
       "\t 389958 & 3081\\\\\n",
       "\\end{tabular}\n"
      ],
      "text/markdown": [
       "\n",
       "A matrix: 6 × 2 of type int\n",
       "\n",
       "| chicken | egg |\n",
       "|---|---|\n",
       "| 468491 | 3581 |\n",
       "| 449743 | 3532 |\n",
       "| 436815 | 3327 |\n",
       "| 444523 | 3255 |\n",
       "| 433937 | 3156 |\n",
       "| 389958 | 3081 |\n",
       "\n"
      ],
      "text/plain": [
       "     chicken egg \n",
       "[1,] 468491  3581\n",
       "[2,] 449743  3532\n",
       "[3,] 436815  3327\n",
       "[4,] 444523  3255\n",
       "[5,] 433937  3156\n",
       "[6,] 389958  3081"
      ]
     },
     "metadata": {},
     "output_type": "display_data"
    }
   ],
   "source": [
    "dd <- data(ChickEgg)\n",
    "head(ChickEgg)"
   ]
  },
  {
   "cell_type": "code",
   "execution_count": 238,
   "metadata": {},
   "outputs": [
    {
     "data": {
      "text/html": [
       "<table class=\"dataframe\">\n",
       "<caption>A anova: 2 × 4</caption>\n",
       "<thead>\n",
       "\t<tr><th></th><th scope=col>Res.Df</th><th scope=col>Df</th><th scope=col>F</th><th scope=col>Pr(&gt;F)</th></tr>\n",
       "\t<tr><th></th><th scope=col>&lt;dbl&gt;</th><th scope=col>&lt;dbl&gt;</th><th scope=col>&lt;dbl&gt;</th><th scope=col>&lt;dbl&gt;</th></tr>\n",
       "</thead>\n",
       "<tbody>\n",
       "\t<tr><th scope=row>1</th><td>47</td><td>NA</td><td>      NA</td><td>         NA</td></tr>\n",
       "\t<tr><th scope=row>2</th><td>44</td><td> 3</td><td>5.404984</td><td>0.002966397</td></tr>\n",
       "</tbody>\n",
       "</table>\n"
      ],
      "text/latex": [
       "A anova: 2 × 4\n",
       "\\begin{tabular}{r|llll}\n",
       "  & Res.Df & Df & F & Pr(>F)\\\\\n",
       "  & <dbl> & <dbl> & <dbl> & <dbl>\\\\\n",
       "\\hline\n",
       "\t1 & 47 & NA &       NA &          NA\\\\\n",
       "\t2 & 44 &  3 & 5.404984 & 0.002966397\\\\\n",
       "\\end{tabular}\n"
      ],
      "text/markdown": [
       "\n",
       "A anova: 2 × 4\n",
       "\n",
       "| <!--/--> | Res.Df &lt;dbl&gt; | Df &lt;dbl&gt; | F &lt;dbl&gt; | Pr(&gt;F) &lt;dbl&gt; |\n",
       "|---|---|---|---|---|\n",
       "| 1 | 47 | NA |       NA |          NA |\n",
       "| 2 | 44 |  3 | 5.404984 | 0.002966397 |\n",
       "\n"
      ],
      "text/plain": [
       "  Res.Df Df F        Pr(>F)     \n",
       "1 47     NA       NA          NA\n",
       "2 44      3 5.404984 0.002966397"
      ]
     },
     "metadata": {},
     "output_type": "display_data"
    }
   ],
   "source": [
    "if(require(dynlm)) {\n",
    "  ## chickens granger-cause eggs?\n",
    "  em <- dynlm(egg ~ L(egg, 1) + L(egg, 2) + L(egg, 3), data = ChickEgg)\n",
    "  em2 <- update(em, . ~ . + L(chicken, 1) + L(chicken, 2) + L(chicken, 3))\n",
    "  waldtest(em, em2)\n",
    "\n",
    "  ## eggs granger-cause chickens?\n",
    "  cm <- dynlm(chicken ~ L(chicken, 1) + L(chicken, 2) + L(chicken, 3), data = ChickEgg)\n",
    "  cm2 <- update(cm, . ~ . + L(egg, 1) + L(egg, 2) + L(egg, 3))\n",
    "  waldtest(cm, cm2)\n",
    "}"
   ]
  },
  {
   "cell_type": "code",
   "execution_count": 359,
   "metadata": {},
   "outputs": [
    {
     "data": {
      "text/plain": [
       "\n",
       "Time series regression with \"ts\" data:\n",
       "Start = 1933, End = 1983\n",
       "\n",
       "Call:\n",
       "dynlm(formula = chicken ~ L(chicken, 1) + L(chicken, 2) + L(chicken, \n",
       "    3) + L(egg, 1:3), data = ChickEgg)\n",
       "\n",
       "Residuals:\n",
       "   Min     1Q Median     3Q    Max \n",
       "-52855 -10789  -1601  10393  49500 \n",
       "\n",
       "Coefficients:\n",
       "                Estimate Std. Error t value Pr(>|t|)   \n",
       "(Intercept)    1.335e+05  4.107e+04   3.251  0.00221 **\n",
       "L(chicken, 1)  2.920e-01  1.843e-01   1.585  0.12019   \n",
       "L(chicken, 2)  4.453e-01  1.855e-01   2.400  0.02069 * \n",
       "L(chicken, 3)  4.069e-03  1.741e-01   0.023  0.98146   \n",
       "L(egg, 1:3)1   7.657e+01  2.528e+01   3.029  0.00409 **\n",
       "L(egg, 1:3)2  -4.708e+01  3.939e+01  -1.195  0.23838   \n",
       "L(egg, 1:3)3  -3.593e+01  2.854e+01  -1.259  0.21463   \n",
       "---\n",
       "Signif. codes:  0 ‘***’ 0.001 ‘**’ 0.01 ‘*’ 0.05 ‘.’ 0.1 ‘ ’ 1\n",
       "\n",
       "Residual standard error: 21880 on 44 degrees of freedom\n",
       "Multiple R-squared:  0.8091,\tAdjusted R-squared:  0.7831 \n",
       "F-statistic: 31.08 on 6 and 44 DF,  p-value: 2.772e-14\n"
      ]
     },
     "metadata": {},
     "output_type": "display_data"
    }
   ],
   "source": [
    "summary(dynlm(chicken ~ L(chicken, 1) + L(chicken, 2) + L(chicken, 3)+L(egg,1:3), data = ChickEgg))"
   ]
  },
  {
   "cell_type": "code",
   "execution_count": 249,
   "metadata": {},
   "outputs": [
    {
     "data": {
      "text/html": [
       "0.722097700535743"
      ],
      "text/latex": [
       "0.722097700535743"
      ],
      "text/markdown": [
       "0.722097700535743"
      ],
      "text/plain": [
       "[1] 0.7220977"
      ]
     },
     "metadata": {},
     "output_type": "display_data"
    }
   ],
   "source": [
    "fit <- summary(dynlm(chicken ~ L(chicken, 1) + L(chicken, 2) + L(chicken, 3), data = ChickEgg))\n",
    "fit$adj.r.squared"
   ]
  },
  {
   "cell_type": "code",
   "execution_count": 287,
   "metadata": {},
   "outputs": [
    {
     "data": {
      "text/plain": [
       "\n",
       "Time series regression with \"ts\" data:\n",
       "Start = 2, End = 199\n",
       "\n",
       "Call:\n",
       "dynlm(formula = X ~ L(Y, 1:i))\n",
       "\n",
       "Residuals:\n",
       "    Min      1Q  Median      3Q     Max \n",
       "-4.8208 -1.1590  0.0101  1.0947  5.0101 \n",
       "\n",
       "Coefficients:\n",
       "            Estimate Std. Error t value Pr(>|t|)\n",
       "(Intercept) -0.01010    0.13317  -0.076    0.940\n",
       "L(Y, 1:i)   -0.08456    0.05681  -1.488    0.138\n",
       "\n",
       "Residual standard error: 1.874 on 196 degrees of freedom\n",
       "Multiple R-squared:  0.01118,\tAdjusted R-squared:  0.006133 \n",
       "F-statistic: 2.216 on 1 and 196 DF,  p-value: 0.1382\n"
      ]
     },
     "metadata": {},
     "output_type": "display_data"
    }
   ],
   "source": [
    "i=1\n",
    "d <- data.frame(X,Y)\n",
    "summary(dynlm(X ~ L(Y, 1:i) ))\n",
    "#head(d)"
   ]
  },
  {
   "cell_type": "code",
   "execution_count": 278,
   "metadata": {},
   "outputs": [],
   "source": [
    "X <- ts(X)\n",
    "Y <- ts(Y)"
   ]
  },
  {
   "cell_type": "code",
   "execution_count": 356,
   "metadata": {},
   "outputs": [],
   "source": [
    "time_lag <- function(X,y){\n",
    "    X <- ts(X)\n",
    "    y <- ts(y)\n",
    "    best_lag <- -1\n",
    "    best_AIC <- 10e6\n",
    "    for(i in 1:20){\n",
    "        fit <- dynlm(X~L(X,1:i))\n",
    "        aic <- BIC(fit)\n",
    "        print(aic)\n",
    "        if(aic<best_AIC){\n",
    "            best_lag <- i\n",
    "            best_AIC <- aic\n",
    "        }\n",
    "    }\n",
    "    return (best_lag)\n",
    "}"
   ]
  },
  {
   "cell_type": "code",
   "execution_count": 371,
   "metadata": {},
   "outputs": [],
   "source": [
    "data <- read.csv(\"/Users/suhong/Desktop/UROP_Data/UROP/Synthetic/data/simu_data002.csv\")\n",
    "df <- double_process_df(data)\n",
    "X <- df$A\n",
    "Y <- df$AB\n",
    "#time_lag(X,Y)"
   ]
  },
  {
   "cell_type": "code",
   "execution_count": 372,
   "metadata": {},
   "outputs": [
    {
     "data": {
      "text/html": [
       "4"
      ],
      "text/latex": [
       "4"
      ],
      "text/markdown": [
       "4"
      ],
      "text/plain": [
       "[1] 4"
      ]
     },
     "metadata": {},
     "output_type": "display_data"
    }
   ],
   "source": [
    "select_time_lags(X)"
   ]
  },
  {
   "cell_type": "code",
   "execution_count": 373,
   "metadata": {},
   "outputs": [
    {
     "data": {
      "text/html": [
       "<table class=\"dataframe\">\n",
       "<caption>A anova: 2 × 4</caption>\n",
       "<thead>\n",
       "\t<tr><th></th><th scope=col>Res.Df</th><th scope=col>Df</th><th scope=col>F</th><th scope=col>Pr(&gt;F)</th></tr>\n",
       "\t<tr><th></th><th scope=col>&lt;dbl&gt;</th><th scope=col>&lt;dbl&gt;</th><th scope=col>&lt;dbl&gt;</th><th scope=col>&lt;dbl&gt;</th></tr>\n",
       "</thead>\n",
       "<tbody>\n",
       "\t<tr><th scope=row>1</th><td>185</td><td>NA</td><td>      NA</td><td>       NA</td></tr>\n",
       "\t<tr><th scope=row>2</th><td>189</td><td>-4</td><td>1.582689</td><td>0.1806703</td></tr>\n",
       "</tbody>\n",
       "</table>\n"
      ],
      "text/latex": [
       "A anova: 2 × 4\n",
       "\\begin{tabular}{r|llll}\n",
       "  & Res.Df & Df & F & Pr(>F)\\\\\n",
       "  & <dbl> & <dbl> & <dbl> & <dbl>\\\\\n",
       "\\hline\n",
       "\t1 & 185 & NA &       NA &        NA\\\\\n",
       "\t2 & 189 & -4 & 1.582689 & 0.1806703\\\\\n",
       "\\end{tabular}\n"
      ],
      "text/markdown": [
       "\n",
       "A anova: 2 × 4\n",
       "\n",
       "| <!--/--> | Res.Df &lt;dbl&gt; | Df &lt;dbl&gt; | F &lt;dbl&gt; | Pr(&gt;F) &lt;dbl&gt; |\n",
       "|---|---|---|---|---|\n",
       "| 1 | 185 | NA |       NA |        NA |\n",
       "| 2 | 189 | -4 | 1.582689 | 0.1806703 |\n",
       "\n"
      ],
      "text/plain": [
       "  Res.Df Df F        Pr(>F)   \n",
       "1 185    NA       NA        NA\n",
       "2 189    -4 1.582689 0.1806703"
      ]
     },
     "metadata": {},
     "output_type": "display_data"
    }
   ],
   "source": [
    "grangertest(X,Y,order=4)"
   ]
  },
  {
   "cell_type": "code",
   "execution_count": 326,
   "metadata": {},
   "outputs": [
    {
     "data": {
      "text/plain": [
       "\n",
       "Time series regression with \"ts\" data:\n",
       "Start = 11, End = 198\n",
       "\n",
       "Call:\n",
       "dynlm(formula = Y ~ L(Y, 1:i) + L(X, 1:i))\n",
       "\n",
       "Residuals:\n",
       "    Min      1Q  Median      3Q     Max \n",
       "-20.258  -5.913  -0.147   5.081  21.882 \n",
       "\n",
       "Coefficients:\n",
       "            Estimate Std. Error t value Pr(>|t|)    \n",
       "(Intercept)  0.03623    0.62922   0.058 0.954159    \n",
       "L(Y, 1:i)1  -0.86447    0.07956 -10.865  < 2e-16 ***\n",
       "L(Y, 1:i)2  -0.84553    0.10087  -8.382 2.06e-14 ***\n",
       "L(Y, 1:i)3  -0.74017    0.11506  -6.433 1.27e-09 ***\n",
       "L(Y, 1:i)4  -0.73031    0.12280  -5.947 1.55e-08 ***\n",
       "L(Y, 1:i)5  -0.57475    0.12678  -4.533 1.10e-05 ***\n",
       "L(Y, 1:i)6  -0.59876    0.12577  -4.761 4.16e-06 ***\n",
       "L(Y, 1:i)7  -0.52587    0.12202  -4.310 2.78e-05 ***\n",
       "L(Y, 1:i)8  -0.45836    0.11369  -4.032 8.40e-05 ***\n",
       "L(Y, 1:i)9  -0.33559    0.09933  -3.379 0.000907 ***\n",
       "L(Y, 1:i)10 -0.15951    0.07690  -2.074 0.039594 *  \n",
       "L(X, 1:i)1   0.51689    0.24513   2.109 0.036465 *  \n",
       "L(X, 1:i)2   0.17583    0.30199   0.582 0.561195    \n",
       "L(X, 1:i)3   0.22397    0.32118   0.697 0.486558    \n",
       "L(X, 1:i)4   0.22377    0.33425   0.669 0.504116    \n",
       "L(X, 1:i)5  -0.51186    0.34453  -1.486 0.139249    \n",
       "L(X, 1:i)6  -0.21521    0.34541  -0.623 0.534102    \n",
       "L(X, 1:i)7  -0.07818    0.33799  -0.231 0.817349    \n",
       "L(X, 1:i)8   0.15255    0.32252   0.473 0.636834    \n",
       "L(X, 1:i)9  -0.14042    0.30680  -0.458 0.647769    \n",
       "L(X, 1:i)10  0.04536    0.25855   0.175 0.860936    \n",
       "---\n",
       "Signif. codes:  0 ‘***’ 0.001 ‘**’ 0.01 ‘*’ 0.05 ‘.’ 0.1 ‘ ’ 1\n",
       "\n",
       "Residual standard error: 8.623 on 167 degrees of freedom\n",
       "Multiple R-squared:  0.4892,\tAdjusted R-squared:  0.428 \n",
       "F-statistic: 7.997 on 20 and 167 DF,  p-value: 7.17e-16\n"
      ]
     },
     "metadata": {},
     "output_type": "display_data"
    }
   ],
   "source": [
    "X <- ts(X)\n",
    "Y <- ts(Y)\n",
    "i=10\n",
    "sfit <- dynlm(Y~L(Y,1:i)+L(X,1:i))\n",
    "summary(sfit)"
   ]
  },
  {
   "cell_type": "code",
   "execution_count": 323,
   "metadata": {},
   "outputs": [
    {
     "data": {
      "text/html": [
       "<style>\n",
       ".list-inline {list-style: none; margin:0; padding: 0}\n",
       ".list-inline>li {display: inline-block}\n",
       ".list-inline>li:not(:last-child)::after {content: \"\\00b7\"; padding: 0 .5ex}\n",
       "</style>\n",
       "<ol class=list-inline><li>'call'</li><li>'terms'</li><li>'residuals'</li><li>'coefficients'</li><li>'aliased'</li><li>'sigma'</li><li>'df'</li><li>'r.squared'</li><li>'adj.r.squared'</li><li>'fstatistic'</li><li>'cov.unscaled'</li><li>'frequency'</li></ol>\n"
      ],
      "text/latex": [
       "\\begin{enumerate*}\n",
       "\\item 'call'\n",
       "\\item 'terms'\n",
       "\\item 'residuals'\n",
       "\\item 'coefficients'\n",
       "\\item 'aliased'\n",
       "\\item 'sigma'\n",
       "\\item 'df'\n",
       "\\item 'r.squared'\n",
       "\\item 'adj.r.squared'\n",
       "\\item 'fstatistic'\n",
       "\\item 'cov.unscaled'\n",
       "\\item 'frequency'\n",
       "\\end{enumerate*}\n"
      ],
      "text/markdown": [
       "1. 'call'\n",
       "2. 'terms'\n",
       "3. 'residuals'\n",
       "4. 'coefficients'\n",
       "5. 'aliased'\n",
       "6. 'sigma'\n",
       "7. 'df'\n",
       "8. 'r.squared'\n",
       "9. 'adj.r.squared'\n",
       "10. 'fstatistic'\n",
       "11. 'cov.unscaled'\n",
       "12. 'frequency'\n",
       "\n",
       "\n"
      ],
      "text/plain": [
       " [1] \"call\"          \"terms\"         \"residuals\"     \"coefficients\" \n",
       " [5] \"aliased\"       \"sigma\"         \"df\"            \"r.squared\"    \n",
       " [9] \"adj.r.squared\" \"fstatistic\"    \"cov.unscaled\"  \"frequency\"    "
      ]
     },
     "metadata": {},
     "output_type": "display_data"
    }
   ],
   "source": [
    "names(summary(dynlm(Y~L(Y,1:i)+L(X,1:i))))"
   ]
  },
  {
   "cell_type": "code",
   "execution_count": 324,
   "metadata": {},
   "outputs": [
    {
     "data": {
      "text/html": [
       "A Time Series:<br><style>\n",
       ".dl-inline {width: auto; margin:0; padding: 0}\n",
       ".dl-inline>dt, .dl-inline>dd {float: none; width: auto; display: inline-block}\n",
       ".dl-inline>dt::after {content: \":\\0020\"; padding-right: .5ex}\n",
       ".dl-inline>dt:not(:first-of-type) {padding-left: .5ex}\n",
       "</style><dl class=dl-inline><dt>11</dt><dd>10.0838551818217</dd><dt>12</dt><dd>-6.16183380142117</dd><dt>13</dt><dd>-6.3851154106865</dd><dt>14</dt><dd>2.77838107815117</dd><dt>15</dt><dd>13.962590725533</dd><dt>16</dt><dd>-2.52448205641361</dd><dt>17</dt><dd>-8.5763731621446</dd><dt>18</dt><dd>13.8036218126829</dd><dt>19</dt><dd>-4.8952638127037</dd><dt>20</dt><dd>2.23648764966519</dd><dt>21</dt><dd>-5.00322821033594</dd><dt>22</dt><dd>4.12791818360858</dd><dt>23</dt><dd>-5.94534299621375</dd><dt>24</dt><dd>2.79307534315707</dd><dt>25</dt><dd>-11.7391484205148</dd><dt>26</dt><dd>0.942625563405804</dd><dt>27</dt><dd>-0.133718473022135</dd><dt>28</dt><dd>-1.84503873776681</dd><dt>29</dt><dd>1.42892686770072</dd><dt>30</dt><dd>-12.3190622952874</dd><dt>31</dt><dd>-6.65804992207256</dd><dt>32</dt><dd>9.01342105587399</dd><dt>33</dt><dd>1.36778155139529</dd><dt>34</dt><dd>6.82788127187141</dd><dt>35</dt><dd>2.22539388586687</dd><dt>36</dt><dd>-1.53297883784583</dd><dt>37</dt><dd>1.75196702933077</dd><dt>38</dt><dd>-1.011577836684</dd><dt>39</dt><dd>-4.81931135756843</dd><dt>40</dt><dd>10.5796925138824</dd><dt>41</dt><dd>-3.28874450390213</dd><dt>42</dt><dd>12.3280842436863</dd><dt>43</dt><dd>-10.8548125229212</dd><dt>44</dt><dd>9.96327026830694</dd><dt>45</dt><dd>-6.99329985599665</dd><dt>46</dt><dd>20.9309867408056</dd><dt>47</dt><dd>-1.11506913078065</dd><dt>48</dt><dd>-11.0110887840822</dd><dt>49</dt><dd>-12.5818618095248</dd><dt>50</dt><dd>-3.90600357667641</dd><dt>51</dt><dd>-9.71287353312038</dd><dt>52</dt><dd>-5.52037307820027</dd><dt>53</dt><dd>-13.0700559162783</dd><dt>54</dt><dd>11.0099283600203</dd><dt>55</dt><dd>-0.0897665204866734</dd><dt>56</dt><dd>4.49322280097033</dd><dt>57</dt><dd>20.9724699522909</dd><dt>58</dt><dd>-2.75020699133621</dd><dt>59</dt><dd>2.43237600389878</dd><dt>60</dt><dd>14.5997431069045</dd><dt>61</dt><dd>-1.19551769003003</dd><dt>62</dt><dd>-2.89171974350387</dd><dt>63</dt><dd>-5.15774703842109</dd><dt>64</dt><dd>2.71962451563292</dd><dt>65</dt><dd>-8.66371762132491</dd><dt>66</dt><dd>0.719115997664387</dd><dt>67</dt><dd>-6.08736850305201</dd><dt>68</dt><dd>-6.0246277481277</dd><dt>69</dt><dd>7.53168628019282</dd><dt>70</dt><dd>5.44976572309152</dd><dt>71</dt><dd>-5.90247375049546</dd><dt>72</dt><dd>2.7985461040334</dd><dt>73</dt><dd>-0.160188120422852</dd><dt>74</dt><dd>-1.86396007358713</dd><dt>75</dt><dd>9.14613142846374</dd><dt>76</dt><dd>-9.29412794618697</dd><dt>77</dt><dd>-3.11962955405124</dd><dt>78</dt><dd>2.30376665558274</dd><dt>79</dt><dd>2.21587148397963</dd><dt>80</dt><dd>0.377055813439812</dd><dt>81</dt><dd>-8.98912809270838</dd><dt>82</dt><dd>-0.189615436328078</dd><dt>83</dt><dd>-17.520857512473</dd><dt>84</dt><dd>3.74505647050886</dd><dt>85</dt><dd>21.8823937370427</dd><dt>86</dt><dd>2.32062430369905</dd><dt>87</dt><dd>-7.92888510489472</dd><dt>88</dt><dd>4.61378320008174</dd><dt>89</dt><dd>1.12020678414341</dd><dt>90</dt><dd>-3.89737496821549</dd><dt>91</dt><dd>4.36186551511107</dd><dt>92</dt><dd>1.10247738123624</dd><dt>93</dt><dd>-0.302279748272832</dd><dt>94</dt><dd>-7.28081442464397</dd><dt>95</dt><dd>-10.1756939662723</dd><dt>96</dt><dd>10.7144204395255</dd><dt>97</dt><dd>-6.23409795160466</dd><dt>98</dt><dd>-3.04592422880141</dd><dt>99</dt><dd>8.25605218905192</dd><dt>100</dt><dd>4.91417879006337</dd><dt>101</dt><dd>8.53730508401485</dd><dt>102</dt><dd>10.8342051064107</dd><dt>103</dt><dd>4.9103420895392</dd><dt>104</dt><dd>0.152953211561357</dd><dt>105</dt><dd>-4.13366897330773</dd><dt>106</dt><dd>1.17301010510525</dd><dt>107</dt><dd>-19.8332764115162</dd><dt>108</dt><dd>-7.70600989776514</dd><dt>109</dt><dd>-6.1720317965964</dd><dt>110</dt><dd>-5.19682833831619</dd><dt>111</dt><dd>-4.65024494044173</dd><dt>112</dt><dd>11.7895290242091</dd><dt>113</dt><dd>16.6992610648437</dd><dt>114</dt><dd>-2.7806455897436</dd><dt>115</dt><dd>7.92741844339541</dd><dt>116</dt><dd>-2.53716040298191</dd><dt>117</dt><dd>-1.17126119757802</dd><dt>118</dt><dd>-11.328816970835</dd><dt>119</dt><dd>9.72996393543391</dd><dt>120</dt><dd>0.618281277662545</dd><dt>121</dt><dd>-7.62923959715838</dd><dt>122</dt><dd>-14.6748737728321</dd><dt>123</dt><dd>0.892073241993969</dd><dt>124</dt><dd>-4.14589353722704</dd><dt>125</dt><dd>10.8016821138244</dd><dt>126</dt><dd>9.19757644825171</dd><dt>127</dt><dd>-9.06046298548799</dd><dt>128</dt><dd>18.3289037631419</dd><dt>129</dt><dd>-9.31826680523834</dd><dt>130</dt><dd>-12.1698561245975</dd><dt>131</dt><dd>0.280082844120454</dd><dt>132</dt><dd>1.55733622666583</dd><dt>133</dt><dd>-0.435069060948136</dd><dt>134</dt><dd>-7.74345854090512</dd><dt>135</dt><dd>-0.491253504919679</dd><dt>136</dt><dd>8.83174037955255</dd><dt>137</dt><dd>-6.44921346944773</dd><dt>138</dt><dd>0.822876920155567</dd><dt>139</dt><dd>-10.4587616536198</dd><dt>140</dt><dd>1.85819372028094</dd><dt>141</dt><dd>10.1848574914485</dd><dt>142</dt><dd>6.31454409804017</dd><dt>143</dt><dd>10.8956074290735</dd><dt>144</dt><dd>6.68799672771098</dd><dt>145</dt><dd>7.50548765331675</dd><dt>146</dt><dd>-4.3525490577179</dd><dt>147</dt><dd>-13.1804564498235</dd><dt>148</dt><dd>9.15292230331873</dd><dt>149</dt><dd>-1.23395721110672</dd><dt>150</dt><dd>4.95793041971644</dd><dt>151</dt><dd>-18.4672106311639</dd><dt>152</dt><dd>-7.44119327632348</dd><dt>153</dt><dd>2.01544804146392</dd><dt>154</dt><dd>13.7921878703196</dd><dt>155</dt><dd>-6.51116452740634</dd><dt>156</dt><dd>-3.2347108742189</dd><dt>157</dt><dd>-1.43578014412737</dd><dt>158</dt><dd>-7.33756613442691</dd><dt>159</dt><dd>5.69875971235838</dd><dt>160</dt><dd>8.82048453039827</dd><dt>161</dt><dd>10.1674576477703</dd><dt>162</dt><dd>-4.9627335299821</dd><dt>163</dt><dd>-12.1648551236761</dd><dt>164</dt><dd>1.59619646645524</dd><dt>165</dt><dd>6.32928631058817</dd><dt>166</dt><dd>-2.8224590623506</dd><dt>167</dt><dd>12.298773494812</dd><dt>168</dt><dd>-6.78989052181637</dd><dt>169</dt><dd>3.04370054425529</dd><dt>170</dt><dd>-3.58166916307309</dd><dt>171</dt><dd>-12.3985883229692</dd><dt>172</dt><dd>-9.21707976264406</dd><dt>173</dt><dd>9.91266554607703</dd><dt>174</dt><dd>14.4905646294477</dd><dt>175</dt><dd>-0.746542194905274</dd><dt>176</dt><dd>-5.2771594999322</dd><dt>177</dt><dd>-20.258422128311</dd><dt>178</dt><dd>-3.62257510024885</dd><dt>179</dt><dd>9.57186882341491</dd><dt>180</dt><dd>-1.64318891924634</dd><dt>181</dt><dd>2.60539806478016</dd><dt>182</dt><dd>-0.108385969974094</dd><dt>183</dt><dd>1.20119719695768</dd><dt>184</dt><dd>-0.392146908389579</dd><dt>185</dt><dd>0.0224745978502368</dd><dt>186</dt><dd>-2.32415486542739</dd><dt>187</dt><dd>0.527547131921104</dd><dt>188</dt><dd>11.1720330540577</dd><dt>189</dt><dd>8.6223053248665</dd><dt>190</dt><dd>-0.109222338780644</dd><dt>191</dt><dd>6.94779371268874</dd><dt>192</dt><dd>-3.93191099869065</dd><dt>193</dt><dd>-6.61018882913405</dd><dt>194</dt><dd>1.97920678614277</dd><dt>195</dt><dd>-17.7506692767565</dd><dt>196</dt><dd>3.62335044966558</dd><dt>197</dt><dd>11.4355843229923</dd><dt>198</dt><dd>-1.09953421395519</dd></dl>\n"
      ],
      "text/latex": [
       "A Time Series:\\\\\\begin{description*}\n",
       "\\item[11] 10.0838551818217\n",
       "\\item[12] -6.16183380142117\n",
       "\\item[13] -6.3851154106865\n",
       "\\item[14] 2.77838107815117\n",
       "\\item[15] 13.962590725533\n",
       "\\item[16] -2.52448205641361\n",
       "\\item[17] -8.5763731621446\n",
       "\\item[18] 13.8036218126829\n",
       "\\item[19] -4.8952638127037\n",
       "\\item[20] 2.23648764966519\n",
       "\\item[21] -5.00322821033594\n",
       "\\item[22] 4.12791818360858\n",
       "\\item[23] -5.94534299621375\n",
       "\\item[24] 2.79307534315707\n",
       "\\item[25] -11.7391484205148\n",
       "\\item[26] 0.942625563405804\n",
       "\\item[27] -0.133718473022135\n",
       "\\item[28] -1.84503873776681\n",
       "\\item[29] 1.42892686770072\n",
       "\\item[30] -12.3190622952874\n",
       "\\item[31] -6.65804992207256\n",
       "\\item[32] 9.01342105587399\n",
       "\\item[33] 1.36778155139529\n",
       "\\item[34] 6.82788127187141\n",
       "\\item[35] 2.22539388586687\n",
       "\\item[36] -1.53297883784583\n",
       "\\item[37] 1.75196702933077\n",
       "\\item[38] -1.011577836684\n",
       "\\item[39] -4.81931135756843\n",
       "\\item[40] 10.5796925138824\n",
       "\\item[41] -3.28874450390213\n",
       "\\item[42] 12.3280842436863\n",
       "\\item[43] -10.8548125229212\n",
       "\\item[44] 9.96327026830694\n",
       "\\item[45] -6.99329985599665\n",
       "\\item[46] 20.9309867408056\n",
       "\\item[47] -1.11506913078065\n",
       "\\item[48] -11.0110887840822\n",
       "\\item[49] -12.5818618095248\n",
       "\\item[50] -3.90600357667641\n",
       "\\item[51] -9.71287353312038\n",
       "\\item[52] -5.52037307820027\n",
       "\\item[53] -13.0700559162783\n",
       "\\item[54] 11.0099283600203\n",
       "\\item[55] -0.0897665204866734\n",
       "\\item[56] 4.49322280097033\n",
       "\\item[57] 20.9724699522909\n",
       "\\item[58] -2.75020699133621\n",
       "\\item[59] 2.43237600389878\n",
       "\\item[60] 14.5997431069045\n",
       "\\item[61] -1.19551769003003\n",
       "\\item[62] -2.89171974350387\n",
       "\\item[63] -5.15774703842109\n",
       "\\item[64] 2.71962451563292\n",
       "\\item[65] -8.66371762132491\n",
       "\\item[66] 0.719115997664387\n",
       "\\item[67] -6.08736850305201\n",
       "\\item[68] -6.0246277481277\n",
       "\\item[69] 7.53168628019282\n",
       "\\item[70] 5.44976572309152\n",
       "\\item[71] -5.90247375049546\n",
       "\\item[72] 2.7985461040334\n",
       "\\item[73] -0.160188120422852\n",
       "\\item[74] -1.86396007358713\n",
       "\\item[75] 9.14613142846374\n",
       "\\item[76] -9.29412794618697\n",
       "\\item[77] -3.11962955405124\n",
       "\\item[78] 2.30376665558274\n",
       "\\item[79] 2.21587148397963\n",
       "\\item[80] 0.377055813439812\n",
       "\\item[81] -8.98912809270838\n",
       "\\item[82] -0.189615436328078\n",
       "\\item[83] -17.520857512473\n",
       "\\item[84] 3.74505647050886\n",
       "\\item[85] 21.8823937370427\n",
       "\\item[86] 2.32062430369905\n",
       "\\item[87] -7.92888510489472\n",
       "\\item[88] 4.61378320008174\n",
       "\\item[89] 1.12020678414341\n",
       "\\item[90] -3.89737496821549\n",
       "\\item[91] 4.36186551511107\n",
       "\\item[92] 1.10247738123624\n",
       "\\item[93] -0.302279748272832\n",
       "\\item[94] -7.28081442464397\n",
       "\\item[95] -10.1756939662723\n",
       "\\item[96] 10.7144204395255\n",
       "\\item[97] -6.23409795160466\n",
       "\\item[98] -3.04592422880141\n",
       "\\item[99] 8.25605218905192\n",
       "\\item[100] 4.91417879006337\n",
       "\\item[101] 8.53730508401485\n",
       "\\item[102] 10.8342051064107\n",
       "\\item[103] 4.9103420895392\n",
       "\\item[104] 0.152953211561357\n",
       "\\item[105] -4.13366897330773\n",
       "\\item[106] 1.17301010510525\n",
       "\\item[107] -19.8332764115162\n",
       "\\item[108] -7.70600989776514\n",
       "\\item[109] -6.1720317965964\n",
       "\\item[110] -5.19682833831619\n",
       "\\item[111] -4.65024494044173\n",
       "\\item[112] 11.7895290242091\n",
       "\\item[113] 16.6992610648437\n",
       "\\item[114] -2.7806455897436\n",
       "\\item[115] 7.92741844339541\n",
       "\\item[116] -2.53716040298191\n",
       "\\item[117] -1.17126119757802\n",
       "\\item[118] -11.328816970835\n",
       "\\item[119] 9.72996393543391\n",
       "\\item[120] 0.618281277662545\n",
       "\\item[121] -7.62923959715838\n",
       "\\item[122] -14.6748737728321\n",
       "\\item[123] 0.892073241993969\n",
       "\\item[124] -4.14589353722704\n",
       "\\item[125] 10.8016821138244\n",
       "\\item[126] 9.19757644825171\n",
       "\\item[127] -9.06046298548799\n",
       "\\item[128] 18.3289037631419\n",
       "\\item[129] -9.31826680523834\n",
       "\\item[130] -12.1698561245975\n",
       "\\item[131] 0.280082844120454\n",
       "\\item[132] 1.55733622666583\n",
       "\\item[133] -0.435069060948136\n",
       "\\item[134] -7.74345854090512\n",
       "\\item[135] -0.491253504919679\n",
       "\\item[136] 8.83174037955255\n",
       "\\item[137] -6.44921346944773\n",
       "\\item[138] 0.822876920155567\n",
       "\\item[139] -10.4587616536198\n",
       "\\item[140] 1.85819372028094\n",
       "\\item[141] 10.1848574914485\n",
       "\\item[142] 6.31454409804017\n",
       "\\item[143] 10.8956074290735\n",
       "\\item[144] 6.68799672771098\n",
       "\\item[145] 7.50548765331675\n",
       "\\item[146] -4.3525490577179\n",
       "\\item[147] -13.1804564498235\n",
       "\\item[148] 9.15292230331873\n",
       "\\item[149] -1.23395721110672\n",
       "\\item[150] 4.95793041971644\n",
       "\\item[151] -18.4672106311639\n",
       "\\item[152] -7.44119327632348\n",
       "\\item[153] 2.01544804146392\n",
       "\\item[154] 13.7921878703196\n",
       "\\item[155] -6.51116452740634\n",
       "\\item[156] -3.2347108742189\n",
       "\\item[157] -1.43578014412737\n",
       "\\item[158] -7.33756613442691\n",
       "\\item[159] 5.69875971235838\n",
       "\\item[160] 8.82048453039827\n",
       "\\item[161] 10.1674576477703\n",
       "\\item[162] -4.9627335299821\n",
       "\\item[163] -12.1648551236761\n",
       "\\item[164] 1.59619646645524\n",
       "\\item[165] 6.32928631058817\n",
       "\\item[166] -2.8224590623506\n",
       "\\item[167] 12.298773494812\n",
       "\\item[168] -6.78989052181637\n",
       "\\item[169] 3.04370054425529\n",
       "\\item[170] -3.58166916307309\n",
       "\\item[171] -12.3985883229692\n",
       "\\item[172] -9.21707976264406\n",
       "\\item[173] 9.91266554607703\n",
       "\\item[174] 14.4905646294477\n",
       "\\item[175] -0.746542194905274\n",
       "\\item[176] -5.2771594999322\n",
       "\\item[177] -20.258422128311\n",
       "\\item[178] -3.62257510024885\n",
       "\\item[179] 9.57186882341491\n",
       "\\item[180] -1.64318891924634\n",
       "\\item[181] 2.60539806478016\n",
       "\\item[182] -0.108385969974094\n",
       "\\item[183] 1.20119719695768\n",
       "\\item[184] -0.392146908389579\n",
       "\\item[185] 0.0224745978502368\n",
       "\\item[186] -2.32415486542739\n",
       "\\item[187] 0.527547131921104\n",
       "\\item[188] 11.1720330540577\n",
       "\\item[189] 8.6223053248665\n",
       "\\item[190] -0.109222338780644\n",
       "\\item[191] 6.94779371268874\n",
       "\\item[192] -3.93191099869065\n",
       "\\item[193] -6.61018882913405\n",
       "\\item[194] 1.97920678614277\n",
       "\\item[195] -17.7506692767565\n",
       "\\item[196] 3.62335044966558\n",
       "\\item[197] 11.4355843229923\n",
       "\\item[198] -1.09953421395519\n",
       "\\end{description*}\n"
      ],
      "text/markdown": [
       "A Time Series:  \n",
       "11\n",
       ":   10.083855181821712\n",
       ":   -6.1618338014211713\n",
       ":   -6.385115410686514\n",
       ":   2.7783810781511715\n",
       ":   13.96259072553316\n",
       ":   -2.5244820564136117\n",
       ":   -8.576373162144618\n",
       ":   13.803621812682919\n",
       ":   -4.895263812703720\n",
       ":   2.2364876496651921\n",
       ":   -5.0032282103359422\n",
       ":   4.1279181836085823\n",
       ":   -5.9453429962137524\n",
       ":   2.7930753431570725\n",
       ":   -11.739148420514826\n",
       ":   0.94262556340580427\n",
       ":   -0.13371847302213528\n",
       ":   -1.8450387377668129\n",
       ":   1.4289268677007230\n",
       ":   -12.319062295287431\n",
       ":   -6.6580499220725632\n",
       ":   9.0134210558739933\n",
       ":   1.3677815513952934\n",
       ":   6.8278812718714135\n",
       ":   2.2253938858668736\n",
       ":   -1.5329788378458337\n",
       ":   1.7519670293307738\n",
       ":   -1.01157783668439\n",
       ":   -4.8193113575684340\n",
       ":   10.579692513882441\n",
       ":   -3.2887445039021342\n",
       ":   12.328084243686343\n",
       ":   -10.854812522921244\n",
       ":   9.9632702683069445\n",
       ":   -6.9932998559966546\n",
       ":   20.930986740805647\n",
       ":   -1.1150691307806548\n",
       ":   -11.011088784082249\n",
       ":   -12.581861809524850\n",
       ":   -3.9060035766764151\n",
       ":   -9.7128735331203852\n",
       ":   -5.5203730782002753\n",
       ":   -13.070055916278354\n",
       ":   11.009928360020355\n",
       ":   -0.089766520486673456\n",
       ":   4.4932228009703357\n",
       ":   20.972469952290958\n",
       ":   -2.7502069913362159\n",
       ":   2.4323760038987860\n",
       ":   14.599743106904561\n",
       ":   -1.1955176900300362\n",
       ":   -2.8917197435038763\n",
       ":   -5.1577470384210964\n",
       ":   2.7196245156329265\n",
       ":   -8.6637176213249166\n",
       ":   0.71911599766438767\n",
       ":   -6.0873685030520168\n",
       ":   -6.024627748127769\n",
       ":   7.5316862801928270\n",
       ":   5.4497657230915271\n",
       ":   -5.9024737504954672\n",
       ":   2.798546104033473\n",
       ":   -0.16018812042285274\n",
       ":   -1.8639600735871375\n",
       ":   9.1461314284637476\n",
       ":   -9.2941279461869777\n",
       ":   -3.1196295540512478\n",
       ":   2.3037666555827479\n",
       ":   2.2158714839796380\n",
       ":   0.37705581343981281\n",
       ":   -8.9891280927083882\n",
       ":   -0.18961543632807883\n",
       ":   -17.52085751247384\n",
       ":   3.7450564705088685\n",
       ":   21.882393737042786\n",
       ":   2.3206243036990587\n",
       ":   -7.9288851048947288\n",
       ":   4.6137832000817489\n",
       ":   1.1202067841434190\n",
       ":   -3.8973749682154991\n",
       ":   4.3618655151110792\n",
       ":   1.1024773812362493\n",
       ":   -0.30227974827283294\n",
       ":   -7.2808144246439795\n",
       ":   -10.175693966272396\n",
       ":   10.714420439525597\n",
       ":   -6.2340979516046698\n",
       ":   -3.0459242288014199\n",
       ":   8.25605218905192100\n",
       ":   4.91417879006337101\n",
       ":   8.53730508401485102\n",
       ":   10.8342051064107103\n",
       ":   4.9103420895392104\n",
       ":   0.152953211561357105\n",
       ":   -4.13366897330773106\n",
       ":   1.17301010510525107\n",
       ":   -19.8332764115162108\n",
       ":   -7.70600989776514109\n",
       ":   -6.1720317965964110\n",
       ":   -5.19682833831619111\n",
       ":   -4.65024494044173112\n",
       ":   11.7895290242091113\n",
       ":   16.6992610648437114\n",
       ":   -2.7806455897436115\n",
       ":   7.92741844339541116\n",
       ":   -2.53716040298191117\n",
       ":   -1.17126119757802118\n",
       ":   -11.328816970835119\n",
       ":   9.72996393543391120\n",
       ":   0.618281277662545121\n",
       ":   -7.62923959715838122\n",
       ":   -14.6748737728321123\n",
       ":   0.892073241993969124\n",
       ":   -4.14589353722704125\n",
       ":   10.8016821138244126\n",
       ":   9.19757644825171127\n",
       ":   -9.06046298548799128\n",
       ":   18.3289037631419129\n",
       ":   -9.31826680523834130\n",
       ":   -12.1698561245975131\n",
       ":   0.280082844120454132\n",
       ":   1.55733622666583133\n",
       ":   -0.435069060948136134\n",
       ":   -7.74345854090512135\n",
       ":   -0.491253504919679136\n",
       ":   8.83174037955255137\n",
       ":   -6.44921346944773138\n",
       ":   0.822876920155567139\n",
       ":   -10.4587616536198140\n",
       ":   1.85819372028094141\n",
       ":   10.1848574914485142\n",
       ":   6.31454409804017143\n",
       ":   10.8956074290735144\n",
       ":   6.68799672771098145\n",
       ":   7.50548765331675146\n",
       ":   -4.3525490577179147\n",
       ":   -13.1804564498235148\n",
       ":   9.15292230331873149\n",
       ":   -1.23395721110672150\n",
       ":   4.95793041971644151\n",
       ":   -18.4672106311639152\n",
       ":   -7.44119327632348153\n",
       ":   2.01544804146392154\n",
       ":   13.7921878703196155\n",
       ":   -6.51116452740634156\n",
       ":   -3.2347108742189157\n",
       ":   -1.43578014412737158\n",
       ":   -7.33756613442691159\n",
       ":   5.69875971235838160\n",
       ":   8.82048453039827161\n",
       ":   10.1674576477703162\n",
       ":   -4.9627335299821163\n",
       ":   -12.1648551236761164\n",
       ":   1.59619646645524165\n",
       ":   6.32928631058817166\n",
       ":   -2.8224590623506167\n",
       ":   12.298773494812168\n",
       ":   -6.78989052181637169\n",
       ":   3.04370054425529170\n",
       ":   -3.58166916307309171\n",
       ":   -12.3985883229692172\n",
       ":   -9.21707976264406173\n",
       ":   9.91266554607703174\n",
       ":   14.4905646294477175\n",
       ":   -0.746542194905274176\n",
       ":   -5.2771594999322177\n",
       ":   -20.258422128311178\n",
       ":   -3.62257510024885179\n",
       ":   9.57186882341491180\n",
       ":   -1.64318891924634181\n",
       ":   2.60539806478016182\n",
       ":   -0.108385969974094183\n",
       ":   1.20119719695768184\n",
       ":   -0.392146908389579185\n",
       ":   0.0224745978502368186\n",
       ":   -2.32415486542739187\n",
       ":   0.527547131921104188\n",
       ":   11.1720330540577189\n",
       ":   8.6223053248665190\n",
       ":   -0.109222338780644191\n",
       ":   6.94779371268874192\n",
       ":   -3.93191099869065193\n",
       ":   -6.61018882913405194\n",
       ":   1.97920678614277195\n",
       ":   -17.7506692767565196\n",
       ":   3.62335044966558197\n",
       ":   11.4355843229923198\n",
       ":   -1.09953421395519\n",
       "\n"
      ],
      "text/plain": [
       "A Time Series:\n",
       "          11           12           13           14           15           16 \n",
       " 10.08385518  -6.16183380  -6.38511541   2.77838108  13.96259073  -2.52448206 \n",
       "          17           18           19           20           21           22 \n",
       " -8.57637316  13.80362181  -4.89526381   2.23648765  -5.00322821   4.12791818 \n",
       "          23           24           25           26           27           28 \n",
       " -5.94534300   2.79307534 -11.73914842   0.94262556  -0.13371847  -1.84503874 \n",
       "          29           30           31           32           33           34 \n",
       "  1.42892687 -12.31906230  -6.65804992   9.01342106   1.36778155   6.82788127 \n",
       "          35           36           37           38           39           40 \n",
       "  2.22539389  -1.53297884   1.75196703  -1.01157784  -4.81931136  10.57969251 \n",
       "          41           42           43           44           45           46 \n",
       " -3.28874450  12.32808424 -10.85481252   9.96327027  -6.99329986  20.93098674 \n",
       "          47           48           49           50           51           52 \n",
       " -1.11506913 -11.01108878 -12.58186181  -3.90600358  -9.71287353  -5.52037308 \n",
       "          53           54           55           56           57           58 \n",
       "-13.07005592  11.00992836  -0.08976652   4.49322280  20.97246995  -2.75020699 \n",
       "          59           60           61           62           63           64 \n",
       "  2.43237600  14.59974311  -1.19551769  -2.89171974  -5.15774704   2.71962452 \n",
       "          65           66           67           68           69           70 \n",
       " -8.66371762   0.71911600  -6.08736850  -6.02462775   7.53168628   5.44976572 \n",
       "          71           72           73           74           75           76 \n",
       " -5.90247375   2.79854610  -0.16018812  -1.86396007   9.14613143  -9.29412795 \n",
       "          77           78           79           80           81           82 \n",
       " -3.11962955   2.30376666   2.21587148   0.37705581  -8.98912809  -0.18961544 \n",
       "          83           84           85           86           87           88 \n",
       "-17.52085751   3.74505647  21.88239374   2.32062430  -7.92888510   4.61378320 \n",
       "          89           90           91           92           93           94 \n",
       "  1.12020678  -3.89737497   4.36186552   1.10247738  -0.30227975  -7.28081442 \n",
       "          95           96           97           98           99          100 \n",
       "-10.17569397  10.71442044  -6.23409795  -3.04592423   8.25605219   4.91417879 \n",
       "         101          102          103          104          105          106 \n",
       "  8.53730508  10.83420511   4.91034209   0.15295321  -4.13366897   1.17301011 \n",
       "         107          108          109          110          111          112 \n",
       "-19.83327641  -7.70600990  -6.17203180  -5.19682834  -4.65024494  11.78952902 \n",
       "         113          114          115          116          117          118 \n",
       " 16.69926106  -2.78064559   7.92741844  -2.53716040  -1.17126120 -11.32881697 \n",
       "         119          120          121          122          123          124 \n",
       "  9.72996394   0.61828128  -7.62923960 -14.67487377   0.89207324  -4.14589354 \n",
       "         125          126          127          128          129          130 \n",
       " 10.80168211   9.19757645  -9.06046299  18.32890376  -9.31826681 -12.16985612 \n",
       "         131          132          133          134          135          136 \n",
       "  0.28008284   1.55733623  -0.43506906  -7.74345854  -0.49125350   8.83174038 \n",
       "         137          138          139          140          141          142 \n",
       " -6.44921347   0.82287692 -10.45876165   1.85819372  10.18485749   6.31454410 \n",
       "         143          144          145          146          147          148 \n",
       " 10.89560743   6.68799673   7.50548765  -4.35254906 -13.18045645   9.15292230 \n",
       "         149          150          151          152          153          154 \n",
       " -1.23395721   4.95793042 -18.46721063  -7.44119328   2.01544804  13.79218787 \n",
       "         155          156          157          158          159          160 \n",
       " -6.51116453  -3.23471087  -1.43578014  -7.33756613   5.69875971   8.82048453 \n",
       "         161          162          163          164          165          166 \n",
       " 10.16745765  -4.96273353 -12.16485512   1.59619647   6.32928631  -2.82245906 \n",
       "         167          168          169          170          171          172 \n",
       " 12.29877349  -6.78989052   3.04370054  -3.58166916 -12.39858832  -9.21707976 \n",
       "         173          174          175          176          177          178 \n",
       "  9.91266555  14.49056463  -0.74654219  -5.27715950 -20.25842213  -3.62257510 \n",
       "         179          180          181          182          183          184 \n",
       "  9.57186882  -1.64318892   2.60539806  -0.10838597   1.20119720  -0.39214691 \n",
       "         185          186          187          188          189          190 \n",
       "  0.02247460  -2.32415487   0.52754713  11.17203305   8.62230532  -0.10922234 \n",
       "         191          192          193          194          195          196 \n",
       "  6.94779371  -3.93191100  -6.61018883   1.97920679 -17.75066928   3.62335045 \n",
       "         197          198 \n",
       " 11.43558432  -1.09953421 "
      ]
     },
     "metadata": {},
     "output_type": "display_data"
    }
   ],
   "source": [
    "summary(dynlm(Y~L(Y,1:i)+L(X,1:i)))$residuals"
   ]
  },
  {
   "cell_type": "code",
   "execution_count": 330,
   "metadata": {},
   "outputs": [
    {
     "ename": "ERROR",
     "evalue": "Error in formatCands(cand.set): \nFunctions do not support mixture of model classes\n\n",
     "output_type": "error",
     "traceback": [
      "Error in formatCands(cand.set): \nFunctions do not support mixture of model classes\n\nTraceback:\n",
      "1. aictab(sfit)",
      "2. formatCands(cand.set)",
      "3. stop(\"\\nFunctions do not support mixture of model classes\\n\")"
     ]
    }
   ],
   "source": [
    "aictab(sfit)"
   ]
  },
  {
   "cell_type": "code",
   "execution_count": 340,
   "metadata": {},
   "outputs": [
    {
     "data": {
      "text/html": [
       "1436.53546628321"
      ],
      "text/latex": [
       "1436.53546628321"
      ],
      "text/markdown": [
       "1436.53546628321"
      ],
      "text/plain": [
       "[1] 1436.535"
      ]
     },
     "metadata": {},
     "output_type": "display_data"
    }
   ],
   "source": [
    "BIC(sfit)"
   ]
  },
  {
   "cell_type": "code",
   "execution_count": 407,
   "metadata": {},
   "outputs": [],
   "source": [
    "data <- read.csv(\"/Users/suhong/Desktop/UROP_Data/UROP/Synthetic/data/simu_data001.csv\")\n",
    "df <- double_process_df(data)\n",
    "#write.csv(df,\"/Users/suhong/Desktop/UROP_Data/inter_data/test1.csv\")"
   ]
  },
  {
   "cell_type": "code",
   "execution_count": 408,
   "metadata": {},
   "outputs": [
    {
     "data": {
      "text/html": [
       "<table class=\"dataframe\">\n",
       "<caption>A data.frame: 6 × 5</caption>\n",
       "<thead>\n",
       "\t<tr><th></th><th scope=col>A</th><th scope=col>B</th><th scope=col>C</th><th scope=col>AB</th><th scope=col>ABC</th></tr>\n",
       "\t<tr><th></th><th scope=col>&lt;int&gt;</th><th scope=col>&lt;int&gt;</th><th scope=col>&lt;int&gt;</th><th scope=col>&lt;int&gt;</th><th scope=col>&lt;int&gt;</th></tr>\n",
       "</thead>\n",
       "<tbody>\n",
       "\t<tr><th scope=row>1</th><td> 0</td><td> 3</td><td> 3</td><td>  4</td><td> 12</td></tr>\n",
       "\t<tr><th scope=row>2</th><td>-1</td><td>-2</td><td>-1</td><td>-27</td><td>-13</td></tr>\n",
       "\t<tr><th scope=row>3</th><td>-2</td><td> 1</td><td> 3</td><td> 16</td><td>-15</td></tr>\n",
       "\t<tr><th scope=row>4</th><td> 7</td><td> 0</td><td>-4</td><td>  0</td><td>  3</td></tr>\n",
       "\t<tr><th scope=row>5</th><td>-1</td><td> 1</td><td> 2</td><td> -2</td><td>  1</td></tr>\n",
       "\t<tr><th scope=row>6</th><td> 0</td><td> 1</td><td>-2</td><td>  6</td><td>  6</td></tr>\n",
       "</tbody>\n",
       "</table>\n"
      ],
      "text/latex": [
       "A data.frame: 6 × 5\n",
       "\\begin{tabular}{r|lllll}\n",
       "  & A & B & C & AB & ABC\\\\\n",
       "  & <int> & <int> & <int> & <int> & <int>\\\\\n",
       "\\hline\n",
       "\t1 &  0 &  3 &  3 &   4 &  12\\\\\n",
       "\t2 & -1 & -2 & -1 & -27 & -13\\\\\n",
       "\t3 & -2 &  1 &  3 &  16 & -15\\\\\n",
       "\t4 &  7 &  0 & -4 &   0 &   3\\\\\n",
       "\t5 & -1 &  1 &  2 &  -2 &   1\\\\\n",
       "\t6 &  0 &  1 & -2 &   6 &   6\\\\\n",
       "\\end{tabular}\n"
      ],
      "text/markdown": [
       "\n",
       "A data.frame: 6 × 5\n",
       "\n",
       "| <!--/--> | A &lt;int&gt; | B &lt;int&gt; | C &lt;int&gt; | AB &lt;int&gt; | ABC &lt;int&gt; |\n",
       "|---|---|---|---|---|---|\n",
       "| 1 |  0 |  3 |  3 |   4 |  12 |\n",
       "| 2 | -1 | -2 | -1 | -27 | -13 |\n",
       "| 3 | -2 |  1 |  3 |  16 | -15 |\n",
       "| 4 |  7 |  0 | -4 |   0 |   3 |\n",
       "| 5 | -1 |  1 |  2 |  -2 |   1 |\n",
       "| 6 |  0 |  1 | -2 |   6 |   6 |\n",
       "\n"
      ],
      "text/plain": [
       "  A  B  C  AB  ABC\n",
       "1  0  3  3   4  12\n",
       "2 -1 -2 -1 -27 -13\n",
       "3 -2  1  3  16 -15\n",
       "4  7  0 -4   0   3\n",
       "5 -1  1  2  -2   1\n",
       "6  0  1 -2   6   6"
      ]
     },
     "metadata": {},
     "output_type": "display_data"
    }
   ],
   "source": [
    "head(df)"
   ]
  },
  {
   "cell_type": "code",
   "execution_count": 414,
   "metadata": {},
   "outputs": [
    {
     "data": {
      "text/html": [
       "198"
      ],
      "text/latex": [
       "198"
      ],
      "text/markdown": [
       "198"
      ],
      "text/plain": [
       "[1] 198"
      ]
     },
     "metadata": {},
     "output_type": "display_data"
    }
   ],
   "source": [
    "X <- df$A\n",
    "Y <- df$ABC\n",
    "length(X)"
   ]
  },
  {
   "cell_type": "code",
   "execution_count": 401,
   "metadata": {},
   "outputs": [
    {
     "name": "stdout",
     "output_type": "stream",
     "text": [
      "[1] 8\n",
      "[1] 7\n"
     ]
    },
    {
     "ename": "ERROR",
     "evalue": "Error in waldtest.default(object, ..., test = match.arg(test)): models were not all fitted to the same size of dataset\n",
     "output_type": "error",
     "traceback": [
      "Error in waldtest.default(object, ..., test = match.arg(test)): models were not all fitted to the same size of dataset\nTraceback:\n",
      "1. waldtest(em, em2)",
      "2. waldtest.lm(em, em2)",
      "3. waldtest.default(object, ..., test = match.arg(test))",
      "4. stop(\"models were not all fitted to the same size of dataset\")"
     ]
    }
   ],
   "source": [
    "X_lag <- select_time_lags(X)\n",
    "Y_lag <- select_time_lags(Y)\n",
    "print(X_lag)\n",
    "print(Y_lag)\n",
    "diff = X_lag-Y_lag\n",
    "delete <- max(X_lag,Y_lag)\n",
    "X <- X[-Y_lag]\n",
    "Y <- Y[-X_lag]\n",
    "X <- ts(X)\n",
    "Y <- ts(Y)\n",
    "em <- dynlm(Y ~ L(Y,1:Y_lag))\n",
    "em2 <- update(em, . ~ . + L(X, 1:X_lag) )\n",
    "waldtest(em, em2)"
   ]
  },
  {
   "cell_type": "code",
   "execution_count": 395,
   "metadata": {},
   "outputs": [
    {
     "name": "stdout",
     "output_type": "stream",
     "text": [
      "[1] 7\n",
      "[1] 7\n"
     ]
    }
   ],
   "source": [
    "X_lag <- select_time_lags(X)\n",
    "Y_lag <- select_time_lags(Y)\n",
    "print(X_lag)\n",
    "print(Y_lag)\n",
    "diff = X_lag-Y_lag\n",
    "delete <- max(X_lag,Y_lag)\n",
    "X <- X[-Y_lag]\n",
    "Y <- Y[-X_lag]"
   ]
  },
  {
   "cell_type": "code",
   "execution_count": 394,
   "metadata": {},
   "outputs": [
    {
     "data": {
      "text/html": [
       "<pre class=language-r><code>.Primitive(\"length\")</code></pre>"
      ],
      "text/latex": [
       "\\begin{minted}{r}\n",
       ".Primitive(\"length\")\n",
       "\\end{minted}"
      ],
      "text/markdown": [
       "```r\n",
       ".Primitive(\"length\")\n",
       "```"
      ],
      "text/plain": [
       "function (x)  .Primitive(\"length\")"
      ]
     },
     "metadata": {},
     "output_type": "display_data"
    }
   ],
   "source": [
    "length(X)"
   ]
  },
  {
   "cell_type": "code",
   "execution_count": 419,
   "metadata": {},
   "outputs": [],
   "source": [
    "self_granger <- function(X,y){\n",
    "    best_p <- 1\n",
    "    for (i in 1:20){\n",
    "        p <- grangertest(X,y,order=i)[2,4]\n",
    "        if(p<best_p){\n",
    "            best_p <- p\n",
    "        }\n",
    "    }\n",
    "    # print(p)\n",
    "    if(best_p<0.1){\n",
    "        return (TRUE)\n",
    "    }\n",
    "    else{return(FALSE)}\n",
    "}"
   ]
  },
  {
   "cell_type": "code",
   "execution_count": 415,
   "metadata": {},
   "outputs": [
    {
     "name": "stdout",
     "output_type": "stream",
     "text": [
      "[1] 0.002274522\n"
     ]
    },
    {
     "data": {
      "text/html": [
       "TRUE"
      ],
      "text/latex": [
       "TRUE"
      ],
      "text/markdown": [
       "TRUE"
      ],
      "text/plain": [
       "[1] TRUE"
      ]
     },
     "metadata": {},
     "output_type": "display_data"
    }
   ],
   "source": [
    "self_granger(X,Y)"
   ]
  },
  {
   "cell_type": "code",
   "execution_count": null,
   "metadata": {},
   "outputs": [],
   "source": []
  }
 ],
 "metadata": {
  "kernelspec": {
   "display_name": "R",
   "language": "R",
   "name": "ir"
  },
  "language_info": {
   "codemirror_mode": "r",
   "file_extension": ".r",
   "mimetype": "text/x-r-source",
   "name": "R",
   "pygments_lexer": "r",
   "version": "4.2.0"
  },
  "vscode": {
   "interpreter": {
    "hash": "3f56231212a954684e4455fc18e87f1d6f60ff89596aa855e6d309fe16c87e87"
   }
  }
 },
 "nbformat": 4,
 "nbformat_minor": 2
}
