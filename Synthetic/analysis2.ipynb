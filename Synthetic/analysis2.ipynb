{
 "cells": [
  {
   "cell_type": "code",
   "execution_count": 36,
   "metadata": {},
   "outputs": [
    {
     "data": {
      "text/plain": [
       "A       1.000000\n",
       "B       1.000000\n",
       "C       1.000000\n",
       "D       1.000000\n",
       "AB      0.654047\n",
       "AC      0.258956\n",
       "AD      0.056891\n",
       "BC      0.175619\n",
       "BD      0.062306\n",
       "CD      0.057110\n",
       "ABC     0.725154\n",
       "ABD     0.431885\n",
       "ACD     0.179764\n",
       "BCD     0.128861\n",
       "ABCD    0.163167\n",
       "dtype: float64"
      ]
     },
     "execution_count": 36,
     "metadata": {},
     "output_type": "execute_result"
    }
   ],
   "source": [
    "import pandas as pd\n",
    "\n",
    "data_colo=pd.read_csv('./data/simu_colo005.csv')\n",
    "data_mpi=pd.read_csv('./data/simu_mpi005.csv')\n",
    "\n",
    "# data=data.drop(data.columns[[0]],axis=1)\n",
    "# data=data.diff(axis=0).iloc[1:,:]\n",
    "# data.head()\n",
    "data_mpi.mean(axis=0)"
   ]
  },
  {
   "cell_type": "code",
   "execution_count": 37,
   "metadata": {},
   "outputs": [
    {
     "data": {
      "text/plain": [
       "A       41.018\n",
       "B       64.557\n",
       "C       54.874\n",
       "D       54.506\n",
       "AB      28.520\n",
       "AC      13.027\n",
       "AD       2.364\n",
       "BC      10.443\n",
       "BD       3.483\n",
       "CD       3.058\n",
       "ABC      9.555\n",
       "ABD      1.261\n",
       "ACD      0.507\n",
       "BCD      0.413\n",
       "ABCD     0.302\n",
       "dtype: float64"
      ]
     },
     "execution_count": 37,
     "metadata": {},
     "output_type": "execute_result"
    }
   ],
   "source": [
    "data_colo.mean(axis=0)"
   ]
  },
  {
   "cell_type": "code",
   "execution_count": 2,
   "metadata": {},
   "outputs": [],
   "source": [
    "# data_norm=(data-data.mean())/data.std()\n",
    "# data_norm.head()"
   ]
  },
  {
   "cell_type": "code",
   "execution_count": 18,
   "metadata": {},
   "outputs": [
    {
     "data": {
      "text/plain": [
       "<causalnex.structure.structuremodel.StructureModel at 0x22be627ccd0>"
      ]
     },
     "execution_count": 18,
     "metadata": {},
     "output_type": "execute_result"
    }
   ],
   "source": [
    "from causalnex.structure.notears import from_pandas\n",
    "\n",
    "struct_data=data_colo.copy()\n",
    "sm=from_pandas(struct_data)\n",
    "sm"
   ]
  },
  {
   "cell_type": "code",
   "execution_count": 19,
   "metadata": {},
   "outputs": [
    {
     "name": "stderr",
     "output_type": "stream",
     "text": [
      "c:\\Users\\William\\anaconda3\\envs\\causal\\lib\\site-packages\\pygraphviz\\agraph.py:1402: RuntimeWarning: Warning: node 'A', graph '' size too small for label\n",
      "Warning: node 'AC', graph '' size too small for label\n",
      "Warning: node 'B', graph '' size too small for label\n",
      "Warning: node 'D', graph '' size too small for label\n",
      "Warning: node 'C', graph '' size too small for label\n",
      "Warning: node 'AB', graph '' size too small for label\n",
      "Warning: node 'ABC', graph '' size too small for label\n",
      "Warning: node 'AD', graph '' size too small for label\n",
      "Warning: node 'BC', graph '' size too small for label\n",
      "Warning: node 'BD', graph '' size too small for label\n",
      "Warning: node 'CD', graph '' size too small for label\n",
      "Warning: node 'ABD', graph '' size too small for label\n",
      "Warning: node 'ACD', graph '' size too small for label\n",
      "Warning: node 'BCD', graph '' size too small for label\n",
      "Warning: node 'ABCD', graph '' size too small for label\n",
      "\n",
      "  warnings.warn(b\"\".join(errors).decode(self.encoding), RuntimeWarning)\n"
     ]
    }
   ],
   "source": [
    "from causalnex.plots import plot_structure\n",
    "\n",
    "sm_thres=sm.copy()\n",
    "sm_thres.remove_edges_below_threshold(0.8)\n",
    "viz=plot_structure(sm_thres,graph_attributes={'scale':'0.5'})\n",
    "viz.draw(format='png',path='./causalnet_output.png')"
   ]
  }
 ],
 "metadata": {
  "kernelspec": {
   "display_name": "Python 3.8.13 ('causal')",
   "language": "python",
   "name": "python3"
  },
  "language_info": {
   "codemirror_mode": {
    "name": "ipython",
    "version": 3
   },
   "file_extension": ".py",
   "mimetype": "text/x-python",
   "name": "python",
   "nbconvert_exporter": "python",
   "pygments_lexer": "ipython3",
   "version": "3.8.13"
  },
  "orig_nbformat": 4,
  "vscode": {
   "interpreter": {
    "hash": "cf1fc3a88604b257be9ce7b0f9cc2123d07f4157f6c91ec6643422312b101f9d"
   }
  }
 },
 "nbformat": 4,
 "nbformat_minor": 2
}
