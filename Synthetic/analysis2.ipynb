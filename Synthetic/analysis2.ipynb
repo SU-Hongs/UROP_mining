{
 "cells": [
  {
   "cell_type": "code",
   "execution_count": 5,
   "metadata": {},
   "outputs": [],
   "source": [
    "import pandas as pd\n",
    "\n",
    "data=pd.read_csv('./data/simu_data002.csv')\n",
    "data.head()"
   ]
  },
  {
   "cell_type": "code",
   "execution_count": 4,
   "metadata": {},
   "outputs": [],
   "source": [
    "from causalnex.structure.notears import from_pandas\n",
    "\n",
    "struct_data=data.copy()\n",
    "sm=from_pandas(struct_data)\n",
    "sm"
   ]
  },
  {
   "cell_type": "code",
   "execution_count": null,
   "metadata": {},
   "outputs": [],
   "source": [
    "from causalnex.plots import plot_structure\n",
    "\n",
    "sm_thres=sm.copy()\n",
    "sm_thres.remove_edges_below_threshold(0.8)\n",
    "viz=plot_structure(sm_thres,graph_attributes={'scale':'0.5'})\n",
    "viz.draw(format='png',path='./causalnet_output.png')"
   ]
  }
 ],
 "metadata": {
  "kernelspec": {
   "display_name": "Python 3.8.13 ('causal')",
   "language": "python",
   "name": "python3"
  },
  "language_info": {
   "codemirror_mode": {
    "name": "ipython",
    "version": 3
   },
   "file_extension": ".py",
   "mimetype": "text/x-python",
   "name": "python",
   "nbconvert_exporter": "python",
   "pygments_lexer": "ipython3",
   "version": "3.8.13"
  },
  "orig_nbformat": 4,
  "vscode": {
   "interpreter": {
    "hash": "cf1fc3a88604b257be9ce7b0f9cc2123d07f4157f6c91ec6643422312b101f9d"
   }
  }
 },
 "nbformat": 4,
 "nbformat_minor": 2
}
