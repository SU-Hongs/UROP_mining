{
 "cells": [
  {
   "cell_type": "code",
   "execution_count": 59,
   "metadata": {},
   "outputs": [],
   "source": [
    "library(regclass)\n",
    "library(ppcor)\n",
    "library(tseries)\n",
    "library(stringr)\n",
    "library(lmtest)"
   ]
  },
  {
   "cell_type": "code",
   "execution_count": 287,
   "metadata": {},
   "outputs": [],
   "source": [
    "# return the R squared value of guo ~ guo_history + yin_history\n",
    "self_autoregression <- function(x,y,lags){\n",
    "    n <- length(x)\n",
    "    x_hist <- x[1:(n-lags)]\n",
    "    y_hist <- y[1:(n-lags)]\n",
    "    Y <- y[(lags+1):n]\n",
    "    m <- lm(Y~x_hist+y_hist+0)\n",
    "    return (summary(m)$r.squared)\n",
    "}\n",
    "\n",
    "# select best time lags\n",
    "select_time_lags <- function(z,thres = 0.1){\n",
    "    pacf = pacf(z,20)\n",
    "    for (i in c(1:20)){\n",
    "        if (abs(pacf$acf[i])<thres){\n",
    "            return (i)\n",
    "        }\n",
    "    }\n",
    "    return (-1)\n",
    "}\n",
    "\n",
    "# a helper function to remove an element with certain value from a list\n",
    "remove <- function(arr,value){\n",
    "    for(i in c(1:length(arr))){\n",
    "        if(arr[i]==value){\n",
    "            r_arr <- arr[-i]\n",
    "            return (r_arr)\n",
    "        }\n",
    "    }\n",
    "    print(\"remove failure\")\n",
    "    cat(arr,\" \",value,\"\\n\")\n",
    "    return (arr)\n",
    "}\n",
    "\n",
    "filter_cause <- function(X,y, thres = 0.1){\n",
    "    n <- dim(X)[2]\n",
    "    lags <- c()\n",
    "    R_squared = c()\n",
    "    for (i in c(1:n)){\n",
    "        lag = select_time_lags(X[,i])\n",
    "        r_sq <- self_autoregression(X[,i],y,lag)\n",
    "        R_squared = append(R_squared,c(r_sq))\n",
    "    }\n",
    "\n",
    "    cause_indices <- c()\n",
    "    remain <- c(1:n)\n",
    "    while(length(remain)>0){\n",
    "        \n",
    "        j <- which.max(R_squared)\n",
    "        cause_indices <- append(cause_indices,c(j))\n",
    "        remain <- remove(remain,j)\n",
    "        R_squared[j] <- 0\n",
    "        \n",
    "        # pruning\n",
    "        to_remove <- c()\n",
    "        for(i in remain){\n",
    "            df <- data.frame(x=X[,j],y=y,z=X[,i])\n",
    "            pcor <- pcor(df)$estimate[2,3]\n",
    "            \n",
    "            if(abs(pcor)<=thres){\n",
    "                #cat(i,\" \",pcor,\"\\n\")\n",
    "                to_remove <- append(to_remove,c(i))\n",
    "                R_squared[i] <- 0\n",
    "            }\n",
    "        }\n",
    "        for(rm in to_remove){\n",
    "            remain <- remove(remain,rm)\n",
    "        }\n",
    "    }\n",
    "    return (cause_indices)\n",
    "}\n",
    "\n",
    "equal_list <- function(a,b){\n",
    "    a <- a[order(a)]\n",
    "    b <- b[order(b)]\n",
    "    return (identical(a,b))\n",
    "}\n",
    "\n",
    "process_df <- function(data){\n",
    "    A <- data$X..A...\n",
    "    B <- data$X..B...\n",
    "    C <- data$X..C...\n",
    "    D <- data$X..D...\n",
    "    E <- data$X..E...\n",
    "    F <- data$X..F...\n",
    "    AB <- data$X..A....B..\n",
    "    ABC <- data$X..A....B....C..\n",
    "    DE <- data$X..D....E..\n",
    "    DEF <- data$X..D....E....F..\n",
    "    A <- diff(A)\n",
    "    B <- diff(B)\n",
    "    C <- diff(C)\n",
    "    D <- diff(D)\n",
    "    E <- diff(E)\n",
    "    F <- diff(F)\n",
    "    AB <- diff(AB)\n",
    "    ABC <- diff(ABC)\n",
    "    DE <- diff(DE)\n",
    "    DEF <- diff(DEF)\n",
    "    df <- data.frame(A,B,C,D,E,F,AB,ABC,DE,DEF)\n",
    "    return(df)\n",
    "}"
   ]
  },
  {
   "cell_type": "code",
   "execution_count": 1,
   "metadata": {},
   "outputs": [
    {
     "name": "stdout",
     "output_type": "stream",
     "text": [
      "[1] 1\n",
      "[1] 2\n",
      "[1] 3\n",
      "[1] 4\n",
      "[1] 5\n",
      "[1] 6\n",
      "[1] 7\n",
      "[1] 8\n",
      "[1] 9\n",
      "[1] 10\n"
     ]
    }
   ],
   "source": [
    "correct <- 0\n",
    "AB_causes = c(2)\n",
    "ABC_causes = c(7)\n",
    "DE_causes = c(5)\n",
    "DEF_causes = c(9)\n",
    "for (i in 1:100){\n",
    "    num <- str_pad(i,3,pad=\"0\")\n",
    "    path <- paste(\"/Users/suhong/Desktop/UROP_Data/UROP/Synthetic/data/simu_data\",num,sep=\"\")\n",
    "    data <- read.csv(path)\n",
    "    \n",
    "    df <- pre_process(data)\n",
    "    \n",
    "    #testing causes of AB\n",
    "    causes = c()\n",
    "    for (index in 1:10){\n",
    "        if (index==7) {continue}\n",
    "        X <- df[,index]\n",
    "        Y <- df$AB\n",
    "        lag <- select_time_lags(X,thres=0.05)\n",
    "        p <- grangertest(X,Y,order=lag)[2,4]\n",
    "        if (p<0.15){causes.append(index)}\n",
    "    }\n",
    "    if (equal_list(AB_causes,causes)) {correct <- correct+1}\n",
    "    \n",
    "    # testing causes of ABC\n",
    "    causes = c()\n",
    "    for (index in 1:10){\n",
    "        if (index==8) {continue}\n",
    "        X <- df[,index]\n",
    "        Y <- df$ABC\n",
    "        lag <- select_time_lags(X,thres=0.05)\n",
    "        p <- grangertest(X,Y,order=lag)[2,4]\n",
    "        if (p<0.15){causes.append(index)}\n",
    "    }\n",
    "    if (equal_list(ABC_causes,causes)) {correct <- correct+1}\n",
    "    \n",
    "    # testing causes of DE\n",
    "    causes = c()\n",
    "    for (index in 1:10){\n",
    "        if (index==9) {continue}\n",
    "        X <- df[,index]\n",
    "        Y <- df$DE\n",
    "        lag <- select_time_lags(X,thres=0.05)\n",
    "        p <- grangertest(X,Y,order=lag)[2,4]\n",
    "        if (p<0.15){causes.append(index)}\n",
    "    }\n",
    "    if (equal_list(DE_causes,causes)) {correct <- correct+1}\n",
    "    \n",
    "    # testing causes of DEF\n",
    "    causes = c()\n",
    "    for (index in 1:10){\n",
    "        if (index=10) {continue}\n",
    "        X <- df[,index]\n",
    "        Y <- df$DEF\n",
    "        lag <- select_time_lags(X,thres=0.05)\n",
    "        p <- grangertest(X,Y,order=lag)[2,4]\n",
    "        if (p<0.15){causes.append(index)}\n",
    "    }\n",
    "    if (equal_list(DEF_causes,causes)) {correct <- correct+1}\n",
    "}\n",
    "    \n",
    "    "
   ]
  },
  {
   "cell_type": "code",
   "execution_count": 11,
   "metadata": {},
   "outputs": [
    {
     "data": {
      "text/html": [
       "TRUE"
      ],
      "text/latex": [
       "TRUE"
      ],
      "text/markdown": [
       "TRUE"
      ],
      "text/plain": [
       "[1] TRUE"
      ]
     },
     "metadata": {},
     "output_type": "display_data"
    }
   ],
   "source": [
    "a <- c(1,2,3)\n",
    "b <- c(2,3,1)\n",
    "a <- a[order(a)]\n",
    "b <- b[order(b)]\n",
    "identical(a,b)"
   ]
  },
  {
   "cell_type": "code",
   "execution_count": 14,
   "metadata": {},
   "outputs": [
    {
     "data": {
      "text/html": [
       "FALSE"
      ],
      "text/latex": [
       "FALSE"
      ],
      "text/markdown": [
       "FALSE"
      ],
      "text/plain": [
       "[1] FALSE"
      ]
     },
     "metadata": {},
     "output_type": "display_data"
    }
   ],
   "source": [
    "a <- c(1,2,3)\n",
    "b <- c(2,10,1)\n",
    "equal_list(a,b)"
   ]
  },
  {
   "cell_type": "code",
   "execution_count": 28,
   "metadata": {},
   "outputs": [],
   "source": [
    "\n",
    "haha = c(1,2,3,4,5)\n",
    "gg = c(2,3,4,5,6)\n",
    "df <- data.frame(haha,gg)"
   ]
  },
  {
   "cell_type": "code",
   "execution_count": 29,
   "metadata": {},
   "outputs": [],
   "source": [
    "haha <- diff(haha)\n",
    "dff <- data.frame(haha)"
   ]
  },
  {
   "cell_type": "code",
   "execution_count": 31,
   "metadata": {},
   "outputs": [],
   "source": [
    "dff$gg <- diff(gg)"
   ]
  },
  {
   "cell_type": "code",
   "execution_count": 32,
   "metadata": {},
   "outputs": [
    {
     "data": {
      "text/html": [
       "<table class=\"dataframe\">\n",
       "<caption>A data.frame: 4 × 2</caption>\n",
       "<thead>\n",
       "\t<tr><th scope=col>haha</th><th scope=col>gg</th></tr>\n",
       "\t<tr><th scope=col>&lt;dbl&gt;</th><th scope=col>&lt;dbl&gt;</th></tr>\n",
       "</thead>\n",
       "<tbody>\n",
       "\t<tr><td>1</td><td>1</td></tr>\n",
       "\t<tr><td>1</td><td>1</td></tr>\n",
       "\t<tr><td>1</td><td>1</td></tr>\n",
       "\t<tr><td>1</td><td>1</td></tr>\n",
       "</tbody>\n",
       "</table>\n"
      ],
      "text/latex": [
       "A data.frame: 4 × 2\n",
       "\\begin{tabular}{ll}\n",
       " haha & gg\\\\\n",
       " <dbl> & <dbl>\\\\\n",
       "\\hline\n",
       "\t 1 & 1\\\\\n",
       "\t 1 & 1\\\\\n",
       "\t 1 & 1\\\\\n",
       "\t 1 & 1\\\\\n",
       "\\end{tabular}\n"
      ],
      "text/markdown": [
       "\n",
       "A data.frame: 4 × 2\n",
       "\n",
       "| haha &lt;dbl&gt; | gg &lt;dbl&gt; |\n",
       "|---|---|\n",
       "| 1 | 1 |\n",
       "| 1 | 1 |\n",
       "| 1 | 1 |\n",
       "| 1 | 1 |\n",
       "\n"
      ],
      "text/plain": [
       "  haha gg\n",
       "1 1    1 \n",
       "2 1    1 \n",
       "3 1    1 \n",
       "4 1    1 "
      ]
     },
     "metadata": {},
     "output_type": "display_data"
    }
   ],
   "source": [
    "dff"
   ]
  },
  {
   "cell_type": "code",
   "execution_count": 224,
   "metadata": {},
   "outputs": [],
   "source": [
    "data <- read.csv(\"/Users/suhong/Desktop/UROP_Data/UROP/Synthetic/data/simu_data001.csv\")\n",
    "#data <- read.csv(\"/Users/suhong/Downloads/simu_datawq.csv\")"
   ]
  },
  {
   "cell_type": "code",
   "execution_count": 60,
   "metadata": {},
   "outputs": [],
   "source": [
    "process_df <- function(data){\n",
    "    A <- data$X..A...\n",
    "    B <- data$X..B...\n",
    "    C <- data$X..C...\n",
    "    D <- data$X..D...\n",
    "    E <- data$X..E...\n",
    "    F <- data$X..F...\n",
    "    AB <- data$X..A....B..\n",
    "    ABC <- data$X..A....B....C..\n",
    "    DE <- data$X..D....E..\n",
    "    DEF <- data$X..D....E....F..\n",
    "    A <- diff(A)\n",
    "    B <- diff(B)\n",
    "    C <- diff(C)\n",
    "    D <- diff(D)\n",
    "    E <- diff(E)\n",
    "    F <- diff(F)\n",
    "    AB <- diff(AB)\n",
    "    ABC <- diff(ABC)\n",
    "    DE <- diff(DE)\n",
    "    DEF <- diff(DEF)\n",
    "    df <- data.frame(A,B,C,D,E,F,AB,ABC,DE,DEF)\n",
    "    return(df)\n",
    "}"
   ]
  },
  {
   "cell_type": "code",
   "execution_count": 225,
   "metadata": {},
   "outputs": [],
   "source": [
    "df <- process_df(data)"
   ]
  },
  {
   "cell_type": "code",
   "execution_count": 290,
   "metadata": {},
   "outputs": [
    {
     "data": {
      "text/html": [
       "<table class=\"dataframe\">\n",
       "<caption>A data.frame: 21 × 10</caption>\n",
       "<thead>\n",
       "\t<tr><th></th><th scope=col>A</th><th scope=col>B</th><th scope=col>C</th><th scope=col>D</th><th scope=col>E</th><th scope=col>F</th><th scope=col>AB</th><th scope=col>ABC</th><th scope=col>DE</th><th scope=col>DEF</th></tr>\n",
       "\t<tr><th></th><th scope=col>&lt;int&gt;</th><th scope=col>&lt;int&gt;</th><th scope=col>&lt;int&gt;</th><th scope=col>&lt;int&gt;</th><th scope=col>&lt;int&gt;</th><th scope=col>&lt;int&gt;</th><th scope=col>&lt;int&gt;</th><th scope=col>&lt;int&gt;</th><th scope=col>&lt;int&gt;</th><th scope=col>&lt;int&gt;</th></tr>\n",
       "</thead>\n",
       "<tbody>\n",
       "\t<tr><th scope=row>100</th><td> 2</td><td> 1</td><td> 1</td><td> 1</td><td> 1</td><td> 0</td><td> 4</td><td>  6</td><td>-1</td><td>  0</td></tr>\n",
       "\t<tr><th scope=row>101</th><td> 0</td><td>-2</td><td>-1</td><td> 1</td><td> 1</td><td>-3</td><td>-1</td><td>  1</td><td> 2</td><td> -6</td></tr>\n",
       "\t<tr><th scope=row>102</th><td> 3</td><td> 0</td><td>-1</td><td> 2</td><td> 0</td><td> 0</td><td>-2</td><td> -1</td><td> 2</td><td>  0</td></tr>\n",
       "\t<tr><th scope=row>103</th><td>-1</td><td>-3</td><td>-1</td><td>-3</td><td> 2</td><td>-3</td><td>-9</td><td> -3</td><td> 1</td><td>  0</td></tr>\n",
       "\t<tr><th scope=row>104</th><td>-1</td><td> 1</td><td>-1</td><td> 4</td><td> 1</td><td> 0</td><td> 5</td><td>  4</td><td> 7</td><td>  3</td></tr>\n",
       "\t<tr><th scope=row>105</th><td> 1</td><td> 3</td><td> 0</td><td> 3</td><td> 3</td><td> 2</td><td>11</td><td>  6</td><td>-3</td><td>  5</td></tr>\n",
       "\t<tr><th scope=row>106</th><td>-1</td><td> 0</td><td> 0</td><td> 2</td><td> 1</td><td> 4</td><td>-2</td><td> 10</td><td> 4</td><td> -2</td></tr>\n",
       "\t<tr><th scope=row>107</th><td>-2</td><td>-2</td><td> 1</td><td> 0</td><td> 0</td><td> 0</td><td> 1</td><td> -1</td><td> 3</td><td>  5</td></tr>\n",
       "\t<tr><th scope=row>108</th><td> 2</td><td> 2</td><td> 0</td><td> 3</td><td>-2</td><td> 3</td><td> 0</td><td>  0</td><td> 5</td><td> 14</td></tr>\n",
       "\t<tr><th scope=row>109</th><td> 0</td><td> 1</td><td> 1</td><td> 1</td><td>-2</td><td> 1</td><td>-7</td><td>-14</td><td> 4</td><td> 53</td></tr>\n",
       "\t<tr><th scope=row>110</th><td>-1</td><td> 3</td><td> 1</td><td>-4</td><td> 0</td><td> 0</td><td> 4</td><td>  2</td><td>-3</td><td>-11</td></tr>\n",
       "\t<tr><th scope=row>111</th><td> 2</td><td>-1</td><td> 0</td><td>-1</td><td> 0</td><td> 0</td><td>-3</td><td> -7</td><td>-5</td><td>-15</td></tr>\n",
       "\t<tr><th scope=row>112</th><td>-1</td><td> 2</td><td>-1</td><td> 0</td><td>-1</td><td>-1</td><td> 2</td><td> -1</td><td>-6</td><td>-19</td></tr>\n",
       "\t<tr><th scope=row>113</th><td> 0</td><td> 1</td><td> 1</td><td> 1</td><td>-2</td><td>-1</td><td> 3</td><td>  1</td><td> 0</td><td>-21</td></tr>\n",
       "\t<tr><th scope=row>114</th><td> 1</td><td> 1</td><td> 0</td><td> 0</td><td>-1</td><td>-1</td><td>-3</td><td>  4</td><td>-5</td><td>-12</td></tr>\n",
       "\t<tr><th scope=row>115</th><td> 2</td><td> 1</td><td>-1</td><td> 0</td><td>-1</td><td> 0</td><td> 8</td><td>  5</td><td>-2</td><td> -2</td></tr>\n",
       "\t<tr><th scope=row>116</th><td> 3</td><td>-1</td><td> 3</td><td>-1</td><td>-1</td><td>-1</td><td>-3</td><td> -2</td><td>-7</td><td>  4</td></tr>\n",
       "\t<tr><th scope=row>117</th><td> 3</td><td>-2</td><td> 2</td><td>-3</td><td>-1</td><td>-1</td><td> 5</td><td> -3</td><td>-1</td><td> -3</td></tr>\n",
       "\t<tr><th scope=row>118</th><td> 0</td><td>-2</td><td> 0</td><td> 0</td><td>-1</td><td>-2</td><td> 2</td><td>  6</td><td>-1</td><td>  2</td></tr>\n",
       "\t<tr><th scope=row>119</th><td> 2</td><td> 0</td><td>-1</td><td> 0</td><td> 1</td><td> 1</td><td> 3</td><td>  4</td><td> 3</td><td>  3</td></tr>\n",
       "\t<tr><th scope=row>120</th><td> 0</td><td> 0</td><td> 5</td><td>-2</td><td>-1</td><td> 0</td><td>-1</td><td> 13</td><td> 3</td><td> -2</td></tr>\n",
       "</tbody>\n",
       "</table>\n"
      ],
      "text/latex": [
       "A data.frame: 21 × 10\n",
       "\\begin{tabular}{r|llllllllll}\n",
       "  & A & B & C & D & E & F & AB & ABC & DE & DEF\\\\\n",
       "  & <int> & <int> & <int> & <int> & <int> & <int> & <int> & <int> & <int> & <int>\\\\\n",
       "\\hline\n",
       "\t100 &  2 &  1 &  1 &  1 &  1 &  0 &  4 &   6 & -1 &   0\\\\\n",
       "\t101 &  0 & -2 & -1 &  1 &  1 & -3 & -1 &   1 &  2 &  -6\\\\\n",
       "\t102 &  3 &  0 & -1 &  2 &  0 &  0 & -2 &  -1 &  2 &   0\\\\\n",
       "\t103 & -1 & -3 & -1 & -3 &  2 & -3 & -9 &  -3 &  1 &   0\\\\\n",
       "\t104 & -1 &  1 & -1 &  4 &  1 &  0 &  5 &   4 &  7 &   3\\\\\n",
       "\t105 &  1 &  3 &  0 &  3 &  3 &  2 & 11 &   6 & -3 &   5\\\\\n",
       "\t106 & -1 &  0 &  0 &  2 &  1 &  4 & -2 &  10 &  4 &  -2\\\\\n",
       "\t107 & -2 & -2 &  1 &  0 &  0 &  0 &  1 &  -1 &  3 &   5\\\\\n",
       "\t108 &  2 &  2 &  0 &  3 & -2 &  3 &  0 &   0 &  5 &  14\\\\\n",
       "\t109 &  0 &  1 &  1 &  1 & -2 &  1 & -7 & -14 &  4 &  53\\\\\n",
       "\t110 & -1 &  3 &  1 & -4 &  0 &  0 &  4 &   2 & -3 & -11\\\\\n",
       "\t111 &  2 & -1 &  0 & -1 &  0 &  0 & -3 &  -7 & -5 & -15\\\\\n",
       "\t112 & -1 &  2 & -1 &  0 & -1 & -1 &  2 &  -1 & -6 & -19\\\\\n",
       "\t113 &  0 &  1 &  1 &  1 & -2 & -1 &  3 &   1 &  0 & -21\\\\\n",
       "\t114 &  1 &  1 &  0 &  0 & -1 & -1 & -3 &   4 & -5 & -12\\\\\n",
       "\t115 &  2 &  1 & -1 &  0 & -1 &  0 &  8 &   5 & -2 &  -2\\\\\n",
       "\t116 &  3 & -1 &  3 & -1 & -1 & -1 & -3 &  -2 & -7 &   4\\\\\n",
       "\t117 &  3 & -2 &  2 & -3 & -1 & -1 &  5 &  -3 & -1 &  -3\\\\\n",
       "\t118 &  0 & -2 &  0 &  0 & -1 & -2 &  2 &   6 & -1 &   2\\\\\n",
       "\t119 &  2 &  0 & -1 &  0 &  1 &  1 &  3 &   4 &  3 &   3\\\\\n",
       "\t120 &  0 &  0 &  5 & -2 & -1 &  0 & -1 &  13 &  3 &  -2\\\\\n",
       "\\end{tabular}\n"
      ],
      "text/markdown": [
       "\n",
       "A data.frame: 21 × 10\n",
       "\n",
       "| <!--/--> | A &lt;int&gt; | B &lt;int&gt; | C &lt;int&gt; | D &lt;int&gt; | E &lt;int&gt; | F &lt;int&gt; | AB &lt;int&gt; | ABC &lt;int&gt; | DE &lt;int&gt; | DEF &lt;int&gt; |\n",
       "|---|---|---|---|---|---|---|---|---|---|---|\n",
       "| 100 |  2 |  1 |  1 |  1 |  1 |  0 |  4 |   6 | -1 |   0 |\n",
       "| 101 |  0 | -2 | -1 |  1 |  1 | -3 | -1 |   1 |  2 |  -6 |\n",
       "| 102 |  3 |  0 | -1 |  2 |  0 |  0 | -2 |  -1 |  2 |   0 |\n",
       "| 103 | -1 | -3 | -1 | -3 |  2 | -3 | -9 |  -3 |  1 |   0 |\n",
       "| 104 | -1 |  1 | -1 |  4 |  1 |  0 |  5 |   4 |  7 |   3 |\n",
       "| 105 |  1 |  3 |  0 |  3 |  3 |  2 | 11 |   6 | -3 |   5 |\n",
       "| 106 | -1 |  0 |  0 |  2 |  1 |  4 | -2 |  10 |  4 |  -2 |\n",
       "| 107 | -2 | -2 |  1 |  0 |  0 |  0 |  1 |  -1 |  3 |   5 |\n",
       "| 108 |  2 |  2 |  0 |  3 | -2 |  3 |  0 |   0 |  5 |  14 |\n",
       "| 109 |  0 |  1 |  1 |  1 | -2 |  1 | -7 | -14 |  4 |  53 |\n",
       "| 110 | -1 |  3 |  1 | -4 |  0 |  0 |  4 |   2 | -3 | -11 |\n",
       "| 111 |  2 | -1 |  0 | -1 |  0 |  0 | -3 |  -7 | -5 | -15 |\n",
       "| 112 | -1 |  2 | -1 |  0 | -1 | -1 |  2 |  -1 | -6 | -19 |\n",
       "| 113 |  0 |  1 |  1 |  1 | -2 | -1 |  3 |   1 |  0 | -21 |\n",
       "| 114 |  1 |  1 |  0 |  0 | -1 | -1 | -3 |   4 | -5 | -12 |\n",
       "| 115 |  2 |  1 | -1 |  0 | -1 |  0 |  8 |   5 | -2 |  -2 |\n",
       "| 116 |  3 | -1 |  3 | -1 | -1 | -1 | -3 |  -2 | -7 |   4 |\n",
       "| 117 |  3 | -2 |  2 | -3 | -1 | -1 |  5 |  -3 | -1 |  -3 |\n",
       "| 118 |  0 | -2 |  0 |  0 | -1 | -2 |  2 |   6 | -1 |   2 |\n",
       "| 119 |  2 |  0 | -1 |  0 |  1 |  1 |  3 |   4 |  3 |   3 |\n",
       "| 120 |  0 |  0 |  5 | -2 | -1 |  0 | -1 |  13 |  3 |  -2 |\n",
       "\n"
      ],
      "text/plain": [
       "    A  B  C  D  E  F  AB ABC DE DEF\n",
       "100  2  1  1  1  1  0  4   6 -1   0\n",
       "101  0 -2 -1  1  1 -3 -1   1  2  -6\n",
       "102  3  0 -1  2  0  0 -2  -1  2   0\n",
       "103 -1 -3 -1 -3  2 -3 -9  -3  1   0\n",
       "104 -1  1 -1  4  1  0  5   4  7   3\n",
       "105  1  3  0  3  3  2 11   6 -3   5\n",
       "106 -1  0  0  2  1  4 -2  10  4  -2\n",
       "107 -2 -2  1  0  0  0  1  -1  3   5\n",
       "108  2  2  0  3 -2  3  0   0  5  14\n",
       "109  0  1  1  1 -2  1 -7 -14  4  53\n",
       "110 -1  3  1 -4  0  0  4   2 -3 -11\n",
       "111  2 -1  0 -1  0  0 -3  -7 -5 -15\n",
       "112 -1  2 -1  0 -1 -1  2  -1 -6 -19\n",
       "113  0  1  1  1 -2 -1  3   1  0 -21\n",
       "114  1  1  0  0 -1 -1 -3   4 -5 -12\n",
       "115  2  1 -1  0 -1  0  8   5 -2  -2\n",
       "116  3 -1  3 -1 -1 -1 -3  -2 -7   4\n",
       "117  3 -2  2 -3 -1 -1  5  -3 -1  -3\n",
       "118  0 -2  0  0 -1 -2  2   6 -1   2\n",
       "119  2  0 -1  0  1  1  3   4  3   3\n",
       "120  0  0  5 -2 -1  0 -1  13  3  -2"
      ]
     },
     "metadata": {},
     "output_type": "display_data"
    }
   ],
   "source": [
    "df[100:120,]"
   ]
  },
  {
   "cell_type": "code",
   "execution_count": 286,
   "metadata": {},
   "outputs": [
    {
     "data": {
      "text/html": [
       "<table class=\"dataframe\">\n",
       "<caption>A anova: 2 × 4</caption>\n",
       "<thead>\n",
       "\t<tr><th></th><th scope=col>Res.Df</th><th scope=col>Df</th><th scope=col>F</th><th scope=col>Pr(&gt;F)</th></tr>\n",
       "\t<tr><th></th><th scope=col>&lt;dbl&gt;</th><th scope=col>&lt;dbl&gt;</th><th scope=col>&lt;dbl&gt;</th><th scope=col>&lt;dbl&gt;</th></tr>\n",
       "</thead>\n",
       "<tbody>\n",
       "\t<tr><th scope=row>1</th><td>186</td><td>NA</td><td>      NA</td><td>        NA</td></tr>\n",
       "\t<tr><th scope=row>2</th><td>190</td><td>-4</td><td>2.667234</td><td>0.03378154</td></tr>\n",
       "</tbody>\n",
       "</table>\n"
      ],
      "text/latex": [
       "A anova: 2 × 4\n",
       "\\begin{tabular}{r|llll}\n",
       "  & Res.Df & Df & F & Pr(>F)\\\\\n",
       "  & <dbl> & <dbl> & <dbl> & <dbl>\\\\\n",
       "\\hline\n",
       "\t1 & 186 & NA &       NA &         NA\\\\\n",
       "\t2 & 190 & -4 & 2.667234 & 0.03378154\\\\\n",
       "\\end{tabular}\n"
      ],
      "text/markdown": [
       "\n",
       "A anova: 2 × 4\n",
       "\n",
       "| <!--/--> | Res.Df &lt;dbl&gt; | Df &lt;dbl&gt; | F &lt;dbl&gt; | Pr(&gt;F) &lt;dbl&gt; |\n",
       "|---|---|---|---|---|\n",
       "| 1 | 186 | NA |       NA |         NA |\n",
       "| 2 | 190 | -4 | 2.667234 | 0.03378154 |\n",
       "\n"
      ],
      "text/plain": [
       "  Res.Df Df F        Pr(>F)    \n",
       "1 186    NA       NA         NA\n",
       "2 190    -4 2.667234 0.03378154"
      ]
     },
     "metadata": {},
     "output_type": "display_data"
    },
    {
     "data": {
      "image/png": "[encoded data removed]",
      "text/plain": [
       "Plot with title “Series  z”"
      ]
     },
     "metadata": {
      "image/png": {
       "height": 420,
       "width": 420
      }
     },
     "output_type": "display_data"
    }
   ],
   "source": [
    "# grangertest(X,y,order = lag)\n",
    "X <- df$DE\n",
    "Y <- df$DEF\n",
    "lag <- select_time_lags(X,thres=0.05)\n",
    "grangertest(X,Y,order=lag)"
   ]
  },
  {
   "cell_type": "code",
   "execution_count": 275,
   "metadata": {},
   "outputs": [
    {
     "data": {
      "text/html": [
       "3"
      ],
      "text/latex": [
       "3"
      ],
      "text/markdown": [
       "3"
      ],
      "text/plain": [
       "[1] 3"
      ]
     },
     "metadata": {},
     "output_type": "display_data"
    },
    {
     "data": {
      "image/png": "[encoded data removed]",
      "text/plain": [
       "Plot with title “Series  z”"
      ]
     },
     "metadata": {
      "image/png": {
       "height": 420,
       "width": 420
      }
     },
     "output_type": "display_data"
    }
   ],
   "source": [
    "select_time_lags(X,thres=0.05)"
   ]
  },
  {
   "cell_type": "code",
   "execution_count": 276,
   "metadata": {},
   "outputs": [
    {
     "data": {
      "text/plain": [
       "\n",
       "Partial autocorrelations of series ‘X’, by lag\n",
       "\n",
       "     1      2      3      4      5      6      7      8      9     10     11 \n",
       " 0.099 -0.085  0.039  0.078  0.021  0.096  0.073 -0.090  0.013 -0.087  0.026 \n",
       "    12     13     14     15     16     17     18     19     20     21     22 \n",
       "-0.031 -0.021  0.033 -0.073 -0.010  0.029 -0.065 -0.039 -0.041 -0.026 -0.056 "
      ]
     },
     "metadata": {},
     "output_type": "display_data"
    },
    {
     "data": {
      "image/png": "[encoded data removed]",
      "text/plain": [
       "Plot with title “Series  X”"
      ]
     },
     "metadata": {
      "image/png": {
       "height": 420,
       "width": 420
      }
     },
     "output_type": "display_data"
    }
   ],
   "source": [
    "pacf <- pacf(X)\n",
    "pacf"
   ]
  },
  {
   "cell_type": "code",
   "execution_count": 291,
   "metadata": {},
   "outputs": [
    {
     "data": {
      "text/html": [
       "<style>\n",
       ".list-inline {list-style: none; margin:0; padding: 0}\n",
       ".list-inline>li {display: inline-block}\n",
       ".list-inline>li:not(:last-child)::after {content: \"\\00b7\"; padding: 0 .5ex}\n",
       "</style>\n",
       "<ol class=list-inline><li>'Res.Df'</li><li>'Df'</li><li>'F'</li><li>'Pr(&gt;F)'</li></ol>\n"
      ],
      "text/latex": [
       "\\begin{enumerate*}\n",
       "\\item 'Res.Df'\n",
       "\\item 'Df'\n",
       "\\item 'F'\n",
       "\\item 'Pr(>F)'\n",
       "\\end{enumerate*}\n"
      ],
      "text/markdown": [
       "1. 'Res.Df'\n",
       "2. 'Df'\n",
       "3. 'F'\n",
       "4. 'Pr(&gt;F)'\n",
       "\n",
       "\n"
      ],
      "text/plain": [
       "[1] \"Res.Df\" \"Df\"     \"F\"      \"Pr(>F)\""
      ]
     },
     "metadata": {},
     "output_type": "display_data"
    }
   ],
   "source": [
    "names(grangertest(X,Y,order=lag))"
   ]
  },
  {
   "cell_type": "code",
   "execution_count": 323,
   "metadata": {},
   "outputs": [
    {
     "ename": "ERROR",
     "evalue": "Error in if (any(a > 1)) {: missing value where TRUE/FALSE needed\n",
     "output_type": "error",
     "traceback": [
      "Error in if (any(a > 1)) {: missing value where TRUE/FALSE needed\nTraceback:\n"
     ]
    }
   ],
   "source": [
    "a <- grangertest(X,Y,order=lag)$'Pr(>F)'\n",
    "a <- as.numeric(a)\n",
    "if(any(a>1))\n",
    "{print(\"haha\")\n",
    "}else{\n",
    "    print(\"fuck\")}"
   ]
  },
  {
   "cell_type": "code",
   "execution_count": 329,
   "metadata": {},
   "outputs": [
    {
     "data": {
      "text/html": [
       "0.0337815375558225"
      ],
      "text/latex": [
       "0.0337815375558225"
      ],
      "text/markdown": [
       "0.0337815375558225"
      ],
      "text/plain": [
       "[1] 0.03378154"
      ]
     },
     "metadata": {},
     "output_type": "display_data"
    }
   ],
   "source": [
    "grangertest(X,Y,order=lag)[2,4]"
   ]
  },
  {
   "cell_type": "code",
   "execution_count": 310,
   "metadata": {},
   "outputs": [
    {
     "ename": "ERROR",
     "evalue": "Error in type(a): could not find function \"type\"\n",
     "output_type": "error",
     "traceback": [
      "Error in type(a): could not find function \"type\"\nTraceback:\n"
     ]
    }
   ],
   "source": [
    "type(a)"
   ]
  },
  {
   "cell_type": "code",
   "execution_count": null,
   "metadata": {},
   "outputs": [],
   "source": []
  }
 ],
 "metadata": {
  "kernelspec": {
   "display_name": "R",
   "language": "R",
   "name": "ir"
  },
  "language_info": {
   "codemirror_mode": "r",
   "file_extension": ".r",
   "mimetype": "text/x-r-source",
   "name": "R",
   "pygments_lexer": "r",
   "version": "4.2.0"
  },
  "vscode": {
   "interpreter": {
    "hash": "3f56231212a954684e4455fc18e87f1d6f60ff89596aa855e6d309fe16c87e87"
   }
  }
 },
 "nbformat": 4,
 "nbformat_minor": 2
}
