{
 "cells": [
  {
   "cell_type": "code",
   "execution_count": 59,
   "metadata": {},
   "outputs": [],
   "source": [
    "library(regclass)\n",
    "library(ppcor)\n",
    "library(tseries)\n",
    "library(stringr)\n",
    "library(lmtest)"
   ]
  },
  {
   "cell_type": "code",
   "execution_count": 55,
   "metadata": {},
   "outputs": [],
   "source": [
    "# return the R squared value of guo ~ guo_history + yin_history\n",
    "self_autoregression <- function(x,y,lags){\n",
    "    n <- length(x)\n",
    "    x_hist <- x[1:(n-lags)]\n",
    "    y_hist <- y[1:(n-lags)]\n",
    "    Y <- y[(lags+1):n]\n",
    "    m <- lm(Y~x_hist+y_hist+0)\n",
    "    return (summary(m)$r.squared)\n",
    "}\n",
    "\n",
    "# select best time lags\n",
    "select_time_lags <- function(z,thres = 0.1){\n",
    "    pacf = pacf(z,20)\n",
    "    for (i in c(1:20)){\n",
    "        if (pacf$acf[i]<=thres){\n",
    "            return (i)\n",
    "        }\n",
    "    }\n",
    "    return (-1)\n",
    "}\n",
    "\n",
    "# a helper function to remove an element with certain value from a list\n",
    "remove <- function(arr,value){\n",
    "    for(i in c(1:length(arr))){\n",
    "        if(arr[i]==value){\n",
    "            r_arr <- arr[-i]\n",
    "            return (r_arr)\n",
    "        }\n",
    "    }\n",
    "    print(\"remove failure\")\n",
    "    cat(arr,\" \",value,\"\\n\")\n",
    "    return (arr)\n",
    "}\n",
    "\n",
    "filter_cause <- function(X,y, thres = 0.1){\n",
    "    n <- dim(X)[2]\n",
    "    lags <- c()\n",
    "    R_squared = c()\n",
    "    for (i in c(1:n)){\n",
    "        lag = select_time_lags(X[,i])\n",
    "        r_sq <- self_autoregression(X[,i],y,lag)\n",
    "        R_squared = append(R_squared,c(r_sq))\n",
    "    }\n",
    "\n",
    "    cause_indices <- c()\n",
    "    remain <- c(1:n)\n",
    "    while(length(remain)>0){\n",
    "        \n",
    "        j <- which.max(R_squared)\n",
    "        cause_indices <- append(cause_indices,c(j))\n",
    "        remain <- remove(remain,j)\n",
    "        R_squared[j] <- 0\n",
    "        \n",
    "        # pruning\n",
    "        to_remove <- c()\n",
    "        for(i in remain){\n",
    "            df <- data.frame(x=X[,j],y=y,z=X[,i])\n",
    "            pcor <- pcor(df)$estimate[2,3]\n",
    "            \n",
    "            if(abs(pcor)<=thres){\n",
    "                #cat(i,\" \",pcor,\"\\n\")\n",
    "                to_remove <- append(to_remove,c(i))\n",
    "                R_squared[i] <- 0\n",
    "            }\n",
    "        }\n",
    "        for(rm in to_remove){\n",
    "            remain <- remove(remain,rm)\n",
    "        }\n",
    "    }\n",
    "    return (cause_indices)\n",
    "}\n",
    "\n",
    "equal_list <- function(a,b){\n",
    "    a <- a[order(a)]\n",
    "    b <- b[order(b)]\n",
    "    return (identical(a,b))\n",
    "}\n",
    "\n",
    "process_df <- function(data){\n",
    "    A <- data$X..A...\n",
    "    B <- data$X..B...\n",
    "    C <- data$X..C...\n",
    "    D <- data$X..D...\n",
    "    E <- data$X..E...\n",
    "    F <- data$X..F...\n",
    "    AB <- data$X..A....B..\n",
    "    ABC <- data$X..A....B....C..\n",
    "    DE <- data$X..D....E..\n",
    "    DEF <- data$X..D....E....F..\n",
    "    df <- data.frame(A,B,C,D,E,F,AB,ABC,DE,DEF)\n",
    "    return(df)\n",
    "}"
   ]
  },
  {
   "cell_type": "code",
   "execution_count": 1,
   "metadata": {},
   "outputs": [
    {
     "name": "stdout",
     "output_type": "stream",
     "text": [
      "[1] 1\n",
      "[1] 2\n",
      "[1] 3\n",
      "[1] 4\n",
      "[1] 5\n",
      "[1] 6\n",
      "[1] 7\n",
      "[1] 8\n",
      "[1] 9\n",
      "[1] 10\n"
     ]
    }
   ],
   "source": [
    "correct <- 0\n",
    "for (i in 1:100){\n",
    "    num <- str_pad(i,3,pad=\"0\")\n",
    "    path <- paste(\"/Users/suhong/Desktop/UROP_Data/UROP/Synthetic/data/simu_data\",num,sep=\"\")\n",
    "    data <- read.csv(path)\n",
    "    \n",
    "    n <- dim(data)[2]\n",
    "     <- diff(data[1:500,1])\n",
    "    df <- data.frame()\n",
    "    for (j in 2:n){\n",
    "        \n",
    "    }\n",
    "}\n",
    "    \n",
    "    "
   ]
  },
  {
   "cell_type": "code",
   "execution_count": 11,
   "metadata": {},
   "outputs": [
    {
     "data": {
      "text/html": [
       "TRUE"
      ],
      "text/latex": [
       "TRUE"
      ],
      "text/markdown": [
       "TRUE"
      ],
      "text/plain": [
       "[1] TRUE"
      ]
     },
     "metadata": {},
     "output_type": "display_data"
    }
   ],
   "source": [
    "a <- c(1,2,3)\n",
    "b <- c(2,3,1)\n",
    "a <- a[order(a)]\n",
    "b <- b[order(b)]\n",
    "identical(a,b)"
   ]
  },
  {
   "cell_type": "code",
   "execution_count": 14,
   "metadata": {},
   "outputs": [
    {
     "data": {
      "text/html": [
       "FALSE"
      ],
      "text/latex": [
       "FALSE"
      ],
      "text/markdown": [
       "FALSE"
      ],
      "text/plain": [
       "[1] FALSE"
      ]
     },
     "metadata": {},
     "output_type": "display_data"
    }
   ],
   "source": [
    "a <- c(1,2,3)\n",
    "b <- c(2,10,1)\n",
    "equal_list(a,b)"
   ]
  },
  {
   "cell_type": "code",
   "execution_count": 28,
   "metadata": {},
   "outputs": [],
   "source": [
    "\n",
    "haha = c(1,2,3,4,5)\n",
    "gg = c(2,3,4,5,6)\n",
    "df <- data.frame(haha,gg)"
   ]
  },
  {
   "cell_type": "code",
   "execution_count": 29,
   "metadata": {},
   "outputs": [],
   "source": [
    "haha <- diff(haha)\n",
    "dff <- data.frame(haha)"
   ]
  },
  {
   "cell_type": "code",
   "execution_count": 31,
   "metadata": {},
   "outputs": [],
   "source": [
    "dff$gg <- diff(gg)"
   ]
  },
  {
   "cell_type": "code",
   "execution_count": 32,
   "metadata": {},
   "outputs": [
    {
     "data": {
      "text/html": [
       "<table class=\"dataframe\">\n",
       "<caption>A data.frame: 4 × 2</caption>\n",
       "<thead>\n",
       "\t<tr><th scope=col>haha</th><th scope=col>gg</th></tr>\n",
       "\t<tr><th scope=col>&lt;dbl&gt;</th><th scope=col>&lt;dbl&gt;</th></tr>\n",
       "</thead>\n",
       "<tbody>\n",
       "\t<tr><td>1</td><td>1</td></tr>\n",
       "\t<tr><td>1</td><td>1</td></tr>\n",
       "\t<tr><td>1</td><td>1</td></tr>\n",
       "\t<tr><td>1</td><td>1</td></tr>\n",
       "</tbody>\n",
       "</table>\n"
      ],
      "text/latex": [
       "A data.frame: 4 × 2\n",
       "\\begin{tabular}{ll}\n",
       " haha & gg\\\\\n",
       " <dbl> & <dbl>\\\\\n",
       "\\hline\n",
       "\t 1 & 1\\\\\n",
       "\t 1 & 1\\\\\n",
       "\t 1 & 1\\\\\n",
       "\t 1 & 1\\\\\n",
       "\\end{tabular}\n"
      ],
      "text/markdown": [
       "\n",
       "A data.frame: 4 × 2\n",
       "\n",
       "| haha &lt;dbl&gt; | gg &lt;dbl&gt; |\n",
       "|---|---|\n",
       "| 1 | 1 |\n",
       "| 1 | 1 |\n",
       "| 1 | 1 |\n",
       "| 1 | 1 |\n",
       "\n"
      ],
      "text/plain": [
       "  haha gg\n",
       "1 1    1 \n",
       "2 1    1 \n",
       "3 1    1 \n",
       "4 1    1 "
      ]
     },
     "metadata": {},
     "output_type": "display_data"
    }
   ],
   "source": [
    "dff"
   ]
  },
  {
   "cell_type": "code",
   "execution_count": 147,
   "metadata": {},
   "outputs": [],
   "source": [
    "# data <- read.csv(\"/Users/suhong/Desktop/UROP_Data/UROP/Synthetic/data/simu_data001.csv\")\n",
    "data <- read.csv(\"/Users/suhong/Downloads/simu_datawq.csv\")"
   ]
  },
  {
   "cell_type": "code",
   "execution_count": 148,
   "metadata": {},
   "outputs": [
    {
     "data": {
      "text/html": [
       "<table class=\"dataframe\">\n",
       "<caption>A data.frame: 6 × 127</caption>\n",
       "<thead>\n",
       "\t<tr><th></th><th scope=col>X..A...</th><th scope=col>X..B...</th><th scope=col>X..C...</th><th scope=col>X..D...</th><th scope=col>X..E...</th><th scope=col>X..F...</th><th scope=col>X..G...</th><th scope=col>X..A....B..</th><th scope=col>X..A....C..</th><th scope=col>X..A....D..</th><th scope=col>⋯</th><th scope=col>X..B....D....E....F....G..</th><th scope=col>X..C....D....E....F....G..</th><th scope=col>X..A....B....C....D....E....F..</th><th scope=col>X..A....B....C....D....E....G..</th><th scope=col>X..A....B....C....D....F....G..</th><th scope=col>X..A....B....C....E....F....G..</th><th scope=col>X..A....B....D....E....F....G..</th><th scope=col>X..A....C....D....E....F....G..</th><th scope=col>X..B....C....D....E....F....G..</th><th scope=col>X..A....B....C....D....E....F....G..</th></tr>\n",
       "\t<tr><th></th><th scope=col>&lt;int&gt;</th><th scope=col>&lt;int&gt;</th><th scope=col>&lt;int&gt;</th><th scope=col>&lt;int&gt;</th><th scope=col>&lt;int&gt;</th><th scope=col>&lt;int&gt;</th><th scope=col>&lt;int&gt;</th><th scope=col>&lt;int&gt;</th><th scope=col>&lt;int&gt;</th><th scope=col>&lt;int&gt;</th><th scope=col>⋯</th><th scope=col>&lt;int&gt;</th><th scope=col>&lt;int&gt;</th><th scope=col>&lt;int&gt;</th><th scope=col>&lt;int&gt;</th><th scope=col>&lt;int&gt;</th><th scope=col>&lt;int&gt;</th><th scope=col>&lt;int&gt;</th><th scope=col>&lt;int&gt;</th><th scope=col>&lt;int&gt;</th><th scope=col>&lt;int&gt;</th></tr>\n",
       "</thead>\n",
       "<tbody>\n",
       "\t<tr><th scope=row>1</th><td>53</td><td>46</td><td>49</td><td>65</td><td>45</td><td>44</td><td>43</td><td>75</td><td>68</td><td> 95</td><td>⋯</td><td>4</td><td>31</td><td> 4</td><td> 7</td><td>8</td><td>3</td><td>2</td><td> 5</td><td>3</td><td>0</td></tr>\n",
       "\t<tr><th scope=row>2</th><td>54</td><td>46</td><td>51</td><td>65</td><td>44</td><td>43</td><td>43</td><td>80</td><td>72</td><td> 95</td><td>⋯</td><td>2</td><td>33</td><td>24</td><td> 7</td><td>5</td><td>2</td><td>3</td><td> 5</td><td>1</td><td>1</td></tr>\n",
       "\t<tr><th scope=row>3</th><td>54</td><td>47</td><td>51</td><td>65</td><td>43</td><td>43</td><td>42</td><td>76</td><td>69</td><td> 96</td><td>⋯</td><td>7</td><td>34</td><td>33</td><td> 6</td><td>6</td><td>4</td><td>6</td><td>17</td><td>9</td><td>3</td></tr>\n",
       "\t<tr><th scope=row>4</th><td>54</td><td>48</td><td>52</td><td>66</td><td>42</td><td>44</td><td>43</td><td>79</td><td>71</td><td> 97</td><td>⋯</td><td>5</td><td>37</td><td>24</td><td>11</td><td>6</td><td>6</td><td>7</td><td>18</td><td>6</td><td>6</td></tr>\n",
       "\t<tr><th scope=row>5</th><td>55</td><td>48</td><td>52</td><td>66</td><td>42</td><td>45</td><td>43</td><td>81</td><td>71</td><td>101</td><td>⋯</td><td>5</td><td>32</td><td>14</td><td>14</td><td>7</td><td>4</td><td>7</td><td>23</td><td>6</td><td>6</td></tr>\n",
       "\t<tr><th scope=row>6</th><td>54</td><td>48</td><td>52</td><td>64</td><td>42</td><td>45</td><td>43</td><td>79</td><td>69</td><td> 99</td><td>⋯</td><td>6</td><td>36</td><td> 6</td><td> 8</td><td>8</td><td>5</td><td>4</td><td>15</td><td>6</td><td>3</td></tr>\n",
       "</tbody>\n",
       "</table>\n"
      ],
      "text/latex": [
       "A data.frame: 6 × 127\n",
       "\\begin{tabular}{r|lllllllllllllllllllll}\n",
       "  & X..A... & X..B... & X..C... & X..D... & X..E... & X..F... & X..G... & X..A....B.. & X..A....C.. & X..A....D.. & ⋯ & X..B....D....E....F....G.. & X..C....D....E....F....G.. & X..A....B....C....D....E....F.. & X..A....B....C....D....E....G.. & X..A....B....C....D....F....G.. & X..A....B....C....E....F....G.. & X..A....B....D....E....F....G.. & X..A....C....D....E....F....G.. & X..B....C....D....E....F....G.. & X..A....B....C....D....E....F....G..\\\\\n",
       "  & <int> & <int> & <int> & <int> & <int> & <int> & <int> & <int> & <int> & <int> & ⋯ & <int> & <int> & <int> & <int> & <int> & <int> & <int> & <int> & <int> & <int>\\\\\n",
       "\\hline\n",
       "\t1 & 53 & 46 & 49 & 65 & 45 & 44 & 43 & 75 & 68 &  95 & ⋯ & 4 & 31 &  4 &  7 & 8 & 3 & 2 &  5 & 3 & 0\\\\\n",
       "\t2 & 54 & 46 & 51 & 65 & 44 & 43 & 43 & 80 & 72 &  95 & ⋯ & 2 & 33 & 24 &  7 & 5 & 2 & 3 &  5 & 1 & 1\\\\\n",
       "\t3 & 54 & 47 & 51 & 65 & 43 & 43 & 42 & 76 & 69 &  96 & ⋯ & 7 & 34 & 33 &  6 & 6 & 4 & 6 & 17 & 9 & 3\\\\\n",
       "\t4 & 54 & 48 & 52 & 66 & 42 & 44 & 43 & 79 & 71 &  97 & ⋯ & 5 & 37 & 24 & 11 & 6 & 6 & 7 & 18 & 6 & 6\\\\\n",
       "\t5 & 55 & 48 & 52 & 66 & 42 & 45 & 43 & 81 & 71 & 101 & ⋯ & 5 & 32 & 14 & 14 & 7 & 4 & 7 & 23 & 6 & 6\\\\\n",
       "\t6 & 54 & 48 & 52 & 64 & 42 & 45 & 43 & 79 & 69 &  99 & ⋯ & 6 & 36 &  6 &  8 & 8 & 5 & 4 & 15 & 6 & 3\\\\\n",
       "\\end{tabular}\n"
      ],
      "text/markdown": [
       "\n",
       "A data.frame: 6 × 127\n",
       "\n",
       "| <!--/--> | X..A... &lt;int&gt; | X..B... &lt;int&gt; | X..C... &lt;int&gt; | X..D... &lt;int&gt; | X..E... &lt;int&gt; | X..F... &lt;int&gt; | X..G... &lt;int&gt; | X..A....B.. &lt;int&gt; | X..A....C.. &lt;int&gt; | X..A....D.. &lt;int&gt; | ⋯ ⋯ | X..B....D....E....F....G.. &lt;int&gt; | X..C....D....E....F....G.. &lt;int&gt; | X..A....B....C....D....E....F.. &lt;int&gt; | X..A....B....C....D....E....G.. &lt;int&gt; | X..A....B....C....D....F....G.. &lt;int&gt; | X..A....B....C....E....F....G.. &lt;int&gt; | X..A....B....D....E....F....G.. &lt;int&gt; | X..A....C....D....E....F....G.. &lt;int&gt; | X..B....C....D....E....F....G.. &lt;int&gt; | X..A....B....C....D....E....F....G.. &lt;int&gt; |\n",
       "|---|---|---|---|---|---|---|---|---|---|---|---|---|---|---|---|---|---|---|---|---|---|\n",
       "| 1 | 53 | 46 | 49 | 65 | 45 | 44 | 43 | 75 | 68 |  95 | ⋯ | 4 | 31 |  4 |  7 | 8 | 3 | 2 |  5 | 3 | 0 |\n",
       "| 2 | 54 | 46 | 51 | 65 | 44 | 43 | 43 | 80 | 72 |  95 | ⋯ | 2 | 33 | 24 |  7 | 5 | 2 | 3 |  5 | 1 | 1 |\n",
       "| 3 | 54 | 47 | 51 | 65 | 43 | 43 | 42 | 76 | 69 |  96 | ⋯ | 7 | 34 | 33 |  6 | 6 | 4 | 6 | 17 | 9 | 3 |\n",
       "| 4 | 54 | 48 | 52 | 66 | 42 | 44 | 43 | 79 | 71 |  97 | ⋯ | 5 | 37 | 24 | 11 | 6 | 6 | 7 | 18 | 6 | 6 |\n",
       "| 5 | 55 | 48 | 52 | 66 | 42 | 45 | 43 | 81 | 71 | 101 | ⋯ | 5 | 32 | 14 | 14 | 7 | 4 | 7 | 23 | 6 | 6 |\n",
       "| 6 | 54 | 48 | 52 | 64 | 42 | 45 | 43 | 79 | 69 |  99 | ⋯ | 6 | 36 |  6 |  8 | 8 | 5 | 4 | 15 | 6 | 3 |\n",
       "\n"
      ],
      "text/plain": [
       "  X..A... X..B... X..C... X..D... X..E... X..F... X..G... X..A....B..\n",
       "1 53      46      49      65      45      44      43      75         \n",
       "2 54      46      51      65      44      43      43      80         \n",
       "3 54      47      51      65      43      43      42      76         \n",
       "4 54      48      52      66      42      44      43      79         \n",
       "5 55      48      52      66      42      45      43      81         \n",
       "6 54      48      52      64      42      45      43      79         \n",
       "  X..A....C.. X..A....D.. ⋯ X..B....D....E....F....G..\n",
       "1 68           95         ⋯ 4                         \n",
       "2 72           95         ⋯ 2                         \n",
       "3 69           96         ⋯ 7                         \n",
       "4 71           97         ⋯ 5                         \n",
       "5 71          101         ⋯ 5                         \n",
       "6 69           99         ⋯ 6                         \n",
       "  X..C....D....E....F....G.. X..A....B....C....D....E....F..\n",
       "1 31                          4                             \n",
       "2 33                         24                             \n",
       "3 34                         33                             \n",
       "4 37                         24                             \n",
       "5 32                         14                             \n",
       "6 36                          6                             \n",
       "  X..A....B....C....D....E....G.. X..A....B....C....D....F....G..\n",
       "1  7                              8                              \n",
       "2  7                              5                              \n",
       "3  6                              6                              \n",
       "4 11                              6                              \n",
       "5 14                              7                              \n",
       "6  8                              8                              \n",
       "  X..A....B....C....E....F....G.. X..A....B....D....E....F....G..\n",
       "1 3                               2                              \n",
       "2 2                               3                              \n",
       "3 4                               6                              \n",
       "4 6                               7                              \n",
       "5 4                               7                              \n",
       "6 5                               4                              \n",
       "  X..A....C....D....E....F....G.. X..B....C....D....E....F....G..\n",
       "1  5                              3                              \n",
       "2  5                              1                              \n",
       "3 17                              9                              \n",
       "4 18                              6                              \n",
       "5 23                              6                              \n",
       "6 15                              6                              \n",
       "  X..A....B....C....D....E....F....G..\n",
       "1 0                                   \n",
       "2 1                                   \n",
       "3 3                                   \n",
       "4 6                                   \n",
       "5 6                                   \n",
       "6 3                                   "
      ]
     },
     "metadata": {},
     "output_type": "display_data"
    }
   ],
   "source": [
    "head(data)"
   ]
  },
  {
   "cell_type": "code",
   "execution_count": 60,
   "metadata": {},
   "outputs": [],
   "source": [
    "process_df <- function(data){\n",
    "    A <- data$X..A...\n",
    "    B <- data$X..B...\n",
    "    C <- data$X..C...\n",
    "    D <- data$X..D...\n",
    "    E <- data$X..E...\n",
    "    F <- data$X..F...\n",
    "    AB <- data$X..A....B..\n",
    "    ABC <- data$X..A....B....C..\n",
    "    DE <- data$X..D....E..\n",
    "    DEF <- data$X..D....E....F..\n",
    "    A <- diff(A)\n",
    "    B <- diff(B)\n",
    "    C <- diff(C)\n",
    "    D <- diff(D)\n",
    "    E <- diff(E)\n",
    "    F <- diff(F)\n",
    "    AB <- diff(AB)\n",
    "    ABC <- diff(ABC)\n",
    "    DE <- diff(DE)\n",
    "    DEF <- diff(DEF)\n",
    "    df <- data.frame(A,B,C,D,E,F,AB,ABC,DE,DEF)\n",
    "    return(df)\n",
    "}"
   ]
  },
  {
   "cell_type": "code",
   "execution_count": 50,
   "metadata": {},
   "outputs": [],
   "source": [
    "A <- data$X..A...\n",
    "B <- data$X..B...\n",
    "C <- data$X..C...\n",
    "D <- data$X..D...\n",
    "E <- data$X..E...\n",
    "F <- data$X..F...\n",
    "AB <- data$X..A....B..\n",
    "ABC <- data$X..A....B....C..\n",
    "DE <- data$X..D....E..\n",
    "DEF <- data$X..D....E....F.."
   ]
  },
  {
   "cell_type": "code",
   "execution_count": 51,
   "metadata": {},
   "outputs": [],
   "source": [
    "df <- data.frame(A,B,C,D,E,F,AB,ABC,DE,DEF)"
   ]
  },
  {
   "cell_type": "code",
   "execution_count": 149,
   "metadata": {},
   "outputs": [],
   "source": [
    "df <- process_df(data)"
   ]
  },
  {
   "cell_type": "code",
   "execution_count": 150,
   "metadata": {},
   "outputs": [
    {
     "data": {
      "text/html": [
       "<table class=\"dataframe\">\n",
       "<caption>A data.frame: 20 × 10</caption>\n",
       "<thead>\n",
       "\t<tr><th></th><th scope=col>A</th><th scope=col>B</th><th scope=col>C</th><th scope=col>D</th><th scope=col>E</th><th scope=col>F</th><th scope=col>AB</th><th scope=col>ABC</th><th scope=col>DE</th><th scope=col>DEF</th></tr>\n",
       "\t<tr><th></th><th scope=col>&lt;int&gt;</th><th scope=col>&lt;int&gt;</th><th scope=col>&lt;int&gt;</th><th scope=col>&lt;int&gt;</th><th scope=col>&lt;int&gt;</th><th scope=col>&lt;int&gt;</th><th scope=col>&lt;int&gt;</th><th scope=col>&lt;int&gt;</th><th scope=col>&lt;int&gt;</th><th scope=col>&lt;int&gt;</th></tr>\n",
       "</thead>\n",
       "<tbody>\n",
       "\t<tr><th scope=row>1</th><td> 1</td><td> 0</td><td> 2</td><td> 0</td><td>-1</td><td>-1</td><td> 5</td><td> 5</td><td>-2</td><td>-9</td></tr>\n",
       "\t<tr><th scope=row>2</th><td> 0</td><td> 1</td><td> 0</td><td> 0</td><td>-1</td><td> 0</td><td>-4</td><td> 3</td><td>-4</td><td>-9</td></tr>\n",
       "\t<tr><th scope=row>3</th><td> 0</td><td> 1</td><td> 1</td><td> 1</td><td>-1</td><td> 1</td><td> 3</td><td> 6</td><td>-6</td><td>-9</td></tr>\n",
       "\t<tr><th scope=row>4</th><td> 1</td><td> 0</td><td> 0</td><td> 0</td><td> 0</td><td> 1</td><td> 2</td><td> 5</td><td>-2</td><td>-2</td></tr>\n",
       "\t<tr><th scope=row>5</th><td>-1</td><td> 0</td><td> 0</td><td>-2</td><td> 0</td><td> 0</td><td>-2</td><td>-4</td><td>-2</td><td>-2</td></tr>\n",
       "\t<tr><th scope=row>6</th><td> 0</td><td> 0</td><td> 2</td><td> 1</td><td> 0</td><td> 0</td><td>-1</td><td>10</td><td> 5</td><td> 9</td></tr>\n",
       "\t<tr><th scope=row>7</th><td> 0</td><td>-1</td><td> 1</td><td>-1</td><td>-1</td><td> 0</td><td> 2</td><td>12</td><td> 2</td><td> 7</td></tr>\n",
       "\t<tr><th scope=row>8</th><td> 0</td><td> 0</td><td> 0</td><td> 0</td><td>-1</td><td> 1</td><td> 5</td><td> 9</td><td> 7</td><td>16</td></tr>\n",
       "\t<tr><th scope=row>9</th><td> 0</td><td> 1</td><td>-3</td><td>-1</td><td> 1</td><td>-2</td><td> 6</td><td> 4</td><td> 6</td><td> 5</td></tr>\n",
       "\t<tr><th scope=row>10</th><td> 1</td><td> 0</td><td> 1</td><td> 1</td><td> 0</td><td>-1</td><td> 1</td><td> 8</td><td> 0</td><td>-3</td></tr>\n",
       "\t<tr><th scope=row>11</th><td> 0</td><td> 0</td><td> 0</td><td>-1</td><td>-1</td><td> 1</td><td> 7</td><td> 1</td><td> 2</td><td>19</td></tr>\n",
       "\t<tr><th scope=row>12</th><td> 1</td><td> 1</td><td>-1</td><td> 1</td><td> 1</td><td> 1</td><td> 4</td><td>-3</td><td> 8</td><td>14</td></tr>\n",
       "\t<tr><th scope=row>13</th><td> 0</td><td>-1</td><td> 2</td><td>-2</td><td>-1</td><td> 1</td><td>-5</td><td>-7</td><td>-4</td><td>-1</td></tr>\n",
       "\t<tr><th scope=row>14</th><td> 0</td><td> 0</td><td> 0</td><td>-2</td><td> 1</td><td> 0</td><td> 1</td><td> 1</td><td>-1</td><td>14</td></tr>\n",
       "\t<tr><th scope=row>15</th><td> 0</td><td> 0</td><td>-2</td><td> 0</td><td> 1</td><td> 0</td><td> 0</td><td>-2</td><td>-3</td><td> 1</td></tr>\n",
       "\t<tr><th scope=row>16</th><td> 1</td><td> 0</td><td>-1</td><td> 1</td><td> 0</td><td> 1</td><td> 0</td><td>-3</td><td> 1</td><td> 2</td></tr>\n",
       "\t<tr><th scope=row>17</th><td>-2</td><td>-1</td><td> 0</td><td> 1</td><td> 0</td><td> 0</td><td>-1</td><td>15</td><td> 7</td><td>19</td></tr>\n",
       "\t<tr><th scope=row>18</th><td> 0</td><td> 0</td><td> 0</td><td>-1</td><td> 0</td><td> 0</td><td>-2</td><td> 7</td><td> 1</td><td>-2</td></tr>\n",
       "\t<tr><th scope=row>19</th><td> 0</td><td>-2</td><td> 0</td><td> 0</td><td>-1</td><td> 0</td><td>-4</td><td> 2</td><td> 1</td><td>-2</td></tr>\n",
       "\t<tr><th scope=row>20</th><td> 1</td><td>-2</td><td>-1</td><td> 0</td><td>-1</td><td>-1</td><td>-3</td><td>-2</td><td> 2</td><td>14</td></tr>\n",
       "</tbody>\n",
       "</table>\n"
      ],
      "text/latex": [
       "A data.frame: 20 × 10\n",
       "\\begin{tabular}{r|llllllllll}\n",
       "  & A & B & C & D & E & F & AB & ABC & DE & DEF\\\\\n",
       "  & <int> & <int> & <int> & <int> & <int> & <int> & <int> & <int> & <int> & <int>\\\\\n",
       "\\hline\n",
       "\t1 &  1 &  0 &  2 &  0 & -1 & -1 &  5 &  5 & -2 & -9\\\\\n",
       "\t2 &  0 &  1 &  0 &  0 & -1 &  0 & -4 &  3 & -4 & -9\\\\\n",
       "\t3 &  0 &  1 &  1 &  1 & -1 &  1 &  3 &  6 & -6 & -9\\\\\n",
       "\t4 &  1 &  0 &  0 &  0 &  0 &  1 &  2 &  5 & -2 & -2\\\\\n",
       "\t5 & -1 &  0 &  0 & -2 &  0 &  0 & -2 & -4 & -2 & -2\\\\\n",
       "\t6 &  0 &  0 &  2 &  1 &  0 &  0 & -1 & 10 &  5 &  9\\\\\n",
       "\t7 &  0 & -1 &  1 & -1 & -1 &  0 &  2 & 12 &  2 &  7\\\\\n",
       "\t8 &  0 &  0 &  0 &  0 & -1 &  1 &  5 &  9 &  7 & 16\\\\\n",
       "\t9 &  0 &  1 & -3 & -1 &  1 & -2 &  6 &  4 &  6 &  5\\\\\n",
       "\t10 &  1 &  0 &  1 &  1 &  0 & -1 &  1 &  8 &  0 & -3\\\\\n",
       "\t11 &  0 &  0 &  0 & -1 & -1 &  1 &  7 &  1 &  2 & 19\\\\\n",
       "\t12 &  1 &  1 & -1 &  1 &  1 &  1 &  4 & -3 &  8 & 14\\\\\n",
       "\t13 &  0 & -1 &  2 & -2 & -1 &  1 & -5 & -7 & -4 & -1\\\\\n",
       "\t14 &  0 &  0 &  0 & -2 &  1 &  0 &  1 &  1 & -1 & 14\\\\\n",
       "\t15 &  0 &  0 & -2 &  0 &  1 &  0 &  0 & -2 & -3 &  1\\\\\n",
       "\t16 &  1 &  0 & -1 &  1 &  0 &  1 &  0 & -3 &  1 &  2\\\\\n",
       "\t17 & -2 & -1 &  0 &  1 &  0 &  0 & -1 & 15 &  7 & 19\\\\\n",
       "\t18 &  0 &  0 &  0 & -1 &  0 &  0 & -2 &  7 &  1 & -2\\\\\n",
       "\t19 &  0 & -2 &  0 &  0 & -1 &  0 & -4 &  2 &  1 & -2\\\\\n",
       "\t20 &  1 & -2 & -1 &  0 & -1 & -1 & -3 & -2 &  2 & 14\\\\\n",
       "\\end{tabular}\n"
      ],
      "text/markdown": [
       "\n",
       "A data.frame: 20 × 10\n",
       "\n",
       "| <!--/--> | A &lt;int&gt; | B &lt;int&gt; | C &lt;int&gt; | D &lt;int&gt; | E &lt;int&gt; | F &lt;int&gt; | AB &lt;int&gt; | ABC &lt;int&gt; | DE &lt;int&gt; | DEF &lt;int&gt; |\n",
       "|---|---|---|---|---|---|---|---|---|---|---|\n",
       "| 1 |  1 |  0 |  2 |  0 | -1 | -1 |  5 |  5 | -2 | -9 |\n",
       "| 2 |  0 |  1 |  0 |  0 | -1 |  0 | -4 |  3 | -4 | -9 |\n",
       "| 3 |  0 |  1 |  1 |  1 | -1 |  1 |  3 |  6 | -6 | -9 |\n",
       "| 4 |  1 |  0 |  0 |  0 |  0 |  1 |  2 |  5 | -2 | -2 |\n",
       "| 5 | -1 |  0 |  0 | -2 |  0 |  0 | -2 | -4 | -2 | -2 |\n",
       "| 6 |  0 |  0 |  2 |  1 |  0 |  0 | -1 | 10 |  5 |  9 |\n",
       "| 7 |  0 | -1 |  1 | -1 | -1 |  0 |  2 | 12 |  2 |  7 |\n",
       "| 8 |  0 |  0 |  0 |  0 | -1 |  1 |  5 |  9 |  7 | 16 |\n",
       "| 9 |  0 |  1 | -3 | -1 |  1 | -2 |  6 |  4 |  6 |  5 |\n",
       "| 10 |  1 |  0 |  1 |  1 |  0 | -1 |  1 |  8 |  0 | -3 |\n",
       "| 11 |  0 |  0 |  0 | -1 | -1 |  1 |  7 |  1 |  2 | 19 |\n",
       "| 12 |  1 |  1 | -1 |  1 |  1 |  1 |  4 | -3 |  8 | 14 |\n",
       "| 13 |  0 | -1 |  2 | -2 | -1 |  1 | -5 | -7 | -4 | -1 |\n",
       "| 14 |  0 |  0 |  0 | -2 |  1 |  0 |  1 |  1 | -1 | 14 |\n",
       "| 15 |  0 |  0 | -2 |  0 |  1 |  0 |  0 | -2 | -3 |  1 |\n",
       "| 16 |  1 |  0 | -1 |  1 |  0 |  1 |  0 | -3 |  1 |  2 |\n",
       "| 17 | -2 | -1 |  0 |  1 |  0 |  0 | -1 | 15 |  7 | 19 |\n",
       "| 18 |  0 |  0 |  0 | -1 |  0 |  0 | -2 |  7 |  1 | -2 |\n",
       "| 19 |  0 | -2 |  0 |  0 | -1 |  0 | -4 |  2 |  1 | -2 |\n",
       "| 20 |  1 | -2 | -1 |  0 | -1 | -1 | -3 | -2 |  2 | 14 |\n",
       "\n"
      ],
      "text/plain": [
       "   A  B  C  D  E  F  AB ABC DE DEF\n",
       "1   1  0  2  0 -1 -1  5  5  -2 -9 \n",
       "2   0  1  0  0 -1  0 -4  3  -4 -9 \n",
       "3   0  1  1  1 -1  1  3  6  -6 -9 \n",
       "4   1  0  0  0  0  1  2  5  -2 -2 \n",
       "5  -1  0  0 -2  0  0 -2 -4  -2 -2 \n",
       "6   0  0  2  1  0  0 -1 10   5  9 \n",
       "7   0 -1  1 -1 -1  0  2 12   2  7 \n",
       "8   0  0  0  0 -1  1  5  9   7 16 \n",
       "9   0  1 -3 -1  1 -2  6  4   6  5 \n",
       "10  1  0  1  1  0 -1  1  8   0 -3 \n",
       "11  0  0  0 -1 -1  1  7  1   2 19 \n",
       "12  1  1 -1  1  1  1  4 -3   8 14 \n",
       "13  0 -1  2 -2 -1  1 -5 -7  -4 -1 \n",
       "14  0  0  0 -2  1  0  1  1  -1 14 \n",
       "15  0  0 -2  0  1  0  0 -2  -3  1 \n",
       "16  1  0 -1  1  0  1  0 -3   1  2 \n",
       "17 -2 -1  0  1  0  0 -1 15   7 19 \n",
       "18  0  0  0 -1  0  0 -2  7   1 -2 \n",
       "19  0 -2  0  0 -1  0 -4  2   1 -2 \n",
       "20  1 -2 -1  0 -1 -1 -3 -2   2 14 "
      ]
     },
     "metadata": {},
     "output_type": "display_data"
    }
   ],
   "source": [
    "df[1:20,1:10]"
   ]
  },
  {
   "cell_type": "code",
   "execution_count": 157,
   "metadata": {},
   "outputs": [
    {
     "data": {
      "text/html": [
       "<table class=\"dataframe\">\n",
       "<caption>A anova: 2 × 4</caption>\n",
       "<thead>\n",
       "\t<tr><th></th><th scope=col>Res.Df</th><th scope=col>Df</th><th scope=col>F</th><th scope=col>Pr(&gt;F)</th></tr>\n",
       "\t<tr><th></th><th scope=col>&lt;dbl&gt;</th><th scope=col>&lt;dbl&gt;</th><th scope=col>&lt;dbl&gt;</th><th scope=col>&lt;dbl&gt;</th></tr>\n",
       "</thead>\n",
       "<tbody>\n",
       "\t<tr><th scope=row>1</th><td>495</td><td>NA</td><td>      NA</td><td>       NA</td></tr>\n",
       "\t<tr><th scope=row>2</th><td>496</td><td>-1</td><td>1.925356</td><td>0.1658918</td></tr>\n",
       "</tbody>\n",
       "</table>\n"
      ],
      "text/latex": [
       "A anova: 2 × 4\n",
       "\\begin{tabular}{r|llll}\n",
       "  & Res.Df & Df & F & Pr(>F)\\\\\n",
       "  & <dbl> & <dbl> & <dbl> & <dbl>\\\\\n",
       "\\hline\n",
       "\t1 & 495 & NA &       NA &        NA\\\\\n",
       "\t2 & 496 & -1 & 1.925356 & 0.1658918\\\\\n",
       "\\end{tabular}\n"
      ],
      "text/markdown": [
       "\n",
       "A anova: 2 × 4\n",
       "\n",
       "| <!--/--> | Res.Df &lt;dbl&gt; | Df &lt;dbl&gt; | F &lt;dbl&gt; | Pr(&gt;F) &lt;dbl&gt; |\n",
       "|---|---|---|---|---|\n",
       "| 1 | 495 | NA |       NA |        NA |\n",
       "| 2 | 496 | -1 | 1.925356 | 0.1658918 |\n",
       "\n"
      ],
      "text/plain": [
       "  Res.Df Df F        Pr(>F)   \n",
       "1 495    NA       NA        NA\n",
       "2 496    -1 1.925356 0.1658918"
      ]
     },
     "metadata": {},
     "output_type": "display_data"
    },
    {
     "data": {
      "image/png": "[encoded data removed]",
      "text/plain": [
       "Plot with title “Series  z”"
      ]
     },
     "metadata": {
      "image/png": {
       "height": 420,
       "width": 420
      }
     },
     "output_type": "display_data"
    }
   ],
   "source": [
    "# grangertest(X,y,order = lag)\n",
    "X <- df$B\n",
    "Y <- df$AB\n",
    "lag <- select_time_lags(X,thres=0.05)\n",
    "grangertest(X,Y,order=lag)"
   ]
  },
  {
   "cell_type": "code",
   "execution_count": 134,
   "metadata": {},
   "outputs": [
    {
     "data": {
      "text/html": [
       "3"
      ],
      "text/latex": [
       "3"
      ],
      "text/markdown": [
       "3"
      ],
      "text/plain": [
       "[1] 3"
      ]
     },
     "metadata": {},
     "output_type": "display_data"
    },
    {
     "data": {
      "image/png": "[encoded data removed]",
      "text/plain": [
       "Plot with title “Series  z”"
      ]
     },
     "metadata": {
      "image/png": {
       "height": 420,
       "width": 420
      }
     },
     "output_type": "display_data"
    }
   ],
   "source": [
    "select_time_lags(X,thres=0.01)"
   ]
  },
  {
   "cell_type": "code",
   "execution_count": null,
   "metadata": {},
   "outputs": [],
   "source": []
  }
 ],
 "metadata": {
  "kernelspec": {
   "display_name": "R",
   "language": "R",
   "name": "ir"
  },
  "language_info": {
   "codemirror_mode": "r",
   "file_extension": ".r",
   "mimetype": "text/x-r-source",
   "name": "R",
   "pygments_lexer": "r",
   "version": "4.2.0"
  },
  "vscode": {
   "interpreter": {
    "hash": "3f56231212a954684e4455fc18e87f1d6f60ff89596aa855e6d309fe16c87e87"
   }
  }
 },
 "nbformat": 4,
 "nbformat_minor": 2
}
