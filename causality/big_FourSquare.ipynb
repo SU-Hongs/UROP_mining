{
 "cells": [
  {
   "cell_type": "code",
   "execution_count": 18,
   "id": "245a1691",
   "metadata": {},
   "outputs": [],
   "source": [
    "import pandas as pd\n",
    "import numpy as np \n",
    "import re"
   ]
  },
  {
   "cell_type": "code",
   "execution_count": 19,
   "id": "ea3fc59d",
   "metadata": {},
   "outputs": [],
   "source": [
    "category_name = pd.read_csv(\"categories_names.csv\",header = None,names = ['id','name'])\n",
    "category_name = category_name.dropna()"
   ]
  },
  {
   "cell_type": "code",
   "execution_count": 20,
   "id": "16d1427d",
   "metadata": {},
   "outputs": [],
   "source": [
    "checkins = pd.read_csv(\"checkins.csv\")\n",
    "checkins = checkins.dropna()"
   ]
  },
  {
   "cell_type": "code",
   "execution_count": 21,
   "id": "0f867ae0",
   "metadata": {},
   "outputs": [],
   "source": [
    "venues = pd.read_csv(\"venues.csv\",usecols = [0,5],names = ['vid','id'])\n",
    "venues = venues.dropna()\n",
    "mask = venues['id'].apply(lambda x: x[0].isdigit())\n",
    "venues = venues[mask]"
   ]
  },
  {
   "cell_type": "code",
   "execution_count": 22,
   "id": "268a7fa2",
   "metadata": {},
   "outputs": [],
   "source": [
    "df = venues.join(category_name.set_index('id'), on='id')\n",
    "df = df.dropna()\n",
    "pre_df = checkins.join(df.set_index('vid'), on='vid')\n",
    "mask = pre_df['name'].apply(lambda x:not (isinstance(x,int) or isinstance(x,float)))\n",
    "pre_df = pre_df[mask]"
   ]
  },
  {
   "cell_type": "code",
   "execution_count": 23,
   "id": "0e29ab30",
   "metadata": {},
   "outputs": [
    {
     "data": {
      "text/plain": [
       "640"
      ]
     },
     "execution_count": 23,
     "metadata": {},
     "output_type": "execute_result"
    }
   ],
   "source": [
    "len(pre_df[\"name\"].unique())"
   ]
  },
  {
   "cell_type": "code",
   "execution_count": 24,
   "id": "3f54f2b2",
   "metadata": {},
   "outputs": [],
   "source": [
    "def big_vc_name(name:str):\n",
    "    if 'Restaurant' in name or 'Cafeteria' in name or name in ['BBQ Joint','Fish & Chips Shop','Fried Chicken Joint','Salad Place',\n",
    "    'Steakhouse','Breakfast Spot','Burrito Place','Sandwich Place','Ramen /  Noodle House','Burger Joint',\n",
    "    'Taco Place', 'Hot Dog Joint','Wings Joint','Soup Place','Pizza Place','cafe','Diner','Mac & Cheese Joint','Café',\n",
    "    'Buffet','Noodle House','Street Food Gathering','Pelmeni House']: \n",
    "        return 'Restaurant'\n",
    "    elif name in ['Deli / Bodega','Snack Place','Ice Cream Shop','Candy Store',\n",
    "    'Bagel Shop','Food Truck','Cupcake Shop','Bakery','Donut Shop',\n",
    "    'Dessert Shop','Food','Food & Drink Shop','Bubble Tea Shop','Food Court','Frozen Yogurt',\n",
    "        'Pie Shop','Cheese Shop','Chocolate Shop','Creperie','Smoothie Shop','Gourmet Shop']:\n",
    "        return 'Food & Snack'\n",
    "    elif name.endswith('School') or \\\n",
    "    (name.startswith('College') and name.endswith('Building')) or  name in ['College Academic Building','University',\n",
    "    'Community College','College & University','General College & University','Student Center','Preschool',\n",
    "        'College Lab','College Library','College Classroom']:\n",
    "        return 'School'\n",
    "    elif 'Gym' in name or 'Basketball Court' in name or ('Sports' in name and name != 'Sports Bar') or 'Stadium' in name or name in ['Playground','Bowling Alley','Pool Hall','Ski Area',\n",
    "    'Gym / Fitness Center','Pool','Athletic & Sport','Baseball Field',\n",
    "    'Tennis Court','Skating Rink', 'Athletics & Sports','Volleyball Court','Soccer Field','Golf Course',\n",
    "    'College Football Field','Martial Arts Dojo','College Soccer Field','Cricket Ground',\n",
    "        'Hockey Arena','Hotel Pool','Disc Golf','Yoga Studio','College Track','Cycle Studio','Surf Spot','Gun Range',\n",
    "        'Mini Golf','Salsa Club']:\n",
    "        return 'Place for Sports'\n",
    "    elif 'Ferry' in name or name in ['Bus Station','Light Rail','Train Station','Taxi','Airport','Subway','Metro Station',\n",
    "        'Train','Pier','Bus Stop','Bus Line','Airport Terminal','Tram Station','Light Rail Station','Plane','Airport Tram',\n",
    "        'Cable Car']:\n",
    "        return 'Transportation'\n",
    "    elif 'Museum' in name or name in ['Public Art','Arts & Entertainment',\n",
    "    'Historic Site','Arts & Crafts Store','Art Gallery','Sculpture Garden',\n",
    "    'Antique Shop','Thrift / Vintage Store','Outdoor Sculpture','Performing Arts Venue',\n",
    "            'College Theater','Theater','Dance Studio','Cultural Center','Street Art']:\n",
    "        return 'History, Museum & Arts'\n",
    "    elif name in ['Nail Salon','Salon / Barbershop','Tanning Salon','Cosmetics Shop','Spa / Massage','Massage Studio','Spa',\n",
    "    'Tattoo Parlor']:\n",
    "        return 'Beauty, Cosmetology & Hairdressing'\n",
    "    elif name in ['Motorcycle Shop','Board Shop','Bike Rental / Bike Share',\n",
    "    'Rental Car Location','Automotive Shop','Bike Shop']:\n",
    "        return 'Vehicle Shop & Tental'\n",
    "    elif name in ['Gas Station / Garage','Car Wash','Parking','Car Dealership','Auto Garage']:\n",
    "        return 'Vehicle-Related Place'\n",
    "    elif 'Movie Theater'in name or name in ['Comedy Club','Casino',\n",
    "    'Tea Room','Other Nightlife','General Entertainment',\n",
    "    'Nightlife Spot',\n",
    "    'Internet Cafe','Coffee Shop','Gaming Cafe',\n",
    "    'Arcade','Nightclub','Recreation Center',\n",
    "    'Strip Club','Indie Theater','Plaza',\n",
    "    'Aquarium','College Rec Center','Circus']:\n",
    "        return 'Indoor Entertainment'\n",
    "    elif 'Park' in name or name in ['Racetrack','Harbor / Marina','Outdoors & Recreation','Zoo','Park',\n",
    "    'Beach','Other Great Outdoors','Scenic Lookout','Garden','Garden Center','Campground','River',\n",
    "        'Hot Spring','Botanical Garden','Island','Volcano','Mountain','Castle','Lake','College Quad',\n",
    "            'Monument / Landmark','Nudist Beach','Resort','Palace','Pedestrian Plaza','Forest']:\n",
    "        return 'Outdoor Entertainment'\n",
    "    elif name in ['Spiritual Center','Church','Synagogue','Shrine','Mosque','Temple','Monastery',]:\n",
    "        return 'Religion & Spirituality'\n",
    "    elif name in ['Sorority House','Event Space','Fraternity House','Social Club','Club House','Community Center','Neighborhood']:\n",
    "        return 'Place for Socializing'\n",
    "    elif name in ['Flea Market','Market','Fair','Department Store','Convenience Store','Mall',\n",
    "                'Fish Market','Farmers Market','Fruit & Vegetable Store','Street Fair', 'Miscellaneous Shop',\n",
    "                 'Grocery Store','Supermarket','Warehouse Store','Organic Grocery','Big Box Store',\n",
    "                 'Christmas Market','Pop-Up Shop']:\n",
    "        return 'Grocery & Market'\n",
    "    elif name in ['General Travel','Travel & Transport','Travel Lounge','Tourist Information Center',\n",
    "        'Travel Agency','Airport Gate','Airport Lounge']:\n",
    "        return 'Travel-Related Place'\n",
    "    elif name in ['Jewelry Store','Clothing Store','Bridal Shop','Lingerie Store',\n",
    "            \"Women's Store\",\"Men's Store\",'Shoe Store','Tailor Shop','Shoe Repair','Leather Goods Store']:\n",
    "        return 'Clothing & Jewelry'\n",
    "    elif 'Dispensary' in name or name in ['Drugstore / Pharmacy','Medical Center','Hospital','Emergency Room',\n",
    "        'Eye Doctor','Chiropractor','Acupuncturist']:\n",
    "        return 'Medical-Related Place'\n",
    "    elif name in ['Pet Service','Pet Store','Animal Shelter','Dog Run','Veterinarian']:\n",
    "        return 'Pet-Related Place'\n",
    "    elif 'Residence' in name or \\\n",
    "    name in ['Residential Building (Apartment / Condo)','Home (private)','College Residence Hall']:\n",
    "        return 'Residence'\n",
    "    elif 'Pub' in name or 'Bar' in name or name in ['Winery','Distillery','Brewery','Bistro','Beer Store','Wine Shop','Speakeasy',\n",
    "                'Gastropub','Beer Garden','Liquor Store','Smoke Shop']:\n",
    "        return 'Tobacco & Alcohol'\n",
    "    elif name in ['Video Store','Gift Shop','Video Game Store','Toy / Game Store','Record Shop','Hobby Shop','Flower Shop',\n",
    "                 'Boutique','Comic Shop']:\n",
    "        return 'Shop Related to Entertainment'\n",
    "    elif name in ['Planetarium','Bookstore','Library','College Bookstore','Used Bookstore','Newsstand']:\n",
    "        return 'Info & Education'\n",
    "    elif name in ['Electronics Store','Mobile Phone Shop','IT Services']:\n",
    "        return 'IT & Electronics'\n",
    "    elif name in ['Camera Store','Photography Lab','Photography Studio',]:\n",
    "        return 'Photography'\n",
    "    elif 'Office'  in name or name in ['Coworking Space']:\n",
    "        return 'Office'\n",
    "    elif name.endswith('Hotel') or name in ['Bed & Breakfast','Motel','Hostel','Boarding House']:\n",
    "        return 'Hotel'\n",
    "    elif name in ['Convention Center','Conference','Meeting Room','Conference Room',]:\n",
    "        return 'Convention Center'\n",
    "    elif name in ['Music Venue','Music Store','Rock Club','Jazz Club','Concert Hall','Music Festival','Opera House',]:\n",
    "        return 'Music'\n",
    "    elif name in ['Tech Startup','Laboratory']:\n",
    "        return 'Technology'\n",
    "    elif name in ['Radio Station','TV Station','Recording Studio']:\n",
    "        return 'Media'\n",
    "    elif name in ['Housing Development','Government Building','Voting Booth','Police Station','Embassy / Consulate',\n",
    "    'Capitol Building','Courthouse','City Hall']:\n",
    "        return 'Municipal'\n",
    "    elif name in ['Kids Store','Daycare','Baby Store',]:\n",
    "        return 'Child & Elderly Care'\n",
    "    elif name in ['Print Shop','Stationery Store']:\n",
    "        return 'Office Supplies & Service'\n",
    "    elif name in ['Furniture / Home Store','Hardware Store','Road',\n",
    "    'Fire Station','Trail','Multiplex','Laundry Service','Bridge',\n",
    "    'Lounge','Stables',\n",
    "    'Track','Non-Profit','Advertising Agency',\n",
    "    'Storage Facility','Butcher','Roof Deck',\n",
    "    'Sporting Goods Shop','Tunnel','Lighthouse',\n",
    "    'Street','Accessories Store','Toll Plaza','Auditorium','Platform',\n",
    "    'Discount Store','Design Studio','Laundromat','Optical Shop','College Auditorium',\n",
    "    'Military Base','Moving Target','Other Event','Festival',\n",
    "    'Outdoor Supply Store','Financial or Legal Service','Factory','Convention','Health Food Store','Intersection',\n",
    "    'Farm', 'City', 'Field','Shipping Store','Prison','Credit Union','Lawyer','Assisted Living','Churrascaria',\n",
    "    'Parade','Adult Boutique','Country','Border Crossing','Bath House','Rest Area','Village','Recycling Facility',\n",
    "    'Recruiting Agency','Fabric Shop', 'Professional & Other Places',\n",
    "    'Shop & Service','Blini House','Warehouse','Other Repair Shop','Funeral Home','Cemetery','Building',\n",
    "    'Bank']:\n",
    "        return 'Others'\n",
    "    else: return name"
   ]
  },
  {
   "cell_type": "code",
   "execution_count": 25,
   "id": "b3321c5a",
   "metadata": {},
   "outputs": [
    {
     "data": {
      "text/html": [
       "<div>\n",
       "<style scoped>\n",
       "    .dataframe tbody tr th:only-of-type {\n",
       "        vertical-align: middle;\n",
       "    }\n",
       "\n",
       "    .dataframe tbody tr th {\n",
       "        vertical-align: top;\n",
       "    }\n",
       "\n",
       "    .dataframe thead th {\n",
       "        text-align: right;\n",
       "    }\n",
       "</style>\n",
       "<table border=\"1\" class=\"dataframe\">\n",
       "  <thead>\n",
       "    <tr style=\"text-align: right;\">\n",
       "      <th></th>\n",
       "      <th>uid</th>\n",
       "      <th>vid</th>\n",
       "      <th>time</th>\n",
       "      <th>city</th>\n",
       "      <th>id</th>\n",
       "      <th>name</th>\n",
       "    </tr>\n",
       "  </thead>\n",
       "  <tbody>\n",
       "    <tr>\n",
       "      <th>0</th>\n",
       "      <td>73102</td>\n",
       "      <td>4c023a7ecd1895211175f4b3</td>\n",
       "      <td>2010-10-25T17:43:36</td>\n",
       "      <td>london</td>\n",
       "      <td>4bf58dd8d48988d104951735</td>\n",
       "      <td>Boutique</td>\n",
       "    </tr>\n",
       "    <tr>\n",
       "      <th>1</th>\n",
       "      <td>98102</td>\n",
       "      <td>4c96a0c7533aa0936f81d345</td>\n",
       "      <td>2010-11-05T02:54:05</td>\n",
       "      <td>chicago</td>\n",
       "      <td>4bf58dd8d48988d103941735</td>\n",
       "      <td>Home (private)</td>\n",
       "    </tr>\n",
       "    <tr>\n",
       "      <th>2</th>\n",
       "      <td>35258</td>\n",
       "      <td>4b527fdcf964a520028027e3</td>\n",
       "      <td>2010-07-24T03:10:24</td>\n",
       "      <td>newyork</td>\n",
       "      <td>4bf58dd8d48988d116941735</td>\n",
       "      <td>Bar</td>\n",
       "    </tr>\n",
       "    <tr>\n",
       "      <th>3</th>\n",
       "      <td>86588</td>\n",
       "      <td>4b468c13f964a520fc2326e3</td>\n",
       "      <td>2010-08-25T16:54:33</td>\n",
       "      <td>chicago</td>\n",
       "      <td>4eb1bfa43b7b52c0e1adc2e8</td>\n",
       "      <td>Peruvian Restaurant</td>\n",
       "    </tr>\n",
       "    <tr>\n",
       "      <th>4</th>\n",
       "      <td>23398</td>\n",
       "      <td>460ec5d6f964a52019451fe3</td>\n",
       "      <td>2010-10-01T21:27:15</td>\n",
       "      <td>losangeles</td>\n",
       "      <td>4bf58dd8d48988d1c9941735</td>\n",
       "      <td>Ice Cream Shop</td>\n",
       "    </tr>\n",
       "    <tr>\n",
       "      <th>...</th>\n",
       "      <td>...</td>\n",
       "      <td>...</td>\n",
       "      <td>...</td>\n",
       "      <td>...</td>\n",
       "      <td>...</td>\n",
       "      <td>...</td>\n",
       "    </tr>\n",
       "    <tr>\n",
       "      <th>4458730</th>\n",
       "      <td>3083</td>\n",
       "      <td>4adcda57f964a5209a4321e3</td>\n",
       "      <td>2010-10-07T21:43:50</td>\n",
       "      <td>barcelona</td>\n",
       "      <td>4bf58dd8d48988d136941735</td>\n",
       "      <td>Opera House</td>\n",
       "    </tr>\n",
       "    <tr>\n",
       "      <th>4458731</th>\n",
       "      <td>157475</td>\n",
       "      <td>4a106621f964a520ba761fe3</td>\n",
       "      <td>2010-11-02T12:49:51</td>\n",
       "      <td>washington</td>\n",
       "      <td>4bf58dd8d48988d12d941735</td>\n",
       "      <td>Monument / Landmark</td>\n",
       "    </tr>\n",
       "    <tr>\n",
       "      <th>4458732</th>\n",
       "      <td>59358</td>\n",
       "      <td>49ecc67bf964a52083671fe3</td>\n",
       "      <td>2010-09-06T23:38:06</td>\n",
       "      <td>chicago</td>\n",
       "      <td>4bf58dd8d48988d1e0931735</td>\n",
       "      <td>Coffee Shop</td>\n",
       "    </tr>\n",
       "    <tr>\n",
       "      <th>4458733</th>\n",
       "      <td>115256</td>\n",
       "      <td>4cd9525f2a805481755fa02c</td>\n",
       "      <td>2011-01-03T09:12:18</td>\n",
       "      <td>indianapolis</td>\n",
       "      <td>4bf58dd8d48988d124941735</td>\n",
       "      <td>Office</td>\n",
       "    </tr>\n",
       "    <tr>\n",
       "      <th>4458734</th>\n",
       "      <td>134336</td>\n",
       "      <td>49cff672f964a520e95a1fe3</td>\n",
       "      <td>2010-05-21T18:57:32</td>\n",
       "      <td>losangeles</td>\n",
       "      <td>4bf58dd8d48988d1fd941735</td>\n",
       "      <td>Mall</td>\n",
       "    </tr>\n",
       "  </tbody>\n",
       "</table>\n",
       "<p>4390727 rows × 6 columns</p>\n",
       "</div>"
      ],
      "text/plain": [
       "            uid                       vid                 time          city  \\\n",
       "0         73102  4c023a7ecd1895211175f4b3  2010-10-25T17:43:36        london   \n",
       "1         98102  4c96a0c7533aa0936f81d345  2010-11-05T02:54:05       chicago   \n",
       "2         35258  4b527fdcf964a520028027e3  2010-07-24T03:10:24       newyork   \n",
       "3         86588  4b468c13f964a520fc2326e3  2010-08-25T16:54:33       chicago   \n",
       "4         23398  460ec5d6f964a52019451fe3  2010-10-01T21:27:15    losangeles   \n",
       "...         ...                       ...                  ...           ...   \n",
       "4458730    3083  4adcda57f964a5209a4321e3  2010-10-07T21:43:50     barcelona   \n",
       "4458731  157475  4a106621f964a520ba761fe3  2010-11-02T12:49:51    washington   \n",
       "4458732   59358  49ecc67bf964a52083671fe3  2010-09-06T23:38:06       chicago   \n",
       "4458733  115256  4cd9525f2a805481755fa02c  2011-01-03T09:12:18  indianapolis   \n",
       "4458734  134336  49cff672f964a520e95a1fe3  2010-05-21T18:57:32    losangeles   \n",
       "\n",
       "                               id                 name  \n",
       "0        4bf58dd8d48988d104951735             Boutique  \n",
       "1        4bf58dd8d48988d103941735       Home (private)  \n",
       "2        4bf58dd8d48988d116941735                  Bar  \n",
       "3        4eb1bfa43b7b52c0e1adc2e8  Peruvian Restaurant  \n",
       "4        4bf58dd8d48988d1c9941735       Ice Cream Shop  \n",
       "...                           ...                  ...  \n",
       "4458730  4bf58dd8d48988d136941735          Opera House  \n",
       "4458731  4bf58dd8d48988d12d941735  Monument / Landmark  \n",
       "4458732  4bf58dd8d48988d1e0931735          Coffee Shop  \n",
       "4458733  4bf58dd8d48988d124941735               Office  \n",
       "4458734  4bf58dd8d48988d1fd941735                 Mall  \n",
       "\n",
       "[4390727 rows x 6 columns]"
      ]
     },
     "execution_count": 25,
     "metadata": {},
     "output_type": "execute_result"
    }
   ],
   "source": [
    "pre_df"
   ]
  },
  {
   "cell_type": "code",
   "execution_count": 26,
   "id": "72024603",
   "metadata": {},
   "outputs": [
    {
     "name": "stderr",
     "output_type": "stream",
     "text": [
      "C:\\conda_tmp\\ipykernel_23476\\4146568136.py:6: SettingWithCopyWarning: \n",
      "A value is trying to be set on a copy of a slice from a DataFrame.\n",
      "Try using .loc[row_indexer,col_indexer] = value instead\n",
      "\n",
      "See the caveats in the documentation: https://pandas.pydata.org/pandas-docs/stable/user_guide/indexing.html#returning-a-view-versus-a-copy\n",
      "  pre_df['big_name'] = pre_df['name'].apply(big_vc_name)\n"
     ]
    }
   ],
   "source": [
    "counting = pre_df.groupby(['name']).count()\n",
    "inx = counting['id'].apply(lambda x: x>=100)\n",
    "notdrop = list(counting[inx].index)\n",
    "mask  = pre_df['name'].apply(lambda x: x in notdrop)\n",
    "pre_df = pre_df[mask]\n",
    "pre_df['big_name'] = pre_df['name'].apply(big_vc_name)\n",
    "# counting = pre_df.groupby(['big_name']).count()\n",
    "# inx = counting['name'].apply(lambda x:x>=100)\n",
    "# notdrop = list(counting[inx].index)\n",
    "# mask = pre_df['name'].apply(lambda x: x in notdrop)\n",
    "# pre_df = pre_df[mask]\n",
    "pdf = pre_df[pre_df['big_name']!='haha']"
   ]
  },
  {
   "cell_type": "code",
   "execution_count": 27,
   "id": "ce131842",
   "metadata": {},
   "outputs": [
    {
     "data": {
      "text/plain": [
       "array(['Shop Related to Entertainment', 'Residence', 'Tobacco & Alcohol',\n",
       "       'Restaurant', 'Food & Snack', 'Music', 'Transportation',\n",
       "       'Place for Sports', 'Indoor Entertainment',\n",
       "       'Place for Socializing', 'Others',\n",
       "       'Beauty, Cosmetology & Hairdressing', 'Hotel',\n",
       "       'History, Museum & Arts', 'Office', 'School',\n",
       "       'Medical-Related Place', 'Grocery & Market',\n",
       "       'Outdoor Entertainment', 'Technology', 'Travel-Related Place',\n",
       "       'IT & Electronics', 'Municipal', 'Clothing & Jewelry',\n",
       "       'Convention Center', 'Info & Education', 'Media',\n",
       "       'Vehicle-Related Place', 'Religion & Spirituality',\n",
       "       'Office Supplies & Service', 'Pet-Related Place', 'Photography',\n",
       "       'Child & Elderly Care', 'Vehicle Shop & Tental'], dtype=object)"
      ]
     },
     "execution_count": 27,
     "metadata": {},
     "output_type": "execute_result"
    }
   ],
   "source": [
    "# pdf = pre_df[pre_df['big_name']!='haha']\n",
    "# pdf.shape\n",
    "pdf['big_name'].unique()"
   ]
  },
  {
   "cell_type": "code",
   "execution_count": 28,
   "id": "49f1caa6",
   "metadata": {},
   "outputs": [
    {
     "data": {
      "text/html": [
       "<div>\n",
       "<style scoped>\n",
       "    .dataframe tbody tr th:only-of-type {\n",
       "        vertical-align: middle;\n",
       "    }\n",
       "\n",
       "    .dataframe tbody tr th {\n",
       "        vertical-align: top;\n",
       "    }\n",
       "\n",
       "    .dataframe thead th {\n",
       "        text-align: right;\n",
       "    }\n",
       "</style>\n",
       "<table border=\"1\" class=\"dataframe\">\n",
       "  <thead>\n",
       "    <tr style=\"text-align: right;\">\n",
       "      <th></th>\n",
       "      <th>uid</th>\n",
       "      <th>vid</th>\n",
       "      <th>time</th>\n",
       "      <th>city</th>\n",
       "      <th>id</th>\n",
       "    </tr>\n",
       "    <tr>\n",
       "      <th>name</th>\n",
       "      <th></th>\n",
       "      <th></th>\n",
       "      <th></th>\n",
       "      <th></th>\n",
       "      <th></th>\n",
       "    </tr>\n",
       "  </thead>\n",
       "  <tbody>\n",
       "    <tr>\n",
       "      <th>ATM</th>\n",
       "      <td>69</td>\n",
       "      <td>69</td>\n",
       "      <td>69</td>\n",
       "      <td>69</td>\n",
       "      <td>69</td>\n",
       "    </tr>\n",
       "    <tr>\n",
       "      <th>Acai House</th>\n",
       "      <td>22</td>\n",
       "      <td>22</td>\n",
       "      <td>22</td>\n",
       "      <td>22</td>\n",
       "      <td>22</td>\n",
       "    </tr>\n",
       "    <tr>\n",
       "      <th>Accessories Store</th>\n",
       "      <td>1623</td>\n",
       "      <td>1623</td>\n",
       "      <td>1623</td>\n",
       "      <td>1623</td>\n",
       "      <td>1623</td>\n",
       "    </tr>\n",
       "    <tr>\n",
       "      <th>Acupuncturist</th>\n",
       "      <td>253</td>\n",
       "      <td>253</td>\n",
       "      <td>253</td>\n",
       "      <td>253</td>\n",
       "      <td>253</td>\n",
       "    </tr>\n",
       "    <tr>\n",
       "      <th>Adult Boutique</th>\n",
       "      <td>272</td>\n",
       "      <td>272</td>\n",
       "      <td>272</td>\n",
       "      <td>272</td>\n",
       "      <td>272</td>\n",
       "    </tr>\n",
       "    <tr>\n",
       "      <th>...</th>\n",
       "      <td>...</td>\n",
       "      <td>...</td>\n",
       "      <td>...</td>\n",
       "      <td>...</td>\n",
       "      <td>...</td>\n",
       "    </tr>\n",
       "    <tr>\n",
       "      <th>Winery</th>\n",
       "      <td>1872</td>\n",
       "      <td>1872</td>\n",
       "      <td>1872</td>\n",
       "      <td>1872</td>\n",
       "      <td>1872</td>\n",
       "    </tr>\n",
       "    <tr>\n",
       "      <th>Wings Joint</th>\n",
       "      <td>4631</td>\n",
       "      <td>4631</td>\n",
       "      <td>4631</td>\n",
       "      <td>4631</td>\n",
       "      <td>4631</td>\n",
       "    </tr>\n",
       "    <tr>\n",
       "      <th>Women's Store</th>\n",
       "      <td>3631</td>\n",
       "      <td>3631</td>\n",
       "      <td>3631</td>\n",
       "      <td>3631</td>\n",
       "      <td>3631</td>\n",
       "    </tr>\n",
       "    <tr>\n",
       "      <th>Yoga Studio</th>\n",
       "      <td>10236</td>\n",
       "      <td>10236</td>\n",
       "      <td>10236</td>\n",
       "      <td>10236</td>\n",
       "      <td>10236</td>\n",
       "    </tr>\n",
       "    <tr>\n",
       "      <th>Zoo</th>\n",
       "      <td>6841</td>\n",
       "      <td>6841</td>\n",
       "      <td>6841</td>\n",
       "      <td>6841</td>\n",
       "      <td>6841</td>\n",
       "    </tr>\n",
       "  </tbody>\n",
       "</table>\n",
       "<p>640 rows × 5 columns</p>\n",
       "</div>"
      ],
      "text/plain": [
       "                     uid    vid   time   city     id\n",
       "name                                                \n",
       "ATM                   69     69     69     69     69\n",
       "Acai House            22     22     22     22     22\n",
       "Accessories Store   1623   1623   1623   1623   1623\n",
       "Acupuncturist        253    253    253    253    253\n",
       "Adult Boutique       272    272    272    272    272\n",
       "...                  ...    ...    ...    ...    ...\n",
       "Winery              1872   1872   1872   1872   1872\n",
       "Wings Joint         4631   4631   4631   4631   4631\n",
       "Women's Store       3631   3631   3631   3631   3631\n",
       "Yoga Studio        10236  10236  10236  10236  10236\n",
       "Zoo                 6841   6841   6841   6841   6841\n",
       "\n",
       "[640 rows x 5 columns]"
      ]
     },
     "execution_count": 28,
     "metadata": {},
     "output_type": "execute_result"
    }
   ],
   "source": [
    "counting"
   ]
  },
  {
   "cell_type": "code",
   "execution_count": 29,
   "id": "32d0fdee",
   "metadata": {},
   "outputs": [],
   "source": [
    "# # print out\n",
    "# for name in names:\n",
    "#     print(\"{}.csv\".format(name))"
   ]
  },
  {
   "cell_type": "code",
   "execution_count": 30,
   "id": "8a64306a",
   "metadata": {
    "scrolled": false
   },
   "outputs": [
    {
     "data": {
      "text/plain": [
       "array(['Shop Related to Entertainment', 'Residence', 'Tobacco & Alcohol',\n",
       "       'Restaurant', 'Food & Snack', 'Music', 'Transportation',\n",
       "       'Place for Sports', 'Indoor Entertainment',\n",
       "       'Place for Socializing', 'Others',\n",
       "       'Beauty, Cosmetology & Hairdressing', 'Hotel',\n",
       "       'History, Museum & Arts', 'Office', 'School',\n",
       "       'Medical-Related Place', 'Grocery & Market',\n",
       "       'Outdoor Entertainment', 'Technology', 'Travel-Related Place',\n",
       "       'IT & Electronics', 'Municipal', 'Clothing & Jewelry',\n",
       "       'Convention Center', 'Info & Education', 'Media',\n",
       "       'Vehicle-Related Place', 'Religion & Spirituality',\n",
       "       'Office Supplies & Service', 'Pet-Related Place', 'Photography',\n",
       "       'Child & Elderly Care', 'Vehicle Shop & Tental'], dtype=object)"
      ]
     },
     "execution_count": 30,
     "metadata": {},
     "output_type": "execute_result"
    }
   ],
   "source": [
    "pre_df['big_name'].unique()"
   ]
  },
  {
   "cell_type": "code",
   "execution_count": 31,
   "id": "e9a9a159",
   "metadata": {},
   "outputs": [
    {
     "data": {
      "text/plain": [
       "34"
      ]
     },
     "execution_count": 31,
     "metadata": {},
     "output_type": "execute_result"
    }
   ],
   "source": [
    "len(pre_df['big_name'].unique())"
   ]
  },
  {
   "cell_type": "code",
   "execution_count": 32,
   "id": "d9b28239",
   "metadata": {},
   "outputs": [
    {
     "data": {
      "text/plain": [
       "big_name\n",
       "Beauty, Cosmetology & Hairdressing    True\n",
       "Child & Elderly Care                  True\n",
       "Clothing & Jewelry                    True\n",
       "Convention Center                     True\n",
       "Food & Snack                          True\n",
       "Grocery & Market                      True\n",
       "History, Museum & Arts                True\n",
       "Hotel                                 True\n",
       "IT & Electronics                      True\n",
       "Indoor Entertainment                  True\n",
       "Info & Education                      True\n",
       "Media                                 True\n",
       "Medical-Related Place                 True\n",
       "Municipal                             True\n",
       "Music                                 True\n",
       "Office                                True\n",
       "Office Supplies & Service             True\n",
       "Others                                True\n",
       "Outdoor Entertainment                 True\n",
       "Pet-Related Place                     True\n",
       "Photography                           True\n",
       "Place for Socializing                 True\n",
       "Place for Sports                      True\n",
       "Religion & Spirituality               True\n",
       "Residence                             True\n",
       "Restaurant                            True\n",
       "School                                True\n",
       "Shop Related to Entertainment         True\n",
       "Technology                            True\n",
       "Tobacco & Alcohol                     True\n",
       "Transportation                        True\n",
       "Travel-Related Place                  True\n",
       "Vehicle Shop & Tental                 True\n",
       "Vehicle-Related Place                 True\n",
       "Name: name, dtype: bool"
      ]
     },
     "execution_count": 32,
     "metadata": {},
     "output_type": "execute_result"
    }
   ],
   "source": [
    "counting = pre_df.groupby(['big_name']).count()\n",
    "inx = counting['name'].apply(lambda x:x>=100)\n",
    "inx"
   ]
  },
  {
   "cell_type": "code",
   "execution_count": 33,
   "id": "f90f0521",
   "metadata": {},
   "outputs": [
    {
     "data": {
      "text/plain": [
       "(273, 7)"
      ]
     },
     "execution_count": 33,
     "metadata": {},
     "output_type": "execute_result"
    }
   ],
   "source": [
    "dd = pre_df[pre_df['name'] == 'Nudist Beach']\n",
    "dd.shape"
   ]
  },
  {
   "cell_type": "code",
   "execution_count": 34,
   "id": "c5096a67",
   "metadata": {},
   "outputs": [
    {
     "data": {
      "text/plain": [
       "True"
      ]
     },
     "execution_count": 34,
     "metadata": {},
     "output_type": "execute_result"
    }
   ],
   "source": [
    "\"a\" in \"haha\""
   ]
  },
  {
   "cell_type": "code",
   "execution_count": null,
   "id": "f33cd0f1",
   "metadata": {},
   "outputs": [],
   "source": []
  }
 ],
 "metadata": {
  "kernelspec": {
   "display_name": "Python 3.9.12 ('base')",
   "language": "python",
   "name": "python3"
  },
  "language_info": {
   "codemirror_mode": {
    "name": "ipython",
    "version": 3
   },
   "file_extension": ".py",
   "mimetype": "text/x-python",
   "name": "python",
   "nbconvert_exporter": "python",
   "pygments_lexer": "ipython3",
   "version": "3.9.12"
  },
  "vscode": {
   "interpreter": {
    "hash": "ad2bdc8ecc057115af97d19610ffacc2b4e99fae6737bb82f5d7fb13d2f2c186"
   }
  }
 },
 "nbformat": 4,
 "nbformat_minor": 5
}
