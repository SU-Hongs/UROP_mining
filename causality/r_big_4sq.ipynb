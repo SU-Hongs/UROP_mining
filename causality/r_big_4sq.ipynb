{
 "cells": [
  {
   "cell_type": "code",
   "execution_count": 72,
   "id": "6c8dd0b3",
   "metadata": {},
   "outputs": [
    {
     "name": "stderr",
     "output_type": "stream",
     "text": [
      "\n",
      "Attaching package: ‘lmtest’\n",
      "\n",
      "\n",
      "The following object is masked from ‘package:VGAM’:\n",
      "\n",
      "    lrtest\n",
      "\n",
      "\n"
     ]
    }
   ],
   "source": [
    "library(regclass)\n",
    "library(ppcor)\n",
    "library(tseries)\n",
    "library(dynlm)\n",
    "library(lmtest)"
   ]
  },
  {
   "cell_type": "code",
   "execution_count": 137,
   "id": "d4190a6d",
   "metadata": {},
   "outputs": [],
   "source": [
    "# return the R squared value of guo ~ guo_history + yin_history\n",
    "self_autoregression <- function(x,y,lags){\n",
    "    n <- length(x)\n",
    "    x_hist <- x[1:(n-lags)]\n",
    "    y_hist <- y[1:(n-lags)]\n",
    "    Y <- y[(lags+1):n]\n",
    "    m <- lm(Y~x_hist+y_hist+0)\n",
    "    return (summary(m)$r.squared)\n",
    "}\n",
    "\n",
    "# select best time lags\n",
    "select_time_lags <- function(z,thres = 0.1){\n",
    "    pacf = pacf(z,20,,plot = FALSE)\n",
    "    if(thres==0.1){\n",
    "        n <- pacf$n.used\n",
    "        thres <- 1.96/sqrt(n)\n",
    "    }\n",
    "    for (i in c(1:20)){\n",
    "        if (abs(pacf$acf[i])<thres){\n",
    "            return (i)\n",
    "        }\n",
    "    }\n",
    "    return (-1)\n",
    "}\n",
    "\n",
    "# a helper function to remove an element with certain value from a list\n",
    "remove <- function(arr,value){\n",
    "    for(i in c(1:length(arr))){\n",
    "        if(arr[i]==value){\n",
    "            r_arr <- arr[-i]\n",
    "            return (r_arr)\n",
    "        }\n",
    "    }\n",
    "    print(\"remove failure\")\n",
    "    cat(arr,\" \",value,\"\\n\")\n",
    "    return (arr)\n",
    "}\n",
    "\n",
    "filter_cause <- function(X,y, thres = 0.15){\n",
    "    n <- dim(X)[2]\n",
    "    lags <- c()\n",
    "    R_squared = c()\n",
    "    for (i in c(1:n)){\n",
    "        lag = select_time_lags(X[,i])\n",
    "        r_sq <- self_autoregression(X[,i],y,lag)\n",
    "        R_squared = append(R_squared,c(r_sq))\n",
    "    }\n",
    "#     cat(\"R2: \",R_squared)\n",
    "\n",
    "    cause_indices <- c()\n",
    "    remain <- c(1:n)\n",
    "    while(length(remain)>0){\n",
    "        \n",
    "        j <- which.max(R_squared)\n",
    "        cause_indices <- append(cause_indices,c(j))\n",
    "        remain <- remove(remain,j)\n",
    "        R_squared[j] <- 0\n",
    "        \n",
    "        # pruning\n",
    "        to_remove <- c()\n",
    "        for(i in remain){\n",
    "            x=X[,i]\n",
    "            \n",
    "            test <- lm(x~as.matrix(X[,cause_indices]))\n",
    "            r2 <- summary(test)$r.squared\n",
    "            VIF <- 1/(1-r2)\n",
    "            if (VIF>10) {\n",
    "                to_remove <- append(to_remove,c(i))\n",
    "                R_squared[i] <- 0\n",
    "            } else{ \n",
    "            \n",
    "            df <- data.frame(x,y,X[,cause_indices])\n",
    "#             df <- data.frame(x=X[,j],y=y,z=X[,i])\n",
    "#             pcor <- pcor(df)$estimate[1,2]\n",
    "#             cat(i,pcor)\n",
    "            \n",
    "            \n",
    "            # pruning based on Granger residual test on residuals\n",
    "#             cause_fit <- lm(X[,i]~as.matrix(X[,cause_indices]))\n",
    "#             cause_res <- x - cause_fit$fitted.values\n",
    "#             effect_fit <- lm(y~as.matrix(X[,cause_indices]))\n",
    "#             effect_res <- y - effect_fit$fitted.values\n",
    "#             lag <- select_time_lags(cause_res)\n",
    "#             p_value <- grangertest(cause_res,effect_res,order = lag)[2,4]\n",
    "            x = ts(x)\n",
    "            y = ts(y)\n",
    "            for (j in cause_indices){\n",
    "                lag <- select_time_lags(X[,j])\n",
    "                X_j = ts(X[,j])\n",
    "                if(j==cause_indices[1]){\n",
    "                    cause_fit <- dynlm(x ~ L(X_j,-lag:-1))\n",
    "                    effect_fit <- dynlm(y ~ L(X_j,1:lag))\n",
    "                } else {\n",
    "                    cause_fit <- update(cause_fit, . ~ . + L(X_j,-lag:-1))\n",
    "                    effect_fit <- update(effect_fit, . ~ . + L(X_j,1:lag))\n",
    "                }\n",
    "            }\n",
    "            cause_res <- x - cause_fit$fitted.values\n",
    "            effect_res <- y - effect_fit$fitted.values\n",
    "            lag <- select_time_lags(cause_res)\n",
    "            p_value <- grangertest(cause_res,effect_res,order = lag)[2,4]\n",
    "            \n",
    "            if(p_value<=thres){\n",
    "                #cat(i,\" \",pcor,\"\\n\")\n",
    "                to_remove <- append(to_remove,c(i))\n",
    "                R_squared[i] <- 0\n",
    "            }\n",
    "                }\n",
    "            \n",
    "        }\n",
    "        \n",
    "        for(rm in to_remove){\n",
    "            remain <- remove(remain,rm)\n",
    "        }\n",
    "    }\n",
    "    return (cause_indices)\n",
    "}"
   ]
  },
  {
   "cell_type": "code",
   "execution_count": 138,
   "id": "3a21508e",
   "metadata": {},
   "outputs": [],
   "source": [
    "patterns = c('Food & Snack', 'Grocery & Market', 'History, Museum & Arts', 'Hotel', 'Indoor Entertainment', 'Music', 'Office', 'Outdoor Entertainment', 'Place for Socializing', 'Place for Sports', 'Residence', 'Restaurant', 'School', 'Tobacco & Alcohol', 'Transportation')\n",
    "cities = c('amsterdam', 'barcelona', 'berlin', 'helsinki', 'london', 'moscow', 'newyork', 'paris', 'prague', 'rome', 'stockholm')"
   ]
  },
  {
   "cell_type": "code",
   "execution_count": 142,
   "id": "4388bbce",
   "metadata": {},
   "outputs": [
    {
     "name": "stdout",
     "output_type": "stream",
     "text": [
      "[1] \"new iter\"\n",
      "[1] \"amsterdam\"\n",
      ";Food & Snack: 2 ;Grocery & Market:  ;History, Museum & Arts: 4 2 ;Hotel: 1 ;Indoor Entertainment: 1 ;Music: 2 ;Office: 1 ;Outdoor Entertainment: 2 ;Place for Socializing: 1 2 ;Place for Sports: 1 ;Residence:  ;Restaurant: 3 ;School: 1 ;Tobacco & Alcohol: 1 ;Transportation: 1 [1] \"new iter\"\n",
      "[1] \"barcelona\"\n",
      ";Food & Snack: 2 3 ;Grocery & Market: 1 ;History, Museum & Arts: 1 ;Hotel: 2 1 ;Indoor Entertainment: 1 2 ;Music: 1 ;Office: 1 ;Outdoor Entertainment:  ;Place for Socializing: 2 ;Place for Sports: 1 ;Residence: 2 ;Restaurant: 3 ;School: 2 3 ;Tobacco & Alcohol: 3 1 ;Transportation: 3 [1] \"new iter\"\n",
      "[1] \"berlin\"\n",
      ";Food & Snack: 1 ;Grocery & Market: 1 ;History, Museum & Arts: 3 1 ;Hotel: 2 1 ;Indoor Entertainment: 1 3 ;Music: 2 1 ;Office: 2 ;Outdoor Entertainment: 1 ;Place for Socializing: 4 ;Place for Sports: 1 4 ;Residence:  ;Restaurant: 2 1 ;School:  ;Tobacco & Alcohol: 2 3 ;Transportation:  [1] \"new iter\"\n",
      "[1] \"helsinki\"\n",
      ";Food & Snack: 1 ;Grocery & Market: 1 ;History, Museum & Arts: 1 3 ;Hotel: 1 ;Indoor Entertainment: 2 ;Music: 2 ;Office: 3 ;Outdoor Entertainment: 3 4 ;Place for Socializing: 4 ;Place for Sports: 3 4 ;Residence: 1 ;Restaurant: 2 ;School: 2 ;Tobacco & Alcohol: 1 ;Transportation: 1 [1] \"new iter\"\n",
      "[1] \"london\"\n",
      ";Food & Snack: 1 ;Grocery & Market: 2 3 ;History, Museum & Arts: 2 ;Hotel: 1 2 ;Indoor Entertainment: 2 1 ;Music: 3 2 ;Office: 3 4 ;Outdoor Entertainment: 1 2 ;Place for Socializing: 4 2 1 ;Place for Sports: 4 2 ;Residence: 1 ;Restaurant: 2 ;School: 2 ;Tobacco & Alcohol: 3 4 ;Transportation: 1 [1] \"new iter\"\n",
      "[1] \"moscow\"\n",
      ";Food & Snack: 2 1 ;Grocery & Market: 2 ;History, Museum & Arts: 1 ;Hotel: 1 ;Indoor Entertainment: 2 ;Music: 5 1 ;Office: 1 ;Outdoor Entertainment: 3 1 ;Place for Socializing: 1 ;Place for Sports: 5 ;Residence: 1 2 ;Restaurant: 2 1 ;School: 1 ;Tobacco & Alcohol: 2 5 ;Transportation: 1 [1] \"new iter\"\n",
      "[1] \"newyork\"\n",
      ";Food & Snack: 1 3 ;Grocery & Market: 1 2 ;History, Museum & Arts:  ;Hotel: 1 ;Indoor Entertainment: 2 ;Music: 4 1 ;Office: 1 5 ;Outdoor Entertainment: 4 3 ;Place for Socializing: 1 4 ;Place for Sports: 2 1 ;Residence:  ;Restaurant: 3 ;School: 1 2 3 ;Tobacco & Alcohol: 7 3 ;Transportation: 2 [1] \"new iter\"\n",
      "[1] \"paris\"\n",
      ";Food & Snack:  ;Grocery & Market: 1 ;History, Museum & Arts: 2 ;Hotel: 1 2 ;Indoor Entertainment: 4 3 ;Music: 1 ;Office: 2 ;Outdoor Entertainment: 1 ;Place for Socializing: 2 ;Place for Sports: 4 ;Residence: 1 2 ;Restaurant: 3 ;School: 2 1 ;Tobacco & Alcohol: 3 ;Transportation:  [1] \"new iter\"\n",
      "[1] \"prague\"\n",
      ";Food & Snack: 1 ;Grocery & Market: 1 ;History, Museum & Arts:  ;Hotel: 2 ;Indoor Entertainment: 1 ;Music: 4 ;Office: 2 1 ;Outdoor Entertainment: 1 ;Place for Socializing: 2 ;Place for Sports: 1 ;Residence: 2 ;Restaurant: 2 4 ;School:  ;Tobacco & Alcohol: 1 ;Transportation: 1 [1] \"new iter\"\n",
      "[1] \"rome\"\n",
      ";Food & Snack: 1 ;Grocery & Market: 1 ;History, Museum & Arts: 3 ;Hotel: 2 1 ;Indoor Entertainment: 2 1 ;Music: 1 ;Office: 2 1 ;Outdoor Entertainment: 1 2 ;Place for Socializing: 1 ;Place for Sports: 3 1 2 ;Residence: 3 1 ;Restaurant: 1 2 ;School: 1 ;Tobacco & Alcohol: 1 ;Transportation: 1 [1] \"new iter\"\n",
      "[1] \"stockholm\"\n",
      ";Food & Snack: 1 ;Grocery & Market: 1 ;History, Museum & Arts: 2 5 ;Hotel: 1 ;Indoor Entertainment: 2 3 ;Music: 3 1 ;Office: 3 1 ;Outdoor Entertainment: 1 ;Place for Socializing: 1 3 ;Place for Sports: 2 ;Residence: 1 ;Restaurant: 4 ;School: 1 ;Tobacco & Alcohol: 4 ;Transportation: 1 "
     ]
    }
   ],
   "source": [
    "for (city in cities){\n",
    "print(\"new iter\")\n",
    "print(city)\n",
    "result = \"\"\n",
    "for (pattern in patterns){\n",
    "    direct <- \"\"\n",
    "    a <- \"/Users/suhong/Desktop/UROP_Data/causality/city_granger/\"\n",
    "    c <- \".csv\"\n",
    "    path <- paste(a,city,\"_\",pattern,c,sep=\"\")\n",
    "    data <- read.csv(path)\n",
    "    data <- data[1:287,-1]\n",
    "    n <- dim(data)[2]\n",
    "    \n",
    "    if (!is.null(n)){\n",
    "    X = data[1:287,-n]\n",
    "    y = data[1:287,n]\n",
    "#     for (i in 1:n){\n",
    "#     p <- adf.test(data[1:287,i])$p.value\n",
    "#     if(p>0.05){\n",
    "#         print(pattern)\n",
    "#         print(i)\n",
    "#         print(\"oh no!\")\n",
    "#     }\n",
    "# }\n",
    "    if(dim(data)[2]==2){direct=c(1)}\n",
    "    else{direct <- filter_cause(X,y,thres= 0.05)}\n",
    "\n",
    "   \n",
    "    s <- paste(\";\",pattern,\":\",sep = \"\")\n",
    "    cat(s,direct,\"\")\n",
    "\n",
    "} else {\n",
    "        s <- paste(\";\",pattern,\":\",sep = \"\")\n",
    "    cat(s,direct,\"\")\n",
    "    }\n",
    "\n",
    "}\n",
    "    }"
   ]
  },
  {
   "cell_type": "code",
   "execution_count": 102,
   "id": "5e894396",
   "metadata": {},
   "outputs": [
    {
     "name": "stdout",
     "output_type": "stream",
     "text": [
      ";Food & Snack: 1 ;Grocery & Market: 1 ;History, Museum & Arts: 3 6 4 2 ;Hotel: 1 2 ;Indoor Entertainment: 3 1 2 ;Music: 4 2 ;Office: 3 1 ;Outdoor Entertainment: 2 ;Place for Socializing: 1 2 ;Place for Sports: 2 ;Residence: 2 ;Restaurant: 4 5 3 6 ;School: 1 ;Tobacco & Alcohol: 1 2 ;Transportation: 2 "
     ]
    }
   ],
   "source": [
    "city = \"amsterdam\"\n",
    "result = \"\"\n",
    "for (pattern in patterns){\n",
    "    direct <- \"\"\n",
    "    a <- \"/Users/suhong/Desktop/UROP_Data/causality/city_granger/\"\n",
    "    c <- \".csv\"\n",
    "    path <- paste(a,city,\"_\",pattern,c,sep=\"\")\n",
    "    data <- read.csv(path)\n",
    "    data <- data[1:287,-1]\n",
    "    n <- dim(data)[2]\n",
    "    \n",
    "    if (!is.null(n)){\n",
    "    X = data[1:287,-n]\n",
    "    y = data[1:287,n]\n",
    "#     for (i in 1:n){\n",
    "#     p <- adf.test(data[1:287,i])$p.value\n",
    "#     if(p>0.05){\n",
    "#         print(pattern)\n",
    "#         print(i)\n",
    "#         print(\"oh no!\")\n",
    "#     }\n",
    "# }\n",
    "    if(dim(data)[2]==2){direct=c(1)}\n",
    "    else{direct <- filter_cause(X,y,thres= 0.1)}\n",
    "\n",
    "   \n",
    "    s <- paste(\";\",pattern,\":\",sep = \"\")\n",
    "    cat(s,direct,\"\")\n",
    "\n",
    "} else {\n",
    "        s <- paste(\";\",\":\",sep = \"\")\n",
    "    cat(s,direct,\"\")\n",
    "    }\n",
    "\n",
    "}"
   ]
  },
  {
   "cell_type": "code",
   "execution_count": 133,
   "id": "a39839af",
   "metadata": {},
   "outputs": [],
   "source": [
    "result = \"\"\n",
    "city = \"barcelona\"\n",
    "pattern = \"Hotel\"\n",
    "    direct <- \"\"\n",
    "    a <- \"/Users/suhong/Desktop/UROP_Data/causality/city_granger/\"\n",
    "    c <- \".csv\"\n",
    "    path <- paste(a,city,\"_\",pattern,c,sep=\"\")\n",
    "    data <- read.csv(path)\n",
    "    data <- data[1:287,-1]\n",
    "    n <- dim(data)[2]\n",
    "    \n",
    "#     if(!is.null(n)){\n",
    "    X = data[1:287,-n]\n",
    "    y = data[1:287,n]\n",
    "\n"
   ]
  },
  {
   "cell_type": "code",
   "execution_count": 134,
   "id": "97d80d1e",
   "metadata": {},
   "outputs": [
    {
     "data": {
      "text/html": [
       "<table class=\"dataframe\">\n",
       "<caption>A data.frame: 6 × 3</caption>\n",
       "<thead>\n",
       "\t<tr><th></th><th scope=col>Office</th><th scope=col>School</th><th scope=col>Transportation</th></tr>\n",
       "\t<tr><th></th><th scope=col>&lt;dbl&gt;</th><th scope=col>&lt;dbl&gt;</th><th scope=col>&lt;dbl&gt;</th></tr>\n",
       "</thead>\n",
       "<tbody>\n",
       "\t<tr><th scope=row>1</th><td>-2</td><td> 1</td><td>-1</td></tr>\n",
       "\t<tr><th scope=row>2</th><td> 1</td><td> 0</td><td> 1</td></tr>\n",
       "\t<tr><th scope=row>3</th><td> 0</td><td> 0</td><td>-4</td></tr>\n",
       "\t<tr><th scope=row>4</th><td> 0</td><td> 0</td><td> 2</td></tr>\n",
       "\t<tr><th scope=row>5</th><td> 2</td><td> 1</td><td> 0</td></tr>\n",
       "\t<tr><th scope=row>6</th><td>-3</td><td>-2</td><td>-3</td></tr>\n",
       "</tbody>\n",
       "</table>\n"
      ],
      "text/latex": [
       "A data.frame: 6 × 3\n",
       "\\begin{tabular}{r|lll}\n",
       "  & Office & School & Transportation\\\\\n",
       "  & <dbl> & <dbl> & <dbl>\\\\\n",
       "\\hline\n",
       "\t1 & -2 &  1 & -1\\\\\n",
       "\t2 &  1 &  0 &  1\\\\\n",
       "\t3 &  0 &  0 & -4\\\\\n",
       "\t4 &  0 &  0 &  2\\\\\n",
       "\t5 &  2 &  1 &  0\\\\\n",
       "\t6 & -3 & -2 & -3\\\\\n",
       "\\end{tabular}\n"
      ],
      "text/markdown": [
       "\n",
       "A data.frame: 6 × 3\n",
       "\n",
       "| <!--/--> | Office &lt;dbl&gt; | School &lt;dbl&gt; | Transportation &lt;dbl&gt; |\n",
       "|---|---|---|---|\n",
       "| 1 | -2 |  1 | -1 |\n",
       "| 2 |  1 |  0 |  1 |\n",
       "| 3 |  0 |  0 | -4 |\n",
       "| 4 |  0 |  0 |  2 |\n",
       "| 5 |  2 |  1 |  0 |\n",
       "| 6 | -3 | -2 | -3 |\n",
       "\n"
      ],
      "text/plain": [
       "  Office School Transportation\n",
       "1 -2      1     -1            \n",
       "2  1      0      1            \n",
       "3  0      0     -4            \n",
       "4  0      0      2            \n",
       "5  2      1      0            \n",
       "6 -3     -2     -3            "
      ]
     },
     "metadata": {},
     "output_type": "display_data"
    }
   ],
   "source": [
    "head(X)"
   ]
  },
  {
   "cell_type": "code",
   "execution_count": 135,
   "id": "59458cbd",
   "metadata": {},
   "outputs": [],
   "source": [
    "cause_indices = c(1,3)\n",
    "x = ts(X[,2])\n",
    "            y = ts(y)\n",
    "            for (j in cause_indices){\n",
    "                lag <- select_time_lags(X[,j])\n",
    "                X_j = ts(X[,j])\n",
    "                if(j==cause_indices[1]){\n",
    "                    cause_fit <- dynlm(x ~ L(X_j,-lag:-1))\n",
    "                    effect_fit <- dynlm(y ~ L(X_j,1:lag))\n",
    "                } else {\n",
    "                    cause_fit <- update(cause_fit, . ~ . + L(X_j,-lag:-1))\n",
    "                    effect_fit <- update(effect_fit, . ~ . + L(X_j,1:lag))\n",
    "                }\n",
    "            }\n",
    "            cause_res <- x - cause_fit$fitted.values\n",
    "            effect_res <- y - effect_fit$fitted.values\n",
    "            lag <- select_time_lags(cause_res)\n",
    "#             p_value <- grangertest(cause_res,effect_res,order = lag)[2,4]\n",
    "\n",
    "\n"
   ]
  },
  {
   "cell_type": "code",
   "execution_count": 136,
   "id": "3971baf8",
   "metadata": {},
   "outputs": [
    {
     "data": {
      "text/html": [
       "0"
      ],
      "text/latex": [
       "0"
      ],
      "text/markdown": [
       "0"
      ],
      "text/plain": [
       "[1] 0"
      ]
     },
     "metadata": {},
     "output_type": "display_data"
    }
   ],
   "source": [
    "lag"
   ]
  },
  {
   "cell_type": "code",
   "execution_count": null,
   "id": "5529fa30",
   "metadata": {},
   "outputs": [],
   "source": []
  }
 ],
 "metadata": {
  "kernelspec": {
   "display_name": "R",
   "language": "R",
   "name": "ir"
  },
  "language_info": {
   "codemirror_mode": "r",
   "file_extension": ".r",
   "mimetype": "text/x-r-source",
   "name": "R",
   "pygments_lexer": "r",
   "version": "4.2.0"
  }
 },
 "nbformat": 4,
 "nbformat_minor": 5
}
