{
 "cells": [
  {
   "cell_type": "code",
   "execution_count": 1,
   "id": "afd606f5",
   "metadata": {},
   "outputs": [],
   "source": [
    "import pandas as pd\n",
    "import numpy as np\n",
    "from calculator import *"
   ]
  },
  {
   "cell_type": "code",
   "execution_count": 14,
   "id": "72d3190a",
   "metadata": {},
   "outputs": [],
   "source": [
    "arsenic = pd.read_csv(\"arsenic.csv\")\n",
    "copper = pd.read_csv(\"copper.csv\")\n",
    "sulfate = pd.read_csv(\"sulfate.csv\")\n",
    "boran = pd.read_csv(\"boran.csv\")\n",
    "chloride = pd.read_csv(\"chloride.csv\")\n",
    "molybdenum = pd.read_csv(\"molybdenum.csv\")\n",
    "vanadium = pd.read_csv(\"vanadium.csv\")\n",
    "# uranium = pd.read_csv(\"uranium.csv\")"
   ]
  },
  {
   "cell_type": "code",
   "execution_count": 46,
   "id": "16a89c2f",
   "metadata": {},
   "outputs": [],
   "source": [
    "l = [arsenic,copper,sulfate,boran,chloride,molybdenum,vanadium]"
   ]
  },
  {
   "cell_type": "code",
   "execution_count": 55,
   "id": "88548509",
   "metadata": {
    "scrolled": true
   },
   "outputs": [],
   "source": [
    "common = list()\n",
    "r = list(range(len(l)))\n",
    "for i in range(len(l)-1):\n",
    "    j = i+1\n",
    "    df = pre_process(l[i],[0,2.5,10,10e10],[\"zero\",\"moderate\",'high'])\n",
    "    df['year'] =  df['Date']/10000\n",
    "    df['year'] = df['year'].astype('int')\n",
    "    df = df[df['year']==2002]\n",
    "    date1 = df['Date']\n",
    "    \n",
    "    df = pre_process(l[j],[0,2.5,10,10e10],[\"zero\",\"moderate\",'high'])\n",
    "    df['year'] =  df['Date']/10000\n",
    "    df['year'] = df['year'].astype('int')\n",
    "    df = df[df['year']==2002]\n",
    "    date2 = df['Date']\n",
    "    \n",
    "    common.append(len(np.intersect1d(date1,date2)))"
   ]
  },
  {
   "cell_type": "code",
   "execution_count": 56,
   "id": "2b364e62",
   "metadata": {},
   "outputs": [
    {
     "data": {
      "text/plain": [
       "[93, 92, 92, 92, 92, 92]"
      ]
     },
     "execution_count": 56,
     "metadata": {},
     "output_type": "execute_result"
    }
   ],
   "source": [
    "common"
   ]
  },
  {
   "cell_type": "code",
   "execution_count": 3,
   "id": "b7eaed63",
   "metadata": {},
   "outputs": [],
   "source": [
    "df = pre_process(vanadium,[0,2.5,10,10e10],[\"zero\",\"moderate\",'high'])\n"
   ]
  },
  {
   "cell_type": "code",
   "execution_count": 4,
   "id": "c36a5fa5",
   "metadata": {},
   "outputs": [
    {
     "ename": "TypeError",
     "evalue": "'NoneType' object is not iterable",
     "output_type": "error",
     "traceback": [
      "\u001b[0;31m---------------------------------------------------------------------------\u001b[0m",
      "\u001b[0;31mTypeError\u001b[0m                                 Traceback (most recent call last)",
      "\u001b[0;32m/var/folders/f1/ptxl35314mj1csv1q3j0_9740000gn/T/ipykernel_25448/594886414.py\u001b[0m in \u001b[0;36m<module>\u001b[0;34m\u001b[0m\n\u001b[0;32m----> 1\u001b[0;31m \u001b[0mhaha\u001b[0m \u001b[0;34m=\u001b[0m \u001b[0mvectorize\u001b[0m\u001b[0;34m(\u001b[0m\u001b[0mdf\u001b[0m\u001b[0;34m,\u001b[0m\u001b[0;34m[\u001b[0m\u001b[0;34m\"zero\"\u001b[0m\u001b[0;34m,\u001b[0m\u001b[0;34m\"moderate\"\u001b[0m\u001b[0;34m,\u001b[0m\u001b[0;34m'high'\u001b[0m\u001b[0;34m]\u001b[0m\u001b[0;34m)\u001b[0m\u001b[0;34m\u001b[0m\u001b[0;34m\u001b[0m\u001b[0m\n\u001b[0m",
      "\u001b[0;32m~/Desktop/UROP_Data/UROP/groundwater/calculator.py\u001b[0m in \u001b[0;36mvectorize\u001b[0;34m(df, types, year)\u001b[0m\n\u001b[1;32m    124\u001b[0m     \u001b[0mdates\u001b[0m \u001b[0;34m=\u001b[0m \u001b[0mdates\u001b[0m\u001b[0;34m.\u001b[0m\u001b[0msort\u001b[0m\u001b[0;34m(\u001b[0m\u001b[0;34m)\u001b[0m\u001b[0;34m\u001b[0m\u001b[0;34m\u001b[0m\u001b[0m\n\u001b[1;32m    125\u001b[0m     \u001b[0mto_return\u001b[0m \u001b[0;34m=\u001b[0m \u001b[0;34m[\u001b[0m\u001b[0;34m]\u001b[0m\u001b[0;34m\u001b[0m\u001b[0;34m\u001b[0m\u001b[0m\n\u001b[0;32m--> 126\u001b[0;31m     \u001b[0;32mfor\u001b[0m \u001b[0mdate\u001b[0m \u001b[0;32min\u001b[0m \u001b[0mdates\u001b[0m\u001b[0;34m:\u001b[0m\u001b[0;34m\u001b[0m\u001b[0;34m\u001b[0m\u001b[0m\n\u001b[0m\u001b[1;32m    127\u001b[0m         \u001b[0;31m# the return data structure is a list of T x 3 pandas dataframe\u001b[0m\u001b[0;34m\u001b[0m\u001b[0;34m\u001b[0m\u001b[0;34m\u001b[0m\u001b[0m\n\u001b[1;32m    128\u001b[0m         \u001b[0mto_select\u001b[0m \u001b[0;34m=\u001b[0m \u001b[0mdf\u001b[0m\u001b[0;34m[\u001b[0m\u001b[0mdf\u001b[0m\u001b[0;34m[\u001b[0m\u001b[0;34m'Date'\u001b[0m\u001b[0;34m]\u001b[0m\u001b[0;34m==\u001b[0m\u001b[0mdate\u001b[0m\u001b[0;34m]\u001b[0m\u001b[0;34m\u001b[0m\u001b[0;34m\u001b[0m\u001b[0m\n",
      "\u001b[0;31mTypeError\u001b[0m: 'NoneType' object is not iterable"
     ]
    }
   ],
   "source": [
    "haha = vectorize(df,[\"zero\",\"moderate\",'high'])"
   ]
  },
  {
   "cell_type": "code",
   "execution_count": 5,
   "id": "30a934ee",
   "metadata": {
    "scrolled": true
   },
   "outputs": [
    {
     "ename": "NameError",
     "evalue": "name 'haha' is not defined",
     "output_type": "error",
     "traceback": [
      "\u001b[0;31m---------------------------------------------------------------------------\u001b[0m",
      "\u001b[0;31mNameError\u001b[0m                                 Traceback (most recent call last)",
      "\u001b[0;32m/var/folders/f1/ptxl35314mj1csv1q3j0_9740000gn/T/ipykernel_25448/2707552508.py\u001b[0m in \u001b[0;36m<module>\u001b[0;34m\u001b[0m\n\u001b[0;32m----> 1\u001b[0;31m \u001b[0mlen\u001b[0m\u001b[0;34m(\u001b[0m\u001b[0mhaha\u001b[0m\u001b[0;34m)\u001b[0m\u001b[0;34m\u001b[0m\u001b[0;34m\u001b[0m\u001b[0m\n\u001b[0m",
      "\u001b[0;31mNameError\u001b[0m: name 'haha' is not defined"
     ]
    }
   ],
   "source": [
    "len(haha)"
   ]
  },
  {
   "cell_type": "code",
   "execution_count": 15,
   "id": "22e61dc8",
   "metadata": {},
   "outputs": [
    {
     "data": {
      "text/html": [
       "<div>\n",
       "<style scoped>\n",
       "    .dataframe tbody tr th:only-of-type {\n",
       "        vertical-align: middle;\n",
       "    }\n",
       "\n",
       "    .dataframe tbody tr th {\n",
       "        vertical-align: top;\n",
       "    }\n",
       "\n",
       "    .dataframe thead th {\n",
       "        text-align: right;\n",
       "    }\n",
       "</style>\n",
       "<table border=\"1\" class=\"dataframe\">\n",
       "  <thead>\n",
       "    <tr style=\"text-align: right;\">\n",
       "      <th></th>\n",
       "      <th>StateWellNumber</th>\n",
       "      <th>County</th>\n",
       "      <th>AquiferCode</th>\n",
       "      <th>WellDepth</th>\n",
       "      <th>Date</th>\n",
       "      <th>Time</th>\n",
       "      <th>SampleNumber</th>\n",
       "      <th>EntityId</th>\n",
       "      <th>LabId</th>\n",
       "      <th>ReliabilityId</th>\n",
       "      <th>CollectionRemarks</th>\n",
       "      <th>LatitudeDD</th>\n",
       "      <th>LongitudeDD</th>\n",
       "      <th>ParameterCode</th>\n",
       "      <th>ParameterDescription</th>\n",
       "      <th>ParameterFlag</th>\n",
       "      <th>ParameterValue</th>\n",
       "      <th>ParameterUnit</th>\n",
       "      <th>PlusMinus</th>\n",
       "    </tr>\n",
       "  </thead>\n",
       "  <tbody>\n",
       "    <tr>\n",
       "      <th>0</th>\n",
       "      <td>5846410</td>\n",
       "      <td>Bastrop</td>\n",
       "      <td>124SMBR</td>\n",
       "      <td>45.0</td>\n",
       "      <td>9/3/1980</td>\n",
       "      <td>NaN</td>\n",
       "      <td>1.0</td>\n",
       "      <td>3.0</td>\n",
       "      <td>2.0</td>\n",
       "      <td>13.0</td>\n",
       "      <td></td>\n",
       "      <td>30.303056</td>\n",
       "      <td>-97.347778</td>\n",
       "      <td>1000.0</td>\n",
       "      <td>ARSENIC, DISSOLVED (UG/L AS AS)</td>\n",
       "      <td>NaN</td>\n",
       "      <td>0.0</td>\n",
       "      <td>ug/L</td>\n",
       "      <td>NaN</td>\n",
       "    </tr>\n",
       "    <tr>\n",
       "      <th>1</th>\n",
       "      <td>5846502</td>\n",
       "      <td>Bastrop</td>\n",
       "      <td>124SMBR</td>\n",
       "      <td>177.0</td>\n",
       "      <td>9/3/1980</td>\n",
       "      <td>NaN</td>\n",
       "      <td>1.0</td>\n",
       "      <td>3.0</td>\n",
       "      <td>2.0</td>\n",
       "      <td>13.0</td>\n",
       "      <td></td>\n",
       "      <td>30.328889</td>\n",
       "      <td>-97.309445</td>\n",
       "      <td>1000.0</td>\n",
       "      <td>ARSENIC, DISSOLVED (UG/L AS AS)</td>\n",
       "      <td>NaN</td>\n",
       "      <td>1.0</td>\n",
       "      <td>ug/L</td>\n",
       "      <td>NaN</td>\n",
       "    </tr>\n",
       "    <tr>\n",
       "      <th>2</th>\n",
       "      <td>5846515</td>\n",
       "      <td>Bastrop</td>\n",
       "      <td>124HOOP</td>\n",
       "      <td>505.0</td>\n",
       "      <td>9/3/1980</td>\n",
       "      <td>NaN</td>\n",
       "      <td>1.0</td>\n",
       "      <td>3.0</td>\n",
       "      <td>2.0</td>\n",
       "      <td>13.0</td>\n",
       "      <td></td>\n",
       "      <td>30.321667</td>\n",
       "      <td>-97.313889</td>\n",
       "      <td>1000.0</td>\n",
       "      <td>ARSENIC, DISSOLVED (UG/L AS AS)</td>\n",
       "      <td>NaN</td>\n",
       "      <td>0.0</td>\n",
       "      <td>ug/L</td>\n",
       "      <td>NaN</td>\n",
       "    </tr>\n",
       "    <tr>\n",
       "      <th>3</th>\n",
       "      <td>5854103</td>\n",
       "      <td>Bastrop</td>\n",
       "      <td>124SMBR</td>\n",
       "      <td>152.0</td>\n",
       "      <td>9/3/1980</td>\n",
       "      <td>NaN</td>\n",
       "      <td>1.0</td>\n",
       "      <td>3.0</td>\n",
       "      <td>2.0</td>\n",
       "      <td>13.0</td>\n",
       "      <td></td>\n",
       "      <td>30.249722</td>\n",
       "      <td>-97.346667</td>\n",
       "      <td>1000.0</td>\n",
       "      <td>ARSENIC, DISSOLVED (UG/L AS AS)</td>\n",
       "      <td>NaN</td>\n",
       "      <td>0.0</td>\n",
       "      <td>ug/L</td>\n",
       "      <td>NaN</td>\n",
       "    </tr>\n",
       "    <tr>\n",
       "      <th>4</th>\n",
       "      <td>5854302</td>\n",
       "      <td>Bastrop</td>\n",
       "      <td>124SMBR</td>\n",
       "      <td>500.0</td>\n",
       "      <td>9/3/1980</td>\n",
       "      <td>NaN</td>\n",
       "      <td>1.0</td>\n",
       "      <td>3.0</td>\n",
       "      <td>2.0</td>\n",
       "      <td>13.0</td>\n",
       "      <td></td>\n",
       "      <td>30.242778</td>\n",
       "      <td>-97.285556</td>\n",
       "      <td>1000.0</td>\n",
       "      <td>ARSENIC, DISSOLVED (UG/L AS AS)</td>\n",
       "      <td>NaN</td>\n",
       "      <td>0.0</td>\n",
       "      <td>ug/L</td>\n",
       "      <td>NaN</td>\n",
       "    </tr>\n",
       "  </tbody>\n",
       "</table>\n",
       "</div>"
      ],
      "text/plain": [
       "  StateWellNumber   County AquiferCode  WellDepth      Date  Time  \\\n",
       "0         5846410  Bastrop     124SMBR       45.0  9/3/1980   NaN   \n",
       "1         5846502  Bastrop     124SMBR      177.0  9/3/1980   NaN   \n",
       "2         5846515  Bastrop     124HOOP      505.0  9/3/1980   NaN   \n",
       "3         5854103  Bastrop     124SMBR      152.0  9/3/1980   NaN   \n",
       "4         5854302  Bastrop     124SMBR      500.0  9/3/1980   NaN   \n",
       "\n",
       "   SampleNumber  EntityId  LabId  ReliabilityId CollectionRemarks  LatitudeDD  \\\n",
       "0           1.0       3.0    2.0           13.0                     30.303056   \n",
       "1           1.0       3.0    2.0           13.0                     30.328889   \n",
       "2           1.0       3.0    2.0           13.0                     30.321667   \n",
       "3           1.0       3.0    2.0           13.0                     30.249722   \n",
       "4           1.0       3.0    2.0           13.0                     30.242778   \n",
       "\n",
       "   LongitudeDD  ParameterCode             ParameterDescription ParameterFlag  \\\n",
       "0   -97.347778         1000.0  ARSENIC, DISSOLVED (UG/L AS AS)           NaN   \n",
       "1   -97.309445         1000.0  ARSENIC, DISSOLVED (UG/L AS AS)           NaN   \n",
       "2   -97.313889         1000.0  ARSENIC, DISSOLVED (UG/L AS AS)           NaN   \n",
       "3   -97.346667         1000.0  ARSENIC, DISSOLVED (UG/L AS AS)           NaN   \n",
       "4   -97.285556         1000.0  ARSENIC, DISSOLVED (UG/L AS AS)           NaN   \n",
       "\n",
       "   ParameterValue ParameterUnit  PlusMinus  \n",
       "0             0.0          ug/L        NaN  \n",
       "1             1.0          ug/L        NaN  \n",
       "2             0.0          ug/L        NaN  \n",
       "3             0.0          ug/L        NaN  \n",
       "4             0.0          ug/L        NaN  "
      ]
     },
     "execution_count": 15,
     "metadata": {},
     "output_type": "execute_result"
    }
   ],
   "source": [
    "arsenic.head()"
   ]
  },
  {
   "cell_type": "code",
   "execution_count": 12,
   "id": "b9c13ada",
   "metadata": {},
   "outputs": [],
   "source": [
    "df = pre_process(copper,[0,2.5,10,10e10],[\"zero\",\"moderate\",'high'])\n",
    "df['year'] =  df['Date']/10000\n",
    "df['year'] = df['year'].astype('int')\n",
    "df = df[df['year']==2002]\n",
    "copper_date = df['Date']\n",
    "#len(np.intersect1d(arsenic_date,copper_date))"
   ]
  },
  {
   "cell_type": "code",
   "execution_count": 19,
   "id": "9643e00a",
   "metadata": {},
   "outputs": [],
   "source": [
    "dates = df['Date'].unique()\n",
    "dates = dates.sort()\n",
    "dates"
   ]
  },
  {
   "cell_type": "code",
   "execution_count": 106,
   "id": "0745cb5d",
   "metadata": {},
   "outputs": [
    {
     "data": {
      "text/plain": [
       "year\n",
       "1990    109\n",
       "1991     29\n",
       "1993      8\n",
       "1994     24\n",
       "1995      2\n",
       "Name: year, dtype: int64"
      ]
     },
     "execution_count": 106,
     "metadata": {},
     "output_type": "execute_result"
    }
   ],
   "source": [
    "count = df.groupby([\"year\"])['year'].count()\n",
    "count.head()"
   ]
  },
  {
   "cell_type": "code",
   "execution_count": 107,
   "id": "32eeac02",
   "metadata": {},
   "outputs": [
    {
     "data": {
      "text/plain": [
       "year\n",
       "1990    109\n",
       "1998    391\n",
       "2002    400\n",
       "2006    290\n",
       "2010    251\n",
       "2014    278\n",
       "2018    161\n",
       "Name: year, dtype: int64"
      ]
     },
     "execution_count": 107,
     "metadata": {},
     "output_type": "execute_result"
    }
   ],
   "source": [
    "count = count[count>=100]\n",
    "count"
   ]
  },
  {
   "cell_type": "code",
   "execution_count": 108,
   "id": "7f455941",
   "metadata": {},
   "outputs": [
    {
     "data": {
      "text/plain": [
       "[1990, 1998, 2002, 2006, 2010, 2014, 2018]"
      ]
     },
     "execution_count": 108,
     "metadata": {},
     "output_type": "execute_result"
    }
   ],
   "source": [
    "output_year = count.index.tolist()\n",
    "output_year"
   ]
  },
  {
   "cell_type": "code",
   "execution_count": 109,
   "id": "76a73dfa",
   "metadata": {},
   "outputs": [],
   "source": [
    "f = open(\"popular_year.txt\",'a')\n",
    "f.write(\"\\n\"+\"vanadium\\n\")\n",
    "for element in output_year:\n",
    "    f.write(str(element)+\" \")\n",
    "f.close()"
   ]
  },
  {
   "cell_type": "code",
   "execution_count": 30,
   "id": "6c73c5e0",
   "metadata": {},
   "outputs": [],
   "source": [
    "yr2002 = df[df['year']==1998]"
   ]
  },
  {
   "cell_type": "code",
   "execution_count": 33,
   "id": "60793993",
   "metadata": {},
   "outputs": [
    {
     "data": {
      "text/plain": [
       "83"
      ]
     },
     "execution_count": 33,
     "metadata": {},
     "output_type": "execute_result"
    }
   ],
   "source": [
    "len(yr2002['Date'].unique())"
   ]
  },
  {
   "cell_type": "code",
   "execution_count": 32,
   "id": "6e82ad32",
   "metadata": {},
   "outputs": [
    {
     "data": {
      "text/plain": [
       "391"
      ]
     },
     "execution_count": 32,
     "metadata": {},
     "output_type": "execute_result"
    }
   ],
   "source": [
    "len(yr2002)"
   ]
  },
  {
   "cell_type": "code",
   "execution_count": 41,
   "id": "295f569f",
   "metadata": {},
   "outputs": [
    {
     "data": {
      "text/plain": [
       "93"
      ]
     },
     "execution_count": 41,
     "metadata": {},
     "output_type": "execute_result"
    }
   ],
   "source": [
    "len(np.intersect1d(arsenic_date,copper_date))"
   ]
  },
  {
   "cell_type": "code",
   "execution_count": 57,
   "id": "b4069a03",
   "metadata": {},
   "outputs": [
    {
     "data": {
      "text/html": [
       "<div>\n",
       "<style scoped>\n",
       "    .dataframe tbody tr th:only-of-type {\n",
       "        vertical-align: middle;\n",
       "    }\n",
       "\n",
       "    .dataframe tbody tr th {\n",
       "        vertical-align: top;\n",
       "    }\n",
       "\n",
       "    .dataframe thead th {\n",
       "        text-align: right;\n",
       "    }\n",
       "</style>\n",
       "<table border=\"1\" class=\"dataframe\">\n",
       "  <thead>\n",
       "    <tr style=\"text-align: right;\">\n",
       "      <th></th>\n",
       "      <th>a</th>\n",
       "      <th>b</th>\n",
       "      <th>c</th>\n",
       "    </tr>\n",
       "  </thead>\n",
       "  <tbody>\n",
       "    <tr>\n",
       "      <th>0</th>\n",
       "      <td>1</td>\n",
       "      <td>3</td>\n",
       "      <td>4</td>\n",
       "    </tr>\n",
       "    <tr>\n",
       "      <th>1</th>\n",
       "      <td>2</td>\n",
       "      <td>4</td>\n",
       "      <td>5</td>\n",
       "    </tr>\n",
       "    <tr>\n",
       "      <th>2</th>\n",
       "      <td>3</td>\n",
       "      <td>5</td>\n",
       "      <td>6</td>\n",
       "    </tr>\n",
       "  </tbody>\n",
       "</table>\n",
       "</div>"
      ],
      "text/plain": [
       "   a  b  c\n",
       "0  1  3  4\n",
       "1  2  4  5\n",
       "2  3  5  6"
      ]
     },
     "execution_count": 57,
     "metadata": {},
     "output_type": "execute_result"
    }
   ],
   "source": [
    "a = [1,2,3]\n",
    "b = [3,4,5]\n",
    "c= [4,5,6]\n",
    "lists = list(zip(a,b,c))\n",
    "dd = pd.DataFrame(lists,columns = ['a','b','c'])\n",
    "dd"
   ]
  },
  {
   "cell_type": "code",
   "execution_count": null,
   "id": "ed1e8407",
   "metadata": {},
   "outputs": [],
   "source": []
  }
 ],
 "metadata": {
  "kernelspec": {
   "display_name": "Python_3_6",
   "language": "python",
   "name": "python_3_6"
  },
  "language_info": {
   "codemirror_mode": {
    "name": "ipython",
    "version": 3
   },
   "file_extension": ".py",
   "mimetype": "text/x-python",
   "name": "python",
   "nbconvert_exporter": "python",
   "pygments_lexer": "ipython3",
   "version": "3.7.9"
  }
 },
 "nbformat": 4,
 "nbformat_minor": 5
}
