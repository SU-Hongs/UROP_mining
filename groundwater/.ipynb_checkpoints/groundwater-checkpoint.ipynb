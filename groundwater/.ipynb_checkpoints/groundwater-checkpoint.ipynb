{
 "cells": [
  {
   "cell_type": "code",
   "execution_count": 5,
   "id": "afd606f5",
   "metadata": {},
   "outputs": [],
   "source": [
    "import pandas as pd\n",
    "import numpy as np\n",
    "from calculator import *"
   ]
  },
  {
   "cell_type": "code",
   "execution_count": 2,
   "id": "72d3190a",
   "metadata": {},
   "outputs": [],
   "source": [
    "arsenic = pd.read_csv(\"arsenic.csv\")\n",
    "copper = pd.read_csv(\"copper.csv\")\n",
    "sulfate = pd.read_csv(\"sulfate.csv\")\n",
    "boran = pd.read_csv(\"boran.csv\")\n",
    "chloride = pd.read_csv(\"chloride.csv\")\n",
    "molybdenum = pd.read_csv(\"molybdenum.csv\")\n",
    "vanadium = pd.read_csv(\"vanadium.csv\")\n",
    "# uranium = pd.read_csv(\"uranium.csv\")"
   ]
  },
  {
   "cell_type": "code",
   "execution_count": 46,
   "id": "16a89c2f",
   "metadata": {},
   "outputs": [],
   "source": [
    "l = [arsenic,copper,sulfate,boran,chloride,molybdenum,vanadium]"
   ]
  },
  {
   "cell_type": "code",
   "execution_count": 55,
   "id": "88548509",
   "metadata": {
    "scrolled": true
   },
   "outputs": [],
   "source": [
    "common = list()\n",
    "r = list(range(len(l)))\n",
    "for i in range(len(l)-1):\n",
    "    j = i+1\n",
    "    df = pre_process(l[i],[0,2.5,10,10e10],[\"zero\",\"moderate\",'high'])\n",
    "    df['year'] =  df['Date']/10000\n",
    "    df['year'] = df['year'].astype('int')\n",
    "    df = df[df['year']==2002]\n",
    "    date1 = df['Date']\n",
    "    \n",
    "    df = pre_process(l[j],[0,2.5,10,10e10],[\"zero\",\"moderate\",'high'])\n",
    "    df['year'] =  df['Date']/10000\n",
    "    df['year'] = df['year'].astype('int')\n",
    "    df = df[df['year']==2002]\n",
    "    date2 = df['Date']\n",
    "    \n",
    "    common.append(len(np.intersect1d(date1,date2)))"
   ]
  },
  {
   "cell_type": "code",
   "execution_count": 56,
   "id": "2b364e62",
   "metadata": {},
   "outputs": [
    {
     "data": {
      "text/plain": [
       "[93, 92, 92, 92, 92, 92]"
      ]
     },
     "execution_count": 56,
     "metadata": {},
     "output_type": "execute_result"
    }
   ],
   "source": [
    "common"
   ]
  },
  {
   "cell_type": "code",
   "execution_count": 3,
   "id": "b7eaed63",
   "metadata": {},
   "outputs": [],
   "source": [
    "df = pre_process(vanadium,[0,2.5,10,10e10],[\"zero\",\"moderate\",'high'])\n"
   ]
  },
  {
   "cell_type": "code",
   "execution_count": 6,
   "id": "c36a5fa5",
   "metadata": {},
   "outputs": [
    {
     "ename": "UnboundLocalError",
     "evalue": "local variable 'date' referenced before assignment",
     "output_type": "error",
     "traceback": [
      "\u001b[0;31m---------------------------------------------------------------------------\u001b[0m",
      "\u001b[0;31mUnboundLocalError\u001b[0m                         Traceback (most recent call last)",
      "\u001b[0;32m/var/folders/f1/ptxl35314mj1csv1q3j0_9740000gn/T/ipykernel_25333/594886414.py\u001b[0m in \u001b[0;36m<module>\u001b[0;34m\u001b[0m\n\u001b[0;32m----> 1\u001b[0;31m \u001b[0mhaha\u001b[0m \u001b[0;34m=\u001b[0m \u001b[0mvectorize\u001b[0m\u001b[0;34m(\u001b[0m\u001b[0mdf\u001b[0m\u001b[0;34m,\u001b[0m\u001b[0;34m[\u001b[0m\u001b[0;34m\"zero\"\u001b[0m\u001b[0;34m,\u001b[0m\u001b[0;34m\"moderate\"\u001b[0m\u001b[0;34m,\u001b[0m\u001b[0;34m'high'\u001b[0m\u001b[0;34m]\u001b[0m\u001b[0;34m)\u001b[0m\u001b[0;34m\u001b[0m\u001b[0;34m\u001b[0m\u001b[0m\n\u001b[0m",
      "\u001b[0;32m~/Desktop/UROP_Data/UROP/groundwater/calculator.py\u001b[0m in \u001b[0;36mvectorize\u001b[0;34m(df, types, year)\u001b[0m\n\u001b[1;32m    123\u001b[0m     \u001b[0mdates\u001b[0m \u001b[0;34m=\u001b[0m \u001b[0mdf\u001b[0m\u001b[0;34m[\u001b[0m\u001b[0;34m'Date'\u001b[0m\u001b[0;34m]\u001b[0m\u001b[0;34m\u001b[0m\u001b[0;34m\u001b[0m\u001b[0m\n\u001b[1;32m    124\u001b[0m     \u001b[0mto_return\u001b[0m \u001b[0;34m=\u001b[0m \u001b[0;34m[\u001b[0m\u001b[0;34m]\u001b[0m\u001b[0;34m\u001b[0m\u001b[0;34m\u001b[0m\u001b[0m\n\u001b[0;32m--> 125\u001b[0;31m     \u001b[0;32mfor\u001b[0m \u001b[0mdate\u001b[0m \u001b[0;32min\u001b[0m \u001b[0mdates\u001b[0m\u001b[0;34m:\u001b[0m\u001b[0;34m\u001b[0m\u001b[0;34m\u001b[0m\u001b[0m\n\u001b[0m\u001b[1;32m    126\u001b[0m         \u001b[0;31m# the return data structure is a list of T x 3 pandas dataframe\u001b[0m\u001b[0;34m\u001b[0m\u001b[0;34m\u001b[0m\u001b[0;34m\u001b[0m\u001b[0m\n\u001b[1;32m    127\u001b[0m         \u001b[0mto_select\u001b[0m \u001b[0;34m=\u001b[0m \u001b[0mdf\u001b[0m\u001b[0;34m[\u001b[0m\u001b[0mdf\u001b[0m\u001b[0;34m[\u001b[0m\u001b[0;34m'Date'\u001b[0m\u001b[0;34m]\u001b[0m\u001b[0;34m==\u001b[0m\u001b[0mdate\u001b[0m\u001b[0;34m]\u001b[0m\u001b[0;34m\u001b[0m\u001b[0;34m\u001b[0m\u001b[0m\n",
      "\u001b[0;31mUnboundLocalError\u001b[0m: local variable 'date' referenced before assignment"
     ]
    }
   ],
   "source": [
    "haha = vectorize(df,[\"zero\",\"moderate\",'high'])"
   ]
  },
  {
   "cell_type": "code",
   "execution_count": 102,
   "id": "30a934ee",
   "metadata": {
    "scrolled": true
   },
   "outputs": [
    {
     "data": {
      "text/html": [
       "<div>\n",
       "<style scoped>\n",
       "    .dataframe tbody tr th:only-of-type {\n",
       "        vertical-align: middle;\n",
       "    }\n",
       "\n",
       "    .dataframe tbody tr th {\n",
       "        vertical-align: top;\n",
       "    }\n",
       "\n",
       "    .dataframe thead th {\n",
       "        text-align: right;\n",
       "    }\n",
       "</style>\n",
       "<table border=\"1\" class=\"dataframe\">\n",
       "  <thead>\n",
       "    <tr style=\"text-align: right;\">\n",
       "      <th></th>\n",
       "      <th>StateWellNumber</th>\n",
       "      <th>County</th>\n",
       "      <th>AquiferCode</th>\n",
       "      <th>WellDepth</th>\n",
       "      <th>Date</th>\n",
       "      <th>Time</th>\n",
       "      <th>SampleNumber</th>\n",
       "      <th>EntityId</th>\n",
       "      <th>LabId</th>\n",
       "      <th>ReliabilityId</th>\n",
       "      <th>CollectionRemarks</th>\n",
       "      <th>LatitudeDD</th>\n",
       "      <th>LongitudeDD</th>\n",
       "      <th>ParameterCode</th>\n",
       "      <th>ParameterDescription</th>\n",
       "      <th>ParameterFlag</th>\n",
       "      <th>ParameterValue</th>\n",
       "      <th>ParameterUnit</th>\n",
       "      <th>PlusMinus</th>\n",
       "    </tr>\n",
       "  </thead>\n",
       "  <tbody>\n",
       "    <tr>\n",
       "      <th>0</th>\n",
       "      <td>3458904</td>\n",
       "      <td>Anderson</td>\n",
       "      <td>124WLCX</td>\n",
       "      <td>1032.0</td>\n",
       "      <td>5/20/1998</td>\n",
       "      <td>1212.0</td>\n",
       "      <td>1.0</td>\n",
       "      <td>1.0</td>\n",
       "      <td>23.0</td>\n",
       "      <td>7.0</td>\n",
       "      <td>Analysis Balanced.</td>\n",
       "      <td>32.016103</td>\n",
       "      <td>-95.751856</td>\n",
       "      <td>1085.0</td>\n",
       "      <td>VANADIUM, DISSOLVED (UG/L AS V)</td>\n",
       "      <td>NaN</td>\n",
       "      <td>1.60</td>\n",
       "      <td>ug/L</td>\n",
       "      <td>NaN</td>\n",
       "    </tr>\n",
       "    <tr>\n",
       "      <th>1</th>\n",
       "      <td>3458904</td>\n",
       "      <td>Anderson</td>\n",
       "      <td>124WLCX</td>\n",
       "      <td>1032.0</td>\n",
       "      <td>3/12/2002</td>\n",
       "      <td>1530.0</td>\n",
       "      <td>1.0</td>\n",
       "      <td>1.0</td>\n",
       "      <td>23.0</td>\n",
       "      <td>7.0</td>\n",
       "      <td>Analysis Balanced.</td>\n",
       "      <td>32.016103</td>\n",
       "      <td>-95.751856</td>\n",
       "      <td>1085.0</td>\n",
       "      <td>VANADIUM, DISSOLVED (UG/L AS V)</td>\n",
       "      <td>&lt;</td>\n",
       "      <td>1.00</td>\n",
       "      <td>ug/L</td>\n",
       "      <td>NaN</td>\n",
       "    </tr>\n",
       "    <tr>\n",
       "      <th>2</th>\n",
       "      <td>3458904</td>\n",
       "      <td>Anderson</td>\n",
       "      <td>124WLCX</td>\n",
       "      <td>1032.0</td>\n",
       "      <td>10/26/2005</td>\n",
       "      <td>1130.0</td>\n",
       "      <td>1.0</td>\n",
       "      <td>1.0</td>\n",
       "      <td>24.0</td>\n",
       "      <td>7.0</td>\n",
       "      <td>Analysis Balanced.  Petcock on discharge in bldg</td>\n",
       "      <td>32.016103</td>\n",
       "      <td>-95.751856</td>\n",
       "      <td>1085.0</td>\n",
       "      <td>VANADIUM, DISSOLVED (UG/L AS V)</td>\n",
       "      <td>&lt;</td>\n",
       "      <td>1.00</td>\n",
       "      <td>ug/L</td>\n",
       "      <td>NaN</td>\n",
       "    </tr>\n",
       "    <tr>\n",
       "      <th>3</th>\n",
       "      <td>3458904</td>\n",
       "      <td>Anderson</td>\n",
       "      <td>124WLCX</td>\n",
       "      <td>1032.0</td>\n",
       "      <td>4/23/2010</td>\n",
       "      <td>1005.0</td>\n",
       "      <td>1.0</td>\n",
       "      <td>1.0</td>\n",
       "      <td>23.0</td>\n",
       "      <td>7.0</td>\n",
       "      <td>Analysis Balanced.  Lab Calculated Anion/Catio...</td>\n",
       "      <td>32.016103</td>\n",
       "      <td>-95.751856</td>\n",
       "      <td>1085.0</td>\n",
       "      <td>VANADIUM, DISSOLVED (UG/L AS V)</td>\n",
       "      <td>NaN</td>\n",
       "      <td>1.90</td>\n",
       "      <td>ug/L</td>\n",
       "      <td>NaN</td>\n",
       "    </tr>\n",
       "    <tr>\n",
       "      <th>4</th>\n",
       "      <td>3458904</td>\n",
       "      <td>Anderson</td>\n",
       "      <td>124WLCX</td>\n",
       "      <td>1032.0</td>\n",
       "      <td>4/8/2014</td>\n",
       "      <td>1326.0</td>\n",
       "      <td>1.0</td>\n",
       "      <td>1.0</td>\n",
       "      <td>23.0</td>\n",
       "      <td>7.0</td>\n",
       "      <td>Analysis Unbalanced.  Lab Calculated Anion/Cat...</td>\n",
       "      <td>32.016103</td>\n",
       "      <td>-95.751856</td>\n",
       "      <td>1085.0</td>\n",
       "      <td>VANADIUM, DISSOLVED (UG/L AS V)</td>\n",
       "      <td>NaN</td>\n",
       "      <td>1.53</td>\n",
       "      <td>ug/L</td>\n",
       "      <td>NaN</td>\n",
       "    </tr>\n",
       "  </tbody>\n",
       "</table>\n",
       "</div>"
      ],
      "text/plain": [
       "  StateWellNumber    County AquiferCode  WellDepth        Date    Time  \\\n",
       "0         3458904  Anderson     124WLCX     1032.0   5/20/1998  1212.0   \n",
       "1         3458904  Anderson     124WLCX     1032.0   3/12/2002  1530.0   \n",
       "2         3458904  Anderson     124WLCX     1032.0  10/26/2005  1130.0   \n",
       "3         3458904  Anderson     124WLCX     1032.0   4/23/2010  1005.0   \n",
       "4         3458904  Anderson     124WLCX     1032.0    4/8/2014  1326.0   \n",
       "\n",
       "   SampleNumber  EntityId  LabId  ReliabilityId  \\\n",
       "0           1.0       1.0   23.0            7.0   \n",
       "1           1.0       1.0   23.0            7.0   \n",
       "2           1.0       1.0   24.0            7.0   \n",
       "3           1.0       1.0   23.0            7.0   \n",
       "4           1.0       1.0   23.0            7.0   \n",
       "\n",
       "                                   CollectionRemarks  LatitudeDD  LongitudeDD  \\\n",
       "0                               Analysis Balanced.     32.016103   -95.751856   \n",
       "1                               Analysis Balanced.     32.016103   -95.751856   \n",
       "2   Analysis Balanced.  Petcock on discharge in bldg   32.016103   -95.751856   \n",
       "3  Analysis Balanced.  Lab Calculated Anion/Catio...   32.016103   -95.751856   \n",
       "4  Analysis Unbalanced.  Lab Calculated Anion/Cat...   32.016103   -95.751856   \n",
       "\n",
       "   ParameterCode             ParameterDescription ParameterFlag  \\\n",
       "0         1085.0  VANADIUM, DISSOLVED (UG/L AS V)           NaN   \n",
       "1         1085.0  VANADIUM, DISSOLVED (UG/L AS V)             <   \n",
       "2         1085.0  VANADIUM, DISSOLVED (UG/L AS V)             <   \n",
       "3         1085.0  VANADIUM, DISSOLVED (UG/L AS V)           NaN   \n",
       "4         1085.0  VANADIUM, DISSOLVED (UG/L AS V)           NaN   \n",
       "\n",
       "   ParameterValue ParameterUnit  PlusMinus  \n",
       "0            1.60          ug/L        NaN  \n",
       "1            1.00          ug/L        NaN  \n",
       "2            1.00          ug/L        NaN  \n",
       "3            1.90          ug/L        NaN  \n",
       "4            1.53          ug/L        NaN  "
      ]
     },
     "execution_count": 102,
     "metadata": {},
     "output_type": "execute_result"
    }
   ],
   "source": [
    "data.head()"
   ]
  },
  {
   "cell_type": "code",
   "execution_count": 103,
   "id": "22e61dc8",
   "metadata": {},
   "outputs": [
    {
     "data": {
      "text/html": [
       "<div>\n",
       "<style scoped>\n",
       "    .dataframe tbody tr th:only-of-type {\n",
       "        vertical-align: middle;\n",
       "    }\n",
       "\n",
       "    .dataframe tbody tr th {\n",
       "        vertical-align: top;\n",
       "    }\n",
       "\n",
       "    .dataframe thead th {\n",
       "        text-align: right;\n",
       "    }\n",
       "</style>\n",
       "<table border=\"1\" class=\"dataframe\">\n",
       "  <thead>\n",
       "    <tr style=\"text-align: right;\">\n",
       "      <th></th>\n",
       "      <th>WellDepth</th>\n",
       "      <th>Time</th>\n",
       "      <th>SampleNumber</th>\n",
       "      <th>EntityId</th>\n",
       "      <th>LabId</th>\n",
       "      <th>ReliabilityId</th>\n",
       "      <th>LatitudeDD</th>\n",
       "      <th>LongitudeDD</th>\n",
       "      <th>ParameterCode</th>\n",
       "      <th>ParameterValue</th>\n",
       "      <th>PlusMinus</th>\n",
       "    </tr>\n",
       "  </thead>\n",
       "  <tbody>\n",
       "    <tr>\n",
       "      <th>count</th>\n",
       "      <td>2200.000000</td>\n",
       "      <td>2243.000000</td>\n",
       "      <td>2243.000000</td>\n",
       "      <td>2243.000000</td>\n",
       "      <td>2243.000000</td>\n",
       "      <td>2241.000000</td>\n",
       "      <td>2243.000000</td>\n",
       "      <td>2243.000000</td>\n",
       "      <td>2243.0</td>\n",
       "      <td>2243.000000</td>\n",
       "      <td>0.0</td>\n",
       "    </tr>\n",
       "    <tr>\n",
       "      <th>mean</th>\n",
       "      <td>1063.632727</td>\n",
       "      <td>1213.478377</td>\n",
       "      <td>1.000446</td>\n",
       "      <td>1.879180</td>\n",
       "      <td>21.461436</td>\n",
       "      <td>7.023650</td>\n",
       "      <td>30.499593</td>\n",
       "      <td>-96.998081</td>\n",
       "      <td>1085.0</td>\n",
       "      <td>3.124730</td>\n",
       "      <td>NaN</td>\n",
       "    </tr>\n",
       "    <tr>\n",
       "      <th>std</th>\n",
       "      <td>917.216781</td>\n",
       "      <td>259.505701</td>\n",
       "      <td>0.021115</td>\n",
       "      <td>3.080416</td>\n",
       "      <td>5.885293</td>\n",
       "      <td>0.757034</td>\n",
       "      <td>1.579765</td>\n",
       "      <td>1.847644</td>\n",
       "      <td>0.0</td>\n",
       "      <td>5.342715</td>\n",
       "      <td>NaN</td>\n",
       "    </tr>\n",
       "    <tr>\n",
       "      <th>min</th>\n",
       "      <td>20.000000</td>\n",
       "      <td>0.000000</td>\n",
       "      <td>1.000000</td>\n",
       "      <td>1.000000</td>\n",
       "      <td>1.000000</td>\n",
       "      <td>1.000000</td>\n",
       "      <td>27.474722</td>\n",
       "      <td>-100.214723</td>\n",
       "      <td>1085.0</td>\n",
       "      <td>1.000000</td>\n",
       "      <td>NaN</td>\n",
       "    </tr>\n",
       "    <tr>\n",
       "      <th>25%</th>\n",
       "      <td>448.250000</td>\n",
       "      <td>1015.000000</td>\n",
       "      <td>1.000000</td>\n",
       "      <td>1.000000</td>\n",
       "      <td>23.000000</td>\n",
       "      <td>7.000000</td>\n",
       "      <td>29.005356</td>\n",
       "      <td>-98.632083</td>\n",
       "      <td>1085.0</td>\n",
       "      <td>1.000000</td>\n",
       "      <td>NaN</td>\n",
       "    </tr>\n",
       "    <tr>\n",
       "      <th>50%</th>\n",
       "      <td>753.500000</td>\n",
       "      <td>1207.000000</td>\n",
       "      <td>1.000000</td>\n",
       "      <td>1.000000</td>\n",
       "      <td>23.000000</td>\n",
       "      <td>7.000000</td>\n",
       "      <td>30.628972</td>\n",
       "      <td>-96.906667</td>\n",
       "      <td>1085.0</td>\n",
       "      <td>1.000000</td>\n",
       "      <td>NaN</td>\n",
       "    </tr>\n",
       "    <tr>\n",
       "      <th>75%</th>\n",
       "      <td>1350.000000</td>\n",
       "      <td>1425.000000</td>\n",
       "      <td>1.000000</td>\n",
       "      <td>1.000000</td>\n",
       "      <td>23.000000</td>\n",
       "      <td>7.000000</td>\n",
       "      <td>31.941667</td>\n",
       "      <td>-95.344445</td>\n",
       "      <td>1085.0</td>\n",
       "      <td>2.000000</td>\n",
       "      <td>NaN</td>\n",
       "    </tr>\n",
       "    <tr>\n",
       "      <th>max</th>\n",
       "      <td>6211.000000</td>\n",
       "      <td>1845.000000</td>\n",
       "      <td>2.000000</td>\n",
       "      <td>16.000000</td>\n",
       "      <td>24.000000</td>\n",
       "      <td>14.000000</td>\n",
       "      <td>33.443611</td>\n",
       "      <td>-93.776667</td>\n",
       "      <td>1085.0</td>\n",
       "      <td>42.200000</td>\n",
       "      <td>NaN</td>\n",
       "    </tr>\n",
       "  </tbody>\n",
       "</table>\n",
       "</div>"
      ],
      "text/plain": [
       "         WellDepth         Time  SampleNumber     EntityId        LabId  \\\n",
       "count  2200.000000  2243.000000   2243.000000  2243.000000  2243.000000   \n",
       "mean   1063.632727  1213.478377      1.000446     1.879180    21.461436   \n",
       "std     917.216781   259.505701      0.021115     3.080416     5.885293   \n",
       "min      20.000000     0.000000      1.000000     1.000000     1.000000   \n",
       "25%     448.250000  1015.000000      1.000000     1.000000    23.000000   \n",
       "50%     753.500000  1207.000000      1.000000     1.000000    23.000000   \n",
       "75%    1350.000000  1425.000000      1.000000     1.000000    23.000000   \n",
       "max    6211.000000  1845.000000      2.000000    16.000000    24.000000   \n",
       "\n",
       "       ReliabilityId   LatitudeDD  LongitudeDD  ParameterCode  ParameterValue  \\\n",
       "count    2241.000000  2243.000000  2243.000000         2243.0     2243.000000   \n",
       "mean        7.023650    30.499593   -96.998081         1085.0        3.124730   \n",
       "std         0.757034     1.579765     1.847644            0.0        5.342715   \n",
       "min         1.000000    27.474722  -100.214723         1085.0        1.000000   \n",
       "25%         7.000000    29.005356   -98.632083         1085.0        1.000000   \n",
       "50%         7.000000    30.628972   -96.906667         1085.0        1.000000   \n",
       "75%         7.000000    31.941667   -95.344445         1085.0        2.000000   \n",
       "max        14.000000    33.443611   -93.776667         1085.0       42.200000   \n",
       "\n",
       "       PlusMinus  \n",
       "count        0.0  \n",
       "mean         NaN  \n",
       "std          NaN  \n",
       "min          NaN  \n",
       "25%          NaN  \n",
       "50%          NaN  \n",
       "75%          NaN  \n",
       "max          NaN  "
      ]
     },
     "execution_count": 103,
     "metadata": {},
     "output_type": "execute_result"
    }
   ],
   "source": [
    "data.describe()"
   ]
  },
  {
   "cell_type": "code",
   "execution_count": 39,
   "id": "b9c13ada",
   "metadata": {},
   "outputs": [
    {
     "data": {
      "text/plain": [
       "835     20020104\n",
       "1425    20020107\n",
       "360     20020305\n",
       "1399    20020306\n",
       "1407    20020306\n",
       "          ...   \n",
       "1722    20023005\n",
       "1710    20023005\n",
       "2203    20023005\n",
       "2291    20023005\n",
       "2184    20023005\n",
       "Name: Date, Length: 402, dtype: int64"
      ]
     },
     "execution_count": 39,
     "metadata": {},
     "output_type": "execute_result"
    }
   ],
   "source": [
    "df = pre_process(copper,[0,2.5,10,10e10],[\"zero\",\"moderate\",'high'])\n",
    "df['year'] =  df['Date']/10000\n",
    "df['year'] = df['year'].astype('int')\n",
    "df = df[df['year']==2002]\n",
    "copper_date = df['Date']\n",
    "len(np.intersect1d(arsenic_date,copper_date))"
   ]
  },
  {
   "cell_type": "code",
   "execution_count": 105,
   "id": "9643e00a",
   "metadata": {},
   "outputs": [
    {
     "data": {
      "text/html": [
       "<div>\n",
       "<style scoped>\n",
       "    .dataframe tbody tr th:only-of-type {\n",
       "        vertical-align: middle;\n",
       "    }\n",
       "\n",
       "    .dataframe tbody tr th {\n",
       "        vertical-align: top;\n",
       "    }\n",
       "\n",
       "    .dataframe thead th {\n",
       "        text-align: right;\n",
       "    }\n",
       "</style>\n",
       "<table border=\"1\" class=\"dataframe\">\n",
       "  <thead>\n",
       "    <tr style=\"text-align: right;\">\n",
       "      <th></th>\n",
       "      <th>StateWellNumber</th>\n",
       "      <th>Date</th>\n",
       "      <th>LatitudeDD</th>\n",
       "      <th>LongitudeDD</th>\n",
       "      <th>ParameterValue</th>\n",
       "      <th>type</th>\n",
       "      <th>year</th>\n",
       "    </tr>\n",
       "  </thead>\n",
       "  <tbody>\n",
       "    <tr>\n",
       "      <th>1639</th>\n",
       "      <td>6958707</td>\n",
       "      <td>19900608</td>\n",
       "      <td>29.013611</td>\n",
       "      <td>-99.854444</td>\n",
       "      <td>20.0</td>\n",
       "      <td>high</td>\n",
       "      <td>1990</td>\n",
       "    </tr>\n",
       "    <tr>\n",
       "      <th>1657</th>\n",
       "      <td>6961603</td>\n",
       "      <td>19900608</td>\n",
       "      <td>29.046945</td>\n",
       "      <td>-99.403334</td>\n",
       "      <td>20.0</td>\n",
       "      <td>high</td>\n",
       "      <td>1990</td>\n",
       "    </tr>\n",
       "    <tr>\n",
       "      <th>1768</th>\n",
       "      <td>7704601</td>\n",
       "      <td>19900708</td>\n",
       "      <td>28.943056</td>\n",
       "      <td>-99.503334</td>\n",
       "      <td>20.0</td>\n",
       "      <td>high</td>\n",
       "      <td>1990</td>\n",
       "    </tr>\n",
       "    <tr>\n",
       "      <th>1896</th>\n",
       "      <td>7723808</td>\n",
       "      <td>19900708</td>\n",
       "      <td>28.666112</td>\n",
       "      <td>-99.168611</td>\n",
       "      <td>20.0</td>\n",
       "      <td>high</td>\n",
       "      <td>1990</td>\n",
       "    </tr>\n",
       "    <tr>\n",
       "      <th>1743</th>\n",
       "      <td>7702403</td>\n",
       "      <td>19900708</td>\n",
       "      <td>28.943328</td>\n",
       "      <td>-99.848628</td>\n",
       "      <td>20.0</td>\n",
       "      <td>high</td>\n",
       "      <td>1990</td>\n",
       "    </tr>\n",
       "  </tbody>\n",
       "</table>\n",
       "</div>"
      ],
      "text/plain": [
       "     StateWellNumber      Date  LatitudeDD  LongitudeDD  ParameterValue  type  \\\n",
       "1639         6958707  19900608   29.013611   -99.854444            20.0  high   \n",
       "1657         6961603  19900608   29.046945   -99.403334            20.0  high   \n",
       "1768         7704601  19900708   28.943056   -99.503334            20.0  high   \n",
       "1896         7723808  19900708   28.666112   -99.168611            20.0  high   \n",
       "1743         7702403  19900708   28.943328   -99.848628            20.0  high   \n",
       "\n",
       "      year  \n",
       "1639  1990  \n",
       "1657  1990  \n",
       "1768  1990  \n",
       "1896  1990  \n",
       "1743  1990  "
      ]
     },
     "execution_count": 105,
     "metadata": {},
     "output_type": "execute_result"
    }
   ],
   "source": [
    "df['year'] =  df['Date']/10000\n",
    "df['year'] = df['year'].astype('int')\n",
    "df.head()"
   ]
  },
  {
   "cell_type": "code",
   "execution_count": 106,
   "id": "0745cb5d",
   "metadata": {},
   "outputs": [
    {
     "data": {
      "text/plain": [
       "year\n",
       "1990    109\n",
       "1991     29\n",
       "1993      8\n",
       "1994     24\n",
       "1995      2\n",
       "Name: year, dtype: int64"
      ]
     },
     "execution_count": 106,
     "metadata": {},
     "output_type": "execute_result"
    }
   ],
   "source": [
    "count = df.groupby([\"year\"])['year'].count()\n",
    "count.head()"
   ]
  },
  {
   "cell_type": "code",
   "execution_count": 107,
   "id": "32eeac02",
   "metadata": {},
   "outputs": [
    {
     "data": {
      "text/plain": [
       "year\n",
       "1990    109\n",
       "1998    391\n",
       "2002    400\n",
       "2006    290\n",
       "2010    251\n",
       "2014    278\n",
       "2018    161\n",
       "Name: year, dtype: int64"
      ]
     },
     "execution_count": 107,
     "metadata": {},
     "output_type": "execute_result"
    }
   ],
   "source": [
    "count = count[count>=100]\n",
    "count"
   ]
  },
  {
   "cell_type": "code",
   "execution_count": 108,
   "id": "7f455941",
   "metadata": {},
   "outputs": [
    {
     "data": {
      "text/plain": [
       "[1990, 1998, 2002, 2006, 2010, 2014, 2018]"
      ]
     },
     "execution_count": 108,
     "metadata": {},
     "output_type": "execute_result"
    }
   ],
   "source": [
    "output_year = count.index.tolist()\n",
    "output_year"
   ]
  },
  {
   "cell_type": "code",
   "execution_count": 109,
   "id": "76a73dfa",
   "metadata": {},
   "outputs": [],
   "source": [
    "f = open(\"popular_year.txt\",'a')\n",
    "f.write(\"\\n\"+\"vanadium\\n\")\n",
    "for element in output_year:\n",
    "    f.write(str(element)+\" \")\n",
    "f.close()"
   ]
  },
  {
   "cell_type": "code",
   "execution_count": 30,
   "id": "6c73c5e0",
   "metadata": {},
   "outputs": [],
   "source": [
    "yr2002 = df[df['year']==1998]"
   ]
  },
  {
   "cell_type": "code",
   "execution_count": 33,
   "id": "60793993",
   "metadata": {},
   "outputs": [
    {
     "data": {
      "text/plain": [
       "83"
      ]
     },
     "execution_count": 33,
     "metadata": {},
     "output_type": "execute_result"
    }
   ],
   "source": [
    "len(yr2002['Date'].unique())"
   ]
  },
  {
   "cell_type": "code",
   "execution_count": 32,
   "id": "6e82ad32",
   "metadata": {},
   "outputs": [
    {
     "data": {
      "text/plain": [
       "391"
      ]
     },
     "execution_count": 32,
     "metadata": {},
     "output_type": "execute_result"
    }
   ],
   "source": [
    "len(yr2002)"
   ]
  },
  {
   "cell_type": "code",
   "execution_count": 41,
   "id": "295f569f",
   "metadata": {},
   "outputs": [
    {
     "data": {
      "text/plain": [
       "93"
      ]
     },
     "execution_count": 41,
     "metadata": {},
     "output_type": "execute_result"
    }
   ],
   "source": [
    "len(np.intersect1d(arsenic_date,copper_date))"
   ]
  },
  {
   "cell_type": "code",
   "execution_count": 57,
   "id": "b4069a03",
   "metadata": {},
   "outputs": [
    {
     "data": {
      "text/html": [
       "<div>\n",
       "<style scoped>\n",
       "    .dataframe tbody tr th:only-of-type {\n",
       "        vertical-align: middle;\n",
       "    }\n",
       "\n",
       "    .dataframe tbody tr th {\n",
       "        vertical-align: top;\n",
       "    }\n",
       "\n",
       "    .dataframe thead th {\n",
       "        text-align: right;\n",
       "    }\n",
       "</style>\n",
       "<table border=\"1\" class=\"dataframe\">\n",
       "  <thead>\n",
       "    <tr style=\"text-align: right;\">\n",
       "      <th></th>\n",
       "      <th>a</th>\n",
       "      <th>b</th>\n",
       "      <th>c</th>\n",
       "    </tr>\n",
       "  </thead>\n",
       "  <tbody>\n",
       "    <tr>\n",
       "      <th>0</th>\n",
       "      <td>1</td>\n",
       "      <td>3</td>\n",
       "      <td>4</td>\n",
       "    </tr>\n",
       "    <tr>\n",
       "      <th>1</th>\n",
       "      <td>2</td>\n",
       "      <td>4</td>\n",
       "      <td>5</td>\n",
       "    </tr>\n",
       "    <tr>\n",
       "      <th>2</th>\n",
       "      <td>3</td>\n",
       "      <td>5</td>\n",
       "      <td>6</td>\n",
       "    </tr>\n",
       "  </tbody>\n",
       "</table>\n",
       "</div>"
      ],
      "text/plain": [
       "   a  b  c\n",
       "0  1  3  4\n",
       "1  2  4  5\n",
       "2  3  5  6"
      ]
     },
     "execution_count": 57,
     "metadata": {},
     "output_type": "execute_result"
    }
   ],
   "source": [
    "a = [1,2,3]\n",
    "b = [3,4,5]\n",
    "c= [4,5,6]\n",
    "lists = list(zip(a,b,c))\n",
    "dd = pd.DataFrame(lists,columns = ['a','b','c'])\n",
    "dd"
   ]
  },
  {
   "cell_type": "code",
   "execution_count": null,
   "id": "ed1e8407",
   "metadata": {},
   "outputs": [],
   "source": []
  }
 ],
 "metadata": {
  "kernelspec": {
   "display_name": "Python_3_6",
   "language": "python",
   "name": "python_3_6"
  },
  "language_info": {
   "codemirror_mode": {
    "name": "ipython",
    "version": 3
   },
   "file_extension": ".py",
   "mimetype": "text/x-python",
   "name": "python",
   "nbconvert_exporter": "python",
   "pygments_lexer": "ipython3",
   "version": "3.7.9"
  }
 },
 "nbformat": 4,
 "nbformat_minor": 5
}
