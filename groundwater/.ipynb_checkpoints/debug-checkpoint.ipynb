{
 "cells": [
  {
   "cell_type": "code",
   "execution_count": 5,
   "metadata": {},
   "outputs": [
    {
     "name": "stdout",
     "output_type": "stream",
     "text": [
      "Dictionary of object position by type:\n",
      " {0: array([[  0,   1],\n",
      "       [100,   1],\n",
      "       [100, 100]]), 1: array([[  0,   0],\n",
      "       [101,   0]]), 2: array([[ 0,  2],\n",
      "       [99,  2]])}\n",
      "Coloation array is:\n",
      "[[0 0 0]\n",
      " [1 1 1]]\n",
      "Participation index of type 0 in colocation (type 0, type 1, type 2) is:\n",
      "0.666667\n"
     ]
    }
   ],
   "source": [
    "from calculator import get_dict,get_colocations,get_part_index\n",
    "import numpy as np\n",
    "dic=get_dict(np.array([\n",
    "    0,0,1,\n",
    "    0,100,1,\n",
    "    1,0,0,\n",
    "    1,101,0,\n",
    "    2,0,2,\n",
    "    2,99,2,\n",
    "    0,100,100\n",
    "    ]).reshape(-1,3),key_idx=0)\n",
    "print('Dictionary of object position by type:\\n',dic)\n",
    "colo_arr=get_colocations(dic,[0,1,2],thres=10)\n",
    "print('Coloation array is:\\n%s'%colo_arr)\n",
    "pi=get_part_index(dic,[0,1,2],0,colo_arr)\n",
    "print('Participation index of type 0 in colocation (type 0, type 1, type 2) is:\\n%f'%pi)"
   ]
  }
 ],
 "metadata": {
  "interpreter": {
   "hash": "7b9dacea585f8da3dfa2614f3919563c571a68ea739fba1d57ef7fbe74295a9c"
  },
  "kernelspec": {
   "display_name": "Python 3 (ipykernel)",
   "language": "python",
   "name": "python3"
  },
  "language_info": {
   "codemirror_mode": {
    "name": "ipython",
    "version": 3
   },
   "file_extension": ".py",
   "mimetype": "text/x-python",
   "name": "python",
   "nbconvert_exporter": "python",
   "pygments_lexer": "ipython3",
   "version": "3.7.9"
  }
 },
 "nbformat": 4,
 "nbformat_minor": 2
}
