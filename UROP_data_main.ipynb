{
 "cells": [
  {
   "cell_type": "code",
   "execution_count": 35,
   "id": "7152643c",
   "metadata": {},
   "outputs": [],
   "source": [
    "import numpy as np\n",
    "from numpy import random\n",
    "from script_np import *\n",
    "from math import pi\n",
    "import turtle as tt\n",
    "import matplotlib.cm as cm\n",
    "from tqdm import tqdm\n",
    "import matplotlib.pyplot as plt\n",
    "import statsmodels.api\n",
    "import pandas as pd\n",
    "import pingouin as pg\n",
    "from statsmodels.tsa.stattools import *\n",
    "from statsmodels.tsa.stattools import grangercausalitytests\n",
    "from statsmodels.tsa.stattools import adfuller"
   ]
  },
  {
   "cell_type": "code",
   "execution_count": 2,
   "id": "7f97dd1a",
   "metadata": {},
   "outputs": [],
   "source": [
    "data = pd.read_csv(\"data.csv\")"
   ]
  },
  {
   "cell_type": "code",
   "execution_count": 3,
   "id": "462563c0",
   "metadata": {},
   "outputs": [
    {
     "data": {
      "text/html": [
       "<div>\n",
       "<style scoped>\n",
       "    .dataframe tbody tr th:only-of-type {\n",
       "        vertical-align: middle;\n",
       "    }\n",
       "\n",
       "    .dataframe tbody tr th {\n",
       "        vertical-align: top;\n",
       "    }\n",
       "\n",
       "    .dataframe thead th {\n",
       "        text-align: right;\n",
       "    }\n",
       "</style>\n",
       "<table border=\"1\" class=\"dataframe\">\n",
       "  <thead>\n",
       "    <tr style=\"text-align: right;\">\n",
       "      <th></th>\n",
       "      <th>('A', 'B')</th>\n",
       "      <th>('C', ('A', 'B'))</th>\n",
       "      <th>('D', ('A', 'B', 'C'))</th>\n",
       "      <th>A</th>\n",
       "      <th>B</th>\n",
       "      <th>C</th>\n",
       "      <th>D</th>\n",
       "    </tr>\n",
       "  </thead>\n",
       "  <tbody>\n",
       "    <tr>\n",
       "      <th>0</th>\n",
       "      <td>12</td>\n",
       "      <td>4</td>\n",
       "      <td>0</td>\n",
       "      <td>46</td>\n",
       "      <td>32</td>\n",
       "      <td>27</td>\n",
       "      <td>38</td>\n",
       "    </tr>\n",
       "    <tr>\n",
       "      <th>1</th>\n",
       "      <td>11</td>\n",
       "      <td>4</td>\n",
       "      <td>0</td>\n",
       "      <td>46</td>\n",
       "      <td>32</td>\n",
       "      <td>27</td>\n",
       "      <td>38</td>\n",
       "    </tr>\n",
       "    <tr>\n",
       "      <th>2</th>\n",
       "      <td>12</td>\n",
       "      <td>3</td>\n",
       "      <td>0</td>\n",
       "      <td>47</td>\n",
       "      <td>33</td>\n",
       "      <td>27</td>\n",
       "      <td>39</td>\n",
       "    </tr>\n",
       "    <tr>\n",
       "      <th>3</th>\n",
       "      <td>12</td>\n",
       "      <td>2</td>\n",
       "      <td>0</td>\n",
       "      <td>47</td>\n",
       "      <td>33</td>\n",
       "      <td>27</td>\n",
       "      <td>40</td>\n",
       "    </tr>\n",
       "    <tr>\n",
       "      <th>4</th>\n",
       "      <td>12</td>\n",
       "      <td>2</td>\n",
       "      <td>0</td>\n",
       "      <td>47</td>\n",
       "      <td>33</td>\n",
       "      <td>27</td>\n",
       "      <td>40</td>\n",
       "    </tr>\n",
       "    <tr>\n",
       "      <th>...</th>\n",
       "      <td>...</td>\n",
       "      <td>...</td>\n",
       "      <td>...</td>\n",
       "      <td>...</td>\n",
       "      <td>...</td>\n",
       "      <td>...</td>\n",
       "      <td>...</td>\n",
       "    </tr>\n",
       "    <tr>\n",
       "      <th>995</th>\n",
       "      <td>34</td>\n",
       "      <td>11</td>\n",
       "      <td>4</td>\n",
       "      <td>47</td>\n",
       "      <td>36</td>\n",
       "      <td>27</td>\n",
       "      <td>38</td>\n",
       "    </tr>\n",
       "    <tr>\n",
       "      <th>996</th>\n",
       "      <td>36</td>\n",
       "      <td>15</td>\n",
       "      <td>7</td>\n",
       "      <td>47</td>\n",
       "      <td>35</td>\n",
       "      <td>31</td>\n",
       "      <td>39</td>\n",
       "    </tr>\n",
       "    <tr>\n",
       "      <th>997</th>\n",
       "      <td>35</td>\n",
       "      <td>18</td>\n",
       "      <td>13</td>\n",
       "      <td>46</td>\n",
       "      <td>35</td>\n",
       "      <td>32</td>\n",
       "      <td>39</td>\n",
       "    </tr>\n",
       "    <tr>\n",
       "      <th>998</th>\n",
       "      <td>37</td>\n",
       "      <td>18</td>\n",
       "      <td>14</td>\n",
       "      <td>46</td>\n",
       "      <td>35</td>\n",
       "      <td>32</td>\n",
       "      <td>41</td>\n",
       "    </tr>\n",
       "    <tr>\n",
       "      <th>999</th>\n",
       "      <td>38</td>\n",
       "      <td>19</td>\n",
       "      <td>14</td>\n",
       "      <td>47</td>\n",
       "      <td>35</td>\n",
       "      <td>33</td>\n",
       "      <td>41</td>\n",
       "    </tr>\n",
       "  </tbody>\n",
       "</table>\n",
       "<p>1000 rows × 7 columns</p>\n",
       "</div>"
      ],
      "text/plain": [
       "     ('A', 'B')  ('C', ('A', 'B'))  ('D', ('A', 'B', 'C'))   A   B   C   D\n",
       "0            12                  4                       0  46  32  27  38\n",
       "1            11                  4                       0  46  32  27  38\n",
       "2            12                  3                       0  47  33  27  39\n",
       "3            12                  2                       0  47  33  27  40\n",
       "4            12                  2                       0  47  33  27  40\n",
       "..          ...                ...                     ...  ..  ..  ..  ..\n",
       "995          34                 11                       4  47  36  27  38\n",
       "996          36                 15                       7  47  35  31  39\n",
       "997          35                 18                      13  46  35  32  39\n",
       "998          37                 18                      14  46  35  32  41\n",
       "999          38                 19                      14  47  35  33  41\n",
       "\n",
       "[1000 rows x 7 columns]"
      ]
     },
     "execution_count": 3,
     "metadata": {},
     "output_type": "execute_result"
    }
   ],
   "source": [
    "data"
   ]
  },
  {
   "cell_type": "code",
   "execution_count": 18,
   "id": "8915104d",
   "metadata": {},
   "outputs": [
    {
     "ename": "TypeError",
     "evalue": "'(slice(None, None, None), ('A', 'B'))' is an invalid key",
     "output_type": "error",
     "traceback": [
      "\u001b[0;31m---------------------------------------------------------------------------\u001b[0m",
      "\u001b[0;31mTypeError\u001b[0m                                 Traceback (most recent call last)",
      "\u001b[0;32m/var/folders/f1/ptxl35314mj1csv1q3j0_9740000gn/T/ipykernel_17659/1282750642.py\u001b[0m in \u001b[0;36m<module>\u001b[0;34m\u001b[0m\n\u001b[1;32m      1\u001b[0m \u001b[0midx\u001b[0m \u001b[0;34m=\u001b[0m \u001b[0;34m[\u001b[0m\u001b[0;34m\"(\\'A\\',\\'B\\')\"\u001b[0m\u001b[0;34m,\u001b[0m\u001b[0;34m\"B\"\u001b[0m\u001b[0;34m]\u001b[0m\u001b[0;34m\u001b[0m\u001b[0;34m\u001b[0m\u001b[0m\n\u001b[0;32m----> 2\u001b[0;31m \u001b[0mdata\u001b[0m\u001b[0;34m[\u001b[0m\u001b[0;34m:\u001b[0m\u001b[0;34m,\u001b[0m\u001b[0;34m(\u001b[0m\u001b[0;34m'A'\u001b[0m\u001b[0;34m,\u001b[0m\u001b[0;34m'B'\u001b[0m\u001b[0;34m)\u001b[0m\u001b[0;34m]\u001b[0m\u001b[0;34m\u001b[0m\u001b[0;34m\u001b[0m\u001b[0m\n\u001b[0m",
      "\u001b[0;32m/Library/Frameworks/Python.framework/Versions/3.7/lib/python3.7/site-packages/pandas/core/frame.py\u001b[0m in \u001b[0;36m__getitem__\u001b[0;34m(self, key)\u001b[0m\n\u001b[1;32m   3453\u001b[0m             \u001b[0;32mif\u001b[0m \u001b[0mself\u001b[0m\u001b[0;34m.\u001b[0m\u001b[0mcolumns\u001b[0m\u001b[0;34m.\u001b[0m\u001b[0mnlevels\u001b[0m \u001b[0;34m>\u001b[0m \u001b[0;36m1\u001b[0m\u001b[0;34m:\u001b[0m\u001b[0;34m\u001b[0m\u001b[0;34m\u001b[0m\u001b[0m\n\u001b[1;32m   3454\u001b[0m                 \u001b[0;32mreturn\u001b[0m \u001b[0mself\u001b[0m\u001b[0;34m.\u001b[0m\u001b[0m_getitem_multilevel\u001b[0m\u001b[0;34m(\u001b[0m\u001b[0mkey\u001b[0m\u001b[0;34m)\u001b[0m\u001b[0;34m\u001b[0m\u001b[0;34m\u001b[0m\u001b[0m\n\u001b[0;32m-> 3455\u001b[0;31m             \u001b[0mindexer\u001b[0m \u001b[0;34m=\u001b[0m \u001b[0mself\u001b[0m\u001b[0;34m.\u001b[0m\u001b[0mcolumns\u001b[0m\u001b[0;34m.\u001b[0m\u001b[0mget_loc\u001b[0m\u001b[0;34m(\u001b[0m\u001b[0mkey\u001b[0m\u001b[0;34m)\u001b[0m\u001b[0;34m\u001b[0m\u001b[0;34m\u001b[0m\u001b[0m\n\u001b[0m\u001b[1;32m   3456\u001b[0m             \u001b[0;32mif\u001b[0m \u001b[0mis_integer\u001b[0m\u001b[0;34m(\u001b[0m\u001b[0mindexer\u001b[0m\u001b[0;34m)\u001b[0m\u001b[0;34m:\u001b[0m\u001b[0;34m\u001b[0m\u001b[0;34m\u001b[0m\u001b[0m\n\u001b[1;32m   3457\u001b[0m                 \u001b[0mindexer\u001b[0m \u001b[0;34m=\u001b[0m \u001b[0;34m[\u001b[0m\u001b[0mindexer\u001b[0m\u001b[0;34m]\u001b[0m\u001b[0;34m\u001b[0m\u001b[0;34m\u001b[0m\u001b[0m\n",
      "\u001b[0;32m/Library/Frameworks/Python.framework/Versions/3.7/lib/python3.7/site-packages/pandas/core/indexes/base.py\u001b[0m in \u001b[0;36mget_loc\u001b[0;34m(self, key, method, tolerance)\u001b[0m\n\u001b[1;32m   3359\u001b[0m             \u001b[0mcasted_key\u001b[0m \u001b[0;34m=\u001b[0m \u001b[0mself\u001b[0m\u001b[0;34m.\u001b[0m\u001b[0m_maybe_cast_indexer\u001b[0m\u001b[0;34m(\u001b[0m\u001b[0mkey\u001b[0m\u001b[0;34m)\u001b[0m\u001b[0;34m\u001b[0m\u001b[0;34m\u001b[0m\u001b[0m\n\u001b[1;32m   3360\u001b[0m             \u001b[0;32mtry\u001b[0m\u001b[0;34m:\u001b[0m\u001b[0;34m\u001b[0m\u001b[0;34m\u001b[0m\u001b[0m\n\u001b[0;32m-> 3361\u001b[0;31m                 \u001b[0;32mreturn\u001b[0m \u001b[0mself\u001b[0m\u001b[0;34m.\u001b[0m\u001b[0m_engine\u001b[0m\u001b[0;34m.\u001b[0m\u001b[0mget_loc\u001b[0m\u001b[0;34m(\u001b[0m\u001b[0mcasted_key\u001b[0m\u001b[0;34m)\u001b[0m\u001b[0;34m\u001b[0m\u001b[0;34m\u001b[0m\u001b[0m\n\u001b[0m\u001b[1;32m   3362\u001b[0m             \u001b[0;32mexcept\u001b[0m \u001b[0mKeyError\u001b[0m \u001b[0;32mas\u001b[0m \u001b[0merr\u001b[0m\u001b[0;34m:\u001b[0m\u001b[0;34m\u001b[0m\u001b[0;34m\u001b[0m\u001b[0m\n\u001b[1;32m   3363\u001b[0m                 \u001b[0;32mraise\u001b[0m \u001b[0mKeyError\u001b[0m\u001b[0;34m(\u001b[0m\u001b[0mkey\u001b[0m\u001b[0;34m)\u001b[0m \u001b[0;32mfrom\u001b[0m \u001b[0merr\u001b[0m\u001b[0;34m\u001b[0m\u001b[0;34m\u001b[0m\u001b[0m\n",
      "\u001b[0;32m/Library/Frameworks/Python.framework/Versions/3.7/lib/python3.7/site-packages/pandas/_libs/index.pyx\u001b[0m in \u001b[0;36mpandas._libs.index.IndexEngine.get_loc\u001b[0;34m()\u001b[0m\n",
      "\u001b[0;32m/Library/Frameworks/Python.framework/Versions/3.7/lib/python3.7/site-packages/pandas/_libs/index.pyx\u001b[0m in \u001b[0;36mpandas._libs.index.IndexEngine.get_loc\u001b[0;34m()\u001b[0m\n",
      "\u001b[0;31mTypeError\u001b[0m: '(slice(None, None, None), ('A', 'B'))' is an invalid key"
     ]
    }
   ],
   "source": [
    "idx = [\"(\\'A\\',\\'B\\')\",\"B\"]\n",
    "data[:,('A','B')]"
   ]
  },
  {
   "cell_type": "code",
   "execution_count": 7,
   "id": "4bd6333c",
   "metadata": {},
   "outputs": [
    {
     "ename": "KeyError",
     "evalue": "'[\"(\\'A\\',\\'B\\')\"] not in index'",
     "output_type": "error",
     "traceback": [
      "\u001b[0;31m---------------------------------------------------------------------------\u001b[0m",
      "\u001b[0;31mKeyError\u001b[0m                                  Traceback (most recent call last)",
      "\u001b[0;32m/var/folders/f1/ptxl35314mj1csv1q3j0_9740000gn/T/ipykernel_17659/3742391873.py\u001b[0m in \u001b[0;36m<module>\u001b[0;34m\u001b[0m\n\u001b[1;32m      1\u001b[0m \u001b[0;31m# granger causality test\u001b[0m\u001b[0;34m\u001b[0m\u001b[0;34m\u001b[0m\u001b[0;34m\u001b[0m\u001b[0m\n\u001b[1;32m      2\u001b[0m \u001b[0midx\u001b[0m \u001b[0;34m=\u001b[0m \u001b[0;34m[\u001b[0m\u001b[0;34m\"(\\'A\\',\\'B\\')\"\u001b[0m\u001b[0;34m,\u001b[0m\u001b[0;34m\"B\"\u001b[0m\u001b[0;34m]\u001b[0m\u001b[0;34m\u001b[0m\u001b[0;34m\u001b[0m\u001b[0m\n\u001b[0;32m----> 3\u001b[0;31m \u001b[0mgrangercausalitytests\u001b[0m\u001b[0;34m(\u001b[0m\u001b[0mdata\u001b[0m\u001b[0;34m[\u001b[0m\u001b[0midx\u001b[0m\u001b[0;34m]\u001b[0m\u001b[0;34m,\u001b[0m \u001b[0mmaxlag\u001b[0m\u001b[0;34m=\u001b[0m\u001b[0;36m15\u001b[0m\u001b[0;34m)\u001b[0m\u001b[0;34m\u001b[0m\u001b[0;34m\u001b[0m\u001b[0m\n\u001b[0m",
      "\u001b[0;32m/Library/Frameworks/Python.framework/Versions/3.7/lib/python3.7/site-packages/pandas/core/frame.py\u001b[0m in \u001b[0;36m__getitem__\u001b[0;34m(self, key)\u001b[0m\n\u001b[1;32m   3459\u001b[0m             \u001b[0;32mif\u001b[0m \u001b[0mis_iterator\u001b[0m\u001b[0;34m(\u001b[0m\u001b[0mkey\u001b[0m\u001b[0;34m)\u001b[0m\u001b[0;34m:\u001b[0m\u001b[0;34m\u001b[0m\u001b[0;34m\u001b[0m\u001b[0m\n\u001b[1;32m   3460\u001b[0m                 \u001b[0mkey\u001b[0m \u001b[0;34m=\u001b[0m \u001b[0mlist\u001b[0m\u001b[0;34m(\u001b[0m\u001b[0mkey\u001b[0m\u001b[0;34m)\u001b[0m\u001b[0;34m\u001b[0m\u001b[0;34m\u001b[0m\u001b[0m\n\u001b[0;32m-> 3461\u001b[0;31m             \u001b[0mindexer\u001b[0m \u001b[0;34m=\u001b[0m \u001b[0mself\u001b[0m\u001b[0;34m.\u001b[0m\u001b[0mloc\u001b[0m\u001b[0;34m.\u001b[0m\u001b[0m_get_listlike_indexer\u001b[0m\u001b[0;34m(\u001b[0m\u001b[0mkey\u001b[0m\u001b[0;34m,\u001b[0m \u001b[0maxis\u001b[0m\u001b[0;34m=\u001b[0m\u001b[0;36m1\u001b[0m\u001b[0;34m)\u001b[0m\u001b[0;34m[\u001b[0m\u001b[0;36m1\u001b[0m\u001b[0;34m]\u001b[0m\u001b[0;34m\u001b[0m\u001b[0;34m\u001b[0m\u001b[0m\n\u001b[0m\u001b[1;32m   3462\u001b[0m \u001b[0;34m\u001b[0m\u001b[0m\n\u001b[1;32m   3463\u001b[0m         \u001b[0;31m# take() does not accept boolean indexers\u001b[0m\u001b[0;34m\u001b[0m\u001b[0;34m\u001b[0m\u001b[0;34m\u001b[0m\u001b[0m\n",
      "\u001b[0;32m/Library/Frameworks/Python.framework/Versions/3.7/lib/python3.7/site-packages/pandas/core/indexing.py\u001b[0m in \u001b[0;36m_get_listlike_indexer\u001b[0;34m(self, key, axis)\u001b[0m\n\u001b[1;32m   1312\u001b[0m             \u001b[0mkeyarr\u001b[0m\u001b[0;34m,\u001b[0m \u001b[0mindexer\u001b[0m\u001b[0;34m,\u001b[0m \u001b[0mnew_indexer\u001b[0m \u001b[0;34m=\u001b[0m \u001b[0max\u001b[0m\u001b[0;34m.\u001b[0m\u001b[0m_reindex_non_unique\u001b[0m\u001b[0;34m(\u001b[0m\u001b[0mkeyarr\u001b[0m\u001b[0;34m)\u001b[0m\u001b[0;34m\u001b[0m\u001b[0;34m\u001b[0m\u001b[0m\n\u001b[1;32m   1313\u001b[0m \u001b[0;34m\u001b[0m\u001b[0m\n\u001b[0;32m-> 1314\u001b[0;31m         \u001b[0mself\u001b[0m\u001b[0;34m.\u001b[0m\u001b[0m_validate_read_indexer\u001b[0m\u001b[0;34m(\u001b[0m\u001b[0mkeyarr\u001b[0m\u001b[0;34m,\u001b[0m \u001b[0mindexer\u001b[0m\u001b[0;34m,\u001b[0m \u001b[0maxis\u001b[0m\u001b[0;34m)\u001b[0m\u001b[0;34m\u001b[0m\u001b[0;34m\u001b[0m\u001b[0m\n\u001b[0m\u001b[1;32m   1315\u001b[0m \u001b[0;34m\u001b[0m\u001b[0m\n\u001b[1;32m   1316\u001b[0m         if needs_i8_conversion(ax.dtype) or isinstance(\n",
      "\u001b[0;32m/Library/Frameworks/Python.framework/Versions/3.7/lib/python3.7/site-packages/pandas/core/indexing.py\u001b[0m in \u001b[0;36m_validate_read_indexer\u001b[0;34m(self, key, indexer, axis)\u001b[0m\n\u001b[1;32m   1375\u001b[0m \u001b[0;34m\u001b[0m\u001b[0m\n\u001b[1;32m   1376\u001b[0m             \u001b[0mnot_found\u001b[0m \u001b[0;34m=\u001b[0m \u001b[0mlist\u001b[0m\u001b[0;34m(\u001b[0m\u001b[0mensure_index\u001b[0m\u001b[0;34m(\u001b[0m\u001b[0mkey\u001b[0m\u001b[0;34m)\u001b[0m\u001b[0;34m[\u001b[0m\u001b[0mmissing_mask\u001b[0m\u001b[0;34m.\u001b[0m\u001b[0mnonzero\u001b[0m\u001b[0;34m(\u001b[0m\u001b[0;34m)\u001b[0m\u001b[0;34m[\u001b[0m\u001b[0;36m0\u001b[0m\u001b[0;34m]\u001b[0m\u001b[0;34m]\u001b[0m\u001b[0;34m.\u001b[0m\u001b[0munique\u001b[0m\u001b[0;34m(\u001b[0m\u001b[0;34m)\u001b[0m\u001b[0;34m)\u001b[0m\u001b[0;34m\u001b[0m\u001b[0;34m\u001b[0m\u001b[0m\n\u001b[0;32m-> 1377\u001b[0;31m             \u001b[0;32mraise\u001b[0m \u001b[0mKeyError\u001b[0m\u001b[0;34m(\u001b[0m\u001b[0;34mf\"{not_found} not in index\"\u001b[0m\u001b[0;34m)\u001b[0m\u001b[0;34m\u001b[0m\u001b[0;34m\u001b[0m\u001b[0m\n\u001b[0m\u001b[1;32m   1378\u001b[0m \u001b[0;34m\u001b[0m\u001b[0m\n\u001b[1;32m   1379\u001b[0m \u001b[0;34m\u001b[0m\u001b[0m\n",
      "\u001b[0;31mKeyError\u001b[0m: '[\"(\\'A\\',\\'B\\')\"] not in index'"
     ]
    }
   ],
   "source": [
    "# granger causality test\n",
    "idx = [\"(\\'A\\',\\'B\\')\",\"B\"]\n",
    "grangercausalitytests(data[idx], maxlag=15)"
   ]
  },
  {
   "cell_type": "code",
   "execution_count": null,
   "id": "59581d3a",
   "metadata": {},
   "outputs": [],
   "source": []
  },
  {
   "cell_type": "code",
   "execution_count": null,
   "id": "750304d1",
   "metadata": {},
   "outputs": [],
   "source": []
  },
  {
   "cell_type": "code",
   "execution_count": 9,
   "id": "ca021b4a",
   "metadata": {},
   "outputs": [],
   "source": [
    "A_density = [3.0303030303030303, 3.0303030303030303, 3.0303030303030303, 2.6515151515151514, 3.0303030303030303, 2.6515151515151514, 2.6515151515151514, 2.6515151515151514, 2.6515151515151514, 2.6515151515151514, 2.6515151515151514, 2.6515151515151514, 2.6515151515151514, 2.6515151515151514, 2.6515151515151514, 2.6515151515151514, 2.2727272727272725, 2.2727272727272725, 2.2727272727272725, 1.8939393939393938, 1.8939393939393938, 1.8939393939393938, 1.8939393939393938, 1.8939393939393938, 1.8939393939393938, 1.8939393939393938, 1.8939393939393938, 1.8939393939393938, 2.2727272727272725, 2.6515151515151514, 2.6515151515151514, 3.0303030303030303, 3.0303030303030303, 3.0303030303030303, 3.4090909090909087, 3.4090909090909087, 3.4090909090909087, 3.4090909090909087, 3.4090909090909087, 3.7878787878787876, 3.7878787878787876, 3.7878787878787876, 3.7878787878787876, 4.166666666666666, 4.545454545454545, 4.545454545454545, 4.545454545454545, 4.545454545454545, 4.545454545454545, 4.545454545454545, 4.545454545454545, 4.545454545454545, 4.545454545454545, 4.545454545454545, 4.545454545454545, 4.545454545454545, 4.166666666666666, 3.7878787878787876, 3.7878787878787876, 3.7878787878787876, 3.7878787878787876, 3.7878787878787876, 3.7878787878787876, 3.7878787878787876, 3.7878787878787876, 3.4090909090909087, 3.4090909090909087, 3.4090909090909087, 3.4090909090909087, 3.4090909090909087, 3.4090909090909087, 3.4090909090909087, 3.4090909090909087, 3.0303030303030303, 2.6515151515151514, 2.6515151515151514, 2.6515151515151514, 2.6515151515151514, 2.6515151515151514, 2.6515151515151514, 2.6515151515151514, 2.6515151515151514, 2.6515151515151514, 2.6515151515151514, 2.6515151515151514, 3.0303030303030303, 3.0303030303030303, 3.0303030303030303, 2.6515151515151514, 2.6515151515151514, 2.6515151515151514, 2.6515151515151514, 2.6515151515151514, 2.6515151515151514, 2.2727272727272725, 2.2727272727272725, 1.8939393939393938, 1.8939393939393938, 1.8939393939393938, 1.8939393939393938, 1.8939393939393938, 1.5151515151515151, 1.5151515151515151, 1.5151515151515151, 1.1363636363636362, 1.1363636363636362, 1.1363636363636362, 1.1363636363636362, 1.1363636363636362, 1.1363636363636362, 1.1363636363636362, 1.1363636363636362, 1.1363636363636362, 1.1363636363636362, 1.1363636363636362, 1.1363636363636362, 0.7575757575757576, 0.7575757575757576, 0.7575757575757576, 0.7575757575757576, 0.7575757575757576, 0.7575757575757576, 0.7575757575757576, 0.7575757575757576, 0.7575757575757576, 0.7575757575757576, 0.7575757575757576, 1.1363636363636362, 1.1363636363636362, 1.5151515151515151, 1.8939393939393938, 1.8939393939393938, 2.2727272727272725, 2.2727272727272725, 2.6515151515151514, 2.6515151515151514, 2.6515151515151514, 2.6515151515151514, 3.0303030303030303, 3.0303030303030303, 3.4090909090909087, 3.4090909090909087, 3.4090909090909087, 3.4090909090909087, 3.4090909090909087, 3.4090909090909087, 3.4090909090909087, 3.4090909090909087, 3.4090909090909087, 3.4090909090909087, 3.4090909090909087, 3.4090909090909087, 3.4090909090909087, 3.4090909090909087, 3.4090909090909087, 3.4090909090909087, 3.4090909090909087, 3.4090909090909087, 3.4090909090909087, 3.4090909090909087, 3.4090909090909087, 3.4090909090909087, 3.4090909090909087, 3.4090909090909087, 3.4090909090909087, 3.4090909090909087, 3.4090909090909087, 3.7878787878787876, 3.7878787878787876, 3.7878787878787876, 3.7878787878787876, 3.7878787878787876, 3.7878787878787876, 4.166666666666666, 4.545454545454545, 4.545454545454545, 4.545454545454545, 4.545454545454545, 4.545454545454545, 4.166666666666666, 4.166666666666666, 4.166666666666666, 4.166666666666666, 4.545454545454545, 4.545454545454545, 4.545454545454545, 4.924242424242424, 5.303030303030303, 5.681818181818182, 5.681818181818182, 6.0606060606060606, 6.4393939393939394, 6.8181818181818175, 6.8181818181818175, 6.8181818181818175, 6.8181818181818175, 6.8181818181818175, 6.8181818181818175, 6.8181818181818175, 7.196969696969696, 6.8181818181818175, 7.196969696969696, 7.575757575757575, 8.333333333333332, 8.333333333333332, 8.333333333333332, 8.712121212121211, 8.712121212121211, 8.712121212121211, 8.712121212121211, 8.712121212121211, 8.712121212121211, 8.712121212121211, 8.712121212121211, 8.712121212121211, 8.712121212121211, 8.712121212121211, 8.712121212121211, 8.712121212121211, 8.712121212121211, 8.712121212121211, 8.333333333333332, 8.333333333333332, 7.954545454545454, 7.954545454545454, 7.954545454545454, 7.954545454545454, 7.954545454545454, 7.954545454545454, 7.954545454545454, 7.575757575757575, 7.575757575757575, 7.575757575757575, 7.196969696969696, 6.8181818181818175, 6.8181818181818175, 6.0606060606060606, 6.0606060606060606, 5.681818181818182, 6.0606060606060606, 6.0606060606060606, 6.0606060606060606, 6.0606060606060606, 6.0606060606060606, 6.0606060606060606, 6.0606060606060606, 6.4393939393939394, 6.4393939393939394, 6.4393939393939394, 6.8181818181818175, 7.196969696969696, 7.575757575757575, 7.954545454545454, 7.954545454545454, 8.333333333333332, 7.954545454545454, 8.333333333333332, 8.333333333333332, 8.333333333333332, 8.333333333333332, 8.333333333333332, 8.333333333333332, 8.712121212121211, 8.712121212121211, 8.712121212121211, 8.712121212121211, 8.712121212121211, 7.575757575757575, 7.575757575757575, 7.575757575757575, 6.8181818181818175, 6.8181818181818175, 6.8181818181818175, 6.8181818181818175, 6.8181818181818175, 7.575757575757575, 7.575757575757575, 7.575757575757575, 7.196969696969696, 7.575757575757575, 7.954545454545454, 7.954545454545454, 7.954545454545454, 7.954545454545454, 7.575757575757575, 7.575757575757575, 7.575757575757575, 7.575757575757575, 7.575757575757575, 6.0606060606060606, 6.0606060606060606, 6.0606060606060606, 5.681818181818182, 5.303030303030303, 5.681818181818182, 5.681818181818182, 5.681818181818182, 5.303030303030303, 4.924242424242424, 4.924242424242424]"
   ]
  },
  {
   "cell_type": "code",
   "execution_count": 10,
   "id": "615f2a27",
   "metadata": {},
   "outputs": [],
   "source": [
    "AB_density = [3.0303030303030303, 3.0303030303030303, 3.0303030303030303, 2.6515151515151514, 2.6515151515151514, 2.6515151515151514, 2.6515151515151514, 2.6515151515151514, 2.6515151515151514, 2.6515151515151514, 2.6515151515151514, 2.6515151515151514, 2.6515151515151514, 2.6515151515151514, 2.6515151515151514, 2.6515151515151514, 2.6515151515151514, 2.6515151515151514, 2.2727272727272725, 2.2727272727272725, 2.2727272727272725, 1.8939393939393938, 1.8939393939393938, 1.8939393939393938, 1.8939393939393938, 2.2727272727272725, 2.2727272727272725, 2.2727272727272725, 2.2727272727272725, 2.2727272727272725, 2.2727272727272725, 2.2727272727272725, 2.2727272727272725, 2.2727272727272725, 2.6515151515151514, 2.6515151515151514, 3.0303030303030303, 3.0303030303030303, 3.0303030303030303, 2.6515151515151514, 2.6515151515151514, 2.6515151515151514, 3.0303030303030303, 3.0303030303030303, 3.0303030303030303, 3.0303030303030303, 3.0303030303030303, 3.0303030303030303, 3.0303030303030303, 3.0303030303030303, 3.4090909090909087, 3.4090909090909087, 3.4090909090909087, 3.4090909090909087, 3.4090909090909087, 3.4090909090909087, 3.4090909090909087, 3.4090909090909087, 3.4090909090909087, 3.4090909090909087, 3.4090909090909087, 3.4090909090909087, 3.4090909090909087, 3.0303030303030303, 3.0303030303030303, 3.0303030303030303, 3.0303030303030303, 3.0303030303030303, 3.4090909090909087, 3.4090909090909087, 3.4090909090909087, 3.4090909090909087, 3.4090909090909087, 3.4090909090909087, 3.4090909090909087, 3.0303030303030303, 3.0303030303030303, 2.6515151515151514, 2.6515151515151514, 2.6515151515151514, 2.6515151515151514, 2.6515151515151514, 2.6515151515151514, 2.6515151515151514, 2.6515151515151514, 2.2727272727272725, 1.8939393939393938, 1.8939393939393938, 1.8939393939393938, 1.8939393939393938, 1.8939393939393938, 1.8939393939393938, 1.8939393939393938, 1.8939393939393938, 1.8939393939393938, 1.8939393939393938, 1.8939393939393938, 1.8939393939393938, 1.8939393939393938, 1.8939393939393938, 1.8939393939393938, 1.8939393939393938, 1.8939393939393938, 1.8939393939393938, 1.8939393939393938, 1.1363636363636362, 1.1363636363636362, 1.1363636363636362, 1.1363636363636362, 1.1363636363636362, 1.1363636363636362, 1.1363636363636362, 1.1363636363636362, 1.1363636363636362, 1.1363636363636362, 1.1363636363636362, 1.1363636363636362, 0.7575757575757576, 0.7575757575757576, 0.7575757575757576, 0.7575757575757576, 0.7575757575757576, 0.7575757575757576, 0.7575757575757576, 0.7575757575757576, 0.7575757575757576, 0.7575757575757576, 0.7575757575757576, 0.7575757575757576, 0.7575757575757576, 0.7575757575757576, 0.7575757575757576, 0.7575757575757576, 0.7575757575757576, 1.1363636363636362, 1.1363636363636362, 1.1363636363636362, 1.8939393939393938, 2.2727272727272725, 2.6515151515151514, 2.6515151515151514, 3.0303030303030303, 3.0303030303030303, 3.0303030303030303, 3.0303030303030303, 3.0303030303030303, 3.0303030303030303, 3.0303030303030303, 3.0303030303030303, 3.0303030303030303, 3.0303030303030303, 3.0303030303030303, 3.0303030303030303, 3.0303030303030303, 3.0303030303030303, 3.0303030303030303, 3.0303030303030303, 3.0303030303030303, 3.0303030303030303, 3.0303030303030303, 3.0303030303030303, 3.0303030303030303, 3.0303030303030303, 3.0303030303030303, 3.0303030303030303, 3.0303030303030303, 3.0303030303030303, 3.0303030303030303, 3.0303030303030303, 3.0303030303030303, 3.0303030303030303, 3.0303030303030303, 3.0303030303030303, 3.0303030303030303, 3.0303030303030303, 3.0303030303030303, 3.0303030303030303, 3.0303030303030303, 3.0303030303030303, 3.4090909090909087, 3.7878787878787876, 3.7878787878787876, 3.7878787878787876, 3.7878787878787876, 3.7878787878787876, 3.7878787878787876, 3.7878787878787876, 3.7878787878787876, 3.7878787878787876, 3.7878787878787876, 3.4090909090909087, 3.4090909090909087, 3.4090909090909087, 3.7878787878787876, 3.7878787878787876, 3.7878787878787876, 4.166666666666666, 4.166666666666666, 4.545454545454545, 4.545454545454545, 4.545454545454545, 4.545454545454545, 5.681818181818182, 6.0606060606060606, 6.0606060606060606, 6.0606060606060606, 6.8181818181818175, 6.8181818181818175, 6.8181818181818175, 7.196969696969696, 7.196969696969696, 7.196969696969696, 7.196969696969696, 7.196969696969696, 7.196969696969696, 7.196969696969696, 7.196969696969696, 7.196969696969696, 7.196969696969696, 7.196969696969696, 7.196969696969696, 7.196969696969696, 7.196969696969696, 6.8181818181818175, 6.8181818181818175, 6.8181818181818175, 6.8181818181818175, 6.8181818181818175, 7.575757575757575, 7.575757575757575, 7.575757575757575, 7.575757575757575, 7.575757575757575, 7.575757575757575, 7.575757575757575, 7.575757575757575, 7.575757575757575, 7.575757575757575, 7.575757575757575, 7.575757575757575, 7.575757575757575, 7.575757575757575, 7.575757575757575, 7.575757575757575, 7.575757575757575, 7.575757575757575, 7.575757575757575, 7.575757575757575, 7.575757575757575, 7.575757575757575, 7.196969696969696, 7.196969696969696, 7.196969696969696, 7.196969696969696, 7.196969696969696, 7.196969696969696, 7.575757575757575, 7.575757575757575, 7.575757575757575, 7.575757575757575, 7.575757575757575, 7.575757575757575, 7.575757575757575, 7.575757575757575, 7.575757575757575, 7.575757575757575, 7.575757575757575, 7.575757575757575, 7.575757575757575, 7.575757575757575, 7.954545454545454, 7.954545454545454, 7.954545454545454, 8.333333333333332, 8.333333333333332, 8.333333333333332, 8.333333333333332, 8.333333333333332, 8.333333333333332, 8.333333333333332, 8.333333333333332, 8.333333333333332, 7.954545454545454, 7.954545454545454, 8.333333333333332, 7.954545454545454, 7.954545454545454, 7.954545454545454, 7.954545454545454, 7.954545454545454, 7.575757575757575, 7.575757575757575, 7.575757575757575, 7.954545454545454, 7.954545454545454, 7.954545454545454, 7.575757575757575, 7.575757575757575, 7.196969696969696, 7.196969696969696]"
   ]
  },
  {
   "cell_type": "code",
   "execution_count": 70,
   "id": "5cbcb911",
   "metadata": {
    "scrolled": true
   },
   "outputs": [
    {
     "data": {
      "text/plain": [
       "[<matplotlib.lines.Line2D at 0x7fd656974b90>]"
      ]
     },
     "execution_count": 70,
     "metadata": {},
     "output_type": "execute_result"
    },
    {
     "data": {
      "image/png": "[encoded data removed]",
      "text/plain": [
       "<Figure size 432x288 with 1 Axes>"
      ]
     },
     "metadata": {
      "needs_background": "light"
     },
     "output_type": "display_data"
    }
   ],
   "source": [
    "plt.plot(B_density)"
   ]
  },
  {
   "cell_type": "code",
   "execution_count": 71,
   "id": "bb8b62a0",
   "metadata": {
    "scrolled": true
   },
   "outputs": [
    {
     "data": {
      "text/plain": [
       "[<matplotlib.lines.Line2D at 0x7fd6569a85d0>]"
      ]
     },
     "execution_count": 71,
     "metadata": {},
     "output_type": "execute_result"
    },
    {
     "data": {
      "image/png": "[encoded data removed]",
      "text/plain": [
       "<Figure size 432x288 with 1 Axes>"
      ]
     },
     "metadata": {
      "needs_background": "light"
     },
     "output_type": "display_data"
    }
   ],
   "source": [
    "plt.plot(AB_density)"
   ]
  },
  {
   "cell_type": "code",
   "execution_count": 72,
   "id": "aa91aaf9",
   "metadata": {},
   "outputs": [
    {
     "data": {
      "text/plain": [
       "[<matplotlib.lines.Line2D at 0x7fd656e0ae50>]"
      ]
     },
     "execution_count": 72,
     "metadata": {},
     "output_type": "execute_result"
    },
    {
     "data": {
      "image/png": "[encoded data removed]",
      "text/plain": [
       "<Figure size 432x288 with 1 Axes>"
      ]
     },
     "metadata": {
      "needs_background": "light"
     },
     "output_type": "display_data"
    }
   ],
   "source": [
    "plt.plot(ABC_density)"
   ]
  },
  {
   "cell_type": "code",
   "execution_count": 118,
   "id": "d001f09d",
   "metadata": {},
   "outputs": [
    {
     "data": {
      "text/plain": [
       "[<matplotlib.lines.Line2D at 0x7fd6570bd110>]"
      ]
     },
     "execution_count": 118,
     "metadata": {},
     "output_type": "execute_result"
    },
    {
     "data": {
      "image/png": "[encoded data removed]",
      "text/plain": [
       "<Figure size 432x288 with 1 Axes>"
      ]
     },
     "metadata": {
      "needs_background": "light"
     },
     "output_type": "display_data"
    }
   ],
   "source": [
    "plt.plot(ABCD_density)"
   ]
  },
  {
   "cell_type": "code",
   "execution_count": 41,
   "id": "56ae57ac",
   "metadata": {},
   "outputs": [
    {
     "data": {
      "text/plain": [
       "(-10.993974813868615,\n",
       " 6.945825700623778e-20,\n",
       " 18,\n",
       " 980,\n",
       " {'1%': -3.4370403176323214,\n",
       "  '5%': -2.8644937368358425,\n",
       "  '10%': -2.5683427207413576},\n",
       " 4495.725937310894)"
      ]
     },
     "execution_count": 41,
     "metadata": {},
     "output_type": "execute_result"
    }
   ],
   "source": [
    "adfuller(AB_density)"
   ]
  },
  {
   "cell_type": "code",
   "execution_count": 22,
   "id": "5240d4dd",
   "metadata": {},
   "outputs": [],
   "source": [
    "from statsmodels.tsa.stattools import *\n",
    "from statsmodels.tsa.stattools import grangercausalitytests\n"
   ]
  },
  {
   "cell_type": "code",
   "execution_count": 104,
   "id": "f626d22e",
   "metadata": {},
   "outputs": [],
   "source": [
    "eps = 1e-5\n",
    "#B_density = np.log(B_density+eps)\n",
    "B_density = np.reshape(B_density,(-1,1))"
   ]
  },
  {
   "cell_type": "code",
   "execution_count": 105,
   "id": "091086ad",
   "metadata": {},
   "outputs": [],
   "source": [
    "#AB_density = np.log(AB_density+eps)\n",
    "AB_density = np.reshape(AB_density,(-1,1))"
   ]
  },
  {
   "cell_type": "code",
   "execution_count": 106,
   "id": "0d0bf03c",
   "metadata": {},
   "outputs": [],
   "source": [
    "#ABC_density = np.log(ABC_density+eps)\n",
    "ABC_density = np.reshape(ABC_density,(-1,1))"
   ]
  },
  {
   "cell_type": "code",
   "execution_count": 107,
   "id": "a1196a71",
   "metadata": {},
   "outputs": [],
   "source": [
    "ABCD_density =ABCD_density.reshape(-1,1)"
   ]
  },
  {
   "cell_type": "code",
   "execution_count": 648,
   "id": "75498d89",
   "metadata": {},
   "outputs": [],
   "source": [
    "D_density =D_density.reshape(-1,1)\n",
    "DE_density =DE_density.reshape(-1,1)\n",
    "DEF_density =DEF_density.reshape(-1,1)"
   ]
  },
  {
   "cell_type": "code",
   "execution_count": 96,
   "id": "d8c62771",
   "metadata": {},
   "outputs": [],
   "source": [
    "data = np.concatenate((ABC_density,AB_density),axis=1)"
   ]
  },
  {
   "cell_type": "code",
   "execution_count": 113,
   "id": "b8519c8d",
   "metadata": {},
   "outputs": [],
   "source": [
    "#A_density = A_density[1:]-A_density[:-1]\n",
    "B_density = B_density[1:]-B_density[:-1]\n",
    "AB_density = AB_density[1:]-AB_density[:-1]\n",
    "ABC_density = ABC_density[1:]-ABC_density[:-1]\n",
    "ABCD_density = ABCD_density[1:]-ABCD_density[:-1]\n",
    "# D_density = D_density[1:]-D_density[:-1]\n",
    "# DE_density = DE_density[1:]-DE_density[:-1]\n",
    "# DEF_density = DEF_density[1:]-DEF_density[:-1]"
   ]
  },
  {
   "cell_type": "markdown",
   "id": "f85fd9fa",
   "metadata": {},
   "source": [
    "## So far a good set of data:"
   ]
  },
  {
   "cell_type": "code",
   "execution_count": 201,
   "id": "397f46d5",
   "metadata": {},
   "outputs": [],
   "source": [
    "B_density = np.array([5.2, 5.2, 5.2, 5.2, 5.1, 5.1, 5.1, 5.1, 5.0, 5.1, 5.2, 5.2, 5.1, 5.1, 5.1, 5.2, 5.2, 5.2, 5.2, 5.2, 5.2, 5.2, 5.2, 5.2, 5.2, 5.2, 5.2, 5.2, 5.1, 5.1, 5.1, 5.1, 5.1, 5.1, 5.1, 5.1, 5.0, 5.0, 5.0, 5.0, 5.0, 5.0, 5.0, 5.0, 4.9, 5.0, 5.1, 5.1, 4.9, 4.9, 5.1, 5.1, 5.2, 5.2, 5.0, 5.1, 5.1, 5.0, 4.9, 4.8, 4.9, 4.9, 5.0, 5.0, 5.0, 5.0, 5.0, 5.0, 5.0, 5.0, 5.0, 5.1, 5.1, 5.1, 5.1, 5.0, 4.9, 4.9, 4.9, 4.9, 4.9, 4.7, 4.7, 4.7, 4.7, 4.7, 4.6, 4.5, 4.4, 4.4, 4.2, 4.1, 4.0, 4.0, 4.0, 4.0, 4.0, 4.0, 4.0, 4.0, 4.0, 4.2, 4.2, 4.3, 4.3, 4.2, 4.1, 4.1, 4.0, 4.0, 3.9, 3.9, 3.8, 3.8, 3.8, 3.8, 3.8, 3.9, 3.9, 3.9, 3.9, 4.0, 4.0, 4.1, 4.0, 4.0, 4.0, 4.3, 4.5, 4.5, 4.5, 4.5, 4.4, 4.4, 4.3, 4.2, 4.2, 4.2, 4.2, 4.0, 4.0, 4.0, 4.0, 4.0, 4.0, 4.0, 4.1, 4.0, 3.9, 4.1, 4.2, 4.0, 3.9, 3.9, 3.9, 4.0, 4.0, 3.9, 3.9, 3.9, 3.9, 3.9, 3.9, 3.9, 3.8, 3.8, 3.7, 3.7, 3.7, 3.7, 3.7, 3.7, 3.7, 3.7, 3.6, 3.7, 3.8, 3.8, 3.7, 3.7, 3.7, 3.8, 3.9, 3.8, 4.1, 4.2, 4.2, 4.2, 4.2, 4.0, 4.0, 3.9, 3.9, 4.0, 4.1, 4.1, 4.1, 4.1, 4.1, 4.1, 4.3, 4.3, 4.4, 4.4, 4.4, 4.5, 4.4, 4.5, 4.5, 4.5, 4.5, 4.5, 4.5, 4.4, 4.4, 4.3, 4.3, 4.4, 4.4, 4.5, 4.5, 4.4, 4.4, 4.4, 4.3, 4.3, 4.2, 4.2, 4.1, 4.1, 4.1, 4.0, 3.9, 3.9, 3.9, 3.9, 3.8, 3.8, 3.9, 3.9, 3.8, 3.9, 3.8, 3.8, 3.8, 3.9, 3.9, 3.9, 3.9, 3.9, 3.8, 3.8, 3.9, 4.0, 4.1, 4.1, 4.0, 4.0, 4.0, 4.1, 4.2, 4.2, 4.2, 4.3, 4.2, 4.2, 4.2, 4.2, 4.2, 4.2, 4.2, 4.2, 4.3, 4.3, 4.4, 4.3, 4.3, 4.4, 4.4, 4.5, 4.5, 4.6, 4.5, 4.6, 4.6, 4.6, 4.4, 4.4, 4.4, 4.4, 4.4, 4.4, 4.5, 4.5, 4.5, 4.5, 4.5, 4.5, 4.5, 4.5, 4.4, 4.4, 4.5, 4.4, 4.3, 4.2, 4.2, 4.2, 4.2, 4.0, 3.9, 3.9, 3.8, 3.8, 3.8, 3.8, 3.8, 3.8, 3.8, 3.8, 3.8, 3.8, 3.8, 3.8, 3.8, 3.8, 3.8, 3.7, 3.6, 3.6, 3.6, 3.6, 3.6, 3.7, 3.7, 3.8, 3.8, 3.9, 3.9, 4.0, 3.8, 3.8, 3.6, 3.6, 3.6, 3.6, 3.7, 3.7, 3.6, 3.6, 3.6, 3.6, 3.6, 3.6, 3.5, 3.5, 3.5, 3.6, 3.6, 3.8, 3.8, 3.8, 3.8, 3.8, 3.7, 3.5, 3.5, 3.5, 3.4, 3.4, 3.4, 3.4, 3.4, 3.4, 3.4, 3.4, 3.5, 3.5, 3.5, 3.5, 3.4, 3.4, 3.4, 3.4, 3.4, 3.4, 3.5, 3.5, 3.5, 3.5, 3.5, 3.6, 3.6, 3.8, 3.8, 3.8, 3.8, 3.8, 3.8, 3.8, 3.7, 3.6, 3.6, 3.6, 3.6, 3.6, 3.4, 3.4, 3.4, 3.4, 3.5, 3.5, 3.6, 3.5, 3.6, 3.6, 3.6, 3.6, 3.6, 3.7, 3.6, 3.6, 3.7, 3.8, 3.8, 3.9, 4.1, 4.1, 4.2, 4.2, 4.1, 4.1, 4.2, 4.2, 4.2, 4.1, 3.9, 3.9, 3.9, 3.8, 3.9, 3.9, 3.9, 4.0, 4.0, 4.0, 4.1, 4.0, 4.0, 4.0, 4.1, 4.1, 4.1, 4.2, 4.2, 4.2, 4.3, 4.3, 4.4, 4.4, 4.4, 4.4, 4.4, 4.3, 4.3, 4.2, 4.2, 4.2, 4.1, 4.1, 4.1, 4.1, 4.1, 4.0, 3.9, 3.9, 3.9, 3.9, 4.0, 4.1, 4.1, 4.1, 4.1, 4.1, 4.2, 4.0, 4.0, 4.0, 4.0, 4.1, 4.1, 4.1, 4.1, 4.2, 4.2, 4.2, 4.3, 4.4, 4.4, 4.4])"
   ]
  },
  {
   "cell_type": "code",
   "execution_count": 202,
   "id": "9337e9a1",
   "metadata": {},
   "outputs": [],
   "source": [
    "AB_density = np.array([2.1, 2.1, 2.1, 2.5, 2.6, 2.9, 3.1, 3.0, 3.0, 3.1, 3.2, 3.5, 3.6, 3.4, 3.6, 3.6, 3.2, 3.3, 3.3, 3.4, 3.6, 3.5, 3.2, 3.1, 3.1, 3.2, 3.2, 3.3, 3.3, 3.4, 3.8, 3.9, 4.0, 3.9, 3.8, 3.8, 3.7, 3.6, 3.5, 3.5, 3.6, 3.6, 3.8, 3.8, 3.8, 3.9, 3.9, 3.8, 3.9, 4.0, 4.0, 4.0, 3.8, 3.9, 4.1, 4.1, 4.2, 4.2, 4.4, 4.4, 4.3, 4.3, 4.1, 3.9, 4.3, 4.2, 4.1, 4.2, 4.2, 4.0, 4.2, 4.3, 4.4, 4.3, 4.3, 4.3, 4.4, 4.5, 4.7, 4.6, 4.6, 4.3, 4.0, 3.9, 3.6, 3.6, 3.5, 3.3, 3.3, 3.3, 3.3, 3.4, 3.2, 3.2, 3.5, 3.2, 3.3, 3.3, 3.3, 3.3, 3.0, 3.1, 3.0, 3.0, 3.1, 3.3, 3.3, 3.3, 3.3, 3.4, 3.4, 3.4, 3.4, 3.4, 3.1, 3.1, 3.2, 3.2, 3.2, 3.3, 3.2, 3.2, 3.2, 3.0, 3.1, 3.2, 3.3, 3.3, 3.3, 3.4, 3.6, 3.4, 3.7, 3.9, 4.0, 3.7, 3.6, 3.6, 3.5, 3.4, 3.2, 3.0, 3.2, 3.0, 3.2, 3.3, 2.9, 3.0, 3.0, 3.2, 3.3, 3.2, 3.0, 3.1, 3.3, 3.2, 3.3, 3.2, 3.0, 3.0, 2.9, 2.9, 2.9, 2.9, 2.7, 2.7, 2.8, 3.0, 3.2, 2.9, 2.8, 2.8, 2.7, 2.8, 2.7, 2.6, 2.5, 2.4, 2.5, 2.4, 2.4, 2.5, 2.6, 2.6, 2.4, 2.5, 2.5, 2.7, 2.8, 3.0, 3.0, 3.1, 3.3, 3.5, 3.6, 3.8, 3.7, 3.6, 3.5, 3.5, 3.5, 3.5, 3.4, 3.5, 3.4, 3.3, 3.5, 3.7, 3.7, 3.9, 3.9, 3.9, 4.2, 4.1, 4.1, 4.2, 4.3, 4.2, 4.2, 4.3, 4.4, 4.4, 4.4, 4.6, 4.4, 4.4, 4.1, 4.1, 3.9, 4.0, 4.0, 4.0, 4.1, 3.8, 3.7, 3.5, 3.0, 2.8, 2.7, 2.7, 2.9, 3.0, 3.2, 3.3, 3.1, 3.1, 3.1, 3.1, 3.1, 3.0, 2.7, 2.5, 2.6, 2.6, 2.6, 2.7, 2.8, 3.2, 3.4, 3.5, 3.5, 3.5, 3.4, 3.6, 3.5, 3.6, 3.4, 3.5, 3.6, 3.7, 3.8, 4.0, 4.0, 4.0, 4.1, 4.1, 4.1, 4.1, 4.0, 3.8, 3.9, 3.8, 3.9, 4.0, 4.0, 3.9, 4.1, 3.8, 4.1, 4.0, 3.9, 3.7, 3.8, 3.6, 3.7, 3.9, 3.7, 3.8, 3.8, 3.8, 4.0, 4.0, 3.8, 3.9, 4.4, 4.2, 4.0, 4.3, 4.3, 4.1, 4.0, 4.1, 4.1, 4.2, 4.1, 4.2, 4.2, 4.1, 3.9, 3.8, 3.8, 3.7, 3.8, 3.8, 3.7, 3.9, 4.0, 4.0, 3.9, 3.8, 3.6, 3.6, 3.6, 3.5, 3.5, 3.2, 3.0, 3.1, 3.1, 3.2, 3.1, 3.0, 3.0, 3.0, 3.1, 3.1, 3.1, 3.1, 3.0, 3.0, 3.0, 3.0, 3.0, 3.2, 3.2, 3.2, 2.9, 3.0, 3.0, 2.9, 2.7, 2.7, 2.7, 2.6, 2.5, 2.6, 2.8, 2.9, 2.8, 2.8, 2.9, 3.0, 2.9, 2.9, 3.0, 3.2, 3.1, 2.9, 2.8, 2.8, 2.8, 3.0, 3.1, 2.9, 2.7, 2.6, 2.7, 2.6, 2.5, 2.4, 2.4, 2.4, 2.4, 2.7, 2.7, 2.8, 2.9, 2.9, 2.9, 2.9, 2.8, 2.8, 3.0, 2.9, 2.9, 3.0, 2.8, 2.7, 2.8, 2.7, 3.0, 3.0, 3.0, 2.8, 3.1, 3.1, 3.0, 3.2, 3.3, 3.3, 3.3, 3.1, 3.1, 3.1, 3.2, 3.3, 3.1, 3.1, 3.3, 3.3, 3.3, 3.4, 3.5, 3.4, 3.5, 3.5, 3.5, 3.5, 3.5, 3.5, 3.4, 3.6, 3.7, 3.7, 3.8, 3.8, 3.8, 3.9, 3.8, 3.8, 3.6, 3.4, 3.5, 3.5, 3.5, 3.5, 3.7, 3.7, 3.7, 3.8, 3.8, 3.7, 3.8, 3.9, 3.7, 3.8, 3.9, 4.0, 3.7, 3.6, 3.7, 3.6, 3.6, 3.5, 3.5, 3.3, 3.5, 3.4, 3.4, 3.4, 3.4, 3.2, 3.2, 3.2, 3.2, 3.2, 3.1, 2.9, 3.3, 3.3, 3.6, 3.5, 3.5, 3.5, 3.7, 3.6, 3.6, 3.7, 3.6, 3.7])"
   ]
  },
  {
   "cell_type": "code",
   "execution_count": 203,
   "id": "a0c90d7a",
   "metadata": {},
   "outputs": [],
   "source": [
    "ABC_density = np.array([0.6, 0.5, 0.5, 0.5, 0.6, 0.5, 0.4, 0.5, 0.7, 0.7, 0.7, 0.8, 1.0, 1.1, 1.1, 1.3, 1.5, 1.6, 1.8, 1.7, 1.6, 1.6, 1.8, 1.9, 2.0, 1.9, 1.9, 1.7, 1.6, 1.6, 1.5, 1.6, 1.7, 1.7, 1.7, 1.9, 2.0, 1.9, 1.9, 1.8, 1.8, 1.8, 1.7, 2.0, 1.9, 1.7, 1.7, 1.8, 1.9, 1.9, 2.2, 2.2, 2.2, 2.2, 2.2, 2.3, 2.4, 2.4, 2.3, 2.3, 2.3, 2.3, 2.3, 2.3, 2.1, 2.0, 2.1, 2.1, 2.0, 2.0, 2.0, 2.3, 2.3, 2.5, 2.6, 2.9, 2.7, 2.7, 2.5, 2.3, 2.3, 2.4, 2.7, 2.8, 2.7, 2.4, 2.1, 2.2, 2.1, 2.0, 1.9, 1.7, 1.9, 1.9, 2.2, 2.2, 2.2, 2.1, 2.2, 1.9, 1.7, 1.3, 1.2, 1.1, 1.1, 1.2, 1.4, 1.3, 1.4, 1.1, 1.3, 1.3, 1.3, 1.3, 1.2, 1.4, 1.4, 1.5, 1.5, 1.7, 1.7, 1.6, 1.4, 1.7, 1.8, 1.8, 1.9, 2.0, 2.0, 2.2, 2.3, 2.6, 2.6, 2.5, 2.5, 2.6, 2.7, 2.7, 2.7, 2.6, 2.7, 2.6, 2.6, 2.6, 2.4, 2.3, 2.1, 2.0, 2.0, 1.6, 1.2, 1.1, 1.1, 1.1, 0.9, 1.0, 1.0, 1.0, 1.0, 1.0, 1.1, 1.1, 1.0, 1.0, 1.0, 1.2, 1.2, 1.2, 1.2, 1.2, 1.3, 1.2, 1.2, 1.0, 0.9, 0.8, 0.5, 0.5, 0.4, 0.3, 0.5, 0.6, 0.7, 0.6, 0.6, 0.6, 0.6, 0.7, 0.7, 0.8, 1.1, 1.4, 1.5, 1.7, 1.7, 1.9, 1.8, 1.7, 1.7, 1.7, 1.7, 1.8, 2.0, 2.1, 2.1, 2.3, 1.9, 2.1, 2.2, 2.0, 2.1, 2.1, 2.2, 2.1, 2.1, 2.2, 2.3, 2.3, 2.2, 2.1, 2.1, 1.7, 2.0, 1.8, 1.8, 1.8, 1.7, 1.4, 1.7, 1.6, 1.4, 1.4, 1.7, 1.8, 1.6, 1.6, 1.6, 1.6, 1.4, 1.5, 1.4, 1.4, 1.4, 1.6, 1.8, 1.8, 1.6, 1.6, 1.8, 1.4, 1.3, 1.4, 1.2, 1.1, 1.2, 1.3, 1.5, 1.3, 0.9, 0.8, 0.6, 0.9, 1.0, 1.1, 1.0, 1.0, 1.0, 1.0, 1.0, 1.1, 1.1, 1.5, 1.5, 1.6, 1.7, 1.8, 2.0, 1.8, 1.7, 1.7, 1.8, 1.7, 1.7, 1.9, 2.0, 2.2, 2.2, 2.3, 2.5, 2.4, 2.4, 2.8, 2.9, 3.2, 2.9, 2.7, 2.6, 2.6, 2.7, 2.8, 2.8, 2.6, 2.5, 2.6, 2.4, 2.4, 1.9, 2.1, 2.1, 2.2, 2.3, 2.5, 2.8, 2.7, 2.8, 2.9, 2.8, 2.7, 2.6, 2.4, 2.7, 2.7, 2.5, 2.6, 2.6, 2.6, 2.7, 2.7, 2.6, 2.5, 2.3, 2.4, 2.4, 2.3, 2.4, 2.8, 2.3, 2.3, 2.2, 2.2, 1.9, 1.9, 2.2, 2.4, 2.4, 2.3, 2.2, 2.5, 2.5, 2.8, 2.6, 2.5, 2.4, 2.4, 2.5, 2.7, 2.6, 2.4, 2.1, 1.7, 1.4, 1.4, 1.5, 1.4, 1.7, 1.6, 1.5, 1.2, 1.2, 1.2, 1.4, 1.4, 1.4, 1.6, 1.5, 1.6, 1.5, 1.7, 1.6, 1.6, 1.6, 1.7, 1.7, 1.8, 1.8, 1.9, 2.1, 2.0, 1.9, 1.9, 1.8, 2.0, 2.0, 1.8, 1.9, 1.9, 1.9, 2.1, 2.0, 2.2, 2.3, 2.3, 2.4, 2.2, 2.3, 2.4, 2.5, 2.5, 2.7, 2.7, 2.7, 2.5, 2.4, 2.7, 2.4, 2.2, 2.1, 2.3, 2.3, 2.0, 1.8, 1.7, 1.6, 1.4, 1.5, 1.4, 1.5, 1.6, 1.6, 1.5, 1.6, 1.6, 1.7, 1.8, 1.9, 1.9, 1.9, 2.0, 2.0, 2.0, 1.9, 2.1, 2.3, 2.1, 2.0, 1.9, 1.8, 1.6, 1.6, 1.6, 1.3, 1.3, 1.1, 1.1, 1.2, 1.0, 1.0, 1.2, 1.2, 1.3, 1.4, 1.4, 1.6, 1.8, 1.8, 1.6, 1.7, 2.0, 2.3, 2.5, 2.6, 2.9, 3.0, 2.9, 3.0, 3.0, 3.0, 2.7, 2.4, 1.9, 2.0, 1.9, 1.8, 1.3, 1.6, 1.8, 1.6, 1.6, 1.7, 1.4, 1.5, 1.3, 1.0, 1.2, 1.2, 1.1, 1.1, 1.3, 1.3, 1.4])"
   ]
  },
  {
   "cell_type": "code",
   "execution_count": 95,
   "id": "c144aeb1",
   "metadata": {},
   "outputs": [],
   "source": [
    "B = pd.Series([5.2, 5.2, 5.2, 5.2, 5.1, 5.1, 5.1, 5.1, 5.0, 5.1, 5.2, 5.2, 5.1, 5.1, 5.1, 5.2, 5.2, 5.2, 5.2, 5.2, 5.2, 5.2, 5.2, 5.2, 5.2, 5.2, 5.2, 5.2, 5.1, 5.1, 5.1, 5.1, 5.1, 5.1, 5.1, 5.1, 5.0, 5.0, 5.0, 5.0, 5.0, 5.0, 5.0, 5.0, 4.9, 5.0, 5.1, 5.1, 4.9, 4.9, 5.1, 5.1, 5.2, 5.2, 5.0, 5.1, 5.1, 5.0, 4.9, 4.8, 4.9, 4.9, 5.0, 5.0, 5.0, 5.0, 5.0, 5.0, 5.0, 5.0, 5.0, 5.1, 5.1, 5.1, 5.1, 5.0, 4.9, 4.9, 4.9, 4.9, 4.9, 4.7, 4.7, 4.7, 4.7, 4.7, 4.6, 4.5, 4.4, 4.4, 4.2, 4.1, 4.0, 4.0, 4.0, 4.0, 4.0, 4.0, 4.0, 4.0, 4.0, 4.2, 4.2, 4.3, 4.3, 4.2, 4.1, 4.1, 4.0, 4.0, 3.9, 3.9, 3.8, 3.8, 3.8, 3.8, 3.8, 3.9, 3.9, 3.9, 3.9, 4.0, 4.0, 4.1, 4.0, 4.0, 4.0, 4.3, 4.5, 4.5, 4.5, 4.5, 4.4, 4.4, 4.3, 4.2, 4.2, 4.2, 4.2, 4.0, 4.0, 4.0, 4.0, 4.0, 4.0, 4.0, 4.1, 4.0, 3.9, 4.1, 4.2, 4.0, 3.9, 3.9, 3.9, 4.0, 4.0, 3.9, 3.9, 3.9, 3.9, 3.9, 3.9, 3.9, 3.8, 3.8, 3.7, 3.7, 3.7, 3.7, 3.7, 3.7, 3.7, 3.7, 3.6, 3.7, 3.8, 3.8, 3.7, 3.7, 3.7, 3.8, 3.9, 3.8, 4.1, 4.2, 4.2, 4.2, 4.2, 4.0, 4.0, 3.9, 3.9, 4.0, 4.1, 4.1, 4.1, 4.1, 4.1, 4.1, 4.3, 4.3, 4.4, 4.4, 4.4, 4.5, 4.4, 4.5, 4.5, 4.5, 4.5, 4.5, 4.5, 4.4, 4.4, 4.3, 4.3, 4.4, 4.4, 4.5, 4.5, 4.4, 4.4, 4.4, 4.3, 4.3, 4.2, 4.2, 4.1, 4.1, 4.1, 4.0, 3.9, 3.9, 3.9, 3.9, 3.8, 3.8, 3.9, 3.9, 3.8, 3.9, 3.8, 3.8, 3.8, 3.9, 3.9, 3.9, 3.9, 3.9, 3.8, 3.8, 3.9, 4.0, 4.1, 4.1, 4.0, 4.0, 4.0, 4.1, 4.2, 4.2, 4.2, 4.3, 4.2, 4.2, 4.2, 4.2, 4.2, 4.2, 4.2, 4.2, 4.3, 4.3, 4.4, 4.3, 4.3, 4.4, 4.4, 4.5, 4.5, 4.6, 4.5, 4.6, 4.6, 4.6, 4.4, 4.4, 4.4, 4.4, 4.4, 4.4, 4.5, 4.5, 4.5, 4.5, 4.5, 4.5, 4.5, 4.5, 4.4, 4.4, 4.5, 4.4, 4.3, 4.2, 4.2, 4.2, 4.2, 4.0, 3.9, 3.9, 3.8, 3.8, 3.8, 3.8, 3.8, 3.8, 3.8, 3.8, 3.8, 3.8, 3.8, 3.8, 3.8, 3.8, 3.8, 3.7, 3.6, 3.6, 3.6, 3.6, 3.6, 3.7, 3.7, 3.8, 3.8, 3.9, 3.9, 4.0, 3.8, 3.8, 3.6, 3.6, 3.6, 3.6, 3.7, 3.7, 3.6, 3.6, 3.6, 3.6, 3.6, 3.6, 3.5, 3.5, 3.5, 3.6, 3.6, 3.8, 3.8, 3.8, 3.8, 3.8, 3.7, 3.5, 3.5, 3.5, 3.4, 3.4, 3.4, 3.4, 3.4, 3.4, 3.4, 3.4, 3.5, 3.5, 3.5, 3.5, 3.4, 3.4, 3.4, 3.4, 3.4, 3.4, 3.5, 3.5, 3.5, 3.5, 3.5, 3.6, 3.6, 3.8, 3.8, 3.8, 3.8, 3.8, 3.8, 3.8, 3.7, 3.6, 3.6, 3.6, 3.6, 3.6, 3.4, 3.4, 3.4, 3.4, 3.5, 3.5, 3.6, 3.5, 3.6, 3.6, 3.6, 3.6, 3.6, 3.7, 3.6, 3.6, 3.7, 3.8, 3.8, 3.9, 4.1, 4.1, 4.2, 4.2, 4.1, 4.1, 4.2, 4.2, 4.2, 4.1, 3.9, 3.9, 3.9, 3.8, 3.9, 3.9, 3.9, 4.0, 4.0, 4.0, 4.1, 4.0, 4.0, 4.0, 4.1, 4.1, 4.1, 4.2, 4.2, 4.2, 4.3, 4.3, 4.4, 4.4, 4.4, 4.4, 4.4, 4.3, 4.3, 4.2, 4.2, 4.2, 4.1, 4.1, 4.1, 4.1, 4.1, 4.0, 3.9, 3.9, 3.9, 3.9, 4.0, 4.1, 4.1, 4.1, 4.1, 4.1, 4.2, 4.0, 4.0, 4.0, 4.0, 4.1, 4.1, 4.1, 4.1, 4.2, 4.2, 4.2, 4.3, 4.4, 4.4, 4.4])"
   ]
  },
  {
   "cell_type": "code",
   "execution_count": 209,
   "id": "38ff26dc",
   "metadata": {},
   "outputs": [],
   "source": [
    "AB = pd.Series(AB_density)"
   ]
  },
  {
   "cell_type": "code",
   "execution_count": 97,
   "id": "f2cbf0e7",
   "metadata": {},
   "outputs": [],
   "source": [
    "ABC = pd.Series(ABC_density)"
   ]
  },
  {
   "cell_type": "code",
   "execution_count": 108,
   "id": "be7e1d44",
   "metadata": {
    "scrolled": true
   },
   "outputs": [
    {
     "name": "stdout",
     "output_type": "stream",
     "text": [
      "\n",
      "Granger Causality\n",
      "number of lags (no zero) 1\n",
      "ssr based F test:         F=11.5720 , p=0.0007  , df_denom=996, df_num=1\n",
      "ssr based chi2 test:   chi2=11.6068 , p=0.0007  , df=1\n",
      "likelihood ratio test: chi2=11.5399 , p=0.0007  , df=1\n",
      "parameter F test:         F=11.5720 , p=0.0007  , df_denom=996, df_num=1\n",
      "\n",
      "Granger Causality\n",
      "number of lags (no zero) 2\n",
      "ssr based F test:         F=8.1445  , p=0.0003  , df_denom=993, df_num=2\n",
      "ssr based chi2 test:   chi2=16.3710 , p=0.0003  , df=2\n",
      "likelihood ratio test: chi2=16.2381 , p=0.0003  , df=2\n",
      "parameter F test:         F=8.1445  , p=0.0003  , df_denom=993, df_num=2\n",
      "\n",
      "Granger Causality\n",
      "number of lags (no zero) 3\n",
      "ssr based F test:         F=5.7813  , p=0.0006  , df_denom=990, df_num=3\n",
      "ssr based chi2 test:   chi2=17.4665 , p=0.0006  , df=3\n",
      "likelihood ratio test: chi2=17.3153 , p=0.0006  , df=3\n",
      "parameter F test:         F=5.7813  , p=0.0006  , df_denom=990, df_num=3\n",
      "\n",
      "Granger Causality\n",
      "number of lags (no zero) 4\n",
      "ssr based F test:         F=4.9068  , p=0.0006  , df_denom=987, df_num=4\n",
      "ssr based chi2 test:   chi2=19.8060 , p=0.0005  , df=4\n",
      "likelihood ratio test: chi2=19.6116 , p=0.0006  , df=4\n",
      "parameter F test:         F=4.9068  , p=0.0006  , df_denom=987, df_num=4\n",
      "\n",
      "Granger Causality\n",
      "number of lags (no zero) 5\n",
      "ssr based F test:         F=3.8904  , p=0.0017  , df_denom=984, df_num=5\n",
      "ssr based chi2 test:   chi2=19.6694 , p=0.0014  , df=5\n",
      "likelihood ratio test: chi2=19.4776 , p=0.0016  , df=5\n",
      "parameter F test:         F=3.8904  , p=0.0017  , df_denom=984, df_num=5\n",
      "\n",
      "Granger Causality\n",
      "number of lags (no zero) 6\n",
      "ssr based F test:         F=3.1250  , p=0.0049  , df_denom=981, df_num=6\n",
      "ssr based chi2 test:   chi2=18.9986 , p=0.0042  , df=6\n",
      "likelihood ratio test: chi2=18.8193 , p=0.0045  , df=6\n",
      "parameter F test:         F=3.1250  , p=0.0049  , df_denom=981, df_num=6\n",
      "\n",
      "Granger Causality\n",
      "number of lags (no zero) 7\n",
      "ssr based F test:         F=3.9046  , p=0.0003  , df_denom=978, df_num=7\n",
      "ssr based chi2 test:   chi2=27.7515 , p=0.0002  , df=7\n",
      "likelihood ratio test: chi2=27.3708 , p=0.0003  , df=7\n",
      "parameter F test:         F=3.9046  , p=0.0003  , df_denom=978, df_num=7\n",
      "\n",
      "Granger Causality\n",
      "number of lags (no zero) 8\n",
      "ssr based F test:         F=3.7401  , p=0.0003  , df_denom=975, df_num=8\n",
      "ssr based chi2 test:   chi2=30.4424 , p=0.0002  , df=8\n",
      "likelihood ratio test: chi2=29.9846 , p=0.0002  , df=8\n",
      "parameter F test:         F=3.7401  , p=0.0003  , df_denom=975, df_num=8\n",
      "\n",
      "Granger Causality\n",
      "number of lags (no zero) 9\n",
      "ssr based F test:         F=3.1740  , p=0.0009  , df_denom=972, df_num=9\n",
      "ssr based chi2 test:   chi2=29.1241 , p=0.0006  , df=9\n",
      "likelihood ratio test: chi2=28.7043 , p=0.0007  , df=9\n",
      "parameter F test:         F=3.1740  , p=0.0009  , df_denom=972, df_num=9\n",
      "\n",
      "Granger Causality\n",
      "number of lags (no zero) 10\n",
      "ssr based F test:         F=3.0682  , p=0.0008  , df_denom=969, df_num=10\n",
      "ssr based chi2 test:   chi2=31.3472 , p=0.0005  , df=10\n",
      "likelihood ratio test: chi2=30.8612 , p=0.0006  , df=10\n",
      "parameter F test:         F=3.0682  , p=0.0008  , df_denom=969, df_num=10\n",
      "\n",
      "Granger Causality\n",
      "number of lags (no zero) 11\n",
      "ssr based F test:         F=2.7980  , p=0.0014  , df_denom=966, df_num=11\n",
      "ssr based chi2 test:   chi2=31.5113 , p=0.0009  , df=11\n",
      "likelihood ratio test: chi2=31.0197 , p=0.0011  , df=11\n",
      "parameter F test:         F=2.7980  , p=0.0014  , df_denom=966, df_num=11\n",
      "\n",
      "Granger Causality\n",
      "number of lags (no zero) 12\n",
      "ssr based F test:         F=2.7002  , p=0.0014  , df_denom=963, df_num=12\n",
      "ssr based chi2 test:   chi2=33.2434 , p=0.0009  , df=12\n",
      "likelihood ratio test: chi2=32.6964 , p=0.0011  , df=12\n",
      "parameter F test:         F=2.7002  , p=0.0014  , df_denom=963, df_num=12\n",
      "\n",
      "Granger Causality\n",
      "number of lags (no zero) 13\n",
      "ssr based F test:         F=2.5439  , p=0.0019  , df_denom=960, df_num=13\n",
      "ssr based chi2 test:   chi2=34.0014 , p=0.0012  , df=13\n",
      "likelihood ratio test: chi2=33.4289 , p=0.0015  , df=13\n",
      "parameter F test:         F=2.5439  , p=0.0019  , df_denom=960, df_num=13\n",
      "\n",
      "Granger Causality\n",
      "number of lags (no zero) 14\n",
      "ssr based F test:         F=2.3448  , p=0.0034  , df_denom=957, df_num=14\n",
      "ssr based chi2 test:   chi2=33.8221 , p=0.0022  , df=14\n",
      "likelihood ratio test: chi2=33.2549 , p=0.0026  , df=14\n",
      "parameter F test:         F=2.3448  , p=0.0034  , df_denom=957, df_num=14\n",
      "\n",
      "Granger Causality\n",
      "number of lags (no zero) 15\n",
      "ssr based F test:         F=2.1481  , p=0.0066  , df_denom=954, df_num=15\n",
      "ssr based chi2 test:   chi2=33.2686 , p=0.0043  , df=15\n",
      "likelihood ratio test: chi2=32.7191 , p=0.0051  , df=15\n",
      "parameter F test:         F=2.1481  , p=0.0066  , df_denom=954, df_num=15\n"
     ]
    },
    {
     "data": {
      "text/plain": [
       "{1: ({'ssr_ftest': (11.571978367048597, 0.0006961485394464862, 996.0, 1),\n",
       "   'ssr_chi2test': (11.606833723575852, 0.0006570992552223363, 1),\n",
       "   'lrtest': (11.539924756049004, 0.0006811739692693296, 1),\n",
       "   'params_ftest': (11.571978367048741, 0.0006961485394464201, 996.0, 1.0)},\n",
       "  [<statsmodels.regression.linear_model.RegressionResultsWrapper at 0x7fd63a0e1d10>,\n",
       "   <statsmodels.regression.linear_model.RegressionResultsWrapper at 0x7fd638e48d50>,\n",
       "   array([[0., 1., 0.]])]),\n",
       " 2: ({'ssr_ftest': (8.14446962718516, 0.0003101696087989051, 993.0, 2),\n",
       "   'ssr_chi2test': (16.370958082438644, 0.0002786709002943288, 2),\n",
       "   'lrtest': (16.238135956446058, 0.0002978060928988486, 2),\n",
       "   'params_ftest': (8.144469627184963, 0.0003101696087989762, 993.0, 2.0)},\n",
       "  [<statsmodels.regression.linear_model.RegressionResultsWrapper at 0x7fd6568bfdd0>,\n",
       "   <statsmodels.regression.linear_model.RegressionResultsWrapper at 0x7fd638e48910>,\n",
       "   array([[0., 0., 1., 0., 0.],\n",
       "          [0., 0., 0., 1., 0.]])]),\n",
       " 3: ({'ssr_ftest': (5.781305077484009, 0.0006421268142717384, 990.0, 3),\n",
       "   'ssr_chi2test': (17.46654897651987, 0.0005665579080379003, 3),\n",
       "   'lrtest': (17.315313596684064, 0.0006086716048321718, 3),\n",
       "   'params_ftest': (5.781305077483878, 0.0006421268142718296, 990.0, 3.0)},\n",
       "  [<statsmodels.regression.linear_model.RegressionResultsWrapper at 0x7fd63a149850>,\n",
       "   <statsmodels.regression.linear_model.RegressionResultsWrapper at 0x7fd63a149910>,\n",
       "   array([[0., 0., 0., 1., 0., 0., 0.],\n",
       "          [0., 0., 0., 0., 1., 0., 0.],\n",
       "          [0., 0., 0., 0., 0., 1., 0.]])]),\n",
       " 4: ({'ssr_ftest': (4.906754026987909, 0.0006398567509765191, 987.0, 4),\n",
       "   'ssr_chi2test': (19.805985859695877, 0.0005454193565728745, 4),\n",
       "   'lrtest': (19.611631945285808, 0.0005957249638406821, 4),\n",
       "   'params_ftest': (4.906754026988024, 0.000639856750976381, 987.0, 4.0)},\n",
       "  [<statsmodels.regression.linear_model.RegressionResultsWrapper at 0x7fd63a1496d0>,\n",
       "   <statsmodels.regression.linear_model.RegressionResultsWrapper at 0x7fd63a149e90>,\n",
       "   array([[0., 0., 0., 0., 1., 0., 0., 0., 0.],\n",
       "          [0., 0., 0., 0., 0., 1., 0., 0., 0.],\n",
       "          [0., 0., 0., 0., 0., 0., 1., 0., 0.],\n",
       "          [0., 0., 0., 0., 0., 0., 0., 1., 0.]])]),\n",
       " 5: ({'ssr_ftest': (3.890399354712753, 0.0016959895077086444, 984.0, 5),\n",
       "   'ssr_chi2test': (19.669447957008074, 0.001441359368220983, 5),\n",
       "   'lrtest': (19.47755706764383, 0.0015655619813634378, 5),\n",
       "   'params_ftest': (3.890399354712558, 0.0016959895077093478, 984.0, 5.0)},\n",
       "  [<statsmodels.regression.linear_model.RegressionResultsWrapper at 0x7fd63a149f10>,\n",
       "   <statsmodels.regression.linear_model.RegressionResultsWrapper at 0x7fd63a149250>,\n",
       "   array([[0., 0., 0., 0., 0., 1., 0., 0., 0., 0., 0.],\n",
       "          [0., 0., 0., 0., 0., 0., 1., 0., 0., 0., 0.],\n",
       "          [0., 0., 0., 0., 0., 0., 0., 1., 0., 0., 0.],\n",
       "          [0., 0., 0., 0., 0., 0., 0., 0., 1., 0., 0.],\n",
       "          [0., 0., 0., 0., 0., 0., 0., 0., 0., 1., 0.]])]),\n",
       " 6: ({'ssr_ftest': (3.1250140703119427, 0.00487375335869293, 981.0, 6),\n",
       "   'ssr_chi2test': (18.99855648862429, 0.0041660715983076295, 6),\n",
       "   'lrtest': (18.81927536891635, 0.004479989474991168, 6),\n",
       "   'params_ftest': (3.1250140703122837, 0.004873753358689034, 981.0, 6.0)},\n",
       "  [<statsmodels.regression.linear_model.RegressionResultsWrapper at 0x7fd63a129650>,\n",
       "   <statsmodels.regression.linear_model.RegressionResultsWrapper at 0x7fd63a129710>,\n",
       "   array([[0., 0., 0., 0., 0., 0., 1., 0., 0., 0., 0., 0., 0.],\n",
       "          [0., 0., 0., 0., 0., 0., 0., 1., 0., 0., 0., 0., 0.],\n",
       "          [0., 0., 0., 0., 0., 0., 0., 0., 1., 0., 0., 0., 0.],\n",
       "          [0., 0., 0., 0., 0., 0., 0., 0., 0., 1., 0., 0., 0.],\n",
       "          [0., 0., 0., 0., 0., 0., 0., 0., 0., 0., 1., 0., 0.],\n",
       "          [0., 0., 0., 0., 0., 0., 0., 0., 0., 0., 0., 1., 0.]])]),\n",
       " 7: ({'ssr_ftest': (3.9046092816309637, 0.0003297072618684514, 978.0, 7),\n",
       "   'ssr_chi2test': (27.751471489383263, 0.00024389771198797872, 7),\n",
       "   'lrtest': (27.370761776030122, 0.0002857544124987781, 7),\n",
       "   'params_ftest': (3.9046092816311497, 0.0003297072618682886, 978.0, 7.0)},\n",
       "  [<statsmodels.regression.linear_model.RegressionResultsWrapper at 0x7fd63a1298d0>,\n",
       "   <statsmodels.regression.linear_model.RegressionResultsWrapper at 0x7fd63a129b50>,\n",
       "   array([[0., 0., 0., 0., 0., 0., 0., 1., 0., 0., 0., 0., 0., 0., 0.],\n",
       "          [0., 0., 0., 0., 0., 0., 0., 0., 1., 0., 0., 0., 0., 0., 0.],\n",
       "          [0., 0., 0., 0., 0., 0., 0., 0., 0., 1., 0., 0., 0., 0., 0.],\n",
       "          [0., 0., 0., 0., 0., 0., 0., 0., 0., 0., 1., 0., 0., 0., 0.],\n",
       "          [0., 0., 0., 0., 0., 0., 0., 0., 0., 0., 0., 1., 0., 0., 0.],\n",
       "          [0., 0., 0., 0., 0., 0., 0., 0., 0., 0., 0., 0., 1., 0., 0.],\n",
       "          [0., 0., 0., 0., 0., 0., 0., 0., 0., 0., 0., 0., 0., 1., 0.]])]),\n",
       " 8: ({'ssr_ftest': (3.7400899867249375, 0.0002526445928434686, 975.0, 8),\n",
       "   'ssr_chi2test': (30.442414497076005, 0.00017649671472654132, 8),\n",
       "   'lrtest': (29.9846490202317, 0.0002127032884492048, 8),\n",
       "   'params_ftest': (3.740089986724909, 0.00025264459284349104, 975.0, 8.0)},\n",
       "  [<statsmodels.regression.linear_model.RegressionResultsWrapper at 0x7fd63a129f50>,\n",
       "   <statsmodels.regression.linear_model.RegressionResultsWrapper at 0x7fd63a12e390>,\n",
       "   array([[0., 0., 0., 0., 0., 0., 0., 0., 1., 0., 0., 0., 0., 0., 0., 0.,\n",
       "           0.],\n",
       "          [0., 0., 0., 0., 0., 0., 0., 0., 0., 1., 0., 0., 0., 0., 0., 0.,\n",
       "           0.],\n",
       "          [0., 0., 0., 0., 0., 0., 0., 0., 0., 0., 1., 0., 0., 0., 0., 0.,\n",
       "           0.],\n",
       "          [0., 0., 0., 0., 0., 0., 0., 0., 0., 0., 0., 1., 0., 0., 0., 0.,\n",
       "           0.],\n",
       "          [0., 0., 0., 0., 0., 0., 0., 0., 0., 0., 0., 0., 1., 0., 0., 0.,\n",
       "           0.],\n",
       "          [0., 0., 0., 0., 0., 0., 0., 0., 0., 0., 0., 0., 0., 1., 0., 0.,\n",
       "           0.],\n",
       "          [0., 0., 0., 0., 0., 0., 0., 0., 0., 0., 0., 0., 0., 0., 1., 0.,\n",
       "           0.],\n",
       "          [0., 0., 0., 0., 0., 0., 0., 0., 0., 0., 0., 0., 0., 0., 0., 1.,\n",
       "           0.]])]),\n",
       " 9: ({'ssr_ftest': (3.173965020263316, 0.0008646189619629235, 972.0, 9),\n",
       "   'ssr_chi2test': (29.124067917416166, 0.0006175397779025555, 9),\n",
       "   'lrtest': (28.704314766639072, 0.0007267871333859875, 9),\n",
       "   'params_ftest': (3.173965020263158, 0.0008646189619634218, 972.0, 9.0)},\n",
       "  [<statsmodels.regression.linear_model.RegressionResultsWrapper at 0x7fd63a12e690>,\n",
       "   <statsmodels.regression.linear_model.RegressionResultsWrapper at 0x7fd63a12ebd0>,\n",
       "   array([[0., 0., 0., 0., 0., 0., 0., 0., 0., 1., 0., 0., 0., 0., 0., 0.,\n",
       "           0., 0., 0.],\n",
       "          [0., 0., 0., 0., 0., 0., 0., 0., 0., 0., 1., 0., 0., 0., 0., 0.,\n",
       "           0., 0., 0.],\n",
       "          [0., 0., 0., 0., 0., 0., 0., 0., 0., 0., 0., 1., 0., 0., 0., 0.,\n",
       "           0., 0., 0.],\n",
       "          [0., 0., 0., 0., 0., 0., 0., 0., 0., 0., 0., 0., 1., 0., 0., 0.,\n",
       "           0., 0., 0.],\n",
       "          [0., 0., 0., 0., 0., 0., 0., 0., 0., 0., 0., 0., 0., 1., 0., 0.,\n",
       "           0., 0., 0.],\n",
       "          [0., 0., 0., 0., 0., 0., 0., 0., 0., 0., 0., 0., 0., 0., 1., 0.,\n",
       "           0., 0., 0.],\n",
       "          [0., 0., 0., 0., 0., 0., 0., 0., 0., 0., 0., 0., 0., 0., 0., 1.,\n",
       "           0., 0., 0.],\n",
       "          [0., 0., 0., 0., 0., 0., 0., 0., 0., 0., 0., 0., 0., 0., 0., 0.,\n",
       "           1., 0., 0.],\n",
       "          [0., 0., 0., 0., 0., 0., 0., 0., 0., 0., 0., 0., 0., 0., 0., 0.,\n",
       "           0., 1., 0.]])]),\n",
       " 10: ({'ssr_ftest': (3.0682280486904276, 0.0007561478983614936, 969.0, 10),\n",
       "   'ssr_chi2test': (31.34722155008796, 0.0005140441824586698, 10),\n",
       "   'lrtest': (30.861168123790776, 0.0006185114859369766, 10),\n",
       "   'params_ftest': (3.068228048690507, 0.000756147898361276, 969.0, 10.0)},\n",
       "  [<statsmodels.regression.linear_model.RegressionResultsWrapper at 0x7fd63a12ef90>,\n",
       "   <statsmodels.regression.linear_model.RegressionResultsWrapper at 0x7fd63a12ee90>,\n",
       "   array([[0., 0., 0., 0., 0., 0., 0., 0., 0., 0., 1., 0., 0., 0., 0., 0.,\n",
       "           0., 0., 0., 0., 0.],\n",
       "          [0., 0., 0., 0., 0., 0., 0., 0., 0., 0., 0., 1., 0., 0., 0., 0.,\n",
       "           0., 0., 0., 0., 0.],\n",
       "          [0., 0., 0., 0., 0., 0., 0., 0., 0., 0., 0., 0., 1., 0., 0., 0.,\n",
       "           0., 0., 0., 0., 0.],\n",
       "          [0., 0., 0., 0., 0., 0., 0., 0., 0., 0., 0., 0., 0., 1., 0., 0.,\n",
       "           0., 0., 0., 0., 0.],\n",
       "          [0., 0., 0., 0., 0., 0., 0., 0., 0., 0., 0., 0., 0., 0., 1., 0.,\n",
       "           0., 0., 0., 0., 0.],\n",
       "          [0., 0., 0., 0., 0., 0., 0., 0., 0., 0., 0., 0., 0., 0., 0., 1.,\n",
       "           0., 0., 0., 0., 0.],\n",
       "          [0., 0., 0., 0., 0., 0., 0., 0., 0., 0., 0., 0., 0., 0., 0., 0.,\n",
       "           1., 0., 0., 0., 0.],\n",
       "          [0., 0., 0., 0., 0., 0., 0., 0., 0., 0., 0., 0., 0., 0., 0., 0.,\n",
       "           0., 1., 0., 0., 0.],\n",
       "          [0., 0., 0., 0., 0., 0., 0., 0., 0., 0., 0., 0., 0., 0., 0., 0.,\n",
       "           0., 0., 1., 0., 0.],\n",
       "          [0., 0., 0., 0., 0., 0., 0., 0., 0., 0., 0., 0., 0., 0., 0., 0.,\n",
       "           0., 0., 0., 1., 0.]])]),\n",
       " 11: ({'ssr_ftest': (2.798043861484313, 0.0013515108914212404, 966.0, 11),\n",
       "   'ssr_chi2test': (31.511303487668567, 0.0009132495536887611, 11),\n",
       "   'lrtest': (31.019714990025932, 0.0010936301501413331, 11),\n",
       "   'params_ftest': (2.798043861484435, 0.001351510891420556, 966.0, 11.0)},\n",
       "  [<statsmodels.regression.linear_model.RegressionResultsWrapper at 0x7fd63a151b10>,\n",
       "   <statsmodels.regression.linear_model.RegressionResultsWrapper at 0x7fd63a151c10>,\n",
       "   array([[0., 0., 0., 0., 0., 0., 0., 0., 0., 0., 0., 1., 0., 0., 0., 0.,\n",
       "           0., 0., 0., 0., 0., 0., 0.],\n",
       "          [0., 0., 0., 0., 0., 0., 0., 0., 0., 0., 0., 0., 1., 0., 0., 0.,\n",
       "           0., 0., 0., 0., 0., 0., 0.],\n",
       "          [0., 0., 0., 0., 0., 0., 0., 0., 0., 0., 0., 0., 0., 1., 0., 0.,\n",
       "           0., 0., 0., 0., 0., 0., 0.],\n",
       "          [0., 0., 0., 0., 0., 0., 0., 0., 0., 0., 0., 0., 0., 0., 1., 0.,\n",
       "           0., 0., 0., 0., 0., 0., 0.],\n",
       "          [0., 0., 0., 0., 0., 0., 0., 0., 0., 0., 0., 0., 0., 0., 0., 1.,\n",
       "           0., 0., 0., 0., 0., 0., 0.],\n",
       "          [0., 0., 0., 0., 0., 0., 0., 0., 0., 0., 0., 0., 0., 0., 0., 0.,\n",
       "           1., 0., 0., 0., 0., 0., 0.],\n",
       "          [0., 0., 0., 0., 0., 0., 0., 0., 0., 0., 0., 0., 0., 0., 0., 0.,\n",
       "           0., 1., 0., 0., 0., 0., 0.],\n",
       "          [0., 0., 0., 0., 0., 0., 0., 0., 0., 0., 0., 0., 0., 0., 0., 0.,\n",
       "           0., 0., 1., 0., 0., 0., 0.],\n",
       "          [0., 0., 0., 0., 0., 0., 0., 0., 0., 0., 0., 0., 0., 0., 0., 0.,\n",
       "           0., 0., 0., 1., 0., 0., 0.],\n",
       "          [0., 0., 0., 0., 0., 0., 0., 0., 0., 0., 0., 0., 0., 0., 0., 0.,\n",
       "           0., 0., 0., 0., 1., 0., 0.],\n",
       "          [0., 0., 0., 0., 0., 0., 0., 0., 0., 0., 0., 0., 0., 0., 0., 0.,\n",
       "           0., 0., 0., 0., 0., 1., 0.]])]),\n",
       " 12: ({'ssr_ftest': (2.7001871936510167, 0.0013672319172488008, 963.0, 12),\n",
       "   'ssr_chi2test': (33.24342613491844, 0.0008868456357744491, 12),\n",
       "   'lrtest': (32.69638919249337, 0.0010793991985932172, 12),\n",
       "   'params_ftest': (2.70018719365102, 0.0013672319172487461, 963.0, 12.0)},\n",
       "  [<statsmodels.regression.linear_model.RegressionResultsWrapper at 0x7fd63a151390>,\n",
       "   <statsmodels.regression.linear_model.RegressionResultsWrapper at 0x7fd63a148450>,\n",
       "   array([[0., 0., 0., 0., 0., 0., 0., 0., 0., 0., 0., 0., 1., 0., 0., 0.,\n",
       "           0., 0., 0., 0., 0., 0., 0., 0., 0.],\n",
       "          [0., 0., 0., 0., 0., 0., 0., 0., 0., 0., 0., 0., 0., 1., 0., 0.,\n",
       "           0., 0., 0., 0., 0., 0., 0., 0., 0.],\n",
       "          [0., 0., 0., 0., 0., 0., 0., 0., 0., 0., 0., 0., 0., 0., 1., 0.,\n",
       "           0., 0., 0., 0., 0., 0., 0., 0., 0.],\n",
       "          [0., 0., 0., 0., 0., 0., 0., 0., 0., 0., 0., 0., 0., 0., 0., 1.,\n",
       "           0., 0., 0., 0., 0., 0., 0., 0., 0.],\n",
       "          [0., 0., 0., 0., 0., 0., 0., 0., 0., 0., 0., 0., 0., 0., 0., 0.,\n",
       "           1., 0., 0., 0., 0., 0., 0., 0., 0.],\n",
       "          [0., 0., 0., 0., 0., 0., 0., 0., 0., 0., 0., 0., 0., 0., 0., 0.,\n",
       "           0., 1., 0., 0., 0., 0., 0., 0., 0.],\n",
       "          [0., 0., 0., 0., 0., 0., 0., 0., 0., 0., 0., 0., 0., 0., 0., 0.,\n",
       "           0., 0., 1., 0., 0., 0., 0., 0., 0.],\n",
       "          [0., 0., 0., 0., 0., 0., 0., 0., 0., 0., 0., 0., 0., 0., 0., 0.,\n",
       "           0., 0., 0., 1., 0., 0., 0., 0., 0.],\n",
       "          [0., 0., 0., 0., 0., 0., 0., 0., 0., 0., 0., 0., 0., 0., 0., 0.,\n",
       "           0., 0., 0., 0., 1., 0., 0., 0., 0.],\n",
       "          [0., 0., 0., 0., 0., 0., 0., 0., 0., 0., 0., 0., 0., 0., 0., 0.,\n",
       "           0., 0., 0., 0., 0., 1., 0., 0., 0.],\n",
       "          [0., 0., 0., 0., 0., 0., 0., 0., 0., 0., 0., 0., 0., 0., 0., 0.,\n",
       "           0., 0., 0., 0., 0., 0., 1., 0., 0.],\n",
       "          [0., 0., 0., 0., 0., 0., 0., 0., 0., 0., 0., 0., 0., 0., 0., 0.,\n",
       "           0., 0., 0., 0., 0., 0., 0., 1., 0.]])]),\n",
       " 13: ({'ssr_ftest': (2.5439472772069918, 0.0018898294036951283, 960.0, 13),\n",
       "   'ssr_chi2test': (34.0014453269197, 0.001202949548132374, 13),\n",
       "   'lrtest': (33.42889480323265, 0.0014686711681604363, 13),\n",
       "   'params_ftest': (2.5439472772069425, 0.001889829403695543, 960.0, 13.0)},\n",
       "  [<statsmodels.regression.linear_model.RegressionResultsWrapper at 0x7fd63a148910>,\n",
       "   <statsmodels.regression.linear_model.RegressionResultsWrapper at 0x7fd63a148cd0>,\n",
       "   array([[0., 0., 0., 0., 0., 0., 0., 0., 0., 0., 0., 0., 0., 1., 0., 0.,\n",
       "           0., 0., 0., 0., 0., 0., 0., 0., 0., 0., 0.],\n",
       "          [0., 0., 0., 0., 0., 0., 0., 0., 0., 0., 0., 0., 0., 0., 1., 0.,\n",
       "           0., 0., 0., 0., 0., 0., 0., 0., 0., 0., 0.],\n",
       "          [0., 0., 0., 0., 0., 0., 0., 0., 0., 0., 0., 0., 0., 0., 0., 1.,\n",
       "           0., 0., 0., 0., 0., 0., 0., 0., 0., 0., 0.],\n",
       "          [0., 0., 0., 0., 0., 0., 0., 0., 0., 0., 0., 0., 0., 0., 0., 0.,\n",
       "           1., 0., 0., 0., 0., 0., 0., 0., 0., 0., 0.],\n",
       "          [0., 0., 0., 0., 0., 0., 0., 0., 0., 0., 0., 0., 0., 0., 0., 0.,\n",
       "           0., 1., 0., 0., 0., 0., 0., 0., 0., 0., 0.],\n",
       "          [0., 0., 0., 0., 0., 0., 0., 0., 0., 0., 0., 0., 0., 0., 0., 0.,\n",
       "           0., 0., 1., 0., 0., 0., 0., 0., 0., 0., 0.],\n",
       "          [0., 0., 0., 0., 0., 0., 0., 0., 0., 0., 0., 0., 0., 0., 0., 0.,\n",
       "           0., 0., 0., 1., 0., 0., 0., 0., 0., 0., 0.],\n",
       "          [0., 0., 0., 0., 0., 0., 0., 0., 0., 0., 0., 0., 0., 0., 0., 0.,\n",
       "           0., 0., 0., 0., 1., 0., 0., 0., 0., 0., 0.],\n",
       "          [0., 0., 0., 0., 0., 0., 0., 0., 0., 0., 0., 0., 0., 0., 0., 0.,\n",
       "           0., 0., 0., 0., 0., 1., 0., 0., 0., 0., 0.],\n",
       "          [0., 0., 0., 0., 0., 0., 0., 0., 0., 0., 0., 0., 0., 0., 0., 0.,\n",
       "           0., 0., 0., 0., 0., 0., 1., 0., 0., 0., 0.],\n",
       "          [0., 0., 0., 0., 0., 0., 0., 0., 0., 0., 0., 0., 0., 0., 0., 0.,\n",
       "           0., 0., 0., 0., 0., 0., 0., 1., 0., 0., 0.],\n",
       "          [0., 0., 0., 0., 0., 0., 0., 0., 0., 0., 0., 0., 0., 0., 0., 0.,\n",
       "           0., 0., 0., 0., 0., 0., 0., 0., 1., 0., 0.],\n",
       "          [0., 0., 0., 0., 0., 0., 0., 0., 0., 0., 0., 0., 0., 0., 0., 0.,\n",
       "           0., 0., 0., 0., 0., 0., 0., 0., 0., 1., 0.]])]),\n",
       " 14: ({'ssr_ftest': (2.3448071993432102, 0.003423625446804325, 957.0, 14),\n",
       "   'ssr_chi2test': (33.8220674814354, 0.0021895257679562245, 14),\n",
       "   'lrtest': (33.25491351358596, 0.002646822179716667, 14),\n",
       "   'params_ftest': (2.344807199343117, 0.0034236254468056324, 957.0, 14.0)},\n",
       "  [<statsmodels.regression.linear_model.RegressionResultsWrapper at 0x7fd63a1223d0>,\n",
       "   <statsmodels.regression.linear_model.RegressionResultsWrapper at 0x7fd63a1227d0>,\n",
       "   array([[0., 0., 0., 0., 0., 0., 0., 0., 0., 0., 0., 0., 0., 0., 1., 0.,\n",
       "           0., 0., 0., 0., 0., 0., 0., 0., 0., 0., 0., 0., 0.],\n",
       "          [0., 0., 0., 0., 0., 0., 0., 0., 0., 0., 0., 0., 0., 0., 0., 1.,\n",
       "           0., 0., 0., 0., 0., 0., 0., 0., 0., 0., 0., 0., 0.],\n",
       "          [0., 0., 0., 0., 0., 0., 0., 0., 0., 0., 0., 0., 0., 0., 0., 0.,\n",
       "           1., 0., 0., 0., 0., 0., 0., 0., 0., 0., 0., 0., 0.],\n",
       "          [0., 0., 0., 0., 0., 0., 0., 0., 0., 0., 0., 0., 0., 0., 0., 0.,\n",
       "           0., 1., 0., 0., 0., 0., 0., 0., 0., 0., 0., 0., 0.],\n",
       "          [0., 0., 0., 0., 0., 0., 0., 0., 0., 0., 0., 0., 0., 0., 0., 0.,\n",
       "           0., 0., 1., 0., 0., 0., 0., 0., 0., 0., 0., 0., 0.],\n",
       "          [0., 0., 0., 0., 0., 0., 0., 0., 0., 0., 0., 0., 0., 0., 0., 0.,\n",
       "           0., 0., 0., 1., 0., 0., 0., 0., 0., 0., 0., 0., 0.],\n",
       "          [0., 0., 0., 0., 0., 0., 0., 0., 0., 0., 0., 0., 0., 0., 0., 0.,\n",
       "           0., 0., 0., 0., 1., 0., 0., 0., 0., 0., 0., 0., 0.],\n",
       "          [0., 0., 0., 0., 0., 0., 0., 0., 0., 0., 0., 0., 0., 0., 0., 0.,\n",
       "           0., 0., 0., 0., 0., 1., 0., 0., 0., 0., 0., 0., 0.],\n",
       "          [0., 0., 0., 0., 0., 0., 0., 0., 0., 0., 0., 0., 0., 0., 0., 0.,\n",
       "           0., 0., 0., 0., 0., 0., 1., 0., 0., 0., 0., 0., 0.],\n",
       "          [0., 0., 0., 0., 0., 0., 0., 0., 0., 0., 0., 0., 0., 0., 0., 0.,\n",
       "           0., 0., 0., 0., 0., 0., 0., 1., 0., 0., 0., 0., 0.],\n",
       "          [0., 0., 0., 0., 0., 0., 0., 0., 0., 0., 0., 0., 0., 0., 0., 0.,\n",
       "           0., 0., 0., 0., 0., 0., 0., 0., 1., 0., 0., 0., 0.],\n",
       "          [0., 0., 0., 0., 0., 0., 0., 0., 0., 0., 0., 0., 0., 0., 0., 0.,\n",
       "           0., 0., 0., 0., 0., 0., 0., 0., 0., 1., 0., 0., 0.],\n",
       "          [0., 0., 0., 0., 0., 0., 0., 0., 0., 0., 0., 0., 0., 0., 0., 0.,\n",
       "           0., 0., 0., 0., 0., 0., 0., 0., 0., 0., 1., 0., 0.],\n",
       "          [0., 0., 0., 0., 0., 0., 0., 0., 0., 0., 0., 0., 0., 0., 0., 0.,\n",
       "           0., 0., 0., 0., 0., 0., 0., 0., 0., 0., 0., 1., 0.]])]),\n",
       " 15: ({'ssr_ftest': (2.1481060639146494, 0.0066338400140976235, 954.0, 15),\n",
       "   'ssr_chi2test': (33.268623788615244, 0.004308235544176256, 15),\n",
       "   'lrtest': (32.719134257577025, 0.005132103520786569, 15),\n",
       "   'params_ftest': (2.148106063914661, 0.006633840014097047, 954.0, 15.0)},\n",
       "  [<statsmodels.regression.linear_model.RegressionResultsWrapper at 0x7fd6568bfb90>,\n",
       "   <statsmodels.regression.linear_model.RegressionResultsWrapper at 0x7fd6568bf8d0>,\n",
       "   array([[0., 0., 0., 0., 0., 0., 0., 0., 0., 0., 0., 0., 0., 0., 0., 1.,\n",
       "           0., 0., 0., 0., 0., 0., 0., 0., 0., 0., 0., 0., 0., 0., 0.],\n",
       "          [0., 0., 0., 0., 0., 0., 0., 0., 0., 0., 0., 0., 0., 0., 0., 0.,\n",
       "           1., 0., 0., 0., 0., 0., 0., 0., 0., 0., 0., 0., 0., 0., 0.],\n",
       "          [0., 0., 0., 0., 0., 0., 0., 0., 0., 0., 0., 0., 0., 0., 0., 0.,\n",
       "           0., 1., 0., 0., 0., 0., 0., 0., 0., 0., 0., 0., 0., 0., 0.],\n",
       "          [0., 0., 0., 0., 0., 0., 0., 0., 0., 0., 0., 0., 0., 0., 0., 0.,\n",
       "           0., 0., 1., 0., 0., 0., 0., 0., 0., 0., 0., 0., 0., 0., 0.],\n",
       "          [0., 0., 0., 0., 0., 0., 0., 0., 0., 0., 0., 0., 0., 0., 0., 0.,\n",
       "           0., 0., 0., 1., 0., 0., 0., 0., 0., 0., 0., 0., 0., 0., 0.],\n",
       "          [0., 0., 0., 0., 0., 0., 0., 0., 0., 0., 0., 0., 0., 0., 0., 0.,\n",
       "           0., 0., 0., 0., 1., 0., 0., 0., 0., 0., 0., 0., 0., 0., 0.],\n",
       "          [0., 0., 0., 0., 0., 0., 0., 0., 0., 0., 0., 0., 0., 0., 0., 0.,\n",
       "           0., 0., 0., 0., 0., 1., 0., 0., 0., 0., 0., 0., 0., 0., 0.],\n",
       "          [0., 0., 0., 0., 0., 0., 0., 0., 0., 0., 0., 0., 0., 0., 0., 0.,\n",
       "           0., 0., 0., 0., 0., 0., 1., 0., 0., 0., 0., 0., 0., 0., 0.],\n",
       "          [0., 0., 0., 0., 0., 0., 0., 0., 0., 0., 0., 0., 0., 0., 0., 0.,\n",
       "           0., 0., 0., 0., 0., 0., 0., 1., 0., 0., 0., 0., 0., 0., 0.],\n",
       "          [0., 0., 0., 0., 0., 0., 0., 0., 0., 0., 0., 0., 0., 0., 0., 0.,\n",
       "           0., 0., 0., 0., 0., 0., 0., 0., 1., 0., 0., 0., 0., 0., 0.],\n",
       "          [0., 0., 0., 0., 0., 0., 0., 0., 0., 0., 0., 0., 0., 0., 0., 0.,\n",
       "           0., 0., 0., 0., 0., 0., 0., 0., 0., 1., 0., 0., 0., 0., 0.],\n",
       "          [0., 0., 0., 0., 0., 0., 0., 0., 0., 0., 0., 0., 0., 0., 0., 0.,\n",
       "           0., 0., 0., 0., 0., 0., 0., 0., 0., 0., 1., 0., 0., 0., 0.],\n",
       "          [0., 0., 0., 0., 0., 0., 0., 0., 0., 0., 0., 0., 0., 0., 0., 0.,\n",
       "           0., 0., 0., 0., 0., 0., 0., 0., 0., 0., 0., 1., 0., 0., 0.],\n",
       "          [0., 0., 0., 0., 0., 0., 0., 0., 0., 0., 0., 0., 0., 0., 0., 0.,\n",
       "           0., 0., 0., 0., 0., 0., 0., 0., 0., 0., 0., 0., 1., 0., 0.],\n",
       "          [0., 0., 0., 0., 0., 0., 0., 0., 0., 0., 0., 0., 0., 0., 0., 0.,\n",
       "           0., 0., 0., 0., 0., 0., 0., 0., 0., 0., 0., 0., 0., 1., 0.]])])}"
      ]
     },
     "execution_count": 108,
     "metadata": {},
     "output_type": "execute_result"
    }
   ],
   "source": [
    "grangercausalitytests(data, maxlag=15)"
   ]
  },
  {
   "cell_type": "code",
   "execution_count": 123,
   "id": "4e0923be",
   "metadata": {
    "scrolled": true
   },
   "outputs": [
    {
     "data": {
      "text/plain": [
       "array([ 1.        ,  0.19414918,  0.04285158,  0.00313269, -0.05742232,\n",
       "       -0.08527368, -0.07229204,  0.04108967, -0.0823237 ,  0.04817934,\n",
       "       -0.02946789,  0.07450412,  0.00541129, -0.03014503, -0.05853185,\n",
       "        0.0094909 , -0.04210194, -0.01727775,  0.00491157, -0.07167258,\n",
       "       -0.03941785, -0.06082146, -0.06151048, -0.06366593, -0.01445994,\n",
       "        0.00816738, -0.01207053, -0.06363467, -0.04824619, -0.06092   ])"
      ]
     },
     "execution_count": 123,
     "metadata": {},
     "output_type": "execute_result"
    }
   ],
   "source": [
    "# pacf = statsmodels.tsa.stattools.pacf(A_density,method=\"ols\")\n",
    "statsmodels.tsa.stattools.pacf(ABC_density)"
   ]
  },
  {
   "cell_type": "code",
   "execution_count": 124,
   "id": "08772e1a",
   "metadata": {
    "scrolled": true
   },
   "outputs": [
    {
     "data": {
      "text/plain": [
       "array([ 1.00000000e+00,  1.93954834e-01,  7.87722243e-02,  2.59181759e-02,\n",
       "       -4.61981871e-02, -9.86608019e-02, -1.07509288e-01, -5.87299482e-03,\n",
       "       -8.34706832e-02,  2.19241254e-02, -8.30060491e-03,  7.57175674e-02,\n",
       "        4.22041359e-02, -6.57842241e-03, -4.32239504e-02, -2.34916648e-02,\n",
       "       -4.81568456e-02, -5.75532133e-02, -1.72359500e-03, -7.10997655e-02,\n",
       "       -4.93317740e-02, -6.85157077e-02, -6.27213295e-02, -7.55628464e-02,\n",
       "       -2.74067860e-02,  1.19795613e-02,  3.90334298e-04, -2.42749249e-02,\n",
       "       -3.84477396e-02, -4.54169677e-02])"
      ]
     },
     "execution_count": 124,
     "metadata": {},
     "output_type": "execute_result"
    }
   ],
   "source": [
    "statsmodels.tsa.stattools.acf(ABC_density)"
   ]
  },
  {
   "cell_type": "code",
   "execution_count": 549,
   "id": "fee8f4b9",
   "metadata": {},
   "outputs": [],
   "source": [
    "dd = {\"B\":B_density,\n",
    "    \"AB\":AB_density,\n",
    "     \"ABC\":ABC_density,\n",
    "      \"D\":D_density,\n",
    "      \"DE\":DE_density,\n",
    "      \"DEF\":DEF_density\n",
    "     }\n"
   ]
  },
  {
   "cell_type": "code",
   "execution_count": 58,
   "id": "197b9ff1",
   "metadata": {},
   "outputs": [],
   "source": [
    "dd = {\"B\":B_density,\n",
    "    \"AB\":AB_density,\n",
    "     \"ABC\":ABC_density,\n",
    "      \"ABCD\":ABCD_density\n",
    "     }"
   ]
  },
  {
   "cell_type": "code",
   "execution_count": 59,
   "id": "57d55f68",
   "metadata": {
    "scrolled": true
   },
   "outputs": [],
   "source": [
    "df = pd.DataFrame(dd,columns = ['B','AB','ABC',\"ABCD\"])"
   ]
  },
  {
   "cell_type": "code",
   "execution_count": 130,
   "id": "cf2e3456",
   "metadata": {
    "scrolled": false
   },
   "outputs": [
    {
     "data": {
      "text/html": [
       "<div>\n",
       "<style scoped>\n",
       "    .dataframe tbody tr th:only-of-type {\n",
       "        vertical-align: middle;\n",
       "    }\n",
       "\n",
       "    .dataframe tbody tr th {\n",
       "        vertical-align: top;\n",
       "    }\n",
       "\n",
       "    .dataframe thead th {\n",
       "        text-align: right;\n",
       "    }\n",
       "</style>\n",
       "<table border=\"1\" class=\"dataframe\">\n",
       "  <thead>\n",
       "    <tr style=\"text-align: right;\">\n",
       "      <th></th>\n",
       "      <th>A_density</th>\n",
       "      <th>B_density</th>\n",
       "      <th>AB_density</th>\n",
       "      <th>ABC_density</th>\n",
       "      <th>AD_density</th>\n",
       "    </tr>\n",
       "  </thead>\n",
       "  <tbody>\n",
       "    <tr>\n",
       "      <th>A_density</th>\n",
       "      <td>1.000</td>\n",
       "      <td>0.044</td>\n",
       "      <td>0.628</td>\n",
       "      <td>-0.079</td>\n",
       "      <td>0.722</td>\n",
       "    </tr>\n",
       "    <tr>\n",
       "      <th>B_density</th>\n",
       "      <td>0.044</td>\n",
       "      <td>1.000</td>\n",
       "      <td>-0.140</td>\n",
       "      <td>-0.101</td>\n",
       "      <td>-0.138</td>\n",
       "    </tr>\n",
       "    <tr>\n",
       "      <th>AB_density</th>\n",
       "      <td>0.628</td>\n",
       "      <td>-0.140</td>\n",
       "      <td>1.000</td>\n",
       "      <td>0.593</td>\n",
       "      <td>-0.425</td>\n",
       "    </tr>\n",
       "    <tr>\n",
       "      <th>ABC_density</th>\n",
       "      <td>-0.079</td>\n",
       "      <td>-0.101</td>\n",
       "      <td>0.593</td>\n",
       "      <td>1.000</td>\n",
       "      <td>0.219</td>\n",
       "    </tr>\n",
       "    <tr>\n",
       "      <th>AD_density</th>\n",
       "      <td>0.722</td>\n",
       "      <td>-0.138</td>\n",
       "      <td>-0.425</td>\n",
       "      <td>0.219</td>\n",
       "      <td>1.000</td>\n",
       "    </tr>\n",
       "  </tbody>\n",
       "</table>\n",
       "</div>"
      ],
      "text/plain": [
       "             A_density  B_density  AB_density  ABC_density  AD_density\n",
       "A_density        1.000      0.044       0.628       -0.079       0.722\n",
       "B_density        0.044      1.000      -0.140       -0.101      -0.138\n",
       "AB_density       0.628     -0.140       1.000        0.593      -0.425\n",
       "ABC_density     -0.079     -0.101       0.593        1.000       0.219\n",
       "AD_density       0.722     -0.138      -0.425        0.219       1.000"
      ]
     },
     "execution_count": 130,
     "metadata": {},
     "output_type": "execute_result"
    }
   ],
   "source": [
    "df.pcorr().round(3)# before diff"
   ]
  },
  {
   "cell_type": "code",
   "execution_count": 142,
   "id": "11e2ded6",
   "metadata": {},
   "outputs": [
    {
     "data": {
      "text/html": [
       "<div>\n",
       "<style scoped>\n",
       "    .dataframe tbody tr th:only-of-type {\n",
       "        vertical-align: middle;\n",
       "    }\n",
       "\n",
       "    .dataframe tbody tr th {\n",
       "        vertical-align: top;\n",
       "    }\n",
       "\n",
       "    .dataframe thead th {\n",
       "        text-align: right;\n",
       "    }\n",
       "</style>\n",
       "<table border=\"1\" class=\"dataframe\">\n",
       "  <thead>\n",
       "    <tr style=\"text-align: right;\">\n",
       "      <th></th>\n",
       "      <th>A_density</th>\n",
       "      <th>B_density</th>\n",
       "      <th>AB_density</th>\n",
       "      <th>ABC_density</th>\n",
       "      <th>AD_density</th>\n",
       "    </tr>\n",
       "  </thead>\n",
       "  <tbody>\n",
       "    <tr>\n",
       "      <th>A_density</th>\n",
       "      <td>1.000</td>\n",
       "      <td>-0.067</td>\n",
       "      <td>0.266</td>\n",
       "      <td>-0.086</td>\n",
       "      <td>0.003</td>\n",
       "    </tr>\n",
       "    <tr>\n",
       "      <th>B_density</th>\n",
       "      <td>-0.067</td>\n",
       "      <td>1.000</td>\n",
       "      <td>-0.037</td>\n",
       "      <td>-0.017</td>\n",
       "      <td>0.024</td>\n",
       "    </tr>\n",
       "    <tr>\n",
       "      <th>AB_density</th>\n",
       "      <td>0.266</td>\n",
       "      <td>-0.037</td>\n",
       "      <td>1.000</td>\n",
       "      <td>0.073</td>\n",
       "      <td>-0.097</td>\n",
       "    </tr>\n",
       "    <tr>\n",
       "      <th>ABC_density</th>\n",
       "      <td>-0.086</td>\n",
       "      <td>-0.017</td>\n",
       "      <td>0.073</td>\n",
       "      <td>1.000</td>\n",
       "      <td>-0.055</td>\n",
       "    </tr>\n",
       "    <tr>\n",
       "      <th>AD_density</th>\n",
       "      <td>0.003</td>\n",
       "      <td>0.024</td>\n",
       "      <td>-0.097</td>\n",
       "      <td>-0.055</td>\n",
       "      <td>1.000</td>\n",
       "    </tr>\n",
       "  </tbody>\n",
       "</table>\n",
       "</div>"
      ],
      "text/plain": [
       "             A_density  B_density  AB_density  ABC_density  AD_density\n",
       "A_density        1.000     -0.067       0.266       -0.086       0.003\n",
       "B_density       -0.067      1.000      -0.037       -0.017       0.024\n",
       "AB_density       0.266     -0.037       1.000        0.073      -0.097\n",
       "ABC_density     -0.086     -0.017       0.073        1.000      -0.055\n",
       "AD_density       0.003      0.024      -0.097       -0.055       1.000"
      ]
     },
     "execution_count": 142,
     "metadata": {},
     "output_type": "execute_result"
    }
   ],
   "source": [
    "df.pcorr().round(3)# after diff"
   ]
  },
  {
   "cell_type": "code",
   "execution_count": 102,
   "id": "5b7dedc3",
   "metadata": {
    "scrolled": true
   },
   "outputs": [
    {
     "data": {
      "text/plain": [
       "-0.029318596688185667"
      ]
     },
     "execution_count": 102,
     "metadata": {},
     "output_type": "execute_result"
    }
   ],
   "source": [
    "ABC.corr(B)"
   ]
  },
  {
   "cell_type": "code",
   "execution_count": 60,
   "id": "8994763c",
   "metadata": {},
   "outputs": [
    {
     "data": {
      "text/html": [
       "<div>\n",
       "<style scoped>\n",
       "    .dataframe tbody tr th:only-of-type {\n",
       "        vertical-align: middle;\n",
       "    }\n",
       "\n",
       "    .dataframe tbody tr th {\n",
       "        vertical-align: top;\n",
       "    }\n",
       "\n",
       "    .dataframe thead th {\n",
       "        text-align: right;\n",
       "    }\n",
       "</style>\n",
       "<table border=\"1\" class=\"dataframe\">\n",
       "  <thead>\n",
       "    <tr style=\"text-align: right;\">\n",
       "      <th></th>\n",
       "      <th>n</th>\n",
       "      <th>r</th>\n",
       "      <th>CI95%</th>\n",
       "      <th>p-val</th>\n",
       "    </tr>\n",
       "  </thead>\n",
       "  <tbody>\n",
       "    <tr>\n",
       "      <th>pearson</th>\n",
       "      <td>1000</td>\n",
       "      <td>0.040345</td>\n",
       "      <td>[-0.02, 0.1]</td>\n",
       "      <td>0.202623</td>\n",
       "    </tr>\n",
       "  </tbody>\n",
       "</table>\n",
       "</div>"
      ],
      "text/plain": [
       "            n         r         CI95%     p-val\n",
       "pearson  1000  0.040345  [-0.02, 0.1]  0.202623"
      ]
     },
     "execution_count": 60,
     "metadata": {},
     "output_type": "execute_result"
    }
   ],
   "source": [
    "pg.partial_corr(data=df, x='ABC', y='B', covar='AB')"
   ]
  },
  {
   "cell_type": "code",
   "execution_count": 61,
   "id": "b05f19b0",
   "metadata": {},
   "outputs": [
    {
     "data": {
      "text/html": [
       "<div>\n",
       "<style scoped>\n",
       "    .dataframe tbody tr th:only-of-type {\n",
       "        vertical-align: middle;\n",
       "    }\n",
       "\n",
       "    .dataframe tbody tr th {\n",
       "        vertical-align: top;\n",
       "    }\n",
       "\n",
       "    .dataframe thead th {\n",
       "        text-align: right;\n",
       "    }\n",
       "</style>\n",
       "<table border=\"1\" class=\"dataframe\">\n",
       "  <thead>\n",
       "    <tr style=\"text-align: right;\">\n",
       "      <th></th>\n",
       "      <th>n</th>\n",
       "      <th>r</th>\n",
       "      <th>CI95%</th>\n",
       "      <th>p-val</th>\n",
       "    </tr>\n",
       "  </thead>\n",
       "  <tbody>\n",
       "    <tr>\n",
       "      <th>pearson</th>\n",
       "      <td>1000</td>\n",
       "      <td>0.535627</td>\n",
       "      <td>[0.49, 0.58]</td>\n",
       "      <td>2.945987e-75</td>\n",
       "    </tr>\n",
       "  </tbody>\n",
       "</table>\n",
       "</div>"
      ],
      "text/plain": [
       "            n         r         CI95%         p-val\n",
       "pearson  1000  0.535627  [0.49, 0.58]  2.945987e-75"
      ]
     },
     "execution_count": 61,
     "metadata": {},
     "output_type": "execute_result"
    }
   ],
   "source": [
    "pg.partial_corr(data=df, x='ABC', y='AB', covar='B')"
   ]
  },
  {
   "cell_type": "markdown",
   "id": "69b1634b",
   "metadata": {},
   "source": [
    "## Also a good set of data for partial correlation"
   ]
  },
  {
   "cell_type": "code",
   "execution_count": 126,
   "id": "a8eab930",
   "metadata": {},
   "outputs": [],
   "source": [
    "B_density = np.array([2.3, 2.3, 2.2, 2.2, 2.3, 2.3, 2.3, 2.3, 2.3, 2.4, 2.4, 2.4, 2.4, 2.3, 2.3, 2.3, 2.3, 2.2, 2.2, 2.2, 2.2, 2.2, 2.3, 2.3, 2.3, 2.3, 2.3, 2.3, 2.3, 2.4, 2.4, 2.4, 2.4, 2.4, 2.4, 2.4, 2.4, 2.4, 2.3, 2.3, 2.2, 2.3, 2.3, 2.3, 2.5, 2.5, 2.5, 2.4, 2.5, 2.6, 2.6, 2.7, 2.7, 2.8, 2.8, 2.8, 2.8, 2.8, 2.8, 2.8, 2.8, 2.8, 2.8, 2.8, 2.7, 2.7, 2.8, 2.8, 2.8, 2.8, 2.8, 2.8, 2.8, 2.8, 2.9, 2.8, 2.7, 2.7, 2.7, 2.7, 2.7, 2.7, 2.7, 2.7, 2.8, 2.8, 2.8, 2.8, 2.7, 2.6, 2.7, 2.7, 2.6, 2.6, 2.7, 2.7, 2.7, 2.7, 2.8, 2.8, 2.8, 2.8, 2.8, 2.9, 2.9, 2.9, 2.9, 2.9, 2.9, 2.9, 2.9, 3.0, 3.0, 3.0, 2.9, 2.9, 2.9, 2.8, 2.8, 2.8, 2.8, 2.8, 2.8, 2.8, 2.8, 2.8, 2.8, 2.8, 2.7, 2.7, 2.7, 2.7, 2.7, 2.7, 2.7, 2.6, 2.6, 2.6, 2.6, 2.6, 2.5, 2.5, 2.6, 2.6, 2.7, 2.7, 2.7, 2.6, 2.6, 2.5, 2.5, 2.4, 2.4, 2.4, 2.4, 2.4, 2.4, 2.5, 2.5, 2.5, 2.4, 2.4, 2.4, 2.4, 2.3, 2.2, 2.3, 2.3, 2.3, 2.3, 2.3, 2.2, 2.2, 2.2, 2.2, 2.2, 2.0, 2.0, 1.9, 1.9, 1.9, 1.9, 1.8, 1.7, 1.7, 1.7, 1.7, 1.8, 1.8, 1.8, 1.8, 1.7, 1.7, 1.6, 1.6, 1.6, 1.6, 1.6, 1.6, 1.6, 1.7, 1.7, 1.9, 1.8, 1.8, 1.8, 1.8, 1.8, 1.8, 1.8, 1.8, 1.8, 1.8, 1.8, 1.8, 1.9, 1.9, 1.9, 1.9, 1.8, 1.8, 1.9, 1.9, 1.9, 1.9, 1.9, 1.8, 1.8, 1.8, 1.8, 1.8, 1.8, 1.7, 1.6, 1.6, 1.6, 1.6, 1.6, 1.7, 1.7, 1.7, 1.7, 1.7, 1.7, 1.7, 1.7, 1.7, 1.7, 1.7, 1.7, 1.7, 1.7, 1.7, 1.8, 1.8, 1.8, 1.8, 1.8, 1.8, 1.8, 1.8, 1.8, 1.8, 1.8, 1.9, 1.9, 1.9, 1.8, 1.8, 1.8, 1.8, 1.8, 1.8, 1.8, 1.9, 1.9, 1.9, 1.9, 1.9, 1.9, 2.0, 2.0, 2.0, 2.0, 2.0, 2.0, 2.0, 2.0, 1.9, 1.8, 1.8, 1.8, 1.8, 1.8, 1.7, 1.7, 1.7, 1.7, 1.7, 1.7])"
   ]
  },
  {
   "cell_type": "code",
   "execution_count": 127,
   "id": "95cbc668",
   "metadata": {},
   "outputs": [],
   "source": [
    "AB_density = np.array([0.6, 0.7, 0.6, 0.8, 0.8, 0.7, 0.9, 0.9, 1.0, 1.2, 1.2, 1.3, 1.1, 1.2, 1.5, 1.5, 1.4, 1.5, 1.5, 1.6, 1.6, 1.6, 1.6, 1.6, 1.3, 1.1, 1.1, 1.2, 1.1, 1.1, 1.2, 1.3, 1.6, 1.6, 1.9, 2.0, 2.0, 1.9, 1.9, 1.8, 1.8, 1.8, 1.6, 1.7, 1.8, 2.0, 2.0, 2.0, 2.2, 2.2, 2.1, 2.3, 2.2, 2.2, 2.1, 2.1, 2.1, 2.0, 2.0, 1.9, 1.8, 1.9, 1.9, 2.0, 2.0, 2.0, 1.9, 1.9, 2.0, 2.0, 1.9, 2.0, 1.9, 1.9, 1.8, 1.8, 1.9, 2.1, 2.1, 2.2, 2.1, 2.1, 2.1, 2.1, 2.0, 2.0, 2.0, 2.1, 2.0, 1.8, 1.9, 2.0, 2.0, 1.8, 2.2, 2.1, 2.2, 2.3, 2.5, 2.6, 2.4, 2.4, 2.3, 2.3, 2.4, 2.4, 2.3, 2.7, 2.7, 2.7, 2.7, 2.7, 2.7, 2.8, 2.8, 2.6, 2.8, 2.8, 2.9, 3.0, 2.7, 2.6, 2.6, 2.6, 2.6, 2.5, 2.4, 2.3, 2.3, 2.4, 2.3, 2.4, 2.5, 2.5, 2.4, 2.4, 2.4, 2.4, 2.2, 1.9, 1.8, 1.6, 1.8, 1.7, 1.7, 1.6, 1.6, 1.6, 1.6, 1.8, 1.9, 2.0, 2.1, 2.3, 2.2, 2.2, 2.2, 2.3, 2.3, 2.3, 2.4, 2.4, 2.5, 2.5, 2.5, 2.3, 2.2, 2.3, 2.3, 2.1, 2.2, 2.2, 2.0, 1.9, 2.0, 2.0, 1.9, 1.8, 1.8, 1.8, 1.7, 1.7, 1.6, 1.3, 1.4, 1.5, 1.4, 1.5, 1.5, 1.6, 1.7, 1.7, 1.8, 1.7, 1.6, 1.6, 1.6, 1.6, 1.7, 1.6, 1.7, 1.6, 1.5, 1.5, 1.7, 1.9, 2.1, 2.0, 2.1, 2.1, 2.1, 2.3, 2.4, 2.5, 2.5, 2.5, 2.4, 2.4, 2.2, 2.2, 2.1, 1.9, 2.2, 2.2, 2.4, 2.5, 2.4, 2.4, 2.2, 2.1, 2.1, 2.1, 2.0, 1.9, 1.9, 1.7, 1.8, 1.9, 1.8, 1.7, 1.6, 1.5, 1.5, 1.6, 1.6, 1.6, 1.6, 1.6, 1.6, 1.7, 1.7, 1.7, 1.6, 1.5, 1.5, 1.5, 1.5, 1.7, 1.7, 1.8, 1.8, 1.7, 2.1, 2.1, 2.1, 2.4, 2.5, 2.6, 2.5, 2.4, 2.4, 2.3, 2.2, 2.2, 2.2, 2.2, 2.2, 2.1, 1.9, 1.7, 1.7, 1.7, 1.7, 1.8, 1.7, 1.8, 1.8, 1.8, 1.8, 1.9, 1.9, 2.0, 2.0, 2.0, 2.1, 2.1, 2.2, 2.0, 2.0, 2.1])"
   ]
  },
  {
   "cell_type": "code",
   "execution_count": 128,
   "id": "7b9a1012",
   "metadata": {},
   "outputs": [],
   "source": [
    "ABC_density = np.array([0.6, 0.6, 0.5, 0.6, 0.6, 0.6, 0.7, 0.8, 0.8, 0.8, 0.9, 0.9, 1.0, 1.1, 1.2, 1.1, 1.1, 0.9, 0.8, 0.7, 0.5, 0.4, 0.3, 0.4, 0.6, 0.6, 0.9, 1.1, 1.0, 1.1, 1.3, 1.4, 1.3, 1.4, 1.3, 1.2, 1.4, 1.4, 1.5, 1.5, 1.5, 1.4, 1.3, 1.3, 1.1, 1.1, 1.1, 1.2, 1.2, 1.2, 1.2, 1.4, 1.6, 1.5, 1.4, 1.4, 1.3, 1.4, 1.3, 1.3, 1.5, 1.3, 1.1, 1.2, 1.1, 1.0, 0.9, 0.8, 0.8, 0.9, 0.9, 0.9, 1.0, 0.9, 1.0, 1.0, 1.0, 0.9, 1.0, 0.8, 0.7, 0.7, 0.6, 0.4, 0.2, 0.3, 0.5, 0.5, 0.5, 0.6, 0.4, 0.6, 0.6, 0.7, 0.8, 0.8, 0.8, 0.9, 0.8, 0.9, 0.9, 1.1, 1.2, 1.2, 1.2, 1.2, 1.1, 1.2, 1.1, 0.9, 1.3, 1.3, 1.3, 1.3, 1.4, 1.4, 1.5, 1.4, 1.2, 1.4, 1.5, 1.6, 1.8, 1.8, 1.7, 1.7, 1.7, 1.7, 1.7, 1.6, 1.6, 1.5, 1.4, 1.4, 1.2, 1.5, 1.6, 1.4, 1.3, 1.2, 1.0, 0.9, 0.9, 0.9, 0.8, 0.8, 0.9, 0.7, 1.0, 1.0, 1.1, 1.1, 1.1, 1.1, 1.0, 0.9, 0.9, 1.1, 1.1, 1.1, 1.2, 1.2, 1.2, 1.4, 1.5, 1.3, 1.5, 1.3, 1.2, 1.0, 1.0, 0.7, 0.7, 0.6, 0.7, 0.5, 0.5, 0.5, 0.4, 0.6, 0.6, 0.6, 0.6, 0.4, 0.5, 0.4, 0.4, 0.4, 0.4, 0.5, 0.5, 0.5, 0.5, 0.4, 0.4, 0.4, 0.2, 0.2, 0.2, 0.1, 0.1, 0.1, 0.2, 0.2, 0.2, 0.4, 0.6, 0.7, 0.9, 0.9, 0.8, 1.0, 1.3, 1.2, 1.2, 1.0, 0.9, 0.9, 1.1, 1.0, 0.7, 1.0, 1.1, 0.9, 1.2, 1.4, 1.3, 1.3, 1.3, 1.3, 1.3, 1.2, 1.1, 1.2, 1.0, 0.7, 0.7, 0.7, 0.7, 0.5, 0.6, 0.5, 0.5, 0.5, 0.5, 0.5, 0.6, 0.7, 0.7, 0.8, 0.7, 0.9, 1.1, 1.2, 1.1, 1.1, 1.4, 1.6, 1.6, 1.4, 1.6, 1.6, 1.6, 1.6, 1.8, 1.7, 1.8, 1.8, 1.8, 1.6, 1.8, 1.9, 1.9, 1.9, 1.9, 1.9, 1.8, 1.5, 1.5, 1.4, 1.4, 1.3, 1.2, 1.0, 0.9, 0.9, 0.9, 0.9, 0.9, 1.0, 1.2, 1.3, 1.4, 1.3, 1.2, 1.2, 1.2, 1.2, 1.2, 1.2])"
   ]
  },
  {
   "cell_type": "code",
   "execution_count": 64,
   "id": "b140a52a",
   "metadata": {},
   "outputs": [
    {
     "data": {
      "text/plain": [
       "0.4532092013857563"
      ]
     },
     "execution_count": 64,
     "metadata": {},
     "output_type": "execute_result"
    }
   ],
   "source": [
    "ABC.corr(AB)"
   ]
  },
  {
   "cell_type": "markdown",
   "id": "a9c1b28d",
   "metadata": {},
   "source": [
    "## Data transformation code"
   ]
  },
  {
   "cell_type": "code",
   "execution_count": 67,
   "id": "99cee237",
   "metadata": {},
   "outputs": [],
   "source": [
    "eps = 1e-5\n",
    "B_density = B_density/np.median(B_density)+1\n",
    "AB_density = AB_density/np.median(AB_density)+1\n",
    "ABC_density = ABC_density/np.median(ABC_density)+1\n",
    "ABCD_density = ABCD_density/np.median(ABCD_density)+1\n",
    "B_density = np.log(B_density+eps)\n",
    "B_density = np.reshape(B_density,(-1,1))\n",
    "AB_density = np.log(AB_density+eps)\n",
    "AB_density = np.reshape(AB_density,(-1,1))\n",
    "ABC_density = np.log(ABC_density+eps)\n",
    "ABC_density = np.reshape(ABC_density,(-1,1))\n",
    "ABCD_density = np.log(ABCD_density+eps)\n",
    "ABCD_density = np.reshape(ABCD_density,(-1,1))"
   ]
  },
  {
   "cell_type": "code",
   "execution_count": 248,
   "id": "885885f9",
   "metadata": {},
   "outputs": [],
   "source": [
    "data = np.concatenate((B_density,AB_density),axis=1)"
   ]
  },
  {
   "cell_type": "markdown",
   "id": "9e34033f",
   "metadata": {},
   "source": [
    "## Very good data"
   ]
  },
  {
   "cell_type": "code",
   "execution_count": 487,
   "id": "6d129d58",
   "metadata": {},
   "outputs": [],
   "source": [
    "B_density = np.array([20, 20, 20, 21, 22, 22, 22, 23, 23, 23, 23, 23, 23, 23, 23, 23, 23, 23, 23, 23, 23, 22, 23, 23, 23, 22, 23, 23, 23, 23, 23, 24, 24, 24, 25, 27, 27, 26, 26, 26, 28, 28, 29, 29, 29, 29, 29, 29, 29, 29, 28, 29, 29, 29, 29, 29, 29, 29, 29, 29, 29, 29, 29, 29, 29, 28, 28, 28, 28, 28, 29, 30, 28, 28, 28, 27, 27, 28, 29, 29, 30, 30, 30, 30, 30, 30, 30, 33, 33, 33, 33, 33, 32, 33, 32, 33, 33, 32, 32, 32, 33, 33, 33, 33, 33, 32, 32, 32, 32, 32, 32, 32, 32, 32, 32, 32, 33, 33, 32, 32, 32, 32, 32, 32, 32, 32, 32, 32, 32, 32, 31, 28, 28, 28, 28, 30, 30, 29, 29, 28, 28, 28, 28, 28, 27, 27, 27, 27, 27, 26, 27, 28, 28, 28, 28, 28, 28, 28, 27, 26, 27, 27, 27, 27, 25, 25, 25, 24, 24, 24, 24, 23, 23, 23, 23, 23, 23, 24, 24, 24, 24, 26, 27, 27, 27, 27, 28, 28, 27, 27, 27, 27, 27, 26, 26, 27, 27, 27, 27, 27, 27, 27, 27, 27, 27, 27, 27, 25, 26, 27, 27, 28, 28, 28, 28, 28, 28, 28, 27, 27, 27, 27, 28, 28, 29, 29, 29, 29, 30, 30, 29, 29, 29, 29, 29, 29, 29, 28, 28, 27, 28, 28, 29, 29, 29, 30, 29, 29, 29, 28, 26, 26, 26, 27, 26, 26, 25, 26, 26, 26, 26, 26, 26, 26, 26, 26, 26, 26, 26, 26, 26, 27, 27, 27, 26, 26, 26, 26, 26, 26, 26, 26, 26, 26, 26, 25, 25, 25, 26, 26, 26, 26, 26, 26, 26, 26, 26, 27, 27, 27])"
   ]
  },
  {
   "cell_type": "code",
   "execution_count": 488,
   "id": "eb59b6fa",
   "metadata": {},
   "outputs": [],
   "source": [
    "AB_density = np.array([10, 10, 10, 12, 14, 15, 19, 20, 19, 21, 23, 25, 24, 23, 22, 22, 21, 21, 21, 19, 22, 22, 21, 20, 19, 20, 19, 20, 20, 21, 22, 18, 17, 22, 24, 24, 25, 26, 27, 29, 30, 27, 25, 25, 25, 24, 23, 21, 22, 21, 25, 26, 25, 25, 25, 24, 26, 26, 25, 25, 26, 27, 27, 30, 30, 29, 29, 28, 28, 27, 27, 28, 28, 31, 32, 34, 34, 34, 34, 34, 33, 31, 31, 31, 31, 32, 33, 35, 33, 38, 39, 37, 38, 37, 40, 41, 42, 42, 40, 40, 43, 42, 40, 39, 39, 36, 34, 36, 34, 33, 33, 33, 33, 33, 33, 34, 33, 33, 30, 28, 28, 28, 29, 30, 31, 27, 27, 26, 27, 29, 32, 31, 36, 36, 37, 39, 38, 39, 42, 43, 43, 42, 40, 41, 40, 39, 40, 39, 40, 37, 39, 41, 39, 40, 36, 36, 36, 36, 33, 35, 36, 35, 33, 33, 34, 34, 32, 29, 28, 27, 27, 23, 24, 24, 23, 24, 24, 23, 24, 25, 24, 25, 24, 23, 24, 26, 24, 25, 23, 23, 22, 22, 23, 22, 23, 23, 22, 23, 24, 24, 23, 25, 25, 23, 24, 26, 25, 25, 27, 27, 27, 27, 26, 26, 26, 25, 26, 26, 26, 25, 23, 25, 24, 25, 26, 28, 28, 30, 29, 27, 26, 28, 29, 28, 28, 27, 27, 27, 31, 31, 32, 31, 31, 31, 30, 29, 28, 29, 28, 28, 28, 26, 25, 22, 22, 22, 22, 22, 23, 21, 23, 22, 23, 24, 25, 25, 26, 24, 23, 25, 25, 25, 25, 24, 24, 23, 26, 25, 25, 25, 25, 24, 23, 23, 24, 26, 25, 23, 23, 23, 23, 23, 24, 24, 26, 23, 24, 21, 21, 21])"
   ]
  },
  {
   "cell_type": "code",
   "execution_count": 489,
   "id": "37dba321",
   "metadata": {},
   "outputs": [],
   "source": [
    "ABC_density = np.array([2, 2, 2, 2, 2, 2, 4, 3, 4, 5, 5, 4, 3, 3, 2, 2, 3, 6, 8, 7, 8, 9, 9, 9, 8, 8, 4, 4, 5, 7, 7, 8, 8, 8, 8, 8, 9, 9, 6, 6, 6, 6, 7, 8, 7, 6, 8, 9, 10, 11, 12, 10, 11, 11, 10, 10, 9, 9, 10, 9, 7, 7, 9, 9, 9, 7, 7, 6, 6, 6, 7, 8, 9, 8, 10, 11, 13, 13, 13, 13, 13, 12, 13, 14, 18, 18, 18, 18, 17, 19, 19, 19, 18, 16, 15, 18, 18, 19, 18, 17, 16, 19, 21, 22, 22, 22, 21, 20, 20, 21, 19, 20, 19, 18, 17, 17, 15, 17, 16, 19, 18, 16, 15, 14, 15, 13, 13, 13, 13, 13, 10, 9, 9, 12, 12, 14, 14, 15, 15, 14, 14, 16, 17, 17, 17, 17, 17, 16, 15, 15, 17, 18, 18, 17, 18, 18, 18, 17, 16, 17, 17, 17, 15, 15, 12, 12, 12, 10, 10, 9, 7, 8, 5, 5, 4, 3, 3, 2, 2, 2, 2, 2, 4, 2, 3, 3, 3, 2, 3, 4, 4, 4, 4, 3, 3, 3, 4, 5, 5, 5, 5, 3, 4, 5, 5, 4, 5, 5, 6, 8, 7, 8, 7, 8, 9, 8, 8, 9, 10, 10, 8, 7, 7, 6, 7, 5, 5, 5, 6, 6, 6, 6, 7, 7, 6, 5, 5, 5, 5, 5, 5, 5, 5, 5, 5, 4, 3, 3, 3, 3, 3, 2, 2, 2, 1, 1, 3, 3, 2, 1, 2, 2, 2, 5, 6, 5, 5, 5, 5, 4, 3, 3, 3, 3, 3, 3, 3, 4, 5, 6, 5, 6, 6, 6, 6, 6, 5, 4, 4, 5, 5, 5, 5, 5, 1, 1, 1, 2, 3, 3])"
   ]
  },
  {
   "cell_type": "code",
   "execution_count": 490,
   "id": "9fcba239",
   "metadata": {},
   "outputs": [],
   "source": [
    "ABCD_density = np.array([0, 0, 0, 0, 0, 0, 0, 0, 1, 1, 1, 2, 1, 0, 0, 0, 0, 0, 3, 6, 5, 4, 4, 3, 3, 4, 4, 3, 3, 2, 3, 4, 4, 4, 5, 6, 5, 6, 7, 6, 5, 5, 3, 3, 3, 3, 4, 5, 6, 6, 9, 12, 11, 11, 11, 12, 12, 11, 11, 11, 11, 10, 10, 10, 9, 8, 7, 7, 5, 6, 4, 6, 6, 6, 6, 6, 6, 6, 7, 8, 7, 8, 9, 10, 10, 11, 12, 13, 13, 13, 12, 13, 13, 15, 14, 13, 12, 12, 13, 11, 13, 13, 13, 13, 14, 14, 13, 10, 9, 7, 5, 5, 7, 6, 5, 6, 6, 7, 9, 10, 11, 13, 16, 16, 16, 15, 13, 12, 14, 10, 11, 10, 9, 9, 10, 10, 13, 14, 15, 15, 15, 15, 15, 15, 15, 12, 12, 11, 11, 10, 13, 13, 15, 16, 16, 19, 20, 21, 20, 20, 18, 19, 18, 17, 16, 13, 11, 10, 9, 10, 8, 7, 8, 5, 5, 5, 3, 3, 3, 2, 4, 4, 1, 0, 1, 1, 4, 3, 3, 4, 4, 4, 4, 4, 4, 3, 3, 4, 4, 3, 2, 2, 2, 2, 2, 2, 3, 3, 3, 3, 3, 4, 5, 5, 5, 5, 4, 7, 6, 6, 6, 6, 6, 5, 4, 3, 3, 2, 2, 2, 1, 2, 2, 2, 2, 2, 1, 1, 1, 1, 1, 3, 3, 2, 2, 4, 4, 4, 5, 4, 4, 4, 4, 3, 3, 3, 2, 1, 1, 1, 1, 1, 1, 2, 3, 3, 4, 4, 4, 5, 5, 4, 4, 4, 5, 3, 6, 5, 5, 5, 6, 5, 4, 4, 4, 4, 4, 4, 3, 2, 2, 2, 2, 2, 2, 2, 2, 2, 2, 2])"
   ]
  },
  {
   "cell_type": "markdown",
   "id": "2902fa74",
   "metadata": {},
   "source": [
    "## Other trials"
   ]
  },
  {
   "cell_type": "code",
   "execution_count": 638,
   "id": "17d75012",
   "metadata": {},
   "outputs": [],
   "source": [
    "B_density = np.array([31, 31, 31, 31, 31, 31, 31, 31, 31, 31, 31, 31, 32, 32, 33, 34, 34, 34, 34, 34, 34, 34, 34, 34, 34, 33, 32, 33, 33, 33, 33, 33, 32, 33, 34, 34, 34, 34, 34, 34, 34, 33, 33, 33, 34, 34, 34, 34, 34, 34, 32, 32, 31, 32, 32, 33, 33, 33, 33, 34, 34, 34, 34, 33, 33, 33, 34, 34, 33, 33, 33, 34, 34, 35, 34, 34, 34, 33, 33, 34, 33, 33, 32, 32, 32, 31, 32, 33, 33, 34, 33, 32, 32, 32, 32, 31, 31, 31, 32, 32, 32, 33, 33, 33, 33, 33, 34, 34, 34, 34, 34, 34, 34, 34, 34, 33, 32, 32, 32, 32, 32, 32, 32, 32, 31, 30, 30, 31, 31, 30, 30, 30, 30, 30, 29, 29, 30, 31, 30, 30, 30, 31, 31, 31, 31, 31, 31, 32, 32, 32, 32, 30, 30, 31, 30, 31, 30, 31, 31, 30, 30, 30, 30, 30, 32, 32, 33, 33, 34, 35, 35, 35, 35, 36, 34, 35, 34, 35, 35, 35, 35, 35, 34, 35, 35, 35, 35, 36, 37, 38, 38, 37, 37, 36, 37, 37, 37, 37, 37, 37, 39, 39, 38, 38, 38, 37, 38, 38, 37, 37, 38, 37, 37, 37, 34, 34, 34, 34, 34, 34, 33, 32, 32, 32, 32, 31, 31, 31, 32, 32, 33, 33, 33, 32, 32, 32, 31, 31, 31, 31, 31, 31, 30, 30, 30, 30, 30, 30, 31, 31, 31, 31, 32, 32, 31, 32, 32, 32, 32, 32, 33, 33, 33, 33, 35, 35, 34, 34, 34, 34, 34, 34, 34, 34, 34, 34, 33, 33, 34, 34, 33, 32, 32, 33, 33, 33, 33, 33, 33, 33, 33, 33, 33, 33, 33, 32, 30, 28, 27, 27, 27, 27, 25, 25, 25, 24, 26, 26, 26, 26, 25, 26, 26, 26, 25, 25, 25, 25, 26, 25, 25, 24, 24, 26, 26, 26, 26, 25, 25, 25, 27, 27, 27, 26, 26, 26, 26, 26, 26, 26, 26, 26, 24, 24, 24, 24, 24, 24, 24, 24, 24, 24, 24, 24, 24, 24, 25, 25, 25, 25, 25, 25, 25, 27, 27, 28, 28, 28, 28, 29, 31, 31, 31, 31, 31, 30, 30, 30, 30, 30, 30, 32, 32, 31, 31, 31, 31, 31, 31, 31, 30, 30, 30, 30, 31, 33, 32, 33, 33, 33, 33, 33, 32, 31, 31, 31, 31, 30, 31, 31, 31, 30, 30, 31, 30, 30, 30, 30, 30, 29, 29, 29, 30, 30, 30, 31, 31, 31, 31, 32, 31, 31, 31, 31, 29, 29, 29, 29, 29, 29, 28, 28, 27, 27, 27, 28, 28, 29, 29, 29, 29, 28, 28, 28, 29, 29, 29, 31, 31, 31, 31, 31, 31, 31, 30, 30, 30, 30, 30, 30, 30, 30, 29, 29, 29, 29, 29, 30, 30, 30, 30, 30, 29, 29, 28, 29, 28, 26, 26, 26, 25, 25, 25, 25, 25, 23, 24, 25, 25, 25, 24, 24, 24, 24, 24, 24, 24, 24, 25, 26, 26, 26, 26, 26, 26, 25, 26, 26, 26, 26, 26, 26, 26, 27, 27, 27, 27, 27, 26, 26, 28, 28, 28, 28, 28, 27, 27, 27, 27, 27, 28, 27, 27, 27, 28, 28, 27, 28, 28, 28, 28, 28, 28, 28, 28, 28, 30, 30, 30, 30, 30, 30, 29, 29, 30, 30, 33, 33, 32, 33, 34, 34, 34, 34, 34, 35, 36, 36, 35, 36, 36, 36, 36, 36, 36, 36, 36, 36, 34, 33, 33, 33, 33, 33, 34, 34, 34, 34, 34, 36, 36, 36, 36, 37, 37, 37, 36, 36, 36, 36, 36, 35, 35, 36, 36, 36, 36, 36, 36, 36, 36, 36, 35, 35, 36, 36, 37, 37, 37, 37, 37, 37, 37, 37, 37, 38, 38, 38, 37, 36, 37, 38, 38, 39, 38, 38, 38, 38, 37, 37, 37, 36, 36, 36, 36, 37, 37, 36, 35, 35, 35, 35, 36, 36, 35, 34, 34, 33, 34, 34, 34, 34, 33, 33, 33, 33, 33, 34, 33, 32, 34, 34, 34, 34, 34, 33, 33, 32, 31, 31, 31, 31, 31, 31, 32, 32, 32, 33, 33, 33, 33, 33, 33, 33, 33, 33, 32, 33, 33, 33, 33, 34, 34, 34, 34, 34, 34, 34, 35, 35, 35, 34, 34, 34, 35, 34, 34, 34, 32, 32, 32, 32, 30, 30, 30, 30, 30, 31, 31, 31, 30, 28, 28, 28, 28, 28, 28, 28, 28, 28, 28, 28, 27, 27, 27, 26, 26, 26, 26, 25, 25, 26, 26, 26, 26, 25, 26, 25, 25, 25, 25, 25, 25, 25, 25, 26, 26, 25, 23, 23, 23, 23, 23, 23, 23, 23, 23, 23, 24, 24, 24, 24, 23, 23, 22, 22, 22, 23, 24, 24, 25, 26, 25, 24, 24, 25, 25, 24, 24, 24, 25, 25, 25, 24, 24, 23, 25, 25, 26, 26, 26, 27, 27, 28, 28, 28, 27, 28, 28, 28, 27, 27, 27, 27, 27, 27, 27, 26, 26, 26, 27, 26, 26, 26, 26, 26, 26, 26, 27, 26, 26, 24, 25, 25, 26, 26, 26, 24, 25, 25, 25, 25, 25, 25, 25, 25, 25, 25, 25, 25, 25, 26, 27, 27, 28, 27, 27, 27, 27, 27, 27, 26, 26, 26, 26, 26, 26, 26, 26, 27, 27, 29, 29, 29, 30, 29, 29, 29, 28, 28, 28, 27, 27, 27, 27, 27, 26, 25, 27, 27, 27, 27, 26, 27, 27, 27, 28, 27, 27, 27, 28, 28, 28, 28, 28, 28, 28, 27, 27, 27, 26, 27, 27, 27, 27, 28, 28, 29, 29, 29, 29, 29, 29, 29, 29, 29, 29, 29, 29, 29, 29, 29, 29, 29, 28, 28, 28, 28, 28, 28, 28, 28, 28, 27, 27, 28, 27, 27, 26, 26, 25, 26, 27, 29, 29, 29, 29, 29, 29, 29, 29, 29, 29, 29, 29, 29, 30, 30, 30, 30, 29, 28, 28, 28, 29, 29, 29, 30, 31, 30])"
   ]
  },
  {
   "cell_type": "code",
   "execution_count": 639,
   "id": "7e6e6c28",
   "metadata": {},
   "outputs": [],
   "source": [
    "AB_density = np.array([13, 13, 12, 12, 12, 14, 16, 16, 16, 14, 13, 12, 15, 15, 17, 16, 19, 18, 16, 16, 19, 21, 23, 23, 22, 24, 22, 24, 24, 22, 25, 24, 22, 20, 20, 19, 21, 22, 25, 27, 27, 32, 34, 31, 32, 32, 29, 29, 30, 32, 36, 35, 37, 34, 33, 32, 31, 32, 31, 32, 34, 34, 33, 31, 27, 26, 24, 22, 24, 28, 27, 28, 26, 25, 23, 23, 23, 21, 21, 19, 20, 21, 21, 25, 26, 21, 19, 18, 15, 16, 15, 22, 22, 20, 22, 21, 22, 21, 23, 18, 19, 21, 19, 19, 19, 24, 24, 22, 21, 20, 18, 18, 19, 16, 17, 17, 19, 19, 19, 18, 21, 20, 22, 21, 25, 26, 27, 26, 23, 23, 21, 21, 16, 18, 18, 20, 20, 18, 17, 19, 24, 24, 26, 26, 24, 23, 25, 25, 27, 27, 28, 29, 29, 28, 27, 27, 26, 25, 28, 27, 24, 21, 21, 21, 20, 24, 24, 20, 20, 23, 26, 25, 26, 26, 24, 24, 26, 27, 28, 28, 30, 29, 29, 29, 29, 29, 28, 25, 24, 25, 30, 29, 31, 29, 29, 29, 29, 28, 26, 28, 30, 30, 32, 32, 29, 32, 32, 33, 31, 31, 31, 30, 31, 31, 32, 31, 29, 28, 26, 23, 24, 26, 24, 26, 26, 25, 27, 28, 30, 27, 25, 24, 26, 24, 24, 24, 25, 24, 21, 20, 21, 21, 19, 16, 18, 22, 18, 18, 18, 19, 19, 20, 20, 20, 19, 16, 16, 18, 19, 22, 21, 24, 30, 28, 27, 24, 27, 24, 23, 25, 23, 22, 24, 24, 21, 24, 22, 23, 20, 23, 23, 25, 24, 24, 23, 19, 18, 19, 20, 23, 20, 16, 17, 17, 16, 18, 17, 20, 21, 19, 16, 16, 16, 14, 14, 14, 13, 11, 9, 10, 12, 12, 13, 11, 13, 16, 15, 16, 14, 13, 13, 19, 18, 21, 22, 23, 24, 25, 25, 22, 20, 18, 19, 21, 21, 23, 22, 19, 20, 18, 16, 14, 16, 16, 17, 19, 17, 17, 17, 18, 19, 21, 23, 25, 22, 22, 21, 21, 16, 14, 16, 17, 19, 20, 19, 21, 22, 23, 25, 24, 24, 22, 20, 21, 17, 17, 17, 17, 19, 20, 19, 19, 22, 22, 23, 23, 21, 19, 17, 15, 16, 17, 20, 19, 19, 19, 18, 16, 18, 17, 16, 18, 18, 16, 15, 19, 18, 15, 17, 20, 19, 17, 15, 17, 15, 15, 14, 15, 10, 11, 10, 10, 12, 15, 18, 19, 21, 21, 21, 20, 19, 22, 23, 21, 18, 17, 17, 17, 20, 20, 17, 18, 18, 17, 16, 16, 16, 16, 19, 20, 19, 18, 19, 21, 26, 25, 23, 22, 21, 23, 24, 25, 25, 24, 25, 26, 27, 25, 23, 22, 23, 22, 20, 20, 23, 25, 20, 21, 20, 21, 19, 18, 20, 22, 25, 24, 22, 23, 22, 19, 20, 22, 22, 22, 20, 24, 24, 22, 20, 19, 20, 23, 23, 23, 23, 21, 21, 23, 23, 24, 26, 26, 26, 29, 25, 27, 27, 27, 29, 28, 28, 27, 26, 24, 21, 21, 20, 19, 19, 20, 20, 23, 23, 23, 24, 25, 28, 26, 28, 26, 26, 28, 27, 26, 29, 29, 31, 29, 29, 27, 24, 27, 29, 30, 27, 26, 24, 23, 19, 15, 18, 20, 21, 22, 21, 22, 27, 23, 26, 25, 28, 24, 22, 24, 22, 24, 23, 23, 18, 22, 24, 25, 24, 23, 23, 23, 23, 22, 22, 20, 22, 22, 23, 21, 20, 22, 25, 26, 29, 31, 30, 29, 27, 25, 26, 27, 25, 24, 21, 23, 25, 26, 24, 22, 23, 24, 24, 25, 26, 26, 28, 25, 30, 31, 33, 34, 31, 30, 32, 32, 34, 33, 27, 24, 22, 24, 24, 24, 22, 22, 22, 25, 23, 24, 26, 27, 32, 35, 37, 33, 31, 28, 27, 24, 22, 21, 23, 22, 21, 21, 20, 19, 18, 17, 17, 17, 16, 15, 18, 15, 16, 15, 15, 19, 20, 22, 23, 21, 22, 22, 21, 22, 23, 23, 24, 22, 21, 20, 20, 22, 22, 20, 23, 22, 22, 22, 22, 21, 23, 23, 23, 23, 22, 23, 24, 24, 21, 19, 19, 18, 20, 21, 20, 19, 21, 25, 24, 22, 22, 22, 21, 19, 22, 21, 20, 19, 17, 13, 14, 16, 18, 19, 20, 19, 21, 19, 20, 20, 18, 19, 18, 17, 20, 19, 15, 15, 15, 14, 20, 19, 19, 16, 18, 18, 18, 18, 17, 17, 15, 15, 15, 17, 17, 20, 23, 20, 20, 20, 19, 18, 22, 21, 21, 19, 20, 19, 18, 16, 14, 11, 15, 15, 14, 14, 13, 12, 10, 11, 11, 10, 11, 12, 11, 11, 10, 13, 13, 13, 15, 16, 16, 17, 17, 14, 13, 14, 16, 15, 13, 12, 15, 14, 11, 11, 9, 11, 10, 9, 9, 10, 10, 11, 11, 8, 11, 11, 12, 13, 12, 12, 14, 16, 16, 15, 15, 14, 13, 13, 14, 15, 17, 18, 15, 17, 19, 19, 18, 18, 16, 17, 16, 16, 15, 14, 15, 16, 16, 17, 19, 17, 20, 19, 19, 18, 17, 13, 10, 11, 11, 13, 14, 15, 14, 15, 16, 17, 18, 19, 19, 19, 18, 18, 17, 15, 13, 12, 13, 12, 14, 16, 15, 16, 16, 16, 14, 17, 17, 15, 15, 16, 17, 16, 18, 19, 18, 15, 17, 15, 15, 16, 17, 18, 20, 21, 20, 21, 22, 22, 22, 22, 23, 23, 19, 18, 20, 22, 22, 21, 24, 24, 23, 24, 23, 21, 19, 19, 16, 15, 15, 16, 18, 19, 18, 22, 21, 17, 18, 19, 17, 18, 21, 20, 20, 18, 21, 22, 24, 26, 29, 27, 29, 26, 29, 29, 26, 25, 22, 19, 19, 17, 16, 14, 10, 12, 15, 14, 16, 18, 17, 15, 16, 16, 18, 19, 18, 16, 17, 17, 19, 20, 23, 24, 25, 26, 23, 23, 22, 20, 20, 20])"
   ]
  },
  {
   "cell_type": "code",
   "execution_count": 640,
   "id": "6e55b7e8",
   "metadata": {},
   "outputs": [],
   "source": [
    "ABC_density = np.array([6, 7, 6, 8, 9, 9, 9, 6, 5, 7, 5, 6, 7, 6, 6, 5, 7, 7, 10, 9, 12, 12, 13, 11, 9, 9, 9, 10, 10, 9, 9, 10, 10, 10, 9, 10, 10, 10, 11, 11, 9, 9, 12, 14, 11, 11, 12, 13, 13, 15, 16, 16, 18, 16, 17, 16, 18, 19, 18, 19, 19, 16, 12, 15, 14, 13, 11, 12, 11, 10, 7, 6, 5, 4, 3, 3, 3, 2, 2, 3, 3, 3, 4, 5, 5, 6, 6, 5, 6, 9, 10, 9, 10, 11, 12, 10, 10, 11, 10, 8, 8, 8, 6, 8, 8, 9, 8, 7, 6, 7, 8, 8, 7, 7, 8, 8, 6, 6, 7, 7, 6, 8, 6, 8, 7, 9, 9, 8, 8, 8, 9, 7, 7, 8, 9, 10, 9, 8, 7, 10, 9, 8, 8, 8, 6, 7, 9, 12, 12, 11, 14, 16, 16, 14, 13, 16, 17, 14, 12, 11, 10, 7, 7, 8, 9, 9, 10, 12, 11, 9, 10, 11, 9, 9, 9, 7, 8, 7, 6, 7, 7, 8, 10, 11, 10, 9, 7, 8, 5, 8, 7, 9, 10, 10, 9, 9, 10, 14, 13, 9, 8, 9, 8, 9, 10, 11, 12, 13, 17, 14, 13, 14, 14, 15, 12, 12, 12, 13, 14, 15, 16, 16, 16, 15, 17, 19, 17, 17, 17, 16, 18, 17, 14, 14, 13, 16, 13, 5, 6, 8, 9, 9, 9, 9, 8, 9, 7, 8, 7, 7, 6, 4, 5, 6, 5, 6, 7, 8, 9, 9, 10, 10, 9, 10, 10, 9, 9, 9, 9, 11, 11, 8, 8, 9, 9, 6, 6, 8, 8, 7, 8, 8, 9, 9, 9, 10, 6, 5, 7, 7, 8, 6, 7, 4, 4, 4, 7, 6, 7, 8, 6, 6, 4, 4, 3, 4, 3, 2, 2, 1, 0, 0, 0, 1, 1, 1, 1, 1, 1, 1, 1, 3, 2, 4, 3, 2, 2, 5, 6, 5, 5, 4, 4, 4, 5, 5, 4, 3, 3, 3, 1, 2, 3, 3, 4, 5, 5, 5, 3, 3, 5, 4, 5, 5, 6, 7, 6, 6, 6, 6, 4, 4, 7, 7, 7, 8, 7, 6, 6, 7, 7, 7, 7, 7, 6, 4, 5, 5, 5, 5, 7, 7, 6, 5, 5, 5, 5, 4, 4, 6, 7, 6, 6, 7, 6, 6, 6, 5, 5, 5, 5, 5, 5, 5, 5, 5, 5, 6, 6, 6, 6, 6, 5, 4, 3, 4, 5, 4, 4, 3, 3, 4, 4, 4, 4, 3, 1, 1, 1, 2, 1, 1, 3, 3, 4, 6, 6, 5, 5, 6, 3, 4, 5, 4, 4, 4, 3, 4, 3, 5, 4, 2, 3, 4, 5, 4, 4, 4, 3, 3, 4, 6, 7, 8, 6, 6, 7, 6, 6, 5, 5, 2, 2, 4, 4, 4, 4, 4, 4, 4, 4, 4, 5, 5, 6, 5, 4, 5, 3, 3, 3, 3, 4, 3, 4, 4, 4, 2, 2, 4, 2, 2, 3, 3, 3, 3, 3, 3, 4, 8, 6, 4, 6, 5, 5, 4, 5, 3, 2, 2, 1, 1, 0, 2, 3, 2, 3, 3, 5, 5, 7, 4, 5, 6, 5, 4, 5, 5, 5, 5, 5, 6, 7, 6, 9, 11, 12, 10, 9, 9, 6, 7, 8, 8, 6, 6, 6, 9, 8, 10, 11, 10, 7, 7, 5, 6, 5, 5, 6, 10, 11, 11, 13, 13, 13, 12, 13, 13, 11, 8, 9, 9, 9, 9, 14, 14, 14, 16, 15, 14, 15, 13, 12, 13, 12, 12, 9, 10, 10, 11, 12, 11, 12, 13, 13, 12, 12, 12, 11, 10, 9, 8, 8, 8, 8, 7, 10, 12, 14, 14, 14, 13, 13, 11, 10, 12, 11, 12, 11, 10, 14, 12, 13, 13, 16, 16, 19, 19, 21, 20, 20, 19, 18, 18, 18, 17, 16, 13, 13, 12, 11, 13, 10, 10, 9, 13, 17, 16, 16, 18, 19, 18, 21, 18, 14, 19, 20, 21, 23, 22, 20, 18, 21, 18, 15, 12, 13, 14, 16, 15, 15, 13, 12, 13, 13, 10, 11, 11, 12, 11, 14, 16, 14, 13, 12, 12, 12, 13, 12, 11, 12, 12, 13, 11, 11, 11, 7, 7, 9, 12, 11, 12, 12, 16, 17, 19, 20, 18, 16, 16, 12, 11, 10, 8, 6, 5, 7, 9, 9, 10, 7, 7, 9, 9, 9, 9, 11, 10, 9, 9, 10, 12, 13, 14, 13, 13, 14, 16, 12, 9, 9, 11, 9, 7, 10, 8, 8, 7, 8, 10, 12, 11, 11, 10, 10, 12, 16, 12, 11, 12, 13, 12, 12, 13, 17, 15, 12, 11, 12, 13, 13, 11, 14, 13, 15, 11, 7, 9, 9, 8, 9, 9, 9, 11, 12, 12, 12, 11, 13, 12, 13, 14, 10, 12, 11, 10, 8, 10, 13, 11, 9, 10, 8, 7, 8, 5, 5, 3, 3, 3, 3, 3, 4, 5, 5, 3, 3, 4, 4, 8, 11, 12, 14, 15, 12, 11, 10, 8, 9, 7, 5, 6, 8, 10, 10, 9, 7, 5, 8, 5, 5, 6, 6, 7, 6, 7, 7, 7, 9, 9, 8, 6, 7, 6, 6, 4, 3, 4, 4, 5, 8, 8, 7, 8, 7, 8, 7, 6, 8, 9, 10, 11, 10, 9, 9, 9, 11, 13, 13, 11, 9, 8, 7, 6, 6, 6, 9, 7, 8, 9, 6, 6, 6, 6, 5, 5, 6, 7, 6, 5, 5, 6, 7, 7, 6, 5, 5, 4, 4, 5, 5, 6, 5, 6, 7, 8, 5, 5, 6, 5, 5, 4, 5, 5, 4, 4, 5, 6, 6, 5, 8, 8, 5, 3, 3, 6, 7, 7, 5, 7, 8, 9, 9, 9, 8, 7, 7, 8, 7, 7, 6, 5, 6, 7, 7, 7, 9, 9, 10, 7, 9, 12, 13, 15, 15, 14, 13, 11, 13, 13, 12, 12, 12, 12, 12, 12, 9, 12, 13, 13, 16, 17, 17, 14, 12, 10, 11, 11, 12, 12])"
   ]
  },
  {
   "cell_type": "code",
   "execution_count": 641,
   "id": "623715cc",
   "metadata": {},
   "outputs": [],
   "source": [
    "D_density = np.array([36, 37, 36, 35, 34, 35, 35, 35, 35, 35, 33, 33, 33, 34, 34, 35, 35, 35, 35, 36, 37, 37, 37, 37, 37, 37, 37, 37, 37, 37, 37, 37, 38, 37, 36, 34, 34, 33, 34, 34, 36, 37, 36, 36, 37, 37, 36, 37, 37, 37, 37, 36, 36, 36, 35, 35, 36, 36, 34, 34, 34, 34, 34, 34, 34, 34, 35, 35, 35, 34, 35, 35, 34, 34, 33, 32, 32, 32, 29, 29, 30, 29, 28, 28, 28, 29, 28, 29, 30, 30, 30, 30, 30, 32, 31, 32, 32, 32, 31, 31, 33, 34, 34, 34, 34, 35, 34, 34, 32, 33, 31, 30, 30, 29, 29, 29, 29, 27, 27, 27, 27, 27, 27, 27, 26, 25, 25, 25, 25, 25, 25, 24, 25, 25, 26, 26, 27, 28, 29, 29, 30, 30, 31, 31, 31, 31, 31, 31, 31, 31, 32, 33, 33, 32, 34, 34, 34, 33, 33, 33, 33, 33, 33, 33, 33, 33, 33, 33, 34, 34, 34, 34, 33, 33, 33, 33, 33, 34, 34, 34, 34, 34, 37, 36, 37, 37, 37, 37, 39, 41, 42, 42, 42, 42, 43, 42, 41, 41, 41, 41, 41, 40, 41, 40, 40, 39, 38, 39, 36, 35, 37, 36, 36, 35, 34, 34, 34, 33, 32, 29, 28, 27, 27, 27, 26, 26, 25, 26, 26, 26, 26, 26, 25, 25, 23, 22, 23, 22, 22, 22, 22, 23, 23, 24, 26, 26, 26, 26, 26, 27, 27, 27, 28, 28, 28, 29, 29, 30, 31, 31, 28, 29, 29, 28, 28, 26, 25, 25, 25, 24, 24, 26, 25, 25, 25, 25, 26, 25, 27, 26, 26, 27, 26, 26, 26, 27, 25, 25, 25, 25, 25, 26, 26, 26, 26, 25, 26, 27, 27, 27, 27, 26, 26, 26, 28, 28, 30, 30, 30, 30, 29, 29, 29, 28, 28, 29, 29, 29, 27, 27, 27, 27, 27, 27, 27, 27, 28, 28, 27, 26, 26, 24, 24, 24, 24, 25, 25, 25, 25, 26, 27, 27, 27, 26, 25, 25, 25, 25, 25, 25, 25, 25, 25, 25, 24, 24, 24, 24, 24, 23, 23, 23, 23, 23, 23, 23, 23, 24, 23, 23, 22, 22, 22, 22, 22, 22, 23, 23, 24, 24, 24, 24, 25, 26, 27, 28, 28, 28, 28, 28, 28, 28, 28, 28, 28, 29, 29, 29, 29, 30, 30, 31, 31, 31, 30, 29, 29, 29, 29, 29, 29, 29, 29, 27, 27, 27, 27, 27, 26, 25, 24, 24, 24, 25, 25, 25, 24, 23, 23, 23, 23, 23, 23, 23, 23, 23, 23, 23, 23, 24, 25, 26, 25, 25, 25, 25, 26, 26, 26, 26, 27, 28, 28, 28, 27, 27, 27, 27, 27, 27, 27, 26, 27, 28, 28, 28, 28, 28, 28, 28, 28, 28, 28, 28, 28, 28, 28, 27, 27, 26, 26, 26, 26, 26, 26, 26, 26, 26, 26, 27, 27, 28, 30, 29, 29, 29, 29, 29, 29, 29, 29, 29, 30, 30, 31, 32, 30, 33, 32, 32, 32, 33, 34, 33, 34, 34, 34, 34, 33, 32, 33, 32, 33, 31, 30, 31, 28, 29, 29, 27, 27, 27, 26, 26, 24, 24, 24, 24, 23, 24, 24, 25, 25, 25, 26, 26, 26, 27, 27, 28, 28, 29, 29, 30, 30, 30, 32, 33, 33, 33, 33, 33, 33, 33, 34, 34, 35, 36, 37, 37, 38, 38, 38, 38, 37, 37, 37, 37, 36, 36, 36, 36, 36, 36, 37, 36, 36, 36, 36, 36, 35, 34, 33, 34, 33, 34, 33, 34, 34, 33, 32, 30, 30, 29, 28, 28, 28, 27, 27, 27, 26, 25, 25, 26, 25, 25, 25, 25, 24, 24, 24, 23, 23, 22, 23, 23, 23, 21, 20, 20, 18, 18, 17, 17, 17, 17, 17, 17, 17, 17, 17, 17, 17, 17, 17, 17, 18, 19, 18, 18, 18, 18, 16, 16, 16, 16, 16, 17, 15, 15, 15, 15, 15, 15, 15, 15, 14, 14, 13, 14, 15, 16, 15, 15, 15, 15, 14, 14, 14, 14, 13, 13, 13, 13, 13, 14, 14, 14, 14, 15, 15, 14, 14, 14, 15, 15, 15, 15, 15, 15, 15, 15, 15, 16, 16, 16, 16, 16, 16, 17, 18, 19, 20, 20, 20, 20, 20, 19, 18, 18, 18, 19, 19, 18, 18, 19, 19, 18, 19, 19, 20, 20, 21, 20, 18, 18, 18, 17, 17, 17, 16, 17, 15, 15, 16, 18, 18, 17, 17, 17, 17, 17, 17, 17, 17, 18, 18, 18, 19, 19, 19, 19, 19, 19, 19, 19, 19, 20, 21, 21, 21, 23, 24, 23, 24, 25, 27, 28, 28, 29, 31, 32, 31, 31, 32, 32, 33, 34, 34, 33, 33, 33, 33, 33, 33, 33, 32, 32, 32, 32, 31, 31, 31, 32, 32, 32, 32, 32, 33, 33, 33, 33, 33, 33, 33, 34, 34, 34, 33, 33, 33, 33, 33, 34, 34, 34, 35, 36, 37, 37, 37, 39, 39, 39, 39, 39, 39, 39, 39, 38, 38, 38, 39, 38, 38, 38, 39, 38, 39, 39, 39, 39, 38, 39, 39, 38, 38, 37, 37, 37, 37, 37, 37, 35, 32, 29, 28, 27, 27, 27, 28, 28, 26, 26, 26, 27, 27, 27, 26, 25, 25, 24, 23, 24, 26, 26, 26, 25, 25, 25, 25, 26, 27, 28, 28, 28, 28, 28, 27, 27, 28, 27, 27, 27, 25, 25, 25, 25, 25, 24, 24, 24, 24, 22, 20, 19, 19, 19, 19, 19, 19, 18, 17, 17, 17, 16, 16, 16, 16, 16, 17, 17, 17, 18, 17, 17, 17, 17, 17, 16, 16, 17, 18, 18, 19, 18, 18, 18, 19, 20, 22, 23, 24, 24, 24, 25, 25, 25, 26, 26, 26, 26, 26, 27, 27, 27, 27, 30, 31, 32, 33, 34, 33, 34, 35, 35, 35, 36, 36, 36, 36, 36, 36, 36, 37, 37, 36, 36, 37, 36, 37, 37, 37, 37, 36, 35, 35, 35, 36, 35])"
   ]
  },
  {
   "cell_type": "code",
   "execution_count": 642,
   "id": "bc916316",
   "metadata": {},
   "outputs": [],
   "source": [
    "DE_density = np.array([6, 6, 8, 9, 9, 11, 11, 13, 14, 14, 15, 16, 16, 16, 14, 11, 11, 11, 9, 11, 10, 11, 11, 9, 9, 9, 10, 12, 13, 14, 15, 14, 16, 15, 14, 13, 14, 13, 12, 10, 10, 11, 10, 10, 11, 12, 14, 11, 12, 15, 15, 15, 17, 15, 15, 13, 13, 12, 10, 10, 11, 12, 12, 11, 10, 11, 12, 12, 13, 12, 13, 12, 12, 13, 10, 8, 8, 8, 7, 7, 7, 9, 8, 10, 10, 10, 10, 12, 11, 10, 9, 8, 7, 6, 6, 7, 6, 9, 9, 10, 10, 11, 11, 12, 10, 10, 7, 9, 8, 10, 8, 9, 9, 8, 9, 9, 9, 8, 9, 10, 9, 10, 11, 10, 11, 13, 13, 10, 11, 9, 10, 11, 9, 10, 9, 10, 10, 10, 10, 11, 9, 10, 11, 12, 12, 11, 11, 11, 10, 10, 10, 11, 11, 11, 10, 11, 12, 12, 15, 17, 17, 17, 16, 16, 15, 16, 17, 20, 20, 21, 21, 20, 20, 19, 18, 18, 18, 18, 16, 17, 16, 16, 20, 20, 20, 19, 19, 17, 15, 20, 21, 23, 24, 23, 19, 19, 18, 14, 14, 11, 10, 8, 6, 9, 9, 9, 9, 12, 12, 11, 13, 14, 14, 15, 15, 15, 16, 17, 15, 13, 13, 15, 13, 14, 12, 11, 10, 9, 9, 7, 7, 6, 5, 7, 5, 4, 4, 4, 3, 3, 3, 3, 3, 4, 5, 7, 8, 10, 9, 8, 7, 6, 5, 3, 4, 7, 8, 10, 11, 10, 7, 7, 4, 3, 2, 1, 3, 4, 4, 4, 4, 8, 9, 9, 10, 10, 10, 7, 8, 8, 9, 9, 9, 8, 8, 7, 6, 5, 4, 3, 3, 5, 7, 7, 7, 7, 7, 7, 7, 7, 7, 6, 7, 8, 9, 7, 10, 10, 10, 11, 11, 11, 9, 9, 7, 7, 7, 5, 4, 4, 3, 3, 7, 6, 8, 5, 5, 6, 6, 7, 7, 8, 8, 8, 10, 9, 10, 10, 7, 5, 4, 5, 7, 8, 7, 6, 7, 7, 4, 3, 5, 6, 7, 5, 5, 5, 4, 4, 4, 5, 5, 5, 7, 6, 5, 4, 4, 4, 4, 3, 6, 6, 6, 6, 6, 4, 5, 5, 6, 7, 8, 8, 9, 9, 9, 9, 10, 10, 9, 7, 8, 11, 11, 11, 10, 10, 10, 10, 9, 11, 10, 12, 12, 11, 9, 8, 9, 11, 12, 12, 10, 9, 9, 11, 12, 10, 12, 10, 10, 11, 11, 9, 7, 7, 6, 5, 5, 6, 5, 6, 5, 5, 5, 5, 7, 6, 6, 7, 6, 5, 3, 2, 3, 4, 5, 5, 5, 6, 6, 6, 7, 8, 8, 8, 9, 7, 5, 5, 4, 4, 5, 4, 6, 7, 7, 8, 8, 9, 7, 6, 8, 6, 6, 7, 7, 6, 7, 8, 8, 6, 5, 5, 5, 4, 3, 1, 1, 2, 4, 6, 5, 7, 10, 9, 8, 7, 6, 8, 9, 9, 9, 8, 7, 6, 5, 6, 6, 6, 6, 8, 9, 12, 14, 13, 13, 12, 11, 10, 11, 10, 11, 10, 8, 4, 2, 1, 1, 4, 4, 5, 6, 8, 7, 6, 6, 8, 7, 7, 6, 7, 5, 5, 5, 4, 9, 12, 12, 11, 10, 8, 8, 9, 10, 10, 11, 10, 9, 10, 11, 11, 11, 11, 10, 10, 11, 11, 10, 10, 12, 13, 12, 12, 12, 13, 14, 15, 17, 17, 16, 16, 14, 14, 15, 16, 14, 14, 13, 12, 9, 9, 9, 10, 11, 11, 11, 13, 13, 13, 12, 10, 9, 10, 14, 13, 14, 12, 13, 11, 12, 11, 11, 9, 7, 7, 6, 7, 7, 7, 5, 6, 5, 4, 5, 6, 6, 7, 7, 6, 7, 5, 4, 4, 4, 4, 4, 3, 3, 3, 3, 5, 4, 3, 3, 3, 3, 4, 5, 5, 3, 3, 3, 2, 2, 2, 3, 3, 3, 3, 3, 3, 3, 5, 5, 6, 7, 7, 7, 6, 3, 4, 5, 5, 4, 4, 4, 4, 4, 4, 4, 4, 4, 4, 5, 6, 6, 6, 6, 6, 6, 6, 4, 5, 5, 5, 5, 6, 6, 6, 6, 7, 7, 7, 8, 8, 11, 12, 11, 12, 10, 8, 8, 9, 9, 9, 9, 9, 9, 8, 9, 10, 9, 8, 8, 6, 8, 11, 13, 13, 9, 9, 7, 9, 10, 10, 9, 8, 6, 6, 6, 5, 5, 5, 6, 4, 3, 3, 2, 1, 1, 1, 0, 0, 0, 0, 0, 2, 2, 3, 3, 3, 4, 5, 4, 4, 4, 4, 4, 4, 6, 6, 7, 7, 6, 5, 8, 7, 8, 8, 10, 9, 9, 10, 8, 8, 9, 8, 10, 9, 7, 6, 7, 9, 8, 7, 9, 10, 9, 9, 9, 10, 10, 10, 9, 11, 13, 12, 12, 13, 14, 14, 13, 12, 12, 11, 12, 13, 13, 14, 14, 13, 14, 16, 14, 15, 15, 14, 15, 14, 14, 12, 12, 10, 12, 13, 15, 18, 18, 22, 22, 22, 15, 14, 13, 10, 9, 7, 7, 7, 8, 7, 7, 7, 7, 9, 11, 12, 12, 10, 11, 14, 14, 14, 11, 12, 11, 9, 8, 7, 6, 7, 7, 9, 10, 10, 10, 12, 10, 10, 10, 11, 11, 11, 8, 7, 6, 6, 7, 7, 6, 8, 9, 11, 9, 12, 11, 10, 10, 11, 11, 13, 14, 16, 14, 14, 10, 6, 6, 3, 3, 3, 3, 5, 5, 5, 5, 6, 5, 5, 3, 4, 6, 5, 5, 5, 5, 4, 5, 4, 4, 2, 2, 2, 2, 2, 3, 4, 5, 4, 4, 4, 4, 5, 8, 8, 9, 9, 10, 12, 12, 11, 11, 10, 10, 10, 10, 9, 8, 7, 7, 8, 8, 8, 8, 8, 9, 9, 10, 10, 10, 11, 11, 12, 12, 12, 15, 13, 13, 14, 13, 16, 17, 14, 15, 16, 15, 11, 10, 7, 8, 8, 9, 10, 10, 12, 8, 8, 8, 10, 9, 10])"
   ]
  },
  {
   "cell_type": "code",
   "execution_count": 643,
   "id": "fb770c01",
   "metadata": {},
   "outputs": [],
   "source": [
    "DEF_density = np.array([2, 2, 1, 1, 1, 1, 0, 0, 0, 0, 1, 1, 3, 4, 3, 5, 5, 4, 3, 4, 4, 3, 3, 4, 3, 2, 2, 2, 1, 2, 2, 2, 4, 5, 4, 4, 2, 2, 3, 4, 5, 5, 4, 3, 2, 3, 5, 6, 6, 6, 4, 4, 4, 4, 4, 5, 5, 6, 6, 6, 6, 6, 6, 7, 5, 3, 4, 5, 5, 4, 6, 6, 5, 4, 3, 3, 2, 2, 2, 2, 0, 1, 1, 2, 3, 3, 6, 4, 5, 5, 4, 3, 2, 1, 0, 0, 1, 1, 0, 1, 2, 2, 3, 6, 6, 4, 3, 2, 2, 2, 1, 1, 1, 2, 4, 4, 3, 3, 3, 3, 3, 3, 3, 2, 2, 1, 2, 2, 2, 2, 2, 2, 2, 1, 3, 2, 3, 2, 1, 1, 1, 1, 2, 2, 2, 2, 2, 2, 2, 1, 1, 2, 2, 2, 2, 4, 6, 7, 6, 6, 4, 2, 2, 2, 2, 3, 3, 5, 6, 7, 6, 6, 7, 8, 6, 7, 4, 3, 4, 4, 3, 5, 5, 6, 6, 7, 5, 4, 5, 7, 7, 7, 7, 5, 6, 5, 4, 6, 6, 6, 4, 3, 2, 2, 1, 1, 3, 4, 5, 5, 6, 7, 7, 6, 8, 8, 9, 8, 6, 4, 4, 4, 6, 5, 4, 3, 2, 3, 3, 3, 3, 3, 3, 3, 3, 3, 3, 1, 1, 0, 0, 0, 0, 1, 0, 0, 2, 3, 2, 2, 3, 1, 0, 0, 0, 1, 2, 2, 2, 3, 3, 5, 3, 2, 1, 0, 2, 2, 2, 3, 5, 5, 5, 5, 4, 5, 5, 5, 5, 5, 6, 5, 4, 3, 2, 1, 1, 1, 0, 0, 0, 0, 0, 0, 0, 0, 0, 0, 1, 1, 1, 1, 1, 0, 2, 3, 4, 4, 5, 5, 4, 3, 4, 5, 5, 5, 5, 3, 0, 0, 1, 1, 1, 3, 3, 4, 1, 1, 1, 1, 2, 1, 1, 1, 2, 2, 2, 2, 1, 0, 0, 0, 0, 1, 1, 1, 2, 2, 2, 2, 3, 3, 2, 3, 4, 4, 3, 2, 1, 1, 0, 2, 1, 1, 1, 0, 0, 1, 2, 2, 2, 2, 1, 1, 1, 0, 0, 0, 0, 1, 2, 1, 1, 0, 0, 0, 0, 0, 0, 0, 1, 2, 2, 1, 1, 2, 2, 2, 2, 2, 1, 1, 1, 1, 1, 1, 0, 0, 0, 0, 2, 2, 2, 2, 2, 2, 3, 3, 2, 3, 2, 2, 1, 1, 0, 0, 1, 1, 1, 1, 2, 1, 1, 1, 2, 4, 5, 4, 4, 4, 3, 2, 1, 0, 1, 1, 2, 2, 2, 3, 2, 1, 1, 0, 0, 0, 1, 2, 2, 2, 3, 3, 2, 2, 3, 2, 2, 2, 2, 1, 1, 1, 1, 3, 3, 4, 3, 2, 2, 1, 1, 1, 1, 1, 1, 2, 2, 3, 6, 6, 6, 5, 5, 3, 2, 3, 1, 3, 2, 3, 3, 2, 2, 2, 2, 0, 0, 2, 2, 2, 1, 1, 2, 2, 3, 2, 3, 4, 4, 4, 3, 4, 4, 3, 2, 1, 1, 1, 2, 1, 1, 1, 1, 2, 3, 1, 0, 0, 2, 2, 2, 2, 2, 2, 2, 5, 7, 7, 8, 9, 11, 12, 12, 12, 12, 11, 11, 6, 3, 4, 3, 3, 2, 2, 2, 1, 1, 1, 2, 4, 5, 8, 7, 8, 6, 6, 8, 9, 8, 8, 8, 7, 7, 7, 6, 6, 6, 7, 5, 5, 5, 6, 5, 5, 5, 6, 4, 3, 3, 2, 3, 4, 5, 6, 6, 7, 8, 6, 5, 4, 3, 3, 3, 4, 4, 3, 3, 3, 3, 3, 3, 3, 3, 3, 4, 2, 3, 2, 0, 0, 1, 2, 2, 3, 2, 0, 0, 1, 1, 1, 1, 1, 1, 0, 0, 0, 0, 1, 1, 1, 1, 1, 1, 1, 1, 1, 0, 0, 0, 0, 0, 0, 0, 0, 0, 0, 1, 0, 0, 0, 0, 0, 1, 1, 1, 0, 0, 0, 0, 1, 1, 1, 1, 0, 0, 1, 2, 2, 2, 3, 2, 2, 2, 1, 1, 1, 1, 1, 1, 0, 2, 3, 3, 2, 2, 0, 0, 0, 0, 0, 0, 0, 1, 1, 1, 1, 1, 1, 1, 2, 2, 3, 3, 2, 2, 1, 1, 1, 1, 2, 2, 1, 3, 3, 3, 3, 2, 2, 0, 0, 1, 1, 1, 1, 1, 1, 0, 0, 0, 0, 0, 0, 0, 0, 1, 1, 1, 1, 2, 2, 1, 0, 0, 0, 0, 2, 2, 2, 2, 2, 3, 3, 3, 3, 2, 2, 2, 1, 1, 0, 0, 1, 1, 1, 4, 7, 6, 7, 5, 1, 3, 3, 4, 5, 6, 6, 7, 10, 10, 11, 11, 12, 13, 13, 13, 12, 12, 12, 13, 12, 13, 14, 15, 15, 13, 12, 13, 13, 14, 15, 15, 15, 16, 16, 14, 13, 12, 13, 13, 11, 11, 10, 9, 11, 13, 12, 14, 15, 16, 16, 15, 13, 10, 11, 11, 10, 8, 7, 8, 8, 10, 10, 11, 12, 15, 14, 13, 14, 14, 14, 12, 9, 7, 7, 5, 4, 4, 2, 3, 4, 5, 5, 5, 6, 8, 4, 5, 6, 7, 6, 7, 6, 5, 5, 6, 5, 6, 6, 7, 8, 7, 9, 11, 12, 13, 10, 10, 12, 12, 11, 11, 12, 14, 11, 10, 10, 10, 8, 4, 5, 7, 4, 2, 2, 2, 2, 1, 1, 2, 2, 2, 1, 2, 3, 3, 3, 3, 2, 2, 3, 3, 2, 2, 4, 4, 3, 4, 3, 4, 3, 3, 3, 3, 2, 1, 1, 1, 2, 3, 2, 3, 3, 3, 3, 3, 2, 1, 1, 1, 1, 1, 1, 1, 1, 1, 2, 2, 3, 3, 2, 4, 4, 2, 2, 2, 2, 2, 1, 3, 3, 3, 5, 5, 5, 6, 5, 7, 6, 5, 5, 6, 5, 6, 6, 5, 6, 5, 3, 3, 4])"
   ]
  },
  {
   "cell_type": "markdown",
   "id": "d3557e40",
   "metadata": {},
   "source": [
    "new trail"
   ]
  },
  {
   "cell_type": "code",
   "execution_count": 631,
   "id": "c197beb9",
   "metadata": {},
   "outputs": [],
   "source": [
    "B_density = np.array([32, 32, 32, 32, 32, 32, 32, 32, 32, 32, 32, 33, 33, 33, 33, 33, 32, 33, 32, 31, 31, 30, 30, 30, 30, 31, 32, 30, 30, 30, 30, 30, 30, 30, 30, 30, 30, 30, 30, 30, 29, 29, 29, 31, 31, 30, 30, 30, 30, 30, 30, 30, 31, 31, 31, 31, 32, 31, 31, 30, 30, 30, 30, 30, 30, 31, 31, 32, 32, 31, 31, 31, 30, 30, 30, 30, 29, 28, 30, 30, 31, 30, 29, 29, 28, 28, 27, 28, 29, 29, 29, 30, 29, 28, 28, 27, 28, 28, 28, 28, 28, 28, 28, 28, 28, 28, 28, 28, 28, 28, 28, 28, 28, 28, 27, 27, 28, 27, 28, 28, 29, 29, 30, 30, 30, 30, 31, 32, 32, 32, 31, 31, 32, 33, 32, 32, 32, 32, 32, 32, 32, 32, 33, 33, 33, 33, 32, 31, 30, 30, 30, 30, 30, 30, 31, 32, 32, 32, 32, 33, 33, 33, 33, 34, 34, 34, 33, 33, 33, 34, 34, 34, 34, 34, 34, 34, 34, 34, 33, 33, 33, 34, 33, 33, 33, 34, 32, 32, 31, 31, 31, 31, 31, 30, 31, 30, 30, 31, 31, 30, 30, 30, 30, 30, 30, 30, 30, 29, 29, 30, 31, 31, 31, 30, 30, 30, 28, 28, 28, 28, 27, 27, 27, 27, 27, 28, 28, 28, 29, 29, 29, 29, 29, 29, 29, 29, 29, 30, 31, 31, 31, 32, 31, 32, 32, 32, 32, 32, 32, 32, 32, 34, 35, 36, 35, 35, 35, 34, 34, 32, 33, 33, 34, 34, 34, 34, 34, 35, 34, 34, 34, 34, 34, 34, 34, 34, 34, 34, 34, 35, 35, 35, 35, 35, 35, 34, 34, 35, 35, 36, 36, 37, 37, 37, 37, 38, 38, 38, 39, 39, 40, 40, 40, 40, 39, 38, 38, 38, 38, 36, 36, 36, 36, 36, 36, 36, 36, 36, 36, 34, 34, 34, 34, 34, 34, 34, 34, 33, 34, 34, 34, 33, 34, 33, 33, 33, 34, 33, 33, 34, 34, 34, 34, 34, 34, 35, 37, 36, 36, 37, 37, 37, 38, 39, 38, 38, 38, 38, 38, 37, 37, 37, 37, 37, 37, 37, 37, 36, 35, 34, 35, 35, 35, 35, 35, 35, 35, 35, 35, 35, 34, 34, 36, 35, 33, 33, 33, 33, 33, 33, 34, 34, 35, 35, 35, 35, 34, 34, 33, 33, 35, 35, 35, 35, 35, 36, 36, 36, 37, 37, 37, 38, 39, 38, 38, 39, 40, 41, 41, 42, 42, 42, 41, 41, 41, 41, 41, 41, 42, 43, 43, 43, 41, 41, 41, 41, 41, 41, 41, 41, 40, 40, 39, 40, 41, 41, 41, 41, 41, 41, 40, 39, 39, 39, 39, 39, 38, 37, 37, 37, 38, 38, 37, 38, 38, 38, 38, 38, 37, 36, 36, 36, 36, 36, 36, 35, 35, 35, 35, 35, 35, 35, 33, 32, 32, 32, 33, 33, 33, 33, 32, 32, 31, 31, 31, 31, 31, 31, 32, 32, 32, 32, 31, 32, 32, 32, 30, 30, 30, 30, 30, 30, 30, 28, 27, 27, 27, 27, 27, 28, 28, 28, 28, 28, 28, 28, 28, 28, 27, 27, 27, 27, 27, 27, 27, 28, 28, 28, 28, 28, 28, 28, 29, 28, 27, 27, 27, 27, 29, 28, 27, 27, 28, 28, 28, 28, 27, 27, 27, 27, 27, 27, 27, 27, 27, 27, 27, 28, 28, 28, 27, 27, 26, 25, 24, 24, 24, 24, 24, 25, 25, 25, 25, 25, 26, 26, 26, 27, 28, 28, 28, 28, 28, 27, 28, 28, 28, 28, 28, 28, 29, 29, 28, 28, 28, 28, 28, 28, 28, 28, 29, 29, 28, 28, 27, 27, 28, 28, 28, 27, 27, 27, 28, 28, 28, 28, 28, 28, 29, 29, 29, 28, 27, 28, 29, 29, 29, 29, 29, 28, 26, 25, 25, 25, 25, 25, 25, 24, 25, 24, 24, 24, 24, 24, 24, 24, 24, 24, 24, 24, 24, 24, 25, 26, 26, 26, 26, 26, 25, 25, 24, 24, 25, 26, 26, 26, 26, 26, 27, 28, 29, 29, 30, 30, 29, 29, 28, 28, 28, 29, 30, 30, 30, 31, 31, 31, 31, 32, 33, 32, 32, 32, 32, 32, 32, 32, 31, 30, 32, 34, 35, 36, 37, 36, 36, 36, 36, 39, 39, 39, 39, 39, 39, 38, 39, 39, 39, 39, 38, 37, 38, 38, 38, 39, 39, 39, 39, 40, 41, 41, 41, 40, 40, 40, 41, 41, 41, 42, 42, 40, 40, 40, 40, 40, 41, 41, 40, 40, 39, 39, 38, 38, 38, 38, 37, 36, 36, 36, 36, 36, 36, 36, 36, 36, 36, 35, 34, 34, 33, 33, 33, 33, 32, 32, 32, 32, 32, 30, 30, 30, 30, 30, 31, 31, 31, 31, 31, 31, 31, 31, 30, 29, 31, 31, 31, 31, 31, 31, 32, 32, 33, 33, 33, 33, 31, 31, 32, 32, 33, 33, 34, 33, 33, 33, 34, 34, 33, 33, 33, 33, 34, 34, 34, 34, 34, 34, 36, 36, 35, 35, 35, 35, 35, 35, 35, 33, 33, 32, 33, 33, 33, 33, 32, 32, 32, 32, 31, 31, 33, 33, 33, 32, 31, 31, 32, 31, 31, 31, 31, 31, 31, 31, 31, 31, 31, 30, 30, 30, 30, 31, 31, 31, 31, 29, 29, 28, 28, 29, 28, 28, 29, 27, 26, 27, 26, 26, 26, 26, 27, 27, 26, 27, 28, 28, 28, 28, 28, 28, 28, 28, 29, 28, 27, 27, 27, 26, 26, 26, 26, 26, 26, 27, 27, 25, 25, 24, 24, 24, 24, 24, 24, 24, 25, 25, 25, 25, 25, 25, 25, 25, 25, 25, 25, 25, 25, 25, 25, 26, 25, 27, 28, 27, 27, 28, 28, 28, 28, 28, 28, 27, 27, 27, 27, 27, 27, 27, 27, 27, 26, 26, 27, 27, 27, 26, 26, 26, 26, 26, 26, 26, 26, 26, 26, 26, 27, 27, 27, 28, 28, 28, 28, 29, 29, 29, 29, 29, 30, 30, 30, 31])"
   ]
  },
  {
   "cell_type": "code",
   "execution_count": 632,
   "id": "736398de",
   "metadata": {},
   "outputs": [],
   "source": [
    "AB_density = np.array([17, 17, 19, 19, 22, 21, 23, 23, 21, 19, 17, 19, 22, 23, 22, 22, 22, 23, 20, 20, 22, 25, 29, 31, 33, 29, 28, 33, 28, 28, 27, 26, 28, 28, 29, 26, 24, 25, 27, 27, 27, 26, 25, 28, 29, 26, 21, 20, 22, 21, 21, 24, 21, 25, 22, 23, 26, 27, 28, 28, 27, 27, 24, 21, 22, 23, 21, 22, 20, 19, 16, 17, 20, 20, 20, 19, 18, 20, 22, 21, 21, 21, 20, 21, 20, 22, 22, 25, 23, 22, 22, 24, 26, 26, 27, 27, 23, 23, 21, 24, 23, 19, 20, 21, 21, 21, 20, 18, 16, 20, 19, 16, 19, 19, 21, 22, 24, 24, 21, 21, 20, 22, 22, 22, 22, 22, 22, 23, 24, 27, 29, 27, 30, 30, 31, 27, 23, 21, 21, 24, 23, 25, 31, 31, 31, 27, 25, 26, 23, 22, 21, 21, 23, 21, 21, 22, 20, 18, 22, 22, 20, 20, 25, 23, 23, 22, 19, 21, 27, 27, 30, 28, 31, 29, 27, 28, 27, 28, 28, 30, 27, 25, 25, 20, 18, 19, 20, 20, 18, 21, 25, 25, 27, 27, 28, 24, 25, 24, 21, 21, 19, 20, 19, 18, 18, 18, 24, 23, 21, 22, 23, 21, 21, 23, 23, 25, 25, 25, 23, 22, 23, 19, 19, 16, 19, 18, 19, 16, 19, 21, 21, 22, 21, 21, 20, 18, 18, 21, 19, 20, 19, 20, 21, 22, 20, 23, 24, 24, 23, 23, 21, 20, 22, 20, 23, 23, 25, 23, 24, 23, 22, 24, 24, 21, 21, 21, 24, 26, 27, 26, 24, 23, 25, 26, 25, 28, 28, 24, 22, 22, 22, 26, 26, 27, 30, 28, 25, 24, 22, 24, 22, 20, 19, 19, 21, 23, 27, 28, 27, 25, 25, 26, 25, 24, 25, 23, 25, 19, 20, 19, 20, 21, 22, 23, 25, 25, 25, 25, 28, 26, 24, 24, 26, 25, 26, 28, 24, 23, 25, 25, 25, 25, 23, 22, 23, 22, 20, 19, 21, 23, 25, 27, 27, 26, 27, 30, 31, 33, 32, 32, 33, 33, 31, 29, 29, 26, 25, 23, 21, 21, 19, 19, 18, 21, 22, 18, 19, 17, 18, 18, 17, 16, 17, 19, 19, 20, 18, 20, 18, 17, 19, 17, 16, 16, 17, 13, 17, 16, 17, 16, 17, 23, 25, 25, 24, 23, 23, 22, 22, 20, 24, 25, 23, 24, 24, 22, 26, 28, 28, 28, 27, 26, 28, 29, 29, 26, 28, 26, 25, 24, 29, 29, 29, 27, 26, 27, 24, 23, 25, 26, 25, 27, 30, 28, 28, 35, 32, 31, 35, 33, 33, 32, 29, 27, 32, 33, 30, 30, 28, 29, 29, 29, 30, 33, 33, 34, 38, 36, 34, 32, 31, 34, 31, 30, 33, 33, 28, 30, 27, 26, 28, 30, 29, 25, 24, 21, 20, 20, 22, 23, 23, 23, 25, 25, 24, 29, 29, 28, 31, 31, 32, 30, 25, 22, 20, 19, 21, 20, 22, 28, 29, 28, 28, 25, 25, 24, 24, 25, 29, 27, 27, 27, 26, 26, 24, 24, 23, 22, 24, 25, 24, 26, 25, 24, 27, 23, 21, 21, 18, 16, 17, 18, 18, 20, 21, 22, 21, 22, 23, 21, 18, 16, 15, 19, 22, 21, 21, 25, 25, 23, 24, 25, 23, 21, 18, 16, 14, 14, 15, 14, 15, 18, 16, 18, 20, 21, 20, 20, 19, 18, 19, 17, 19, 17, 13, 16, 15, 16, 21, 21, 24, 23, 19, 23, 25, 25, 25, 25, 25, 27, 27, 24, 24, 25, 22, 19, 20, 22, 23, 23, 20, 18, 17, 17, 17, 15, 16, 16, 17, 18, 20, 22, 20, 22, 20, 20, 20, 23, 22, 21, 22, 21, 23, 22, 20, 19, 21, 22, 24, 24, 25, 23, 21, 20, 19, 18, 20, 20, 19, 18, 19, 23, 20, 21, 24, 25, 22, 21, 18, 17, 18, 19, 23, 22, 22, 22, 23, 22, 23, 21, 21, 17, 19, 25, 23, 25, 23, 22, 22, 21, 18, 15, 17, 17, 16, 24, 25, 28, 27, 26, 24, 25, 26, 23, 25, 25, 25, 22, 21, 20, 18, 17, 22, 22, 24, 21, 23, 26, 24, 25, 25, 25, 28, 27, 28, 28, 27, 26, 27, 26, 25, 23, 22, 23, 24, 24, 26, 23, 21, 24, 24, 25, 27, 27, 27, 26, 25, 27, 26, 25, 24, 22, 23, 25, 25, 28, 28, 25, 22, 22, 25, 31, 32, 31, 32, 30, 31, 27, 30, 30, 29, 33, 36, 35, 35, 34, 33, 28, 27, 29, 29, 28, 26, 27, 28, 26, 26, 26, 24, 27, 28, 30, 30, 32, 28, 30, 28, 28, 25, 23, 17, 15, 15, 14, 15, 15, 16, 17, 17, 16, 17, 21, 21, 21, 23, 25, 21, 22, 27, 24, 24, 24, 23, 21, 20, 18, 18, 21, 20, 19, 21, 21, 24, 25, 25, 25, 24, 23, 23, 23, 23, 24, 24, 25, 24, 23, 24, 23, 20, 22, 19, 22, 26, 26, 25, 25, 25, 24, 23, 20, 21, 22, 21, 22, 22, 24, 24, 23, 26, 24, 25, 22, 21, 21, 22, 20, 19, 19, 19, 20, 18, 19, 20, 21, 21, 21, 20, 22, 22, 25, 24, 26, 27, 26, 24, 24, 24, 22, 22, 24, 23, 21, 24, 23, 20, 18, 15, 17, 19, 20, 20, 23, 22, 23, 22, 20, 19, 19, 17, 15, 16, 15, 15, 15, 15, 16, 16, 15, 13, 15, 16, 17, 17, 17, 16, 15, 15, 14, 15, 15, 14, 15, 18, 21, 18, 18, 17, 16, 17, 16, 14, 16, 17, 14, 13, 16, 17, 20, 21, 21, 19, 20, 18, 18, 21, 22, 21, 22, 20, 19, 17, 18, 19, 18, 21, 23, 24, 21, 20, 20, 23, 24, 24, 21, 21, 18, 17, 18, 16, 14, 15, 14, 15, 16, 18, 16, 19, 19, 19, 19, 23, 23, 19, 21, 21, 21, 19, 18, 17, 19, 22, 24, 24, 28, 26, 25, 23, 25, 27, 25])"
   ]
  },
  {
   "cell_type": "code",
   "execution_count": 633,
   "id": "074bc103",
   "metadata": {},
   "outputs": [],
   "source": [
    "ABC_density = np.array([5, 4, 4, 6, 5, 7, 6, 6, 6, 6, 4, 7, 8, 5, 7, 7, 9, 10, 12, 11, 9, 10, 11, 11, 10, 9, 8, 7, 7, 8, 9, 11, 11, 9, 8, 8, 7, 7, 7, 8, 7, 7, 10, 10, 11, 13, 15, 15, 13, 15, 13, 12, 13, 12, 11, 15, 16, 15, 14, 13, 15, 16, 14, 14, 15, 13, 12, 14, 13, 11, 13, 12, 12, 11, 11, 11, 10, 10, 11, 11, 13, 16, 15, 13, 14, 14, 15, 17, 16, 15, 14, 16, 17, 16, 17, 17, 16, 17, 17, 16, 17, 15, 14, 15, 15, 14, 13, 12, 11, 11, 11, 11, 10, 8, 6, 9, 9, 10, 9, 10, 8, 8, 8, 9, 14, 15, 15, 14, 14, 13, 12, 11, 12, 9, 12, 10, 11, 9, 10, 9, 7, 9, 11, 11, 12, 12, 14, 16, 16, 14, 13, 12, 11, 10, 10, 9, 9, 8, 7, 6, 5, 8, 11, 14, 16, 16, 17, 14, 16, 16, 14, 17, 20, 23, 22, 18, 16, 18, 19, 15, 20, 21, 22, 23, 22, 21, 17, 21, 20, 19, 21, 20, 19, 19, 15, 16, 15, 11, 12, 12, 11, 11, 10, 13, 13, 12, 13, 13, 10, 11, 12, 13, 12, 13, 13, 11, 9, 9, 9, 8, 8, 8, 8, 7, 7, 8, 9, 10, 11, 13, 13, 12, 13, 14, 13, 14, 14, 12, 12, 11, 9, 11, 9, 8, 8, 8, 9, 8, 6, 8, 9, 11, 12, 11, 12, 8, 6, 7, 8, 9, 8, 7, 10, 8, 7, 7, 8, 5, 2, 2, 3, 6, 8, 10, 10, 11, 12, 13, 15, 13, 12, 13, 13, 11, 11, 12, 12, 12, 11, 10, 9, 7, 6, 4, 6, 6, 8, 11, 12, 13, 13, 13, 13, 14, 14, 13, 12, 13, 11, 11, 11, 14, 17, 21, 19, 16, 19, 19, 18, 21, 21, 20, 17, 13, 14, 12, 9, 10, 11, 12, 13, 13, 11, 10, 10, 8, 7, 9, 9, 13, 14, 17, 14, 17, 18, 24, 24, 28, 29, 27, 25, 25, 25, 20, 17, 13, 13, 10, 9, 9, 11, 11, 8, 6, 6, 6, 5, 5, 5, 5, 6, 5, 6, 8, 9, 9, 10, 9, 11, 15, 14, 13, 13, 13, 17, 16, 12, 13, 13, 12, 9, 10, 12, 12, 10, 9, 8, 8, 7, 6, 6, 6, 8, 10, 12, 13, 15, 12, 11, 11, 13, 14, 15, 15, 15, 16, 17, 16, 17, 16, 20, 16, 17, 19, 21, 22, 23, 22, 26, 22, 22, 19, 17, 15, 19, 20, 15, 13, 14, 12, 13, 12, 12, 9, 8, 13, 13, 15, 17, 21, 20, 21, 21, 19, 20, 23, 26, 23, 23, 20, 21, 22, 25, 27, 29, 29, 27, 24, 18, 20, 22, 24, 27, 33, 32, 32, 31, 31, 25, 22, 25, 27, 28, 29, 28, 28, 27, 26, 26, 23, 23, 19, 19, 19, 20, 22, 20, 21, 17, 16, 15, 15, 15, 14, 17, 17, 19, 20, 21, 18, 19, 19, 21, 23, 25, 26, 27, 30, 30, 26, 27, 24, 23, 20, 20, 21, 20, 18, 19, 19, 19, 16, 13, 16, 19, 21, 17, 21, 18, 19, 14, 15, 14, 15, 16, 15, 16, 19, 18, 20, 20, 19, 19, 19, 19, 19, 15, 18, 17, 16, 17, 17, 12, 10, 11, 12, 11, 10, 10, 10, 11, 10, 15, 11, 10, 12, 13, 12, 11, 10, 15, 15, 16, 19, 20, 23, 20, 17, 18, 19, 17, 15, 15, 15, 16, 16, 14, 15, 17, 15, 15, 15, 17, 17, 13, 13, 11, 15, 19, 16, 14, 14, 14, 14, 13, 13, 12, 10, 10, 10, 11, 11, 13, 11, 11, 13, 16, 17, 19, 18, 19, 21, 21, 21, 21, 22, 19, 17, 19, 15, 13, 13, 12, 12, 13, 12, 13, 12, 12, 15, 13, 15, 13, 13, 13, 15, 14, 8, 8, 10, 8, 7, 7, 8, 9, 10, 8, 9, 8, 9, 8, 7, 7, 9, 9, 8, 8, 8, 7, 6, 7, 6, 7, 11, 10, 12, 12, 13, 13, 11, 9, 8, 9, 7, 7, 10, 12, 12, 13, 14, 17, 17, 16, 16, 15, 19, 17, 18, 20, 17, 20, 22, 23, 24, 20, 18, 17, 15, 15, 17, 16, 16, 13, 12, 13, 17, 19, 19, 19, 21, 20, 20, 21, 18, 16, 15, 17, 16, 18, 18, 20, 20, 21, 18, 20, 20, 20, 19, 16, 19, 17, 15, 18, 18, 20, 17, 18, 17, 15, 16, 16, 15, 16, 15, 13, 14, 15, 13, 14, 12, 13, 16, 18, 17, 16, 15, 14, 13, 13, 11, 11, 12, 11, 12, 13, 12, 8, 9, 8, 9, 9, 11, 11, 10, 10, 10, 9, 10, 8, 8, 11, 10, 11, 13, 14, 14, 16, 15, 16, 14, 13, 10, 11, 12, 13, 12, 12, 13, 11, 11, 10, 11, 10, 5, 4, 4, 5, 5, 4, 7, 6, 8, 9, 9, 8, 7, 8, 7, 7, 6, 9, 9, 8, 4, 5, 7, 9, 9, 9, 10, 11, 11, 12, 11, 10, 10, 12, 13, 14, 14, 15, 16, 15, 15, 16, 16, 15, 16, 17, 17, 14, 15, 15, 15, 15, 16, 13, 11, 10, 10, 11, 8, 9, 14, 14, 15, 16, 16, 16, 16, 16, 18, 18, 18, 16, 16, 18, 18, 19, 18, 14, 12, 10, 12, 10, 9, 9, 12, 14, 16, 17, 19, 18, 19, 13, 14, 14, 9, 10, 9, 7, 7, 8, 10, 8, 7, 10, 12, 12, 10, 10, 8, 8, 8, 9, 10, 10, 7, 7, 8, 11, 11, 10, 6, 5, 7, 8, 10, 13, 12, 8, 9, 10, 12, 11, 10, 12, 15, 14, 16, 19, 21, 21, 20, 18, 17, 16, 15, 13, 13, 12, 11, 10, 10, 10, 8, 12, 16, 17, 21, 23, 21, 17, 14, 14, 16, 20, 21, 18, 20, 20, 18, 19, 22, 20, 23, 24, 23, 21, 20])"
   ]
  },
  {
   "cell_type": "code",
   "execution_count": 634,
   "id": "c5365471",
   "metadata": {},
   "outputs": [],
   "source": [
    "ABCD_density = np.array([1, 2, 2, 2, 2, 1, 1, 3, 4, 3, 3, 3, 4, 6, 6, 6, 6, 6, 9, 6, 8, 8, 7, 8, 7, 5, 5, 5, 4, 4, 4, 2, 4, 4, 5, 4, 5, 5, 6, 5, 5, 4, 5, 7, 9, 9, 8, 9, 11, 12, 10, 12, 12, 10, 9, 9, 10, 8, 10, 10, 11, 10, 12, 9, 10, 9, 10, 9, 9, 8, 7, 6, 5, 8, 6, 7, 7, 4, 6, 8, 9, 9, 11, 10, 13, 12, 12, 11, 13, 13, 12, 13, 10, 9, 10, 10, 11, 10, 9, 11, 10, 8, 10, 9, 9, 8, 9, 8, 7, 8, 9, 10, 5, 6, 5, 4, 6, 7, 8, 9, 9, 8, 8, 10, 8, 8, 8, 6, 9, 10, 7, 8, 8, 8, 7, 10, 11, 12, 11, 9, 10, 12, 13, 10, 9, 11, 14, 12, 12, 11, 11, 8, 7, 7, 10, 9, 10, 8, 7, 5, 6, 9, 12, 11, 13, 14, 11, 14, 15, 15, 17, 15, 12, 13, 12, 12, 16, 14, 14, 15, 17, 18, 17, 19, 23, 22, 22, 21, 21, 17, 15, 15, 11, 11, 9, 10, 8, 6, 4, 3, 4, 4, 8, 7, 6, 9, 9, 7, 8, 8, 8, 8, 7, 7, 8, 7, 7, 9, 9, 9, 9, 6, 5, 5, 5, 4, 5, 6, 5, 9, 13, 13, 11, 10, 11, 12, 10, 7, 7, 7, 7, 7, 9, 7, 6, 3, 5, 6, 6, 4, 4, 5, 4, 4, 6, 4, 2, 3, 4, 4, 4, 4, 4, 4, 4, 4, 1, 2, 1, 2, 4, 5, 8, 8, 9, 11, 10, 6, 8, 9, 8, 8, 8, 8, 9, 10, 13, 13, 13, 14, 14, 9, 7, 4, 5, 5, 4, 7, 10, 9, 9, 10, 9, 12, 12, 11, 11, 12, 11, 10, 10, 10, 9, 9, 11, 10, 11, 10, 11, 10, 10, 9, 12, 10, 9, 9, 11, 8, 7, 6, 5, 6, 6, 6, 5, 4, 5, 7, 7, 8, 8, 8, 10, 12, 11, 12, 16, 19, 21, 21, 23, 25, 22, 21, 20, 19, 17, 13, 10, 10, 8, 8, 6, 4, 3, 3, 3, 2, 4, 4, 4, 4, 4, 4, 5, 5, 8, 6, 4, 4, 4, 6, 6, 4, 4, 7, 5, 7, 6, 7, 7, 10, 8, 9, 10, 9, 10, 8, 8, 8, 6, 7, 6, 5, 7, 9, 9, 9, 11, 10, 9, 11, 11, 13, 13, 15, 15, 13, 13, 16, 18, 18, 17, 20, 18, 15, 15, 17, 18, 15, 16, 15, 14, 16, 16, 15, 16, 11, 10, 11, 12, 14, 8, 7, 10, 10, 10, 8, 8, 10, 12, 10, 10, 10, 12, 15, 15, 16, 19, 17, 19, 22, 23, 28, 27, 26, 26, 21, 23, 23, 21, 21, 23, 20, 19, 17, 19, 20, 19, 18, 18, 17, 16, 13, 15, 15, 17, 18, 18, 18, 21, 19, 19, 19, 16, 16, 17, 16, 16, 21, 28, 26, 23, 20, 23, 25, 26, 28, 28, 27, 27, 27, 28, 23, 24, 25, 25, 21, 23, 21, 20, 26, 23, 22, 19, 21, 24, 24, 20, 20, 17, 17, 19, 18, 15, 17, 17, 13, 12, 13, 11, 12, 12, 13, 17, 15, 17, 19, 23, 23, 23, 22, 20, 20, 13, 14, 16, 17, 20, 19, 13, 13, 12, 11, 12, 11, 10, 11, 13, 15, 17, 16, 16, 15, 17, 15, 13, 12, 10, 13, 14, 13, 18, 18, 19, 16, 15, 15, 16, 12, 11, 12, 12, 15, 16, 14, 15, 14, 12, 12, 12, 11, 11, 12, 15, 17, 15, 15, 16, 19, 19, 14, 13, 10, 10, 10, 10, 12, 13, 12, 13, 11, 10, 8, 10, 10, 11, 14, 16, 17, 16, 17, 16, 18, 19, 19, 13, 10, 10, 8, 8, 10, 10, 8, 7, 6, 8, 8, 10, 8, 9, 8, 6, 7, 6, 10, 8, 5, 4, 4, 5, 7, 6, 6, 7, 7, 8, 7, 8, 9, 7, 6, 9, 9, 9, 9, 6, 8, 7, 7, 7, 8, 7, 7, 8, 9, 10, 12, 12, 11, 12, 12, 12, 11, 12, 8, 7, 7, 9, 12, 12, 14, 17, 18, 16, 15, 17, 19, 23, 20, 21, 20, 21, 19, 17, 15, 18, 18, 20, 21, 20, 17, 17, 18, 16, 15, 11, 9, 12, 13, 13, 15, 15, 13, 14, 13, 13, 13, 12, 14, 13, 16, 15, 16, 16, 17, 19, 18, 18, 16, 16, 17, 17, 14, 11, 9, 11, 9, 7, 8, 8, 8, 8, 10, 9, 9, 8, 7, 8, 6, 8, 7, 7, 6, 6, 7, 9, 6, 5, 5, 7, 7, 5, 4, 4, 6, 5, 4, 6, 6, 7, 7, 5, 4, 5, 4, 4, 3, 4, 4, 4, 3, 4, 4, 2, 4, 2, 1, 2, 4, 5, 7, 7, 4, 6, 10, 10, 10, 10, 9, 9, 7, 6, 7, 6, 6, 5, 5, 5, 4, 6, 5, 5, 6, 6, 5, 8, 9, 6, 6, 8, 6, 6, 8, 8, 9, 10, 11, 10, 11, 12, 12, 12, 12, 11, 12, 11, 9, 12, 11, 11, 12, 11, 12, 9, 8, 9, 8, 8, 8, 8, 7, 6, 5, 6, 6, 6, 6, 5, 4, 5, 5, 3, 3, 2, 4, 5, 7, 7, 6, 7, 10, 11, 9, 11, 11, 11, 10, 9, 10, 9, 8, 11, 14, 17, 17, 17, 15, 15, 14, 17, 16, 14, 12, 11, 9, 9, 5, 5, 6, 6, 5, 5, 5, 6, 6, 8, 8, 7, 8, 10, 9, 8, 8, 13, 16, 14, 13, 9, 10, 10, 10, 11, 11, 11, 11, 15, 18, 18, 18, 17, 14, 14, 14, 15, 15, 18, 19, 23, 25, 25, 22, 18, 20, 20, 17, 15, 12, 9, 9, 10, 11, 11, 12, 10, 13, 13, 15, 18, 20, 23, 20, 23, 23, 23, 23, 23, 19, 15, 14, 16, 17, 19, 19, 21, 22, 22, 20, 21, 22])"
   ]
  },
  {
   "cell_type": "code",
   "execution_count": null,
   "id": "d6773d32",
   "metadata": {},
   "outputs": [],
   "source": []
  },
  {
   "cell_type": "code",
   "execution_count": 109,
   "id": "f14291e8",
   "metadata": {},
   "outputs": [],
   "source": [
    "B_density = np.array([33, 33, 33, 32, 31, 31, 31, 31, 31, 31, 31, 32, 31, 31, 30, 30, 31, 31, 31, 32, 32, 32, 32, 32, 32, 32, 32, 32, 32, 32, 31, 31, 31, 31, 31, 31, 31, 31, 32, 32, 31, 30, 31, 32, 32, 31, 31, 31, 31, 31, 31, 31, 31, 32, 33, 34, 33, 33, 33, 34, 34, 34, 34, 34, 34, 34, 34, 34, 34, 34, 34, 35, 34, 34, 34, 34, 34, 34, 33, 33, 33, 33, 34, 33, 32, 34, 33, 33, 33, 33, 34, 34, 35, 35, 35, 35, 34, 34, 35, 36, 36, 37, 37, 37, 37, 37, 37, 36, 36, 36, 34, 34, 34, 33, 33, 33, 33, 33, 33, 33, 33, 34, 34, 34, 34, 33, 33, 35, 36, 36, 35, 35, 36, 36, 36, 36, 36, 36, 36, 36, 36, 37, 37, 36, 36, 36, 37, 37, 37, 37, 37, 36, 35, 35, 35, 35, 35, 36, 36, 36, 36, 36, 37, 38, 35, 35, 35, 35, 36, 36, 37, 37, 37, 38, 38, 37, 37, 37, 37, 35, 35, 35, 35, 36, 36, 36, 36, 36, 36, 37, 37, 37, 37, 38, 38, 38, 38, 38, 38, 38, 38, 38, 37, 39, 40, 41, 42, 41, 41, 40, 39, 39, 39, 38, 38, 38, 38, 38, 38, 38, 38, 38, 39, 37, 37, 37, 36, 36, 36, 36, 36, 36, 36, 36, 37, 36, 37, 36, 36, 36, 36, 36, 37, 38, 39, 39, 39, 39, 39, 39, 38, 38, 39, 39, 39, 40, 40, 40, 42, 43, 44, 46, 46, 46, 45, 46, 45, 45, 44, 43, 42, 42, 41, 41, 41, 41, 41, 40, 40, 41, 41, 41, 41, 40, 40, 40, 40, 41, 41, 41, 40, 40, 40, 41, 42, 42, 42, 42, 42, 42, 41, 41, 41, 41, 42, 40, 41, 41, 41, 41, 41, 41, 40, 40, 40, 40, 39, 39, 38, 38, 38, 38, 38, 39, 36, 36, 36, 36, 36, 37, 37, 38, 37, 36, 36, 36, 37, 37, 36, 36, 36, 38, 38, 38, 40, 39, 38, 38, 38, 38, 38, 38, 37, 36, 36, 36, 36, 35, 36, 36, 36, 37, 37, 37, 38, 38, 38, 38, 37, 37, 36, 37, 37, 37, 37, 36, 36, 36, 36, 36, 36, 36, 36, 35, 35, 35, 36, 35, 35, 36, 36, 34, 35, 35, 36, 36, 37, 37, 37, 37, 37, 38, 38, 39, 38, 39, 39, 41, 41, 40, 40, 41, 40, 40, 40, 40, 40, 40, 39, 39, 39, 40, 39, 39, 39, 39, 39, 39, 39, 38, 38, 37, 37, 37, 36, 37, 37, 37, 38, 38, 39, 37, 38, 38, 38, 39, 39, 40, 40, 39, 39, 38, 37, 37, 37, 37, 36, 35, 34, 34, 33, 33, 33, 33, 34, 33, 33, 33, 33, 33, 34, 34, 34, 34, 34, 34, 35, 35, 35, 35, 35, 35, 34, 34, 34, 34, 34, 34, 34, 36, 36, 37, 36, 36, 36, 34, 34, 34, 34, 34, 33, 33, 33, 32, 32, 32, 32, 31, 31, 31, 31, 30, 30, 30, 29, 29, 28, 29, 29, 28, 27, 27, 27, 27, 27, 28, 28, 28, 27, 26, 26, 25, 25, 24, 23, 22, 22, 22, 22, 22, 22, 21, 21, 22, 22, 22, 22, 22, 23, 24, 24, 24, 24, 25, 25, 25, 25, 25, 25, 26, 25, 25, 27, 27, 26, 26, 25, 24, 24, 25, 25, 25, 25, 25, 25, 23, 22, 22, 22, 22, 22, 22, 23, 23, 22, 21, 21, 21, 21, 21, 21, 21, 21, 21, 21, 21, 21, 21, 21, 22, 23, 23, 24, 24, 25, 25, 25, 25, 25, 26, 26, 26, 26, 26, 26, 25, 25, 25, 25, 25, 25, 25, 24, 24, 24, 24, 24, 23, 23, 23, 24, 24, 24, 24, 24, 24, 24, 25, 25, 25, 25, 25, 24, 25, 25, 26, 26, 26, 26, 26, 26, 25, 25, 25, 25, 25, 25, 25, 25, 26, 26, 25, 25, 25, 24, 24, 24, 24, 23, 23, 22, 22, 22, 21, 21, 21, 21, 21, 21, 21, 21, 21, 20, 19, 18, 18, 18, 18, 18, 18, 19, 19, 20, 20, 20, 20, 20, 20, 20, 20, 19, 20, 20, 20, 20, 21, 21, 21, 21, 21, 21, 20, 20, 19, 19, 18, 18, 18, 18, 19, 19, 19, 19, 19, 19, 18, 18, 18, 19, 19, 19, 19, 20, 20, 20, 20, 20, 21, 23, 23, 24, 25, 26, 26, 26, 26, 26, 26, 24, 24, 24, 24, 24, 24, 24, 25, 25, 24, 23, 22, 22, 22, 22, 23, 23, 23, 24, 24, 24, 24, 24, 23, 23, 23, 23, 24, 24, 23, 24, 24, 24, 23, 23, 23, 23, 24, 26, 26, 26, 25, 26, 26, 26, 26, 26, 26, 26, 25, 25, 25, 28, 28, 29, 28, 27, 27, 27, 27, 27, 26, 26, 25, 25, 25, 25, 25, 25, 25, 25, 25, 25, 26, 26, 26, 26, 26, 26, 26, 26, 26, 27, 27, 27, 28, 29, 29, 29, 29, 29, 29, 29, 29, 29, 29, 29, 28, 28, 29, 29, 29, 28, 28, 28, 28, 29, 29, 29, 30, 29, 29, 29, 31, 31, 30, 30, 30, 29, 29, 29, 29, 29, 29, 29, 28, 28, 28, 28, 28, 28, 28, 27, 27, 27, 27, 27, 27, 27, 27, 27, 27, 27, 27, 27, 27, 27, 27, 26, 26, 26, 27, 28, 27, 27, 27, 28, 28, 28, 28, 28, 27, 28, 27, 26, 26, 25, 25, 24, 24, 24, 24, 24, 25, 24, 24, 24, 24, 23, 23, 23, 23, 23, 23, 23, 23, 23, 23, 23, 24, 25, 26, 27, 26, 26, 26, 27, 27, 27, 28, 28, 28, 28, 28, 29, 29, 29, 29, 28, 27, 27, 27, 26, 27, 27, 28, 28, 28, 27, 29, 30, 30, 30, 29, 28, 29, 30, 30, 30, 28, 27, 28, 28, 27, 27, 28, 28, 28, 28, 27, 27, 26, 26, 26, 26, 26, 26, 26, 26, 25, 25, 25])"
   ]
  },
  {
   "cell_type": "code",
   "execution_count": 110,
   "id": "269a4090",
   "metadata": {},
   "outputs": [],
   "source": [
    "AB_density = np.array([25, 27, 28, 31, 31, 31, 30, 32, 31, 33, 31, 32, 27, 28, 26, 24, 26, 27, 27, 27, 26, 24, 26, 26, 32, 37, 43, 42, 38, 38, 36, 41, 43, 40, 36, 35, 34, 36, 32, 34, 33, 31, 33, 31, 33, 32, 32, 31, 29, 29, 24, 29, 31, 28, 26, 30, 32, 32, 29, 28, 29, 29, 29, 29, 29, 30, 25, 26, 35, 31, 32, 35, 35, 36, 38, 34, 35, 35, 32, 28, 30, 29, 28, 27, 33, 39, 36, 33, 36, 34, 32, 29, 28, 26, 26, 26, 31, 36, 36, 37, 38, 40, 38, 39, 40, 43, 42, 47, 46, 46, 41, 38, 40, 37, 39, 40, 39, 38, 45, 40, 37, 38, 39, 40, 39, 39, 37, 36, 36, 40, 45, 42, 41, 44, 43, 45, 46, 44, 43, 42, 44, 45, 49, 51, 54, 57, 57, 56, 56, 51, 51, 49, 50, 46, 46, 44, 45, 41, 38, 32, 30, 31, 28, 30, 29, 27, 35, 38, 40, 38, 41, 44, 42, 42, 43, 43, 38, 36, 38, 37, 36, 35, 39, 40, 36, 35, 38, 37, 34, 36, 38, 41, 41, 42, 43, 46, 44, 46, 45, 48, 49, 45, 49, 51, 53, 51, 47, 49, 48, 47, 42, 43, 42, 41, 42, 40, 40, 43, 42, 41, 42, 37, 45, 43, 45, 48, 48, 51, 55, 53, 49, 48, 46, 44, 44, 43, 47, 54, 52, 48, 47, 48, 49, 49, 48, 50, 48, 48, 49, 48, 51, 49, 46, 47, 44, 40, 39, 40, 41, 35, 41, 43, 46, 54, 51, 53, 51, 53, 53, 51, 51, 49, 44, 48, 50, 53, 56, 62, 64, 61, 55, 51, 55, 48, 45, 52, 54, 56, 56, 56, 53, 52, 52, 51, 48, 45, 43, 41, 41, 38, 40, 37, 37, 36, 32, 33, 33, 32, 34, 39, 39, 36, 41, 38, 37, 37, 37, 36, 37, 41, 41, 39, 39, 39, 37, 34, 30, 28, 25, 27, 23, 23, 20, 23, 18, 21, 29, 30, 34, 31, 29, 28, 27, 29, 31, 28, 29, 28, 26, 26, 21, 22, 21, 21, 22, 21, 21, 21, 20, 24, 28, 26, 28, 27, 33, 32, 30, 32, 34, 33, 31, 28, 26, 22, 22, 19, 20, 22, 21, 23, 21, 23, 23, 22, 18, 19, 17, 21, 19, 20, 22, 17, 23, 26, 25, 25, 27, 26, 27, 30, 29, 32, 32, 34, 37, 38, 35, 32, 30, 26, 25, 26, 26, 28, 29, 26, 22, 23, 21, 24, 23, 26, 27, 28, 29, 33, 36, 39, 32, 29, 30, 26, 23, 25, 24, 26, 21, 25, 25, 24, 30, 34, 37, 40, 43, 41, 39, 39, 36, 34, 36, 36, 39, 36, 34, 37, 35, 34, 37, 32, 30, 30, 32, 31, 29, 28, 30, 32, 31, 33, 35, 38, 36, 32, 35, 34, 31, 26, 27, 25, 24, 22, 24, 25, 19, 20, 21, 24, 23, 23, 24, 23, 22, 23, 25, 26, 29, 30, 32, 30, 26, 28, 31, 34, 31, 29, 33, 34, 35, 33, 29, 29, 23, 23, 20, 23, 21, 20, 20, 24, 22, 20, 17, 16, 16, 15, 13, 15, 15, 13, 17, 15, 17, 20, 21, 22, 19, 20, 18, 15, 17, 17, 16, 16, 17, 16, 19, 19, 21, 19, 17, 19, 19, 16, 15, 15, 17, 16, 14, 17, 15, 16, 14, 16, 17, 19, 19, 16, 16, 16, 15, 20, 20, 20, 19, 17, 18, 16, 16, 15, 15, 15, 17, 14, 13, 11, 16, 18, 18, 20, 20, 19, 17, 16, 17, 15, 17, 16, 15, 21, 22, 22, 19, 17, 19, 15, 16, 18, 17, 17, 15, 13, 13, 14, 16, 18, 17, 18, 20, 18, 22, 20, 18, 17, 15, 15, 13, 12, 13, 12, 11, 12, 9, 12, 13, 13, 15, 16, 15, 16, 14, 18, 14, 15, 17, 16, 18, 18, 18, 21, 17, 16, 13, 13, 12, 12, 12, 12, 13, 14, 15, 16, 17, 16, 11, 15, 15, 14, 15, 14, 15, 18, 22, 18, 20, 21, 19, 18, 22, 22, 22, 25, 25, 24, 22, 20, 18, 17, 14, 10, 13, 9, 11, 12, 11, 11, 13, 13, 13, 15, 18, 16, 17, 17, 13, 14, 16, 17, 21, 21, 21, 19, 19, 19, 17, 15, 16, 19, 18, 14, 13, 16, 14, 13, 12, 11, 11, 10, 10, 10, 6, 6, 8, 8, 8, 8, 11, 12, 17, 18, 20, 20, 21, 22, 24, 26, 31, 31, 32, 32, 26, 22, 23, 20, 19, 14, 15, 12, 13, 17, 19, 18, 18, 20, 18, 20, 24, 22, 24, 24, 27, 24, 20, 21, 20, 16, 21, 21, 20, 19, 22, 21, 21, 20, 19, 17, 18, 20, 19, 20, 20, 20, 20, 23, 24, 27, 26, 24, 24, 24, 29, 28, 29, 30, 29, 32, 33, 33, 33, 35, 32, 30, 28, 29, 25, 26, 27, 29, 27, 26, 30, 27, 26, 26, 29, 28, 29, 28, 27, 25, 27, 26, 26, 25, 25, 24, 26, 21, 21, 22, 25, 26, 24, 24, 22, 20, 19, 17, 15, 14, 17, 19, 22, 21, 22, 23, 22, 22, 21, 22, 25, 25, 26, 27, 27, 30, 30, 28, 27, 27, 27, 29, 32, 29, 30, 29, 34, 34, 34, 35, 39, 39, 37, 35, 33, 34, 34, 33, 28, 27, 26, 25, 25, 26, 29, 28, 27, 28, 27, 26, 23, 24, 20, 23, 23, 24, 25, 23, 22, 23, 22, 20, 21, 23, 22, 21, 22, 19, 20, 21, 22, 23, 19, 15, 14, 14, 12, 14, 12, 14, 14, 16, 17, 20, 22, 24, 24, 29, 28, 29, 28, 27, 25, 27, 26, 24, 24, 22, 19, 13, 14, 15, 18, 17, 19, 22, 22, 19, 21, 23, 22, 25, 27, 27, 23, 20, 19, 17, 17, 17, 18, 17, 17, 19, 19, 18, 23, 24, 23, 21, 22, 24, 22, 23, 21, 23, 20, 20, 21, 20, 20, 21, 21, 22, 23, 22, 21, 17, 15, 18])"
   ]
  },
  {
   "cell_type": "code",
   "execution_count": 111,
   "id": "10cb972d",
   "metadata": {},
   "outputs": [],
   "source": [
    "ABC_density = np.array([8, 9, 8, 10, 10, 10, 14, 17, 16, 17, 14, 18, 18, 18, 19, 19, 18, 19, 19, 18, 16, 14, 15, 15, 14, 12, 18, 17, 19, 23, 18, 20, 22, 25, 26, 28, 19, 16, 15, 18, 18, 17, 20, 18, 22, 21, 20, 17, 16, 16, 14, 11, 12, 9, 6, 6, 11, 11, 7, 5, 6, 5, 6, 8, 9, 11, 12, 17, 17, 15, 15, 18, 16, 19, 15, 13, 13, 18, 16, 14, 12, 13, 11, 15, 15, 12, 13, 11, 9, 9, 9, 11, 10, 11, 12, 11, 4, 5, 6, 10, 8, 11, 9, 10, 12, 10, 11, 12, 19, 21, 16, 21, 23, 25, 23, 21, 17, 19, 25, 25, 22, 17, 19, 27, 24, 30, 29, 26, 28, 28, 23, 20, 23, 23, 21, 20, 17, 16, 21, 24, 24, 26, 21, 21, 23, 18, 20, 19, 24, 19, 19, 18, 22, 22, 25, 30, 30, 24, 25, 26, 16, 16, 8, 8, 12, 17, 18, 16, 15, 13, 18, 25, 26, 28, 27, 29, 32, 23, 21, 21, 19, 22, 27, 26, 21, 20, 24, 24, 25, 29, 24, 31, 38, 34, 32, 42, 44, 44, 45, 44, 46, 43, 48, 41, 42, 45, 39, 51, 53, 57, 51, 52, 45, 47, 50, 52, 55, 52, 52, 57, 60, 43, 47, 45, 47, 50, 47, 56, 53, 46, 41, 40, 38, 35, 41, 38, 42, 57, 63, 65, 59, 60, 52, 50, 51, 49, 53, 50, 53, 59, 60, 61, 63, 67, 58, 50, 43, 29, 19, 14, 15, 24, 23, 29, 23, 19, 13, 16, 24, 20, 31, 36, 48, 55, 55, 48, 54, 75, 86, 97, 82, 84, 75, 67, 65, 78, 94, 94, 96, 111, 123, 114, 110, 102, 82, 59, 55, 46, 38, 35, 27, 21, 16, 16, 14, 13, 12, 12, 12, 19, 20, 20, 20, 14, 15, 14, 12, 10, 9, 8, 8, 11, 14, 13, 15, 16, 15, 12, 10, 18, 22, 23, 24, 25, 23, 19, 18, 14, 13, 17, 13, 8, 17, 15, 15, 19, 17, 13, 9, 8, 5, 5, 6, 6, 8, 7, 6, 6, 4, 6, 9, 9, 14, 16, 23, 31, 30, 26, 24, 18, 11, 11, 12, 12, 17, 16, 22, 25, 31, 33, 30, 28, 22, 26, 27, 29, 30, 33, 32, 30, 31, 27, 29, 31, 32, 34, 35, 32, 29, 32, 28, 34, 41, 38, 38, 36, 30, 26, 23, 16, 16, 17, 19, 29, 28, 29, 25, 25, 20, 18, 15, 13, 10, 11, 7, 7, 9, 8, 7, 5, 6, 7, 6, 6, 7, 9, 6, 13, 14, 15, 14, 15, 23, 22, 24, 19, 24, 31, 27, 18, 24, 16, 13, 12, 14, 14, 11, 13, 20, 15, 15, 10, 9, 9, 8, 5, 7, 7, 9, 12, 15, 15, 15, 10, 8, 8, 6, 7, 7, 6, 7, 9, 9, 9, 4, 6, 5, 5, 4, 4, 5, 5, 5, 7, 5, 5, 6, 7, 9, 7, 4, 3, 5, 5, 3, 4, 7, 9, 13, 18, 17, 18, 14, 12, 8, 9, 11, 14, 17, 17, 16, 15, 9, 3, 6, 6, 4, 4, 5, 6, 6, 5, 4, 5, 6, 6, 6, 4, 4, 4, 2, 2, 2, 3, 3, 3, 4, 4, 5, 5, 4, 5, 4, 3, 3, 4, 5, 3, 3, 4, 5, 7, 5, 5, 5, 3, 2, 5, 9, 10, 12, 13, 11, 12, 12, 13, 14, 14, 14, 15, 13, 14, 14, 7, 8, 7, 11, 20, 22, 21, 16, 10, 10, 14, 15, 17, 17, 12, 8, 12, 16, 14, 11, 9, 9, 8, 6, 4, 1, 2, 2, 1, 2, 2, 1, 1, 1, 1, 2, 2, 3, 3, 3, 3, 1, 1, 1, 4, 3, 2, 1, 1, 2, 4, 4, 4, 5, 5, 6, 3, 3, 5, 4, 3, 3, 2, 3, 3, 3, 3, 3, 3, 4, 5, 4, 4, 7, 7, 7, 8, 12, 11, 6, 6, 2, 3, 3, 5, 4, 5, 6, 8, 9, 7, 11, 10, 8, 7, 4, 4, 5, 6, 7, 6, 7, 5, 7, 7, 6, 4, 4, 4, 7, 7, 9, 9, 13, 10, 9, 8, 10, 8, 4, 3, 1, 1, 1, 3, 4, 4, 4, 5, 6, 4, 4, 4, 4, 6, 6, 6, 6, 10, 10, 7, 7, 5, 5, 6, 3, 3, 2, 2, 4, 4, 4, 4, 6, 7, 6, 6, 4, 4, 5, 7, 7, 7, 13, 11, 10, 9, 5, 6, 7, 5, 4, 3, 2, 0, 0, 2, 2, 2, 1, 4, 7, 9, 9, 8, 10, 9, 10, 12, 17, 18, 18, 15, 19, 21, 18, 14, 16, 10, 11, 10, 12, 12, 15, 13, 9, 10, 9, 12, 13, 12, 11, 14, 11, 10, 14, 13, 14, 13, 17, 22, 21, 28, 28, 27, 26, 19, 13, 15, 14, 12, 10, 11, 11, 11, 10, 9, 9, 6, 8, 6, 8, 9, 8, 10, 8, 9, 15, 15, 15, 17, 19, 14, 15, 14, 12, 13, 13, 12, 10, 9, 10, 13, 12, 11, 11, 11, 12, 10, 12, 13, 13, 12, 11, 12, 11, 16, 15, 13, 15, 14, 11, 12, 16, 17, 19, 16, 17, 16, 16, 16, 15, 16, 20, 29, 34, 37, 43, 34, 31, 29, 23, 12, 6, 10, 15, 17, 14, 14, 12, 12, 13, 13, 6, 6, 8, 7, 6, 7, 6, 6, 4, 3, 3, 2, 3, 3, 2, 2, 4, 6, 4, 5, 7, 7, 13, 16, 16, 14, 13, 9, 12, 9, 8, 11, 9, 11, 7, 7, 6, 6, 5, 6, 5, 8, 9, 10, 8, 7, 6, 7, 8, 8, 9, 7, 9, 4, 4, 4, 9, 10, 12, 15, 13, 9, 4, 4, 2, 0, 3, 3, 3, 3, 4, 1, 1, 0, 3, 3, 2, 3, 3, 2, 2, 1, 0, 0, 3, 7, 7, 7, 7, 6, 5, 7, 7, 7, 10, 12, 13, 13, 13, 13, 11, 8, 6, 7])"
   ]
  },
  {
   "cell_type": "code",
   "execution_count": 112,
   "id": "f475e94e",
   "metadata": {},
   "outputs": [],
   "source": [
    "ABCD_density = np.array([1, 1, 1, 1, 1, 1, 1, 1, 0, 1, 3, 5, 5, 6, 8, 6, 8, 6, 8, 6, 4, 6, 7, 7, 5, 6, 7, 6, 19, 26, 21, 18, 10, 6, 14, 12, 4, 4, 8, 8, 8, 10, 9, 8, 6, 9, 11, 8, 3, 4, 4, 6, 2, 3, 0, 0, 0, 6, 5, 5, 5, 4, 3, 5, 5, 6, 8, 12, 7, 8, 8, 9, 12, 13, 13, 10, 13, 27, 20, 21, 17, 14, 13, 21, 21, 21, 18, 6, 8, 6, 8, 11, 10, 7, 7, 7, 4, 2, 1, 4, 4, 4, 3, 3, 9, 10, 8, 10, 14, 15, 9, 8, 5, 12, 26, 24, 18, 25, 33, 31, 22, 17, 14, 16, 15, 25, 31, 35, 45, 48, 29, 30, 31, 45, 38, 30, 18, 26, 34, 38, 20, 23, 14, 12, 20, 22, 19, 21, 29, 24, 24, 20, 18, 17, 15, 12, 20, 16, 22, 20, 11, 11, 5, 7, 11, 21, 20, 11, 7, 6, 12, 31, 51, 53, 55, 61, 57, 36, 22, 24, 15, 34, 48, 69, 76, 70, 79, 82, 76, 68, 49, 59, 50, 36, 38, 48, 62, 73, 74, 66, 56, 36, 30, 29, 44, 39, 49, 91, 84, 79, 94, 106, 105, 125, 138, 163, 184, 158, 159, 144, 144, 99, 113, 100, 104, 95, 106, 113, 99, 97, 105, 108, 100, 91, 90, 87, 108, 159, 218, 242, 262, 286, 255, 231, 259, 223, 204, 168, 180, 167, 155, 127, 126, 132, 133, 127, 101, 62, 37, 24, 20, 33, 55, 66, 55, 39, 9, 8, 30, 37, 71, 110, 134, 171, 202, 179, 204, 312, 330, 396, 322, 311, 267, 270, 285, 340, 474, 479, 487, 511, 525, 441, 389, 324, 294, 245, 206, 167, 122, 96, 69, 43, 23, 22, 23, 19, 24, 18, 30, 61, 63, 82, 65, 28, 28, 23, 18, 27, 28, 21, 20, 17, 24, 9, 11, 4, 2, 9, 7, 61, 73, 116, 104, 113, 85, 53, 44, 43, 47, 63, 49, 31, 57, 40, 51, 47, 36, 31, 24, 10, 1, 0, 1, 3, 3, 3, 1, 1, 1, 2, 3, 4, 7, 12, 14, 24, 25, 20, 21, 14, 15, 14, 17, 16, 30, 30, 44, 70, 88, 95, 81, 79, 39, 66, 83, 97, 115, 155, 154, 126, 134, 125, 124, 130, 112, 105, 102, 67, 50, 61, 69, 89, 126, 170, 162, 158, 110, 68, 46, 31, 23, 19, 32, 79, 81, 85, 67, 50, 42, 12, 10, 9, 10, 12, 5, 4, 5, 4, 3, 3, 2, 2, 0, 0, 0, 7, 7, 19, 20, 22, 24, 24, 17, 22, 32, 24, 27, 40, 39, 25, 34, 20, 13, 10, 10, 9, 8, 9, 10, 9, 12, 6, 6, 6, 5, 0, 0, 2, 9, 9, 5, 5, 4, 4, 4, 3, 3, 2, 0, 1, 3, 4, 4, 4, 3, 0, 0, 0, 0, 0, 0, 0, 0, 1, 2, 3, 6, 8, 12, 8, 7, 5, 5, 5, 5, 3, 5, 5, 9, 6, 8, 2, 4, 0, 2, 2, 4, 6, 14, 15, 11, 9, 6, 2, 6, 6, 6, 6, 7, 4, 1, 1, 1, 2, 3, 2, 1, 1, 1, 1, 0, 0, 1, 1, 1, 1, 1, 0, 1, 1, 1, 0, 0, 0, 0, 0, 1, 1, 1, 1, 2, 6, 4, 4, 4, 3, 0, 6, 7, 12, 17, 10, 10, 11, 6, 7, 13, 16, 20, 24, 18, 20, 20, 15, 11, 12, 13, 31, 43, 43, 22, 17, 10, 9, 9, 8, 4, 3, 0, 2, 4, 2, 2, 2, 3, 4, 3, 3, 1, 1, 1, 0, 0, 0, 0, 0, 0, 0, 0, 0, 0, 2, 2, 3, 1, 1, 1, 0, 0, 0, 0, 0, 0, 0, 2, 2, 0, 0, 1, 0, 0, 0, 0, 0, 0, 0, 0, 0, 1, 1, 2, 2, 2, 4, 1, 0, 8, 18, 23, 24, 32, 21, 1, 0, 0, 0, 0, 1, 1, 2, 3, 4, 4, 3, 16, 7, 11, 8, 2, 1, 1, 3, 3, 0, 6, 6, 7, 7, 7, 1, 2, 2, 4, 5, 6, 12, 13, 10, 6, 4, 5, 2, 3, 1, 0, 0, 0, 0, 0, 0, 0, 0, 2, 2, 4, 3, 5, 3, 5, 3, 7, 9, 13, 9, 9, 12, 13, 13, 3, 3, 2, 2, 1, 1, 1, 2, 0, 1, 2, 4, 4, 5, 5, 3, 6, 6, 14, 8, 8, 10, 7, 8, 7, 5, 5, 1, 1, 0, 0, 0, 0, 0, 0, 0, 0, 1, 1, 4, 5, 4, 10, 10, 15, 14, 10, 8, 15, 12, 17, 11, 18, 15, 12, 6, 10, 13, 21, 19, 18, 17, 7, 2, 2, 5, 8, 16, 18, 19, 20, 19, 23, 26, 40, 58, 57, 66, 60, 50, 32, 20, 20, 12, 10, 9, 1, 4, 3, 8, 8, 7, 7, 6, 7, 7, 13, 11, 10, 11, 10, 10, 18, 18, 16, 18, 26, 15, 19, 20, 19, 22, 30, 32, 30, 37, 46, 53, 46, 46, 48, 51, 57, 56, 44, 44, 43, 29, 18, 19, 17, 15, 13, 12, 15, 12, 8, 11, 13, 15, 11, 10, 12, 12, 12, 17, 28, 30, 36, 49, 81, 86, 83, 70, 68, 82, 60, 32, 5, 17, 23, 26, 18, 21, 18, 15, 16, 13, 5, 5, 4, 4, 4, 4, 4, 2, 3, 3, 3, 2, 3, 2, 1, 1, 5, 6, 5, 10, 14, 18, 22, 21, 19, 14, 13, 3, 5, 5, 5, 6, 4, 6, 4, 4, 4, 4, 8, 8, 8, 7, 8, 5, 2, 3, 2, 2, 4, 4, 8, 7, 10, 3, 1, 1, 3, 3, 2, 6, 4, 3, 2, 2, 2, 0, 0, 2, 3, 3, 6, 2, 2, 0, 1, 2, 0, 0, 0, 0, 0, 0, 0, 0, 0, 10, 4, 8, 11, 14, 12, 14, 21, 25, 32, 40, 39, 49, 45, 45, 35, 19, 11, 9])"
   ]
  },
  {
   "cell_type": "code",
   "execution_count": null,
   "id": "baed6a58",
   "metadata": {},
   "outputs": [],
   "source": []
  },
  {
   "cell_type": "code",
   "execution_count": null,
   "id": "1e94ef17",
   "metadata": {},
   "outputs": [],
   "source": [
    "haha = np.array()"
   ]
  }
 ],
 "metadata": {
  "interpreter": {
   "hash": "05ece30799c2dcdac4c13b3af20453da19de8df0d9a1de52cff7e0b6e1e82bdd"
  },
  "kernelspec": {
   "display_name": "Python 3 (ipykernel)",
   "language": "python",
   "name": "python3"
  },
  "language_info": {
   "codemirror_mode": {
    "name": "ipython",
    "version": 3
   },
   "file_extension": ".py",
   "mimetype": "text/x-python",
   "name": "python",
   "nbconvert_exporter": "python",
   "pygments_lexer": "ipython3",
   "version": "3.7.9"
  }
 },
 "nbformat": 4,
 "nbformat_minor": 5
}
